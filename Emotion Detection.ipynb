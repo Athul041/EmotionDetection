{
 "cells": [
  {
   "cell_type": "markdown",
   "metadata": {},
   "source": [
    "This project tries to classify the data from EEG signals as high Valance or low Valance."
   ]
  },
  {
   "cell_type": "code",
   "execution_count": 2,
   "metadata": {},
   "outputs": [],
   "source": [
    "import pandas as pd\n",
    "import numpy as np\n",
    "import pickle\n",
    "import math\n",
    "import statistics as stat\n",
    "import scipy.stats as scStat"
   ]
  },
  {
   "cell_type": "markdown",
   "metadata": {},
   "source": [
    "### The DEAP Dataset\n",
    "\n",
    "The dataset contains 40 experiments for each of the 32 participants. The labels array contain the valence, arousal, dominance and liking ratings for each participant for each of the 40 experiments. The data array contains 8064 physiological/EEG signal data from 40 different channels for each of the 40 experiments for each of the 32 participants."
   ]
  },
  {
   "cell_type": "markdown",
   "metadata": {},
   "source": [
    "### Feature Extraction\n",
    "\n",
    "We divide the 8064 readings per channel, into 10 batches of approximately 807 readings each. For each batch we extract the mean, median, maximum, minimum, standard deviation, variance, range, skewness and kurtosis values for the 807 readings. Hence for each of the 10 batches of a single channel we extract 9 values mentioned above, we get 90 values as our processed dataset. We further add the net mean, median, maximum, minimum, standard deviation, variance, range, skewness and kurtosis values for the entire 8064 readings along with the experiment and participant number to our dataset, bringing it up to 101 values per channel."
   ]
  },
  {
   "cell_type": "code",
   "execution_count": 3,
   "metadata": {},
   "outputs": [],
   "source": [
    "def extract_features(data, trial, participantNumber):\n",
    "    extData = []\n",
    "    for x in np.array_split(data, 10):\n",
    "        extData.extend(calc_features(x))\n",
    "    extData.extend(calc_features(data))\n",
    "    extData.append(participantNumber)\n",
    "    extData.append(participantNumber)\n",
    "    return extData"
   ]
  },
  {
   "cell_type": "code",
   "execution_count": 4,
   "metadata": {},
   "outputs": [],
   "source": [
    "def calc_features(array):\n",
    "    return [stat.mean(array),\n",
    "                stat.median(array),\n",
    "                stat.variance(array),\n",
    "                stat.stdev(array),\n",
    "                max(array),\n",
    "                min(array),\n",
    "                scStat.mode(array)[0][0],\n",
    "                scStat.kurtosis(array),\n",
    "                scStat.skew(array, axis=0, bias=True)]"
   ]
  },
  {
   "cell_type": "markdown",
   "metadata": {},
   "source": [
    "Features from each channel are extracted and appended to a df so that it can be stored into a csv file and accessed later."
   ]
  },
  {
   "cell_type": "code",
   "execution_count": 5,
   "metadata": {},
   "outputs": [],
   "source": [
    "def process_data_file(fileName, participantNumber):\n",
    "    with open(fileName, 'rb') as f: content = pickle.load(f, encoding='latin1')\n",
    "    data = content['data']\n",
    "    labels = content['labels']\n",
    "    extracted_features = []\n",
    "    for index, trialData in enumerate(data):\n",
    "        for i, channelData in enumerate(trialData):\n",
    "            extracted_features.append(extract_features(channelData, index, participantNumber))\n",
    "    df = pd.DataFrame(extracted_features)\n",
    "    df['Valance Label'] = list(labels[:,0])*int(len(df)/len(labels))\n",
    "    df['Arousal Label'] = list(labels[:,1])*int(len(df)/len(labels))\n",
    "    return df"
   ]
  },
  {
   "cell_type": "markdown",
   "metadata": {},
   "source": [
    "### Reading Data from DEAP Dataset\n",
    "\n",
    "The data from DEAP Dataset .dat files are read one by one and the extracted features are appended into a csv file."
   ]
  },
  {
   "cell_type": "code",
   "execution_count": 6,
   "metadata": {
    "scrolled": true
   },
   "outputs": [
    {
     "ename": "FileNotFoundError",
     "evalue": "[Errno 2] No such file or directory: 's05.dat'",
     "output_type": "error",
     "traceback": [
      "\u001b[1;31m---------------------------------------------------------------------------\u001b[0m",
      "\u001b[1;31mFileNotFoundError\u001b[0m                         Traceback (most recent call last)",
      "\u001b[1;32m<ipython-input-6-57aa3e8cb6be>\u001b[0m in \u001b[0;36m<module>\u001b[1;34m\u001b[0m\n\u001b[0;32m      2\u001b[0m \u001b[0mparticipants\u001b[0m \u001b[1;33m=\u001b[0m \u001b[1;33m[\u001b[0m\u001b[0mint\u001b[0m\u001b[1;33m(\u001b[0m\u001b[0mx\u001b[0m\u001b[1;33m.\u001b[0m\u001b[0msplit\u001b[0m\u001b[1;33m(\u001b[0m\u001b[1;34m'.'\u001b[0m\u001b[1;33m)\u001b[0m\u001b[1;33m[\u001b[0m\u001b[1;36m0\u001b[0m\u001b[1;33m]\u001b[0m\u001b[1;33m[\u001b[0m\u001b[1;33m-\u001b[0m\u001b[1;36m1\u001b[0m\u001b[1;33m]\u001b[0m\u001b[1;33m)\u001b[0m \u001b[1;32mfor\u001b[0m \u001b[0mx\u001b[0m \u001b[1;32min\u001b[0m \u001b[0mfiles\u001b[0m\u001b[1;33m]\u001b[0m\u001b[1;33m\u001b[0m\u001b[1;33m\u001b[0m\u001b[0m\n\u001b[0;32m      3\u001b[0m \u001b[1;32mfor\u001b[0m \u001b[0mf\u001b[0m\u001b[1;33m,\u001b[0m \u001b[0mparticipantNumber\u001b[0m \u001b[1;32min\u001b[0m \u001b[0mzip\u001b[0m\u001b[1;33m(\u001b[0m\u001b[0mfiles\u001b[0m\u001b[1;33m,\u001b[0m \u001b[0mparticipants\u001b[0m\u001b[1;33m)\u001b[0m\u001b[1;33m:\u001b[0m\u001b[1;33m\u001b[0m\u001b[1;33m\u001b[0m\u001b[0m\n\u001b[1;32m----> 4\u001b[1;33m     \u001b[0mprocess_data_file\u001b[0m\u001b[1;33m(\u001b[0m\u001b[0mf\u001b[0m\u001b[1;33m,\u001b[0m \u001b[0mparticipantNumber\u001b[0m\u001b[1;33m)\u001b[0m\u001b[1;33m.\u001b[0m\u001b[0mto_csv\u001b[0m\u001b[1;33m(\u001b[0m\u001b[1;34m'ExtractedFeatures.csv'\u001b[0m\u001b[1;33m,\u001b[0m \u001b[0mmode\u001b[0m\u001b[1;33m=\u001b[0m\u001b[1;34m'a'\u001b[0m\u001b[1;33m,\u001b[0m \u001b[0mindex\u001b[0m\u001b[1;33m=\u001b[0m\u001b[1;32mFalse\u001b[0m\u001b[1;33m,\u001b[0m \u001b[0mheader\u001b[0m\u001b[1;33m=\u001b[0m\u001b[1;32mFalse\u001b[0m\u001b[1;33m)\u001b[0m\u001b[1;33m\u001b[0m\u001b[1;33m\u001b[0m\u001b[0m\n\u001b[0m",
      "\u001b[1;32m<ipython-input-5-effb642fceed>\u001b[0m in \u001b[0;36mprocess_data_file\u001b[1;34m(fileName, participantNumber)\u001b[0m\n\u001b[0;32m      1\u001b[0m \u001b[1;32mdef\u001b[0m \u001b[0mprocess_data_file\u001b[0m\u001b[1;33m(\u001b[0m\u001b[0mfileName\u001b[0m\u001b[1;33m,\u001b[0m \u001b[0mparticipantNumber\u001b[0m\u001b[1;33m)\u001b[0m\u001b[1;33m:\u001b[0m\u001b[1;33m\u001b[0m\u001b[1;33m\u001b[0m\u001b[0m\n\u001b[1;32m----> 2\u001b[1;33m     \u001b[1;32mwith\u001b[0m \u001b[0mopen\u001b[0m\u001b[1;33m(\u001b[0m\u001b[0mfileName\u001b[0m\u001b[1;33m,\u001b[0m \u001b[1;34m'rb'\u001b[0m\u001b[1;33m)\u001b[0m \u001b[1;32mas\u001b[0m \u001b[0mf\u001b[0m\u001b[1;33m:\u001b[0m \u001b[0mcontent\u001b[0m \u001b[1;33m=\u001b[0m \u001b[0mpickle\u001b[0m\u001b[1;33m.\u001b[0m\u001b[0mload\u001b[0m\u001b[1;33m(\u001b[0m\u001b[0mf\u001b[0m\u001b[1;33m,\u001b[0m \u001b[0mencoding\u001b[0m\u001b[1;33m=\u001b[0m\u001b[1;34m'latin1'\u001b[0m\u001b[1;33m)\u001b[0m\u001b[1;33m\u001b[0m\u001b[1;33m\u001b[0m\u001b[0m\n\u001b[0m\u001b[0;32m      3\u001b[0m     \u001b[0mdata\u001b[0m \u001b[1;33m=\u001b[0m \u001b[0mcontent\u001b[0m\u001b[1;33m[\u001b[0m\u001b[1;34m'data'\u001b[0m\u001b[1;33m]\u001b[0m\u001b[1;33m\u001b[0m\u001b[1;33m\u001b[0m\u001b[0m\n\u001b[0;32m      4\u001b[0m     \u001b[0mlabels\u001b[0m \u001b[1;33m=\u001b[0m \u001b[0mcontent\u001b[0m\u001b[1;33m[\u001b[0m\u001b[1;34m'labels'\u001b[0m\u001b[1;33m]\u001b[0m\u001b[1;33m\u001b[0m\u001b[1;33m\u001b[0m\u001b[0m\n\u001b[0;32m      5\u001b[0m     \u001b[0mextracted_features\u001b[0m \u001b[1;33m=\u001b[0m \u001b[1;33m[\u001b[0m\u001b[1;33m]\u001b[0m\u001b[1;33m\u001b[0m\u001b[1;33m\u001b[0m\u001b[0m\n",
      "\u001b[1;31mFileNotFoundError\u001b[0m: [Errno 2] No such file or directory: 's05.dat'"
     ]
    }
   ],
   "source": [
    "files = ['s05.dat']\n",
    "participants = [int(x.split('.')[0][-1]) for x in files]\n",
    "for f, participantNumber in zip(files, participants):\n",
    "    process_data_file(f, participantNumber).to_csv('ExtractedFeatures.csv', mode='a', index=False, header=False)"
   ]
  },
  {
   "cell_type": "markdown",
   "metadata": {},
   "source": [
    "### Learning from extracted features\n",
    "\n",
    "If you're reading from the provided csv file, learning starts here"
   ]
  },
  {
   "cell_type": "code",
   "execution_count": 7,
   "metadata": {},
   "outputs": [],
   "source": [
    "columns = [str(i) for i in range(0,99)]\n",
    "columns.extend(['experiment No', 'participant No', 'Valance Label', 'Arousal Label'])\n",
    "df = pd.read_csv('ExtractedFeatures.csv', header=None, names=columns)"
   ]
  },
  {
   "cell_type": "code",
   "execution_count": 8,
   "metadata": {},
   "outputs": [],
   "source": [
    "df['Valance Label'] = df['Valance Label'].apply(lambda x: 1 if x>5 else 0)\n",
    "df['Arousal Label'] = df['Arousal Label'].apply(lambda x: 1 if x>5 else 0)"
   ]
  },
  {
   "cell_type": "code",
   "execution_count": 9,
   "metadata": {},
   "outputs": [],
   "source": [
    "X = df[df.columns.difference(['Valance Label', 'Arousal Label'])].values\n",
    "\n",
    "y_valance = np.array([x for i, x in enumerate(df['Valance Label'].values) if i%1640 < 40])\n",
    "y_arousal = np.array([x for i, x in enumerate(df['Arousal Label'].values) if i%1640 < 40])"
   ]
  },
  {
   "cell_type": "code",
   "execution_count": 10,
   "metadata": {},
   "outputs": [],
   "source": [
    "X = X.reshape(int(X.shape[0]/40),40,101)"
   ]
  },
  {
   "cell_type": "code",
   "execution_count": 11,
   "metadata": {},
   "outputs": [],
   "source": [
    "import tensorflow as tf\n",
    "from tensorflow import keras\n",
    "from tensorflow.keras.models import Sequential\n",
    "from tensorflow.keras.layers import Dense, Activation, Conv2D, MaxPooling2D, Dropout, Flatten\n",
    "from sklearn.model_selection import KFold\n",
    "from tensorflow.keras.optimizers import SGD\n",
    "from tensorflow.keras.utils import to_categorical\n",
    "from sklearn.model_selection import train_test_split"
   ]
  },
  {
   "cell_type": "markdown",
   "metadata": {},
   "source": [
    "### Building basic CNN Model\n",
    "This model follows the setup recommended in the paper."
   ]
  },
  {
   "cell_type": "code",
   "execution_count": 12,
   "metadata": {},
   "outputs": [],
   "source": [
    "def build_model():\n",
    "    model = Sequential()\n",
    "    \n",
    "    model.add(Conv2D(100, (3,3), padding=\"valid\", activation='tanh', input_shape = (40, 101, 1)))\n",
    "    \n",
    "    model.add(Conv2D(100, (3, 3), activation='tanh' ))\n",
    "    \n",
    "    model.add(MaxPooling2D(pool_size = (2, 2)))\n",
    "    model.add(Dropout(0.25))\n",
    "    \n",
    "    model.add(Flatten())\n",
    "    \n",
    "    model.add(Dense(128, activation='tanh'))\n",
    "    model.add(Dropout(0.50))\n",
    "    \n",
    "    model.add(Dense(2, activation='softplus'))\n",
    "    \n",
    "    sgd = SGD(lr = 0.00001, momentum = 0.9, nesterov = True)\n",
    "    model.compile(loss ='categorical_crossentropy', optimizer = sgd,metrics=['accuracy'])\n",
    "    \n",
    "    return model"
   ]
  },
  {
   "cell_type": "markdown",
   "metadata": {},
   "source": [
    "###### Building a model for tuning using hyperparameters\n",
    "The function sets hyperparameters for the following:\n",
    "- No. of input layers into 1st Conv layer\n",
    "- No. subsequent conv layers\n",
    "- No. of units in these layers\n",
    "- No. of Dense layers\n",
    "- Learning rate"
   ]
  },
  {
   "cell_type": "code",
   "execution_count": 39,
   "metadata": {},
   "outputs": [],
   "source": [
    "def build_hyperparameter_model(hp):\n",
    "    model = Sequential()\n",
    "    \n",
    "    model.add(Conv2D(hp.Int(\"input_units\", min_value=50, max_value=500, step=10),\n",
    "                     (3,3), padding=\"valid\", activation='tanh', input_shape = (40, 101, 1)))\n",
    "    \n",
    "    for i in range(hp.Int(\"conv_layers\",1, 8)):\n",
    "        model.add(Conv2D(hp.Int(f\"conv_{i}_units\", min_value=32, max_value=512, step=32),\n",
    "                         (3, 3), activation='tanh' ))\n",
    "    \n",
    "    model.add(MaxPooling2D(pool_size = (2, 2)))\n",
    "    model.add(Dropout(0.50))\n",
    "    \n",
    "    model.add(Flatten())\n",
    "    for i in range(hp.Int(\"dense_layers\",0, 8)):\n",
    "        model.add(Dense(hp.Int(f\"dense_{i}_units\", min_value=64, max_value=512, step=32), activation='tanh'))\n",
    "    \n",
    "    model.add(Dropout(0.50))\n",
    "    \n",
    "    model.add(Dense(2, activation='softplus'))\n",
    "    \n",
    "    hp_learning_rate = hp.Choice('learning_rate', values = [1e-3, 1e-4, 1e-5, 1e-6, 1e-7, 1e-8]) \n",
    "    \n",
    "    sgd = SGD(lr = hp_learning_rate, momentum = 0.9, nesterov = True)\n",
    "    model.compile(loss ='categorical_crossentropy', optimizer = sgd,metrics=['accuracy'])\n",
    "    \n",
    "    return model"
   ]
  },
  {
   "cell_type": "markdown",
   "metadata": {},
   "source": [
    "### One-Hot encoding labels"
   ]
  },
  {
   "cell_type": "code",
   "execution_count": 14,
   "metadata": {},
   "outputs": [],
   "source": [
    "y_valance = to_categorical(y_valance, num_classes=2)\n",
    "y_arousal = to_categorical(y_arousal, num_classes=2)"
   ]
  },
  {
   "cell_type": "markdown",
   "metadata": {},
   "source": [
    "### KFold cross validation before hyperparameter tuning"
   ]
  },
  {
   "cell_type": "code",
   "execution_count": 41,
   "metadata": {
    "scrolled": true
   },
   "outputs": [],
   "source": [
    "def kfold_validate(X, y, model):\n",
    "    model = build_model()\n",
    "    kf = KFold(n_splits=int(len(X)/40), shuffle=False)\n",
    "    losses = []\n",
    "    accuracies = []\n",
    "    for train_index, test_index in kf.split(X):\n",
    "        X_train, X_test = X[train_index], X[test_index]\n",
    "        y_train, y_test = y[train_index], y[test_index]\n",
    "        \n",
    "        X_train = X_train.reshape(X_train.shape[0], 40, 101, 1)\n",
    "        X_test = X_test.reshape(X_test.shape[0], 40, 101, 1)\n",
    "        \n",
    "        history = model.fit(X_train, y_train, batch_size = 50, \n",
    "                            epochs = 10, validation_data = (X_test, y_test))\n",
    "        score = model.evaluate(X_test, y_test, batch_size = 1)\n",
    "        losses.append(score[0])\n",
    "        accuracies.append(score[1])\n",
    "        \n",
    "        return (losses, accuracies)"
   ]
  },
  {
   "cell_type": "code",
   "execution_count": 28,
   "metadata": {
    "scrolled": true
   },
   "outputs": [
    {
     "name": "stdout",
     "output_type": "stream",
     "text": [
      "Train on 200 samples, validate on 40 samples\n",
      "Epoch 1/5\n",
      "200/200 [==============================] - ETA: 13s - loss: 1.0210 - acc: 0.44 - ETA: 8s - loss: 0.9572 - acc: 0.4300 - ETA: 4s - loss: 0.9224 - acc: 0.480 - 19s 93ms/sample - loss: 0.8566 - acc: 0.5300 - val_loss: 0.7361 - val_acc: 0.5500\n",
      "Epoch 2/5\n",
      "200/200 [==============================] - ETA: 11s - loss: 0.7619 - acc: 0.54 - ETA: 7s - loss: 0.8047 - acc: 0.5000 - ETA: 3s - loss: 0.7995 - acc: 0.506 - 16s 79ms/sample - loss: 0.7735 - acc: 0.5250 - val_loss: 0.7083 - val_acc: 0.5250\n",
      "Epoch 3/5\n",
      "200/200 [==============================] - ETA: 14s - loss: 0.8309 - acc: 0.54 - ETA: 8s - loss: 0.7966 - acc: 0.5900 - ETA: 4s - loss: 0.8300 - acc: 0.553 - 17s 86ms/sample - loss: 0.8155 - acc: 0.5400 - val_loss: 0.7412 - val_acc: 0.4750\n",
      "Epoch 4/5\n",
      "200/200 [==============================] - ETA: 10s - loss: 0.7807 - acc: 0.50 - ETA: 6s - loss: 0.7903 - acc: 0.5300 - ETA: 3s - loss: 0.7524 - acc: 0.546 - 15s 73ms/sample - loss: 0.8049 - acc: 0.5250 - val_loss: 0.7598 - val_acc: 0.4750\n",
      "Epoch 5/5\n",
      "200/200 [==============================] - ETA: 10s - loss: 0.7445 - acc: 0.50 - ETA: 6s - loss: 0.7299 - acc: 0.5700 - ETA: 3s - loss: 0.7277 - acc: 0.560 - 15s 74ms/sample - loss: 0.7439 - acc: 0.5450 - val_loss: 0.7398 - val_acc: 0.4750\n",
      "40/40 [==============================] - ETA: 1s - loss: 0.5095 - acc: 1.000 - ETA: 1s - loss: 0.4830 - acc: 1.000 - ETA: 1s - loss: 0.6149 - acc: 0.800 - ETA: 1s - loss: 0.5780 - acc: 0.857 - ETA: 1s - loss: 0.6039 - acc: 0.777 - ETA: 1s - loss: 0.6204 - acc: 0.700 - ETA: 1s - loss: 0.6761 - acc: 0.583 - ETA: 1s - loss: 0.7408 - acc: 0.500 - ETA: 1s - loss: 0.7477 - acc: 0.466 - ETA: 0s - loss: 0.7570 - acc: 0.470 - ETA: 0s - loss: 0.7346 - acc: 0.526 - ETA: 0s - loss: 0.7278 - acc: 0.550 - ETA: 0s - loss: 0.7038 - acc: 0.590 - ETA: 0s - loss: 0.6864 - acc: 0.625 - ETA: 0s - loss: 0.6703 - acc: 0.653 - ETA: 0s - loss: 0.6740 - acc: 0.642 - ETA: 0s - loss: 0.6899 - acc: 0.600 - ETA: 0s - loss: 0.6940 - acc: 0.580 - ETA: 0s - loss: 0.7121 - acc: 0.545 - ETA: 0s - loss: 0.7158 - acc: 0.529 - ETA: 0s - loss: 0.7284 - acc: 0.500 - ETA: 0s - loss: 0.7408 - acc: 0.473 - 2s 39ms/sample - loss: 0.7398 - acc: 0.4750\n",
      "max loss =  0.7398222625255585\n",
      "max accuracy =  0.475\n"
     ]
    }
   ],
   "source": [
    "losses, accuracies = kfold_validate(X, y_valance, build_model())\n",
    "print(\"max loss = \",max(losses))\n",
    "print(\"max accuracy = \",max(accuracies))"
   ]
  },
  {
   "cell_type": "markdown",
   "metadata": {},
   "source": [
    "## Tuning using Keras-Tuner\n",
    "- RandomSearch\n",
    "- Bayesian optimisation\n",
    "- Hyperband Tuning"
   ]
  },
  {
   "cell_type": "code",
   "execution_count": 24,
   "metadata": {
    "scrolled": true
   },
   "outputs": [
    {
     "name": "stdout",
     "output_type": "stream",
     "text": [
      "Train on 180 samples, validate on 60 samples\n",
      "Epoch 1/10\n",
      "180/180 [==============================] - ETA: 58s - loss: 0.8327 - acc: 0.60 - ETA: 35s - loss: 0.7993 - acc: 0.52 - ETA: 13s - loss: 0.7963 - acc: 0.50 - 90s 499ms/sample - loss: 0.8185 - acc: 0.4778 - val_loss: 0.7721 - val_acc: 0.4167\n",
      "Epoch 2/10\n",
      "180/180 [==============================] - ETA: 1:00 - loss: 0.6639 - acc: 0.600 - ETA: 36s - loss: 0.6337 - acc: 0.630 - ETA: 13s - loss: 0.6516 - acc: 0.63 - 93s 515ms/sample - loss: 0.6462 - acc: 0.6333 - val_loss: 0.7780 - val_acc: 0.4667\n",
      "Epoch 3/10\n",
      "180/180 [==============================] - ETA: 1:00 - loss: 0.6432 - acc: 0.660 - ETA: 37s - loss: 0.6315 - acc: 0.660 - ETA: 14s - loss: 0.6192 - acc: 0.68 - 99s 551ms/sample - loss: 0.6238 - acc: 0.6833 - val_loss: 0.7772 - val_acc: 0.5000\n",
      "Epoch 4/10\n",
      "180/180 [==============================] - ETA: 1:04 - loss: 0.6985 - acc: 0.500 - ETA: 38s - loss: 0.6587 - acc: 0.600 - ETA: 13s - loss: 0.6194 - acc: 0.62 - 88s 489ms/sample - loss: 0.6013 - acc: 0.6389 - val_loss: 0.7756 - val_acc: 0.5000\n",
      "Epoch 5/10\n",
      "180/180 [==============================] - ETA: 55s - loss: 0.6450 - acc: 0.60 - ETA: 34s - loss: 0.5352 - acc: 0.71 - ETA: 12s - loss: 0.5611 - acc: 0.68 - 87s 481ms/sample - loss: 0.5595 - acc: 0.6944 - val_loss: 0.7727 - val_acc: 0.5167\n",
      "Epoch 6/10\n",
      "180/180 [==============================] - ETA: 56s - loss: 0.5884 - acc: 0.70 - ETA: 34s - loss: 0.5924 - acc: 0.69 - ETA: 12s - loss: 0.5644 - acc: 0.70 - 85s 473ms/sample - loss: 0.5744 - acc: 0.6944 - val_loss: 0.7850 - val_acc: 0.5167\n",
      "Epoch 7/10\n",
      "180/180 [==============================] - ETA: 55s - loss: 0.5102 - acc: 0.76 - ETA: 34s - loss: 0.5244 - acc: 0.73 - ETA: 12s - loss: 0.5275 - acc: 0.72 - 87s 482ms/sample - loss: 0.5274 - acc: 0.7333 - val_loss: 0.7907 - val_acc: 0.5000\n",
      "Epoch 8/10\n",
      "180/180 [==============================] - ETA: 55s - loss: 0.6096 - acc: 0.74 - ETA: 34s - loss: 0.5628 - acc: 0.75 - ETA: 12s - loss: 0.5069 - acc: 0.78 - 87s 482ms/sample - loss: 0.4958 - acc: 0.8000 - val_loss: 0.8153 - val_acc: 0.5333\n",
      "Epoch 9/10\n",
      "180/180 [==============================] - ETA: 52s - loss: 0.5132 - acc: 0.78 - ETA: 32s - loss: 0.4894 - acc: 0.78 - ETA: 12s - loss: 0.4976 - acc: 0.78 - 87s 486ms/sample - loss: 0.4819 - acc: 0.8056 - val_loss: 0.8277 - val_acc: 0.5333\n",
      "Epoch 10/10\n",
      "180/180 [==============================] - ETA: 1:03 - loss: 0.4237 - acc: 0.880 - ETA: 37s - loss: 0.4368 - acc: 0.840 - ETA: 13s - loss: 0.4240 - acc: 0.84 - 91s 506ms/sample - loss: 0.4517 - acc: 0.8111 - val_loss: 0.7844 - val_acc: 0.5333\n"
     ]
    },
    {
     "data": {
      "text/html": [
       "<span style=\"color:#4527A0\"><h1 style=\"font-size:18px\">Trial complete</h1></span>"
      ],
      "text/plain": [
       "<IPython.core.display.HTML object>"
      ]
     },
     "metadata": {},
     "output_type": "display_data"
    },
    {
     "data": {
      "text/html": [
       "<span style=\"color:#4527A0\"><h1 style=\"font-size:18px\">Trial summary</h1></span>"
      ],
      "text/plain": [
       "<IPython.core.display.HTML object>"
      ]
     },
     "metadata": {},
     "output_type": "display_data"
    },
    {
     "data": {
      "text/html": [
       "<span style=\"color:cyan\"> |-Trial ID: bca775390f753297a720582501f0054f</span>"
      ],
      "text/plain": [
       "<IPython.core.display.HTML object>"
      ]
     },
     "metadata": {},
     "output_type": "display_data"
    },
    {
     "data": {
      "text/html": [
       "<span style=\"color:cyan\"> |-Score: 0.8111110925674438</span>"
      ],
      "text/plain": [
       "<IPython.core.display.HTML object>"
      ]
     },
     "metadata": {},
     "output_type": "display_data"
    },
    {
     "data": {
      "text/html": [
       "<span style=\"color:cyan\"> |-Best step: 0</span>"
      ],
      "text/plain": [
       "<IPython.core.display.HTML object>"
      ]
     },
     "metadata": {},
     "output_type": "display_data"
    },
    {
     "data": {
      "text/html": [
       "<span style=\"color:#7E57C2\"><h2 style=\"font-size:16px\">Hyperparameters:</h2></span>"
      ],
      "text/plain": [
       "<IPython.core.display.HTML object>"
      ]
     },
     "metadata": {},
     "output_type": "display_data"
    },
    {
     "data": {
      "text/html": [
       "<span style=\"color:cyan\"> |-conv_0_units: 352</span>"
      ],
      "text/plain": [
       "<IPython.core.display.HTML object>"
      ]
     },
     "metadata": {},
     "output_type": "display_data"
    },
    {
     "data": {
      "text/html": [
       "<span style=\"color:blue\"> |-conv_layers: 1</span>"
      ],
      "text/plain": [
       "<IPython.core.display.HTML object>"
      ]
     },
     "metadata": {},
     "output_type": "display_data"
    },
    {
     "data": {
      "text/html": [
       "<span style=\"color:cyan\"> |-dense_0_units: 64</span>"
      ],
      "text/plain": [
       "<IPython.core.display.HTML object>"
      ]
     },
     "metadata": {},
     "output_type": "display_data"
    },
    {
     "data": {
      "text/html": [
       "<span style=\"color:blue\"> |-dense_1_units: 64</span>"
      ],
      "text/plain": [
       "<IPython.core.display.HTML object>"
      ]
     },
     "metadata": {},
     "output_type": "display_data"
    },
    {
     "data": {
      "text/html": [
       "<span style=\"color:cyan\"> |-dense_2_units: 64</span>"
      ],
      "text/plain": [
       "<IPython.core.display.HTML object>"
      ]
     },
     "metadata": {},
     "output_type": "display_data"
    },
    {
     "data": {
      "text/html": [
       "<span style=\"color:blue\"> |-dense_layers: 3</span>"
      ],
      "text/plain": [
       "<IPython.core.display.HTML object>"
      ]
     },
     "metadata": {},
     "output_type": "display_data"
    },
    {
     "data": {
      "text/html": [
       "<span style=\"color:cyan\"> |-input_units: 330</span>"
      ],
      "text/plain": [
       "<IPython.core.display.HTML object>"
      ]
     },
     "metadata": {},
     "output_type": "display_data"
    },
    {
     "data": {
      "text/html": [
       "<span style=\"color:blue\"> |-learning_rate: 1e-05</span>"
      ],
      "text/plain": [
       "<IPython.core.display.HTML object>"
      ]
     },
     "metadata": {},
     "output_type": "display_data"
    },
    {
     "name": "stdout",
     "output_type": "stream",
     "text": [
      "Train on 180 samples, validate on 60 samples\n",
      "Epoch 1/10\n",
      "180/180 [==============================] - ETA: 20s - loss: 0.8638 - acc: 0.54 - ETA: 12s - loss: 0.8815 - acc: 0.44 - ETA: 4s - loss: 0.8304 - acc: 0.4667 - 32s 177ms/sample - loss: 0.8422 - acc: 0.4444 - val_loss: 0.6828 - val_acc: 0.5667\n",
      "Epoch 2/10\n",
      "180/180 [==============================] - ETA: 18s - loss: 0.8295 - acc: 0.46 - ETA: 11s - loss: 0.7915 - acc: 0.46 - ETA: 4s - loss: 0.7698 - acc: 0.4933 - 30s 165ms/sample - loss: 0.7580 - acc: 0.5056 - val_loss: 0.6885 - val_acc: 0.5500\n",
      "Epoch 3/10\n",
      "180/180 [==============================] - ETA: 18s - loss: 0.7385 - acc: 0.52 - ETA: 11s - loss: 0.7880 - acc: 0.47 - ETA: 4s - loss: 0.7753 - acc: 0.4533 - 29s 161ms/sample - loss: 0.7583 - acc: 0.4722 - val_loss: 0.7064 - val_acc: 0.4833\n",
      "Epoch 4/10\n",
      "180/180 [==============================] - ETA: 19s - loss: 0.6937 - acc: 0.58 - ETA: 11s - loss: 0.7350 - acc: 0.54 - ETA: 4s - loss: 0.7521 - acc: 0.5067 - 30s 169ms/sample - loss: 0.7472 - acc: 0.5111 - val_loss: 0.7265 - val_acc: 0.5167\n",
      "Epoch 5/10\n",
      "180/180 [==============================] - ETA: 18s - loss: 0.7570 - acc: 0.56 - ETA: 11s - loss: 0.7958 - acc: 0.51 - ETA: 4s - loss: 0.7371 - acc: 0.5533 - 30s 169ms/sample - loss: 0.7429 - acc: 0.5667 - val_loss: 0.7322 - val_acc: 0.4667\n",
      "Epoch 6/10\n",
      "180/180 [==============================] - ETA: 19s - loss: 0.7858 - acc: 0.44 - ETA: 12s - loss: 0.7475 - acc: 0.48 - ETA: 4s - loss: 0.7374 - acc: 0.5000 - 30s 164ms/sample - loss: 0.7358 - acc: 0.5222 - val_loss: 0.7258 - val_acc: 0.4833\n",
      "Epoch 7/10\n",
      "180/180 [==============================] - ETA: 18s - loss: 0.6944 - acc: 0.60 - ETA: 11s - loss: 0.7360 - acc: 0.55 - ETA: 4s - loss: 0.7458 - acc: 0.5667 - 30s 168ms/sample - loss: 0.7340 - acc: 0.5778 - val_loss: 0.7211 - val_acc: 0.4833\n",
      "Epoch 8/10\n",
      "180/180 [==============================] - ETA: 19s - loss: 0.7207 - acc: 0.54 - ETA: 12s - loss: 0.7249 - acc: 0.54 - ETA: 4s - loss: 0.6926 - acc: 0.5733 - 31s 173ms/sample - loss: 0.6742 - acc: 0.5833 - val_loss: 0.7152 - val_acc: 0.4333\n",
      "Epoch 9/10\n",
      "180/180 [==============================] - ETA: 20s - loss: 0.7247 - acc: 0.54 - ETA: 12s - loss: 0.7179 - acc: 0.56 - ETA: 4s - loss: 0.7216 - acc: 0.5667 - 30s 169ms/sample - loss: 0.7229 - acc: 0.5611 - val_loss: 0.7143 - val_acc: 0.4333\n",
      "Epoch 10/10\n",
      "180/180 [==============================] - ETA: 18s - loss: 0.7277 - acc: 0.54 - ETA: 11s - loss: 0.6837 - acc: 0.56 - ETA: 4s - loss: 0.6864 - acc: 0.5600 - 29s 162ms/sample - loss: 0.6870 - acc: 0.5667 - val_loss: 0.7132 - val_acc: 0.4833\n"
     ]
    },
    {
     "data": {
      "text/html": [
       "<span style=\"color:#4527A0\"><h1 style=\"font-size:18px\">Trial complete</h1></span>"
      ],
      "text/plain": [
       "<IPython.core.display.HTML object>"
      ]
     },
     "metadata": {},
     "output_type": "display_data"
    },
    {
     "data": {
      "text/html": [
       "<span style=\"color:#4527A0\"><h1 style=\"font-size:18px\">Trial summary</h1></span>"
      ],
      "text/plain": [
       "<IPython.core.display.HTML object>"
      ]
     },
     "metadata": {},
     "output_type": "display_data"
    },
    {
     "data": {
      "text/html": [
       "<span style=\"color:cyan\"> |-Trial ID: 832ef23f941bb817bc5fd6e0f753b516</span>"
      ],
      "text/plain": [
       "<IPython.core.display.HTML object>"
      ]
     },
     "metadata": {},
     "output_type": "display_data"
    },
    {
     "data": {
      "text/html": [
       "<span style=\"color:cyan\"> |-Score: 0.5833333134651184</span>"
      ],
      "text/plain": [
       "<IPython.core.display.HTML object>"
      ]
     },
     "metadata": {},
     "output_type": "display_data"
    },
    {
     "data": {
      "text/html": [
       "<span style=\"color:cyan\"> |-Best step: 0</span>"
      ],
      "text/plain": [
       "<IPython.core.display.HTML object>"
      ]
     },
     "metadata": {},
     "output_type": "display_data"
    },
    {
     "data": {
      "text/html": [
       "<span style=\"color:#7E57C2\"><h2 style=\"font-size:16px\">Hyperparameters:</h2></span>"
      ],
      "text/plain": [
       "<IPython.core.display.HTML object>"
      ]
     },
     "metadata": {},
     "output_type": "display_data"
    },
    {
     "data": {
      "text/html": [
       "<span style=\"color:cyan\"> |-conv_0_units: 96</span>"
      ],
      "text/plain": [
       "<IPython.core.display.HTML object>"
      ]
     },
     "metadata": {},
     "output_type": "display_data"
    },
    {
     "data": {
      "text/html": [
       "<span style=\"color:blue\"> |-conv_1_units: 32</span>"
      ],
      "text/plain": [
       "<IPython.core.display.HTML object>"
      ]
     },
     "metadata": {},
     "output_type": "display_data"
    },
    {
     "data": {
      "text/html": [
       "<span style=\"color:cyan\"> |-conv_2_units: 32</span>"
      ],
      "text/plain": [
       "<IPython.core.display.HTML object>"
      ]
     },
     "metadata": {},
     "output_type": "display_data"
    },
    {
     "data": {
      "text/html": [
       "<span style=\"color:blue\"> |-conv_3_units: 32</span>"
      ],
      "text/plain": [
       "<IPython.core.display.HTML object>"
      ]
     },
     "metadata": {},
     "output_type": "display_data"
    },
    {
     "data": {
      "text/html": [
       "<span style=\"color:cyan\"> |-conv_layers: 4</span>"
      ],
      "text/plain": [
       "<IPython.core.display.HTML object>"
      ]
     },
     "metadata": {},
     "output_type": "display_data"
    },
    {
     "data": {
      "text/html": [
       "<span style=\"color:blue\"> |-dense_0_units: 320</span>"
      ],
      "text/plain": [
       "<IPython.core.display.HTML object>"
      ]
     },
     "metadata": {},
     "output_type": "display_data"
    },
    {
     "data": {
      "text/html": [
       "<span style=\"color:cyan\"> |-dense_1_units: 192</span>"
      ],
      "text/plain": [
       "<IPython.core.display.HTML object>"
      ]
     },
     "metadata": {},
     "output_type": "display_data"
    },
    {
     "data": {
      "text/html": [
       "<span style=\"color:blue\"> |-dense_2_units: 512</span>"
      ],
      "text/plain": [
       "<IPython.core.display.HTML object>"
      ]
     },
     "metadata": {},
     "output_type": "display_data"
    },
    {
     "data": {
      "text/html": [
       "<span style=\"color:cyan\"> |-dense_layers: 1</span>"
      ],
      "text/plain": [
       "<IPython.core.display.HTML object>"
      ]
     },
     "metadata": {},
     "output_type": "display_data"
    },
    {
     "data": {
      "text/html": [
       "<span style=\"color:blue\"> |-input_units: 300</span>"
      ],
      "text/plain": [
       "<IPython.core.display.HTML object>"
      ]
     },
     "metadata": {},
     "output_type": "display_data"
    },
    {
     "data": {
      "text/html": [
       "<span style=\"color:cyan\"> |-learning_rate: 1e-05</span>"
      ],
      "text/plain": [
       "<IPython.core.display.HTML object>"
      ]
     },
     "metadata": {},
     "output_type": "display_data"
    },
    {
     "name": "stdout",
     "output_type": "stream",
     "text": [
      "Train on 180 samples, validate on 60 samples\n",
      "Epoch 1/10\n",
      "180/180 [==============================] - ETA: 38s - loss: 0.6768 - acc: 0.58 - ETA: 25s - loss: 0.7081 - acc: 0.52 - ETA: 9s - loss: 0.7208 - acc: 0.5000 - 70s 390ms/sample - loss: 0.7243 - acc: 0.5056 - val_loss: 0.7301 - val_acc: 0.4333\n",
      "Epoch 2/10\n",
      "180/180 [==============================] - ETA: 42s - loss: 0.6447 - acc: 0.54 - ETA: 26s - loss: 0.6948 - acc: 0.53 - ETA: 10s - loss: 0.7099 - acc: 0.53 - 67s 372ms/sample - loss: 0.7104 - acc: 0.5278 - val_loss: 0.7318 - val_acc: 0.4333\n",
      "Epoch 3/10\n",
      "180/180 [==============================] - ETA: 38s - loss: 0.7753 - acc: 0.36 - ETA: 24s - loss: 0.6893 - acc: 0.52 - ETA: 9s - loss: 0.6581 - acc: 0.6000 - 64s 355ms/sample - loss: 0.6773 - acc: 0.5778 - val_loss: 0.7335 - val_acc: 0.4500\n",
      "Epoch 4/10\n",
      "180/180 [==============================] - ETA: 40s - loss: 0.7549 - acc: 0.48 - ETA: 24s - loss: 0.7263 - acc: 0.53 - ETA: 8s - loss: 0.7027 - acc: 0.5667 - 61s 338ms/sample - loss: 0.6913 - acc: 0.5833 - val_loss: 0.7352 - val_acc: 0.4500\n",
      "Epoch 5/10\n",
      "180/180 [==============================] - ETA: 36s - loss: 0.6952 - acc: 0.48 - ETA: 22s - loss: 0.7113 - acc: 0.47 - ETA: 8s - loss: 0.7043 - acc: 0.4733 - 57s 315ms/sample - loss: 0.6933 - acc: 0.4944 - val_loss: 0.7376 - val_acc: 0.4833\n",
      "Epoch 6/10\n",
      "180/180 [==============================] - ETA: 35s - loss: 0.6398 - acc: 0.74 - ETA: 22s - loss: 0.6461 - acc: 0.66 - ETA: 8s - loss: 0.6570 - acc: 0.6400 - 58s 324ms/sample - loss: 0.6695 - acc: 0.6111 - val_loss: 0.7409 - val_acc: 0.5000\n",
      "Epoch 7/10\n",
      "180/180 [==============================] - ETA: 39s - loss: 0.6823 - acc: 0.56 - ETA: 24s - loss: 0.6941 - acc: 0.55 - ETA: 9s - loss: 0.6946 - acc: 0.5467 - 62s 344ms/sample - loss: 0.6990 - acc: 0.5500 - val_loss: 0.7436 - val_acc: 0.5000\n",
      "Epoch 8/10\n",
      "180/180 [==============================] - ETA: 42s - loss: 0.7052 - acc: 0.62 - ETA: 25s - loss: 0.7305 - acc: 0.55 - ETA: 9s - loss: 0.7272 - acc: 0.5533 - 63s 350ms/sample - loss: 0.7229 - acc: 0.5556 - val_loss: 0.7459 - val_acc: 0.5000\n",
      "Epoch 9/10\n",
      "180/180 [==============================] - ETA: 40s - loss: 0.7216 - acc: 0.52 - ETA: 24s - loss: 0.6725 - acc: 0.62 - ETA: 9s - loss: 0.6781 - acc: 0.5800 - 62s 342ms/sample - loss: 0.6738 - acc: 0.5944 - val_loss: 0.7474 - val_acc: 0.5000\n",
      "Epoch 10/10\n",
      "180/180 [==============================] - ETA: 38s - loss: 0.6931 - acc: 0.52 - ETA: 25s - loss: 0.6536 - acc: 0.57 - ETA: 9s - loss: 0.6647 - acc: 0.5867 - 64s 358ms/sample - loss: 0.6577 - acc: 0.5722 - val_loss: 0.7488 - val_acc: 0.5000\n"
     ]
    },
    {
     "data": {
      "text/html": [
       "<span style=\"color:#4527A0\"><h1 style=\"font-size:18px\">Trial complete</h1></span>"
      ],
      "text/plain": [
       "<IPython.core.display.HTML object>"
      ]
     },
     "metadata": {},
     "output_type": "display_data"
    },
    {
     "data": {
      "text/html": [
       "<span style=\"color:#4527A0\"><h1 style=\"font-size:18px\">Trial summary</h1></span>"
      ],
      "text/plain": [
       "<IPython.core.display.HTML object>"
      ]
     },
     "metadata": {},
     "output_type": "display_data"
    },
    {
     "data": {
      "text/html": [
       "<span style=\"color:cyan\"> |-Trial ID: 9c4e8d2eea1beb911a0cb590439baf2c</span>"
      ],
      "text/plain": [
       "<IPython.core.display.HTML object>"
      ]
     },
     "metadata": {},
     "output_type": "display_data"
    },
    {
     "data": {
      "text/html": [
       "<span style=\"color:cyan\"> |-Score: 0.6111111044883728</span>"
      ],
      "text/plain": [
       "<IPython.core.display.HTML object>"
      ]
     },
     "metadata": {},
     "output_type": "display_data"
    },
    {
     "data": {
      "text/html": [
       "<span style=\"color:cyan\"> |-Best step: 0</span>"
      ],
      "text/plain": [
       "<IPython.core.display.HTML object>"
      ]
     },
     "metadata": {},
     "output_type": "display_data"
    },
    {
     "data": {
      "text/html": [
       "<span style=\"color:#7E57C2\"><h2 style=\"font-size:16px\">Hyperparameters:</h2></span>"
      ],
      "text/plain": [
       "<IPython.core.display.HTML object>"
      ]
     },
     "metadata": {},
     "output_type": "display_data"
    },
    {
     "data": {
      "text/html": [
       "<span style=\"color:cyan\"> |-conv_0_units: 192</span>"
      ],
      "text/plain": [
       "<IPython.core.display.HTML object>"
      ]
     },
     "metadata": {},
     "output_type": "display_data"
    },
    {
     "data": {
      "text/html": [
       "<span style=\"color:blue\"> |-conv_1_units: 96</span>"
      ],
      "text/plain": [
       "<IPython.core.display.HTML object>"
      ]
     },
     "metadata": {},
     "output_type": "display_data"
    },
    {
     "data": {
      "text/html": [
       "<span style=\"color:cyan\"> |-conv_2_units: 128</span>"
      ],
      "text/plain": [
       "<IPython.core.display.HTML object>"
      ]
     },
     "metadata": {},
     "output_type": "display_data"
    },
    {
     "data": {
      "text/html": [
       "<span style=\"color:blue\"> |-conv_3_units: 192</span>"
      ],
      "text/plain": [
       "<IPython.core.display.HTML object>"
      ]
     },
     "metadata": {},
     "output_type": "display_data"
    },
    {
     "data": {
      "text/html": [
       "<span style=\"color:cyan\"> |-conv_layers: 2</span>"
      ],
      "text/plain": [
       "<IPython.core.display.HTML object>"
      ]
     },
     "metadata": {},
     "output_type": "display_data"
    },
    {
     "data": {
      "text/html": [
       "<span style=\"color:blue\"> |-dense_0_units: 288</span>"
      ],
      "text/plain": [
       "<IPython.core.display.HTML object>"
      ]
     },
     "metadata": {},
     "output_type": "display_data"
    },
    {
     "data": {
      "text/html": [
       "<span style=\"color:cyan\"> |-dense_1_units: 160</span>"
      ],
      "text/plain": [
       "<IPython.core.display.HTML object>"
      ]
     },
     "metadata": {},
     "output_type": "display_data"
    },
    {
     "data": {
      "text/html": [
       "<span style=\"color:blue\"> |-dense_2_units: 256</span>"
      ],
      "text/plain": [
       "<IPython.core.display.HTML object>"
      ]
     },
     "metadata": {},
     "output_type": "display_data"
    },
    {
     "data": {
      "text/html": [
       "<span style=\"color:cyan\"> |-dense_3_units: 64</span>"
      ],
      "text/plain": [
       "<IPython.core.display.HTML object>"
      ]
     },
     "metadata": {},
     "output_type": "display_data"
    },
    {
     "data": {
      "text/html": [
       "<span style=\"color:blue\"> |-dense_4_units: 64</span>"
      ],
      "text/plain": [
       "<IPython.core.display.HTML object>"
      ]
     },
     "metadata": {},
     "output_type": "display_data"
    },
    {
     "data": {
      "text/html": [
       "<span style=\"color:cyan\"> |-dense_5_units: 64</span>"
      ],
      "text/plain": [
       "<IPython.core.display.HTML object>"
      ]
     },
     "metadata": {},
     "output_type": "display_data"
    },
    {
     "data": {
      "text/html": [
       "<span style=\"color:blue\"> |-dense_6_units: 64</span>"
      ],
      "text/plain": [
       "<IPython.core.display.HTML object>"
      ]
     },
     "metadata": {},
     "output_type": "display_data"
    },
    {
     "data": {
      "text/html": [
       "<span style=\"color:cyan\"> |-dense_7_units: 64</span>"
      ],
      "text/plain": [
       "<IPython.core.display.HTML object>"
      ]
     },
     "metadata": {},
     "output_type": "display_data"
    },
    {
     "data": {
      "text/html": [
       "<span style=\"color:blue\"> |-dense_layers: 8</span>"
      ],
      "text/plain": [
       "<IPython.core.display.HTML object>"
      ]
     },
     "metadata": {},
     "output_type": "display_data"
    },
    {
     "data": {
      "text/html": [
       "<span style=\"color:cyan\"> |-input_units: 310</span>"
      ],
      "text/plain": [
       "<IPython.core.display.HTML object>"
      ]
     },
     "metadata": {},
     "output_type": "display_data"
    },
    {
     "data": {
      "text/html": [
       "<span style=\"color:blue\"> |-learning_rate: 1e-06</span>"
      ],
      "text/plain": [
       "<IPython.core.display.HTML object>"
      ]
     },
     "metadata": {},
     "output_type": "display_data"
    },
    {
     "name": "stdout",
     "output_type": "stream",
     "text": [
      "Train on 180 samples, validate on 60 samples\n",
      "Epoch 1/10\n",
      "180/180 [==============================] - ETA: 1:16 - loss: 0.7031 - acc: 0.520 - ETA: 44s - loss: 0.6988 - acc: 0.520 - ETA: 16s - loss: 0.6981 - acc: 0.48 - 114s 633ms/sample - loss: 0.6983 - acc: 0.4889 - val_loss: 0.7150 - val_acc: 0.4833\n",
      "Epoch 2/10\n",
      "180/180 [==============================] - ETA: 1:13 - loss: 0.6892 - acc: 0.560 - ETA: 44s - loss: 0.7035 - acc: 0.550 - ETA: 16s - loss: 0.6999 - acc: 0.54 - 114s 635ms/sample - loss: 0.7102 - acc: 0.5167 - val_loss: 0.7165 - val_acc: 0.4667\n",
      "Epoch 3/10\n",
      "180/180 [==============================] - ETA: 1:12 - loss: 0.6630 - acc: 0.680 - ETA: 43s - loss: 0.6959 - acc: 0.540 - ETA: 16s - loss: 0.7027 - acc: 0.50 - 106s 586ms/sample - loss: 0.7014 - acc: 0.5167 - val_loss: 0.7182 - val_acc: 0.4333\n",
      "Epoch 4/10\n",
      "180/180 [==============================] - ETA: 1:07 - loss: 0.6965 - acc: 0.600 - ETA: 41s - loss: 0.7083 - acc: 0.550 - ETA: 15s - loss: 0.7019 - acc: 0.55 - 107s 596ms/sample - loss: 0.7061 - acc: 0.5500 - val_loss: 0.7201 - val_acc: 0.4500\n",
      "Epoch 5/10\n",
      "180/180 [==============================] - ETA: 1:09 - loss: 0.6655 - acc: 0.600 - ETA: 44s - loss: 0.6699 - acc: 0.630 - ETA: 16s - loss: 0.6740 - acc: 0.60 - 113s 625ms/sample - loss: 0.6803 - acc: 0.5944 - val_loss: 0.7217 - val_acc: 0.4167\n",
      "Epoch 6/10\n",
      "180/180 [==============================] - ETA: 1:08 - loss: 0.7193 - acc: 0.440 - ETA: 42s - loss: 0.7316 - acc: 0.460 - ETA: 16s - loss: 0.7009 - acc: 0.52 - 106s 587ms/sample - loss: 0.6974 - acc: 0.5389 - val_loss: 0.7231 - val_acc: 0.4000\n",
      "Epoch 7/10\n",
      "180/180 [==============================] - ETA: 1:08 - loss: 0.6998 - acc: 0.540 - ETA: 42s - loss: 0.6940 - acc: 0.530 - ETA: 16s - loss: 0.6954 - acc: 0.52 - 106s 590ms/sample - loss: 0.6916 - acc: 0.5389 - val_loss: 0.7251 - val_acc: 0.4000\n",
      "Epoch 8/10\n",
      "180/180 [==============================] - ETA: 1:08 - loss: 0.6655 - acc: 0.600 - ETA: 43s - loss: 0.6734 - acc: 0.580 - ETA: 16s - loss: 0.6730 - acc: 0.56 - 107s 593ms/sample - loss: 0.6808 - acc: 0.5556 - val_loss: 0.7268 - val_acc: 0.4333\n",
      "Epoch 9/10\n",
      "180/180 [==============================] - ETA: 1:09 - loss: 0.6996 - acc: 0.520 - ETA: 42s - loss: 0.7006 - acc: 0.530 - ETA: 15s - loss: 0.6994 - acc: 0.53 - 104s 578ms/sample - loss: 0.7010 - acc: 0.5222 - val_loss: 0.7280 - val_acc: 0.4333\n",
      "Epoch 10/10\n",
      "180/180 [==============================] - ETA: 1:08 - loss: 0.6659 - acc: 0.540 - ETA: 42s - loss: 0.6929 - acc: 0.530 - ETA: 16s - loss: 0.6910 - acc: 0.52 - 106s 587ms/sample - loss: 0.6844 - acc: 0.5389 - val_loss: 0.7290 - val_acc: 0.4500\n"
     ]
    },
    {
     "data": {
      "text/html": [
       "<span style=\"color:#4527A0\"><h1 style=\"font-size:18px\">Trial complete</h1></span>"
      ],
      "text/plain": [
       "<IPython.core.display.HTML object>"
      ]
     },
     "metadata": {},
     "output_type": "display_data"
    },
    {
     "data": {
      "text/html": [
       "<span style=\"color:#4527A0\"><h1 style=\"font-size:18px\">Trial summary</h1></span>"
      ],
      "text/plain": [
       "<IPython.core.display.HTML object>"
      ]
     },
     "metadata": {},
     "output_type": "display_data"
    },
    {
     "data": {
      "text/html": [
       "<span style=\"color:cyan\"> |-Trial ID: 7eb3156ea4145a7bff57d00af9ec9737</span>"
      ],
      "text/plain": [
       "<IPython.core.display.HTML object>"
      ]
     },
     "metadata": {},
     "output_type": "display_data"
    },
    {
     "data": {
      "text/html": [
       "<span style=\"color:cyan\"> |-Score: 0.5944444537162781</span>"
      ],
      "text/plain": [
       "<IPython.core.display.HTML object>"
      ]
     },
     "metadata": {},
     "output_type": "display_data"
    },
    {
     "data": {
      "text/html": [
       "<span style=\"color:cyan\"> |-Best step: 0</span>"
      ],
      "text/plain": [
       "<IPython.core.display.HTML object>"
      ]
     },
     "metadata": {},
     "output_type": "display_data"
    },
    {
     "data": {
      "text/html": [
       "<span style=\"color:#7E57C2\"><h2 style=\"font-size:16px\">Hyperparameters:</h2></span>"
      ],
      "text/plain": [
       "<IPython.core.display.HTML object>"
      ]
     },
     "metadata": {},
     "output_type": "display_data"
    },
    {
     "data": {
      "text/html": [
       "<span style=\"color:cyan\"> |-conv_0_units: 288</span>"
      ],
      "text/plain": [
       "<IPython.core.display.HTML object>"
      ]
     },
     "metadata": {},
     "output_type": "display_data"
    },
    {
     "data": {
      "text/html": [
       "<span style=\"color:blue\"> |-conv_1_units: 64</span>"
      ],
      "text/plain": [
       "<IPython.core.display.HTML object>"
      ]
     },
     "metadata": {},
     "output_type": "display_data"
    },
    {
     "data": {
      "text/html": [
       "<span style=\"color:cyan\"> |-conv_2_units: 192</span>"
      ],
      "text/plain": [
       "<IPython.core.display.HTML object>"
      ]
     },
     "metadata": {},
     "output_type": "display_data"
    },
    {
     "data": {
      "text/html": [
       "<span style=\"color:blue\"> |-conv_3_units: 160</span>"
      ],
      "text/plain": [
       "<IPython.core.display.HTML object>"
      ]
     },
     "metadata": {},
     "output_type": "display_data"
    },
    {
     "data": {
      "text/html": [
       "<span style=\"color:cyan\"> |-conv_layers: 3</span>"
      ],
      "text/plain": [
       "<IPython.core.display.HTML object>"
      ]
     },
     "metadata": {},
     "output_type": "display_data"
    },
    {
     "data": {
      "text/html": [
       "<span style=\"color:blue\"> |-dense_0_units: 192</span>"
      ],
      "text/plain": [
       "<IPython.core.display.HTML object>"
      ]
     },
     "metadata": {},
     "output_type": "display_data"
    },
    {
     "data": {
      "text/html": [
       "<span style=\"color:cyan\"> |-dense_1_units: 160</span>"
      ],
      "text/plain": [
       "<IPython.core.display.HTML object>"
      ]
     },
     "metadata": {},
     "output_type": "display_data"
    },
    {
     "data": {
      "text/html": [
       "<span style=\"color:blue\"> |-dense_2_units: 96</span>"
      ],
      "text/plain": [
       "<IPython.core.display.HTML object>"
      ]
     },
     "metadata": {},
     "output_type": "display_data"
    },
    {
     "data": {
      "text/html": [
       "<span style=\"color:cyan\"> |-dense_3_units: 192</span>"
      ],
      "text/plain": [
       "<IPython.core.display.HTML object>"
      ]
     },
     "metadata": {},
     "output_type": "display_data"
    },
    {
     "data": {
      "text/html": [
       "<span style=\"color:blue\"> |-dense_4_units: 480</span>"
      ],
      "text/plain": [
       "<IPython.core.display.HTML object>"
      ]
     },
     "metadata": {},
     "output_type": "display_data"
    },
    {
     "data": {
      "text/html": [
       "<span style=\"color:cyan\"> |-dense_5_units: 384</span>"
      ],
      "text/plain": [
       "<IPython.core.display.HTML object>"
      ]
     },
     "metadata": {},
     "output_type": "display_data"
    },
    {
     "data": {
      "text/html": [
       "<span style=\"color:blue\"> |-dense_6_units: 416</span>"
      ],
      "text/plain": [
       "<IPython.core.display.HTML object>"
      ]
     },
     "metadata": {},
     "output_type": "display_data"
    },
    {
     "data": {
      "text/html": [
       "<span style=\"color:cyan\"> |-dense_7_units: 96</span>"
      ],
      "text/plain": [
       "<IPython.core.display.HTML object>"
      ]
     },
     "metadata": {},
     "output_type": "display_data"
    },
    {
     "data": {
      "text/html": [
       "<span style=\"color:blue\"> |-dense_layers: 6</span>"
      ],
      "text/plain": [
       "<IPython.core.display.HTML object>"
      ]
     },
     "metadata": {},
     "output_type": "display_data"
    },
    {
     "data": {
      "text/html": [
       "<span style=\"color:cyan\"> |-input_units: 390</span>"
      ],
      "text/plain": [
       "<IPython.core.display.HTML object>"
      ]
     },
     "metadata": {},
     "output_type": "display_data"
    },
    {
     "data": {
      "text/html": [
       "<span style=\"color:blue\"> |-learning_rate: 1e-06</span>"
      ],
      "text/plain": [
       "<IPython.core.display.HTML object>"
      ]
     },
     "metadata": {},
     "output_type": "display_data"
    },
    {
     "name": "stdout",
     "output_type": "stream",
     "text": [
      "Train on 180 samples, validate on 60 samples\n",
      "Epoch 1/10\n",
      "180/180 [==============================] - ETA: 3:00 - loss: 0.7416 - acc: 0.360 - ETA: 1:49 - loss: 0.7187 - acc: 0.470 - ETA: 38s - loss: 0.7184 - acc: 0.493 - 253s 1s/sample - loss: 0.7125 - acc: 0.5056 - val_loss: 0.7570 - val_acc: 0.4500\n",
      "Epoch 2/10\n",
      "180/180 [==============================] - ETA: 3:09 - loss: 0.6237 - acc: 0.680 - ETA: 1:42 - loss: 0.6767 - acc: 0.600 - ETA: 39s - loss: 0.6716 - acc: 0.606 - 257s 1s/sample - loss: 0.6629 - acc: 0.6222 - val_loss: 0.7144 - val_acc: 0.4667\n",
      "Epoch 3/10\n",
      "180/180 [==============================] - ETA: 3:07 - loss: 0.6501 - acc: 0.560 - ETA: 1:40 - loss: 0.6700 - acc: 0.550 - ETA: 39s - loss: 0.6662 - acc: 0.566 - 252s 1s/sample - loss: 0.6504 - acc: 0.5833 - val_loss: 0.7534 - val_acc: 0.4667\n",
      "Epoch 4/10\n",
      "180/180 [==============================] - ETA: 2:15 - loss: 0.6257 - acc: 0.680 - ETA: 1:23 - loss: 0.5895 - acc: 0.700 - ETA: 31s - loss: 0.6274 - acc: 0.660 - 213s 1s/sample - loss: 0.6378 - acc: 0.6333 - val_loss: 0.7536 - val_acc: 0.4667\n",
      "Epoch 5/10\n",
      "180/180 [==============================] - ETA: 2:29 - loss: 0.5982 - acc: 0.660 - ETA: 1:31 - loss: 0.6082 - acc: 0.660 - ETA: 33s - loss: 0.6078 - acc: 0.646 - 224s 1s/sample - loss: 0.6095 - acc: 0.6389 - val_loss: 0.7297 - val_acc: 0.4833\n",
      "Epoch 6/10\n",
      "180/180 [==============================] - ETA: 3:03 - loss: 0.6599 - acc: 0.600 - ETA: 1:44 - loss: 0.6180 - acc: 0.680 - ETA: 36s - loss: 0.6214 - acc: 0.653 - 252s 1s/sample - loss: 0.6092 - acc: 0.6833 - val_loss: 0.7529 - val_acc: 0.5000\n",
      "Epoch 7/10\n",
      "180/180 [==============================] - ETA: 2:24 - loss: 0.6458 - acc: 0.640 - ETA: 1:26 - loss: 0.5531 - acc: 0.750 - ETA: 32s - loss: 0.5967 - acc: 0.693 - 221s 1s/sample - loss: 0.5963 - acc: 0.6889 - val_loss: 0.7736 - val_acc: 0.5000\n",
      "Epoch 8/10\n",
      "180/180 [==============================] - ETA: 3:19 - loss: 0.6216 - acc: 0.680 - ETA: 1:43 - loss: 0.6040 - acc: 0.680 - ETA: 36s - loss: 0.5826 - acc: 0.700 - 240s 1s/sample - loss: 0.5762 - acc: 0.7167 - val_loss: 0.7593 - val_acc: 0.5000\n",
      "Epoch 9/10\n",
      "180/180 [==============================] - ETA: 2:14 - loss: 0.5285 - acc: 0.800 - ETA: 1:23 - loss: 0.5877 - acc: 0.740 - ETA: 34s - loss: 0.5617 - acc: 0.753 - 229s 1s/sample - loss: 0.5562 - acc: 0.7611 - val_loss: 0.7366 - val_acc: 0.5667\n",
      "Epoch 10/10\n",
      "180/180 [==============================] - ETA: 3:28 - loss: 0.6540 - acc: 0.680 - ETA: 1:44 - loss: 0.5664 - acc: 0.720 - ETA: 39s - loss: 0.5510 - acc: 0.726 - 257s 1s/sample - loss: 0.5552 - acc: 0.7278 - val_loss: 0.7625 - val_acc: 0.5333\n"
     ]
    },
    {
     "data": {
      "text/html": [
       "<span style=\"color:#4527A0\"><h1 style=\"font-size:18px\">Trial complete</h1></span>"
      ],
      "text/plain": [
       "<IPython.core.display.HTML object>"
      ]
     },
     "metadata": {},
     "output_type": "display_data"
    },
    {
     "data": {
      "text/html": [
       "<span style=\"color:#4527A0\"><h1 style=\"font-size:18px\">Trial summary</h1></span>"
      ],
      "text/plain": [
       "<IPython.core.display.HTML object>"
      ]
     },
     "metadata": {},
     "output_type": "display_data"
    },
    {
     "data": {
      "text/html": [
       "<span style=\"color:cyan\"> |-Trial ID: 44e54f6c5003c2e741ca59ddb71438a3</span>"
      ],
      "text/plain": [
       "<IPython.core.display.HTML object>"
      ]
     },
     "metadata": {},
     "output_type": "display_data"
    },
    {
     "data": {
      "text/html": [
       "<span style=\"color:cyan\"> |-Score: 0.7611111402511597</span>"
      ],
      "text/plain": [
       "<IPython.core.display.HTML object>"
      ]
     },
     "metadata": {},
     "output_type": "display_data"
    },
    {
     "data": {
      "text/html": [
       "<span style=\"color:cyan\"> |-Best step: 0</span>"
      ],
      "text/plain": [
       "<IPython.core.display.HTML object>"
      ]
     },
     "metadata": {},
     "output_type": "display_data"
    },
    {
     "data": {
      "text/html": [
       "<span style=\"color:#7E57C2\"><h2 style=\"font-size:16px\">Hyperparameters:</h2></span>"
      ],
      "text/plain": [
       "<IPython.core.display.HTML object>"
      ]
     },
     "metadata": {},
     "output_type": "display_data"
    },
    {
     "data": {
      "text/html": [
       "<span style=\"color:cyan\"> |-conv_0_units: 384</span>"
      ],
      "text/plain": [
       "<IPython.core.display.HTML object>"
      ]
     },
     "metadata": {},
     "output_type": "display_data"
    },
    {
     "data": {
      "text/html": [
       "<span style=\"color:blue\"> |-conv_1_units: 160</span>"
      ],
      "text/plain": [
       "<IPython.core.display.HTML object>"
      ]
     },
     "metadata": {},
     "output_type": "display_data"
    },
    {
     "data": {
      "text/html": [
       "<span style=\"color:cyan\"> |-conv_2_units: 512</span>"
      ],
      "text/plain": [
       "<IPython.core.display.HTML object>"
      ]
     },
     "metadata": {},
     "output_type": "display_data"
    },
    {
     "data": {
      "text/html": [
       "<span style=\"color:blue\"> |-conv_3_units: 160</span>"
      ],
      "text/plain": [
       "<IPython.core.display.HTML object>"
      ]
     },
     "metadata": {},
     "output_type": "display_data"
    },
    {
     "data": {
      "text/html": [
       "<span style=\"color:cyan\"> |-conv_layers: 3</span>"
      ],
      "text/plain": [
       "<IPython.core.display.HTML object>"
      ]
     },
     "metadata": {},
     "output_type": "display_data"
    },
    {
     "data": {
      "text/html": [
       "<span style=\"color:blue\"> |-dense_0_units: 192</span>"
      ],
      "text/plain": [
       "<IPython.core.display.HTML object>"
      ]
     },
     "metadata": {},
     "output_type": "display_data"
    },
    {
     "data": {
      "text/html": [
       "<span style=\"color:cyan\"> |-dense_1_units: 160</span>"
      ],
      "text/plain": [
       "<IPython.core.display.HTML object>"
      ]
     },
     "metadata": {},
     "output_type": "display_data"
    },
    {
     "data": {
      "text/html": [
       "<span style=\"color:blue\"> |-dense_2_units: 480</span>"
      ],
      "text/plain": [
       "<IPython.core.display.HTML object>"
      ]
     },
     "metadata": {},
     "output_type": "display_data"
    },
    {
     "data": {
      "text/html": [
       "<span style=\"color:cyan\"> |-dense_3_units: 96</span>"
      ],
      "text/plain": [
       "<IPython.core.display.HTML object>"
      ]
     },
     "metadata": {},
     "output_type": "display_data"
    },
    {
     "data": {
      "text/html": [
       "<span style=\"color:blue\"> |-dense_4_units: 512</span>"
      ],
      "text/plain": [
       "<IPython.core.display.HTML object>"
      ]
     },
     "metadata": {},
     "output_type": "display_data"
    },
    {
     "data": {
      "text/html": [
       "<span style=\"color:cyan\"> |-dense_5_units: 448</span>"
      ],
      "text/plain": [
       "<IPython.core.display.HTML object>"
      ]
     },
     "metadata": {},
     "output_type": "display_data"
    },
    {
     "data": {
      "text/html": [
       "<span style=\"color:blue\"> |-dense_6_units: 224</span>"
      ],
      "text/plain": [
       "<IPython.core.display.HTML object>"
      ]
     },
     "metadata": {},
     "output_type": "display_data"
    },
    {
     "data": {
      "text/html": [
       "<span style=\"color:cyan\"> |-dense_7_units: 96</span>"
      ],
      "text/plain": [
       "<IPython.core.display.HTML object>"
      ]
     },
     "metadata": {},
     "output_type": "display_data"
    },
    {
     "data": {
      "text/html": [
       "<span style=\"color:blue\"> |-dense_layers: 5</span>"
      ],
      "text/plain": [
       "<IPython.core.display.HTML object>"
      ]
     },
     "metadata": {},
     "output_type": "display_data"
    },
    {
     "data": {
      "text/html": [
       "<span style=\"color:cyan\"> |-input_units: 480</span>"
      ],
      "text/plain": [
       "<IPython.core.display.HTML object>"
      ]
     },
     "metadata": {},
     "output_type": "display_data"
    },
    {
     "data": {
      "text/html": [
       "<span style=\"color:blue\"> |-learning_rate: 0.0001</span>"
      ],
      "text/plain": [
       "<IPython.core.display.HTML object>"
      ]
     },
     "metadata": {},
     "output_type": "display_data"
    },
    {
     "name": "stdout",
     "output_type": "stream",
     "text": [
      "INFO:tensorflow:Oracle triggered exit\n"
     ]
    }
   ],
   "source": [
    "import kerastuner as kt\n",
    "from kerastuner.tuners import RandomSearch, BayesianOptimization, Hyperband\n",
    "import time\n",
    "\n",
    "X_train, X_test, y_train, y_test = train_test_split(X, y_valance, random_state=0)\n",
    "\n",
    "X_train = X_train.reshape(X_train.shape[0], 40, 101, 1)\n",
    "X_test = X_test.reshape(X_test.shape[0], 40, 101, 1)\n",
    "\n",
    "LOG_DIR = f'{int(time.time())}'\n",
    "\n",
    "rand_tuner = RandomSearch(build_hyperparameter_model, \n",
    "                    objective='acc',\n",
    "                    max_trials=5,\n",
    "                    executions_per_trial = 1,\n",
    "                    directory=LOG_DIR)\n",
    "\n",
    "rand_tuner.search(x=X_train,\n",
    "            y=y_train,\n",
    "            epochs=10,\n",
    "            batch_size=50,\n",
    "            validation_data=(X_test, y_test))"
   ]
  },
  {
   "cell_type": "code",
   "execution_count": 33,
   "metadata": {
    "scrolled": true
   },
   "outputs": [
    {
     "name": "stdout",
     "output_type": "stream",
     "text": [
      "WARNING:tensorflow:Unresolved object in checkpoint: (root).optimizer.iter\n",
      "WARNING:tensorflow:Unresolved object in checkpoint: (root).optimizer.decay\n",
      "WARNING:tensorflow:Unresolved object in checkpoint: (root).optimizer.learning_rate\n",
      "WARNING:tensorflow:Unresolved object in checkpoint: (root).optimizer.momentum\n",
      "WARNING:tensorflow:Unresolved object in checkpoint: (root).optimizer's state 'momentum' for (root).layer_with_weights-0.kernel\n",
      "WARNING:tensorflow:Unresolved object in checkpoint: (root).optimizer's state 'momentum' for (root).layer_with_weights-0.bias\n",
      "WARNING:tensorflow:Unresolved object in checkpoint: (root).optimizer's state 'momentum' for (root).layer_with_weights-1.kernel\n",
      "WARNING:tensorflow:Unresolved object in checkpoint: (root).optimizer's state 'momentum' for (root).layer_with_weights-1.bias\n",
      "WARNING:tensorflow:Unresolved object in checkpoint: (root).optimizer's state 'momentum' for (root).layer_with_weights-2.kernel\n",
      "WARNING:tensorflow:Unresolved object in checkpoint: (root).optimizer's state 'momentum' for (root).layer_with_weights-2.bias\n",
      "WARNING:tensorflow:Unresolved object in checkpoint: (root).optimizer's state 'momentum' for (root).layer_with_weights-3.kernel\n",
      "WARNING:tensorflow:Unresolved object in checkpoint: (root).optimizer's state 'momentum' for (root).layer_with_weights-3.bias\n",
      "WARNING:tensorflow:Unresolved object in checkpoint: (root).optimizer's state 'momentum' for (root).layer_with_weights-4.kernel\n",
      "WARNING:tensorflow:Unresolved object in checkpoint: (root).optimizer's state 'momentum' for (root).layer_with_weights-4.bias\n",
      "WARNING:tensorflow:Unresolved object in checkpoint: (root).optimizer's state 'momentum' for (root).layer_with_weights-5.kernel\n",
      "WARNING:tensorflow:Unresolved object in checkpoint: (root).optimizer's state 'momentum' for (root).layer_with_weights-5.bias\n",
      "WARNING:tensorflow:Unresolved object in checkpoint: (root).optimizer's state 'momentum' for (root).layer_with_weights-6.kernel\n",
      "WARNING:tensorflow:Unresolved object in checkpoint: (root).optimizer's state 'momentum' for (root).layer_with_weights-6.bias\n",
      "WARNING:tensorflow:A checkpoint was restored (e.g. tf.train.Checkpoint.restore or tf.keras.Model.load_weights) but not all checkpointed values were used. See above for specific issues. Use expect_partial() on the load status object, e.g. tf.train.Checkpoint.restore(...).expect_partial(), to silence these warnings, or use assert_consumed() to make the check explicit. See https://www.tensorflow.org/alpha/guide/checkpoints#loading_mechanics for details.\n"
     ]
    }
   ],
   "source": [
    "best_model_randSearch = tuner.get_best_models(1)[0]"
   ]
  },
  {
   "cell_type": "code",
   "execution_count": 36,
   "metadata": {},
   "outputs": [
    {
     "name": "stdout",
     "output_type": "stream",
     "text": [
      "Train on 180 samples, validate on 60 samples\n",
      "Epoch 1/10\n",
      "180/180 [==============================] - ETA: 18s - loss: 0.7367 - acc: 0.46 - ETA: 9s - loss: 0.7091 - acc: 0.5600 - ETA: 3s - loss: 0.7210 - acc: 0.526 - 21s 117ms/sample - loss: 0.7213 - acc: 0.5222 - val_loss: 0.7152 - val_acc: 0.5167\n",
      "Epoch 2/10\n",
      "180/180 [==============================] - ETA: 12s - loss: 0.6703 - acc: 0.62 - ETA: 7s - loss: 0.6912 - acc: 0.6200 - ETA: 2s - loss: 0.6825 - acc: 0.600 - 18s 101ms/sample - loss: 0.6882 - acc: 0.6000 - val_loss: 0.7861 - val_acc: 0.4667\n",
      "Epoch 3/10\n",
      "180/180 [==============================] - ETA: 12s - loss: 0.6217 - acc: 0.62 - ETA: 7s - loss: 0.6063 - acc: 0.6300 - ETA: 2s - loss: 0.6015 - acc: 0.660 - 19s 106ms/sample - loss: 0.6130 - acc: 0.6611 - val_loss: 0.7149 - val_acc: 0.5167\n",
      "Epoch 4/10\n",
      "180/180 [==============================] - ETA: 11s - loss: 0.5956 - acc: 0.68 - ETA: 7s - loss: 0.6383 - acc: 0.6200 - ETA: 2s - loss: 0.6145 - acc: 0.660 - 18s 99ms/sample - loss: 0.5986 - acc: 0.6889 - val_loss: 0.7510 - val_acc: 0.5000\n",
      "Epoch 5/10\n",
      "180/180 [==============================] - ETA: 11s - loss: 0.5889 - acc: 0.64 - ETA: 6s - loss: 0.6029 - acc: 0.6600 - ETA: 2s - loss: 0.5956 - acc: 0.693 - 18s 99ms/sample - loss: 0.5818 - acc: 0.7056 - val_loss: 0.8569 - val_acc: 0.5333\n",
      "Epoch 6/10\n",
      "180/180 [==============================] - ETA: 12s - loss: 0.6658 - acc: 0.66 - ETA: 7s - loss: 0.6319 - acc: 0.6500 - ETA: 2s - loss: 0.6103 - acc: 0.700 - 18s 101ms/sample - loss: 0.5975 - acc: 0.7222 - val_loss: 0.7467 - val_acc: 0.5333\n",
      "Epoch 7/10\n",
      "180/180 [==============================] - ETA: 11s - loss: 0.5136 - acc: 0.80 - ETA: 7s - loss: 0.5373 - acc: 0.8000 - ETA: 2s - loss: 0.5524 - acc: 0.753 - 18s 100ms/sample - loss: 0.5474 - acc: 0.7500 - val_loss: 0.9393 - val_acc: 0.4500\n",
      "Epoch 8/10\n",
      "180/180 [==============================] - ETA: 11s - loss: 0.6064 - acc: 0.66 - ETA: 7s - loss: 0.5385 - acc: 0.7300 - ETA: 2s - loss: 0.5562 - acc: 0.706 - 18s 98ms/sample - loss: 0.5470 - acc: 0.7222 - val_loss: 0.7388 - val_acc: 0.5333\n",
      "Epoch 9/10\n",
      "180/180 [==============================] - ETA: 11s - loss: 0.5348 - acc: 0.76 - ETA: 7s - loss: 0.5167 - acc: 0.7500 - ETA: 2s - loss: 0.4859 - acc: 0.786 - 18s 100ms/sample - loss: 0.4773 - acc: 0.8000 - val_loss: 0.7514 - val_acc: 0.5000\n",
      "Epoch 10/10\n",
      "180/180 [==============================] - ETA: 11s - loss: 0.5510 - acc: 0.76 - ETA: 7s - loss: 0.4868 - acc: 0.8200 - ETA: 2s - loss: 0.4671 - acc: 0.826 - 18s 101ms/sample - loss: 0.4683 - acc: 0.8333 - val_loss: 0.7922 - val_acc: 0.5000\n"
     ]
    },
    {
     "data": {
      "text/html": [
       "<span style=\"color:#4527A0\"><h1 style=\"font-size:18px\">Trial complete</h1></span>"
      ],
      "text/plain": [
       "<IPython.core.display.HTML object>"
      ]
     },
     "metadata": {},
     "output_type": "display_data"
    },
    {
     "data": {
      "text/html": [
       "<span style=\"color:#4527A0\"><h1 style=\"font-size:18px\">Trial summary</h1></span>"
      ],
      "text/plain": [
       "<IPython.core.display.HTML object>"
      ]
     },
     "metadata": {},
     "output_type": "display_data"
    },
    {
     "data": {
      "text/html": [
       "<span style=\"color:cyan\"> |-Trial ID: 11a5433c5c98ee8097988d7ee7739779</span>"
      ],
      "text/plain": [
       "<IPython.core.display.HTML object>"
      ]
     },
     "metadata": {},
     "output_type": "display_data"
    },
    {
     "data": {
      "text/html": [
       "<span style=\"color:cyan\"> |-Score: 0.5333333611488342</span>"
      ],
      "text/plain": [
       "<IPython.core.display.HTML object>"
      ]
     },
     "metadata": {},
     "output_type": "display_data"
    },
    {
     "data": {
      "text/html": [
       "<span style=\"color:cyan\"> |-Best step: 0</span>"
      ],
      "text/plain": [
       "<IPython.core.display.HTML object>"
      ]
     },
     "metadata": {},
     "output_type": "display_data"
    },
    {
     "data": {
      "text/html": [
       "<span style=\"color:#7E57C2\"><h2 style=\"font-size:16px\">Hyperparameters:</h2></span>"
      ],
      "text/plain": [
       "<IPython.core.display.HTML object>"
      ]
     },
     "metadata": {},
     "output_type": "display_data"
    },
    {
     "data": {
      "text/html": [
       "<span style=\"color:cyan\"> |-conv_0_units: 64</span>"
      ],
      "text/plain": [
       "<IPython.core.display.HTML object>"
      ]
     },
     "metadata": {},
     "output_type": "display_data"
    },
    {
     "data": {
      "text/html": [
       "<span style=\"color:blue\"> |-conv_1_units: 32</span>"
      ],
      "text/plain": [
       "<IPython.core.display.HTML object>"
      ]
     },
     "metadata": {},
     "output_type": "display_data"
    },
    {
     "data": {
      "text/html": [
       "<span style=\"color:cyan\"> |-conv_layers: 2</span>"
      ],
      "text/plain": [
       "<IPython.core.display.HTML object>"
      ]
     },
     "metadata": {},
     "output_type": "display_data"
    },
    {
     "data": {
      "text/html": [
       "<span style=\"color:blue\"> |-dense_0_units: 64</span>"
      ],
      "text/plain": [
       "<IPython.core.display.HTML object>"
      ]
     },
     "metadata": {},
     "output_type": "display_data"
    },
    {
     "data": {
      "text/html": [
       "<span style=\"color:cyan\"> |-dense_1_units: 64</span>"
      ],
      "text/plain": [
       "<IPython.core.display.HTML object>"
      ]
     },
     "metadata": {},
     "output_type": "display_data"
    },
    {
     "data": {
      "text/html": [
       "<span style=\"color:blue\"> |-dense_2_units: 64</span>"
      ],
      "text/plain": [
       "<IPython.core.display.HTML object>"
      ]
     },
     "metadata": {},
     "output_type": "display_data"
    },
    {
     "data": {
      "text/html": [
       "<span style=\"color:cyan\"> |-dense_3_units: 64</span>"
      ],
      "text/plain": [
       "<IPython.core.display.HTML object>"
      ]
     },
     "metadata": {},
     "output_type": "display_data"
    },
    {
     "data": {
      "text/html": [
       "<span style=\"color:blue\"> |-dense_4_units: 64</span>"
      ],
      "text/plain": [
       "<IPython.core.display.HTML object>"
      ]
     },
     "metadata": {},
     "output_type": "display_data"
    },
    {
     "data": {
      "text/html": [
       "<span style=\"color:cyan\"> |-dense_5_units: 64</span>"
      ],
      "text/plain": [
       "<IPython.core.display.HTML object>"
      ]
     },
     "metadata": {},
     "output_type": "display_data"
    },
    {
     "data": {
      "text/html": [
       "<span style=\"color:blue\"> |-dense_layers: 6</span>"
      ],
      "text/plain": [
       "<IPython.core.display.HTML object>"
      ]
     },
     "metadata": {},
     "output_type": "display_data"
    },
    {
     "data": {
      "text/html": [
       "<span style=\"color:cyan\"> |-input_units: 320</span>"
      ],
      "text/plain": [
       "<IPython.core.display.HTML object>"
      ]
     },
     "metadata": {},
     "output_type": "display_data"
    },
    {
     "data": {
      "text/html": [
       "<span style=\"color:blue\"> |-learning_rate: 0.001</span>"
      ],
      "text/plain": [
       "<IPython.core.display.HTML object>"
      ]
     },
     "metadata": {},
     "output_type": "display_data"
    },
    {
     "name": "stdout",
     "output_type": "stream",
     "text": [
      "Train on 180 samples, validate on 60 samples\n",
      "Epoch 1/10\n",
      "180/180 [==============================] - ETA: 1:28 - loss: 0.7463 - acc: 0.320 - ETA: 44s - loss: 0.7466 - acc: 0.370 - ETA: 13s - loss: 0.7408 - acc: 0.40 - 111s 615ms/sample - loss: 0.7420 - acc: 0.4111 - val_loss: 0.7102 - val_acc: 0.5000\n",
      "Epoch 2/10\n",
      "180/180 [==============================] - ETA: 1:03 - loss: 0.7302 - acc: 0.480 - ETA: 36s - loss: 0.6963 - acc: 0.520 - ETA: 11s - loss: 0.7014 - acc: 0.49 - 99s 552ms/sample - loss: 0.6990 - acc: 0.5000 - val_loss: 0.7139 - val_acc: 0.4667\n",
      "Epoch 3/10\n",
      "180/180 [==============================] - ETA: 36s - loss: 0.7312 - acc: 0.50 - ETA: 21s - loss: 0.7066 - acc: 0.52 - ETA: 8s - loss: 0.7045 - acc: 0.5200 - 56s 310ms/sample - loss: 0.7149 - acc: 0.4944 - val_loss: 0.7201 - val_acc: 0.4000\n",
      "Epoch 4/10\n",
      "180/180 [==============================] - ETA: 54s - loss: 0.7244 - acc: 0.54 - ETA: 28s - loss: 0.7058 - acc: 0.54 - ETA: 9s - loss: 0.6942 - acc: 0.5667 - 79s 441ms/sample - loss: 0.6955 - acc: 0.5611 - val_loss: 0.7279 - val_acc: 0.4333\n",
      "Epoch 5/10\n",
      "180/180 [==============================] - ETA: 37s - loss: 0.6680 - acc: 0.60 - ETA: 27s - loss: 0.6829 - acc: 0.56 - ETA: 9s - loss: 0.6876 - acc: 0.5400 - 72s 400ms/sample - loss: 0.6752 - acc: 0.5667 - val_loss: 0.7354 - val_acc: 0.4333\n",
      "Epoch 6/10\n",
      "180/180 [==============================] - ETA: 39s - loss: 0.7033 - acc: 0.54 - ETA: 31s - loss: 0.7279 - acc: 0.52 - ETA: 10s - loss: 0.7057 - acc: 0.55 - 76s 423ms/sample - loss: 0.7051 - acc: 0.5444 - val_loss: 0.7418 - val_acc: 0.4333\n",
      "Epoch 7/10\n",
      "180/180 [==============================] - ETA: 1:30 - loss: 0.7380 - acc: 0.500 - ETA: 38s - loss: 0.6832 - acc: 0.570 - ETA: 15s - loss: 0.6727 - acc: 0.57 - 93s 515ms/sample - loss: 0.6852 - acc: 0.5444 - val_loss: 0.7439 - val_acc: 0.4333\n",
      "Epoch 8/10\n",
      "180/180 [==============================] - ETA: 33s - loss: 0.6510 - acc: 0.70 - ETA: 20s - loss: 0.6580 - acc: 0.66 - ETA: 7s - loss: 0.6698 - acc: 0.6333 - 60s 332ms/sample - loss: 0.6793 - acc: 0.6167 - val_loss: 0.7424 - val_acc: 0.4333\n",
      "Epoch 9/10\n",
      "180/180 [==============================] - ETA: 53s - loss: 0.7651 - acc: 0.46 - ETA: 26s - loss: 0.7124 - acc: 0.52 - ETA: 9s - loss: 0.6944 - acc: 0.5467 - 67s 374ms/sample - loss: 0.6951 - acc: 0.5556 - val_loss: 0.7365 - val_acc: 0.4333\n",
      "Epoch 10/10\n",
      "180/180 [==============================] - ETA: 56s - loss: 0.6749 - acc: 0.60 - ETA: 27s - loss: 0.6596 - acc: 0.66 - ETA: 11s - loss: 0.6798 - acc: 0.62 - 77s 427ms/sample - loss: 0.6783 - acc: 0.6333 - val_loss: 0.7328 - val_acc: 0.4500\n"
     ]
    },
    {
     "data": {
      "text/html": [
       "<span style=\"color:#4527A0\"><h1 style=\"font-size:18px\">Trial complete</h1></span>"
      ],
      "text/plain": [
       "<IPython.core.display.HTML object>"
      ]
     },
     "metadata": {},
     "output_type": "display_data"
    },
    {
     "data": {
      "text/html": [
       "<span style=\"color:#4527A0\"><h1 style=\"font-size:18px\">Trial summary</h1></span>"
      ],
      "text/plain": [
       "<IPython.core.display.HTML object>"
      ]
     },
     "metadata": {},
     "output_type": "display_data"
    },
    {
     "data": {
      "text/html": [
       "<span style=\"color:cyan\"> |-Trial ID: 0cfd078abca5e951c6d0d12a2053ad44</span>"
      ],
      "text/plain": [
       "<IPython.core.display.HTML object>"
      ]
     },
     "metadata": {},
     "output_type": "display_data"
    },
    {
     "data": {
      "text/html": [
       "<span style=\"color:cyan\"> |-Score: 0.5</span>"
      ],
      "text/plain": [
       "<IPython.core.display.HTML object>"
      ]
     },
     "metadata": {},
     "output_type": "display_data"
    },
    {
     "data": {
      "text/html": [
       "<span style=\"color:cyan\"> |-Best step: 0</span>"
      ],
      "text/plain": [
       "<IPython.core.display.HTML object>"
      ]
     },
     "metadata": {},
     "output_type": "display_data"
    },
    {
     "data": {
      "text/html": [
       "<span style=\"color:#7E57C2\"><h2 style=\"font-size:16px\">Hyperparameters:</h2></span>"
      ],
      "text/plain": [
       "<IPython.core.display.HTML object>"
      ]
     },
     "metadata": {},
     "output_type": "display_data"
    },
    {
     "data": {
      "text/html": [
       "<span style=\"color:cyan\"> |-conv_0_units: 64</span>"
      ],
      "text/plain": [
       "<IPython.core.display.HTML object>"
      ]
     },
     "metadata": {},
     "output_type": "display_data"
    },
    {
     "data": {
      "text/html": [
       "<span style=\"color:blue\"> |-conv_1_units: 512</span>"
      ],
      "text/plain": [
       "<IPython.core.display.HTML object>"
      ]
     },
     "metadata": {},
     "output_type": "display_data"
    },
    {
     "data": {
      "text/html": [
       "<span style=\"color:cyan\"> |-conv_layers: 2</span>"
      ],
      "text/plain": [
       "<IPython.core.display.HTML object>"
      ]
     },
     "metadata": {},
     "output_type": "display_data"
    },
    {
     "data": {
      "text/html": [
       "<span style=\"color:blue\"> |-dense_0_units: 192</span>"
      ],
      "text/plain": [
       "<IPython.core.display.HTML object>"
      ]
     },
     "metadata": {},
     "output_type": "display_data"
    },
    {
     "data": {
      "text/html": [
       "<span style=\"color:cyan\"> |-dense_1_units: 224</span>"
      ],
      "text/plain": [
       "<IPython.core.display.HTML object>"
      ]
     },
     "metadata": {},
     "output_type": "display_data"
    },
    {
     "data": {
      "text/html": [
       "<span style=\"color:blue\"> |-dense_2_units: 448</span>"
      ],
      "text/plain": [
       "<IPython.core.display.HTML object>"
      ]
     },
     "metadata": {},
     "output_type": "display_data"
    },
    {
     "data": {
      "text/html": [
       "<span style=\"color:cyan\"> |-dense_3_units: 192</span>"
      ],
      "text/plain": [
       "<IPython.core.display.HTML object>"
      ]
     },
     "metadata": {},
     "output_type": "display_data"
    },
    {
     "data": {
      "text/html": [
       "<span style=\"color:blue\"> |-dense_4_units: 384</span>"
      ],
      "text/plain": [
       "<IPython.core.display.HTML object>"
      ]
     },
     "metadata": {},
     "output_type": "display_data"
    },
    {
     "data": {
      "text/html": [
       "<span style=\"color:cyan\"> |-dense_5_units: 384</span>"
      ],
      "text/plain": [
       "<IPython.core.display.HTML object>"
      ]
     },
     "metadata": {},
     "output_type": "display_data"
    },
    {
     "data": {
      "text/html": [
       "<span style=\"color:blue\"> |-dense_6_units: 64</span>"
      ],
      "text/plain": [
       "<IPython.core.display.HTML object>"
      ]
     },
     "metadata": {},
     "output_type": "display_data"
    },
    {
     "data": {
      "text/html": [
       "<span style=\"color:cyan\"> |-dense_7_units: 64</span>"
      ],
      "text/plain": [
       "<IPython.core.display.HTML object>"
      ]
     },
     "metadata": {},
     "output_type": "display_data"
    },
    {
     "data": {
      "text/html": [
       "<span style=\"color:blue\"> |-dense_layers: 8</span>"
      ],
      "text/plain": [
       "<IPython.core.display.HTML object>"
      ]
     },
     "metadata": {},
     "output_type": "display_data"
    },
    {
     "data": {
      "text/html": [
       "<span style=\"color:cyan\"> |-input_units: 400</span>"
      ],
      "text/plain": [
       "<IPython.core.display.HTML object>"
      ]
     },
     "metadata": {},
     "output_type": "display_data"
    },
    {
     "data": {
      "text/html": [
       "<span style=\"color:blue\"> |-learning_rate: 1e-06</span>"
      ],
      "text/plain": [
       "<IPython.core.display.HTML object>"
      ]
     },
     "metadata": {},
     "output_type": "display_data"
    },
    {
     "name": "stdout",
     "output_type": "stream",
     "text": [
      "Train on 180 samples, validate on 60 samples\n",
      "Epoch 1/10\n",
      "180/180 [==============================] - ETA: 2:19 - loss: 0.8767 - acc: 0.340 - ETA: 1:14 - loss: 0.7841 - acc: 0.420 - ETA: 26s - loss: 0.7773 - acc: 0.466 - 173s 963ms/sample - loss: 0.7664 - acc: 0.4833 - val_loss: 0.7585 - val_acc: 0.5000\n",
      "Epoch 2/10\n",
      "180/180 [==============================] - ETA: 1:47 - loss: 0.7832 - acc: 0.440 - ETA: 1:04 - loss: 0.8007 - acc: 0.440 - ETA: 23s - loss: 0.7725 - acc: 0.473 - 158s 875ms/sample - loss: 0.7535 - acc: 0.5056 - val_loss: 0.7586 - val_acc: 0.5000\n",
      "Epoch 3/10\n",
      "180/180 [==============================] - ETA: 1:42 - loss: 0.7774 - acc: 0.460 - ETA: 1:04 - loss: 0.8211 - acc: 0.450 - ETA: 24s - loss: 0.8038 - acc: 0.453 - 161s 895ms/sample - loss: 0.7947 - acc: 0.4833 - val_loss: 0.7587 - val_acc: 0.5000\n",
      "Epoch 4/10\n",
      "180/180 [==============================] - ETA: 1:42 - loss: 0.7408 - acc: 0.560 - ETA: 1:04 - loss: 0.7080 - acc: 0.560 - ETA: 24s - loss: 0.7374 - acc: 0.513 - 160s 887ms/sample - loss: 0.7325 - acc: 0.5111 - val_loss: 0.7588 - val_acc: 0.5000\n",
      "Epoch 5/10\n",
      "180/180 [==============================] - ETA: 1:47 - loss: 0.7966 - acc: 0.500 - ETA: 1:06 - loss: 0.7570 - acc: 0.500 - ETA: 24s - loss: 0.7505 - acc: 0.480 - 159s 885ms/sample - loss: 0.7754 - acc: 0.4667 - val_loss: 0.7589 - val_acc: 0.5000\n",
      "Epoch 6/10\n",
      "180/180 [==============================] - ETA: 1:42 - loss: 0.7109 - acc: 0.540 - ETA: 1:03 - loss: 0.7386 - acc: 0.550 - ETA: 23s - loss: 0.7371 - acc: 0.533 - 158s 876ms/sample - loss: 0.7287 - acc: 0.5333 - val_loss: 0.7590 - val_acc: 0.4833\n",
      "Epoch 7/10\n",
      "180/180 [==============================] - ETA: 1:47 - loss: 0.6973 - acc: 0.520 - ETA: 1:04 - loss: 0.7500 - acc: 0.450 - ETA: 24s - loss: 0.7519 - acc: 0.440 - 158s 879ms/sample - loss: 0.7558 - acc: 0.4556 - val_loss: 0.7592 - val_acc: 0.4833\n",
      "Epoch 8/10\n",
      "180/180 [==============================] - ETA: 1:42 - loss: 0.8867 - acc: 0.380 - ETA: 1:03 - loss: 0.8427 - acc: 0.440 - ETA: 24s - loss: 0.7784 - acc: 0.480 - 158s 875ms/sample - loss: 0.7929 - acc: 0.4778 - val_loss: 0.7593 - val_acc: 0.5000\n",
      "Epoch 9/10\n",
      "180/180 [==============================] - ETA: 1:43 - loss: 0.7629 - acc: 0.520 - ETA: 1:04 - loss: 0.7883 - acc: 0.480 - ETA: 24s - loss: 0.7840 - acc: 0.486 - 159s 885ms/sample - loss: 0.7609 - acc: 0.5167 - val_loss: 0.7594 - val_acc: 0.5167\n",
      "Epoch 10/10\n",
      "180/180 [==============================] - ETA: 1:48 - loss: 0.6734 - acc: 0.560 - ETA: 1:06 - loss: 0.7083 - acc: 0.560 - ETA: 24s - loss: 0.7306 - acc: 0.520 - 160s 891ms/sample - loss: 0.7585 - acc: 0.4833 - val_loss: 0.7595 - val_acc: 0.5167\n"
     ]
    },
    {
     "data": {
      "text/html": [
       "<span style=\"color:#4527A0\"><h1 style=\"font-size:18px\">Trial complete</h1></span>"
      ],
      "text/plain": [
       "<IPython.core.display.HTML object>"
      ]
     },
     "metadata": {},
     "output_type": "display_data"
    },
    {
     "data": {
      "text/html": [
       "<span style=\"color:#4527A0\"><h1 style=\"font-size:18px\">Trial summary</h1></span>"
      ],
      "text/plain": [
       "<IPython.core.display.HTML object>"
      ]
     },
     "metadata": {},
     "output_type": "display_data"
    },
    {
     "data": {
      "text/html": [
       "<span style=\"color:cyan\"> |-Trial ID: d6245ef99a19aa1ca496844ce2124f1d</span>"
      ],
      "text/plain": [
       "<IPython.core.display.HTML object>"
      ]
     },
     "metadata": {},
     "output_type": "display_data"
    },
    {
     "data": {
      "text/html": [
       "<span style=\"color:cyan\"> |-Score: 0.5166666507720947</span>"
      ],
      "text/plain": [
       "<IPython.core.display.HTML object>"
      ]
     },
     "metadata": {},
     "output_type": "display_data"
    },
    {
     "data": {
      "text/html": [
       "<span style=\"color:cyan\"> |-Best step: 0</span>"
      ],
      "text/plain": [
       "<IPython.core.display.HTML object>"
      ]
     },
     "metadata": {},
     "output_type": "display_data"
    },
    {
     "data": {
      "text/html": [
       "<span style=\"color:#7E57C2\"><h2 style=\"font-size:16px\">Hyperparameters:</h2></span>"
      ],
      "text/plain": [
       "<IPython.core.display.HTML object>"
      ]
     },
     "metadata": {},
     "output_type": "display_data"
    },
    {
     "data": {
      "text/html": [
       "<span style=\"color:cyan\"> |-conv_0_units: 448</span>"
      ],
      "text/plain": [
       "<IPython.core.display.HTML object>"
      ]
     },
     "metadata": {},
     "output_type": "display_data"
    },
    {
     "data": {
      "text/html": [
       "<span style=\"color:blue\"> |-conv_1_units: 64</span>"
      ],
      "text/plain": [
       "<IPython.core.display.HTML object>"
      ]
     },
     "metadata": {},
     "output_type": "display_data"
    },
    {
     "data": {
      "text/html": [
       "<span style=\"color:cyan\"> |-conv_2_units: 32</span>"
      ],
      "text/plain": [
       "<IPython.core.display.HTML object>"
      ]
     },
     "metadata": {},
     "output_type": "display_data"
    },
    {
     "data": {
      "text/html": [
       "<span style=\"color:blue\"> |-conv_3_units: 32</span>"
      ],
      "text/plain": [
       "<IPython.core.display.HTML object>"
      ]
     },
     "metadata": {},
     "output_type": "display_data"
    },
    {
     "data": {
      "text/html": [
       "<span style=\"color:cyan\"> |-conv_4_units: 32</span>"
      ],
      "text/plain": [
       "<IPython.core.display.HTML object>"
      ]
     },
     "metadata": {},
     "output_type": "display_data"
    },
    {
     "data": {
      "text/html": [
       "<span style=\"color:blue\"> |-conv_5_units: 32</span>"
      ],
      "text/plain": [
       "<IPython.core.display.HTML object>"
      ]
     },
     "metadata": {},
     "output_type": "display_data"
    },
    {
     "data": {
      "text/html": [
       "<span style=\"color:cyan\"> |-conv_layers: 6</span>"
      ],
      "text/plain": [
       "<IPython.core.display.HTML object>"
      ]
     },
     "metadata": {},
     "output_type": "display_data"
    },
    {
     "data": {
      "text/html": [
       "<span style=\"color:blue\"> |-dense_0_units: 352</span>"
      ],
      "text/plain": [
       "<IPython.core.display.HTML object>"
      ]
     },
     "metadata": {},
     "output_type": "display_data"
    },
    {
     "data": {
      "text/html": [
       "<span style=\"color:cyan\"> |-dense_1_units: 448</span>"
      ],
      "text/plain": [
       "<IPython.core.display.HTML object>"
      ]
     },
     "metadata": {},
     "output_type": "display_data"
    },
    {
     "data": {
      "text/html": [
       "<span style=\"color:blue\"> |-dense_2_units: 512</span>"
      ],
      "text/plain": [
       "<IPython.core.display.HTML object>"
      ]
     },
     "metadata": {},
     "output_type": "display_data"
    },
    {
     "data": {
      "text/html": [
       "<span style=\"color:cyan\"> |-dense_3_units: 128</span>"
      ],
      "text/plain": [
       "<IPython.core.display.HTML object>"
      ]
     },
     "metadata": {},
     "output_type": "display_data"
    },
    {
     "data": {
      "text/html": [
       "<span style=\"color:blue\"> |-dense_4_units: 512</span>"
      ],
      "text/plain": [
       "<IPython.core.display.HTML object>"
      ]
     },
     "metadata": {},
     "output_type": "display_data"
    },
    {
     "data": {
      "text/html": [
       "<span style=\"color:cyan\"> |-dense_5_units: 288</span>"
      ],
      "text/plain": [
       "<IPython.core.display.HTML object>"
      ]
     },
     "metadata": {},
     "output_type": "display_data"
    },
    {
     "data": {
      "text/html": [
       "<span style=\"color:blue\"> |-dense_6_units: 192</span>"
      ],
      "text/plain": [
       "<IPython.core.display.HTML object>"
      ]
     },
     "metadata": {},
     "output_type": "display_data"
    },
    {
     "data": {
      "text/html": [
       "<span style=\"color:cyan\"> |-dense_7_units: 320</span>"
      ],
      "text/plain": [
       "<IPython.core.display.HTML object>"
      ]
     },
     "metadata": {},
     "output_type": "display_data"
    },
    {
     "data": {
      "text/html": [
       "<span style=\"color:blue\"> |-dense_layers: 1</span>"
      ],
      "text/plain": [
       "<IPython.core.display.HTML object>"
      ]
     },
     "metadata": {},
     "output_type": "display_data"
    },
    {
     "data": {
      "text/html": [
       "<span style=\"color:cyan\"> |-input_units: 420</span>"
      ],
      "text/plain": [
       "<IPython.core.display.HTML object>"
      ]
     },
     "metadata": {},
     "output_type": "display_data"
    },
    {
     "data": {
      "text/html": [
       "<span style=\"color:blue\"> |-learning_rate: 1e-07</span>"
      ],
      "text/plain": [
       "<IPython.core.display.HTML object>"
      ]
     },
     "metadata": {},
     "output_type": "display_data"
    },
    {
     "name": "stdout",
     "output_type": "stream",
     "text": [
      "Train on 180 samples, validate on 60 samples\n",
      "Epoch 1/10\n",
      "180/180 [==============================] - ETA: 1:31 - loss: 0.8728 - acc: 0.400 - ETA: 57s - loss: 0.8153 - acc: 0.490 - ETA: 21s - loss: 0.8069 - acc: 0.47 - 147s 814ms/sample - loss: 0.8183 - acc: 0.4611 - val_loss: 0.7179 - val_acc: 0.5500\n",
      "Epoch 2/10\n",
      "180/180 [==============================] - ETA: 2:03 - loss: 0.8467 - acc: 0.320 - ETA: 1:15 - loss: 0.7507 - acc: 0.480 - ETA: 26s - loss: 0.7975 - acc: 0.446 - 174s 966ms/sample - loss: 0.8003 - acc: 0.4500 - val_loss: 0.7147 - val_acc: 0.5500\n",
      "Epoch 3/10\n",
      "180/180 [==============================] - ETA: 1:42 - loss: 0.8401 - acc: 0.420 - ETA: 1:04 - loss: 0.8335 - acc: 0.400 - ETA: 24s - loss: 0.8434 - acc: 0.406 - 160s 886ms/sample - loss: 0.8501 - acc: 0.4111 - val_loss: 0.7108 - val_acc: 0.5500\n",
      "Epoch 4/10\n",
      "180/180 [==============================] - ETA: 1:51 - loss: 0.8148 - acc: 0.500 - ETA: 1:07 - loss: 0.8566 - acc: 0.460 - ETA: 25s - loss: 0.8528 - acc: 0.466 - 166s 922ms/sample - loss: 0.8477 - acc: 0.4667 - val_loss: 0.7067 - val_acc: 0.5500\n",
      "Epoch 5/10\n",
      "180/180 [==============================] - ETA: 1:46 - loss: 0.7370 - acc: 0.480 - ETA: 1:05 - loss: 0.7970 - acc: 0.440 - ETA: 24s - loss: 0.7797 - acc: 0.473 - 163s 907ms/sample - loss: 0.8010 - acc: 0.4722 - val_loss: 0.7025 - val_acc: 0.5500\n",
      "Epoch 6/10\n",
      "180/180 [==============================] - ETA: 1:46 - loss: 0.7462 - acc: 0.500 - ETA: 1:06 - loss: 0.7956 - acc: 0.420 - ETA: 25s - loss: 0.8056 - acc: 0.440 - 166s 923ms/sample - loss: 0.8220 - acc: 0.4222 - val_loss: 0.6985 - val_acc: 0.5500\n",
      "Epoch 7/10\n",
      "180/180 [==============================] - ETA: 1:43 - loss: 0.7621 - acc: 0.480 - ETA: 1:01 - loss: 0.7997 - acc: 0.430 - ETA: 22s - loss: 0.8309 - acc: 0.420 - 150s 835ms/sample - loss: 0.8242 - acc: 0.4333 - val_loss: 0.6946 - val_acc: 0.5500\n",
      "Epoch 8/10\n",
      "180/180 [==============================] - ETA: 1:35 - loss: 0.7684 - acc: 0.500 - ETA: 59s - loss: 0.7671 - acc: 0.500 - ETA: 21s - loss: 0.7911 - acc: 0.47 - 148s 823ms/sample - loss: 0.7891 - acc: 0.4889 - val_loss: 0.6912 - val_acc: 0.5667\n",
      "Epoch 9/10\n",
      "180/180 [==============================] - ETA: 1:33 - loss: 0.7516 - acc: 0.520 - ETA: 57s - loss: 0.7591 - acc: 0.480 - ETA: 21s - loss: 0.7653 - acc: 0.46 - 146s 813ms/sample - loss: 0.7484 - acc: 0.4889 - val_loss: 0.6882 - val_acc: 0.5833\n",
      "Epoch 10/10\n",
      "180/180 [==============================] - ETA: 1:33 - loss: 0.7571 - acc: 0.480 - ETA: 57s - loss: 0.7427 - acc: 0.520 - ETA: 21s - loss: 0.7401 - acc: 0.52 - 142s 791ms/sample - loss: 0.7512 - acc: 0.5056 - val_loss: 0.6856 - val_acc: 0.5833\n"
     ]
    },
    {
     "data": {
      "text/html": [
       "<span style=\"color:#4527A0\"><h1 style=\"font-size:18px\">Trial complete</h1></span>"
      ],
      "text/plain": [
       "<IPython.core.display.HTML object>"
      ]
     },
     "metadata": {},
     "output_type": "display_data"
    },
    {
     "data": {
      "text/html": [
       "<span style=\"color:#4527A0\"><h1 style=\"font-size:18px\">Trial summary</h1></span>"
      ],
      "text/plain": [
       "<IPython.core.display.HTML object>"
      ]
     },
     "metadata": {},
     "output_type": "display_data"
    },
    {
     "data": {
      "text/html": [
       "<span style=\"color:cyan\"> |-Trial ID: 384545eaecced5f888fadaeae2ea0bfd</span>"
      ],
      "text/plain": [
       "<IPython.core.display.HTML object>"
      ]
     },
     "metadata": {},
     "output_type": "display_data"
    },
    {
     "data": {
      "text/html": [
       "<span style=\"color:cyan\"> |-Score: 0.5833333134651184</span>"
      ],
      "text/plain": [
       "<IPython.core.display.HTML object>"
      ]
     },
     "metadata": {},
     "output_type": "display_data"
    },
    {
     "data": {
      "text/html": [
       "<span style=\"color:cyan\"> |-Best step: 0</span>"
      ],
      "text/plain": [
       "<IPython.core.display.HTML object>"
      ]
     },
     "metadata": {},
     "output_type": "display_data"
    },
    {
     "data": {
      "text/html": [
       "<span style=\"color:#7E57C2\"><h2 style=\"font-size:16px\">Hyperparameters:</h2></span>"
      ],
      "text/plain": [
       "<IPython.core.display.HTML object>"
      ]
     },
     "metadata": {},
     "output_type": "display_data"
    },
    {
     "data": {
      "text/html": [
       "<span style=\"color:cyan\"> |-conv_0_units: 128</span>"
      ],
      "text/plain": [
       "<IPython.core.display.HTML object>"
      ]
     },
     "metadata": {},
     "output_type": "display_data"
    },
    {
     "data": {
      "text/html": [
       "<span style=\"color:blue\"> |-conv_1_units: 224</span>"
      ],
      "text/plain": [
       "<IPython.core.display.HTML object>"
      ]
     },
     "metadata": {},
     "output_type": "display_data"
    },
    {
     "data": {
      "text/html": [
       "<span style=\"color:cyan\"> |-conv_2_units: 128</span>"
      ],
      "text/plain": [
       "<IPython.core.display.HTML object>"
      ]
     },
     "metadata": {},
     "output_type": "display_data"
    },
    {
     "data": {
      "text/html": [
       "<span style=\"color:blue\"> |-conv_3_units: 448</span>"
      ],
      "text/plain": [
       "<IPython.core.display.HTML object>"
      ]
     },
     "metadata": {},
     "output_type": "display_data"
    },
    {
     "data": {
      "text/html": [
       "<span style=\"color:cyan\"> |-conv_4_units: 224</span>"
      ],
      "text/plain": [
       "<IPython.core.display.HTML object>"
      ]
     },
     "metadata": {},
     "output_type": "display_data"
    },
    {
     "data": {
      "text/html": [
       "<span style=\"color:blue\"> |-conv_5_units: 480</span>"
      ],
      "text/plain": [
       "<IPython.core.display.HTML object>"
      ]
     },
     "metadata": {},
     "output_type": "display_data"
    },
    {
     "data": {
      "text/html": [
       "<span style=\"color:cyan\"> |-conv_layers: 5</span>"
      ],
      "text/plain": [
       "<IPython.core.display.HTML object>"
      ]
     },
     "metadata": {},
     "output_type": "display_data"
    },
    {
     "data": {
      "text/html": [
       "<span style=\"color:blue\"> |-dense_0_units: 160</span>"
      ],
      "text/plain": [
       "<IPython.core.display.HTML object>"
      ]
     },
     "metadata": {},
     "output_type": "display_data"
    },
    {
     "data": {
      "text/html": [
       "<span style=\"color:cyan\"> |-dense_1_units: 480</span>"
      ],
      "text/plain": [
       "<IPython.core.display.HTML object>"
      ]
     },
     "metadata": {},
     "output_type": "display_data"
    },
    {
     "data": {
      "text/html": [
       "<span style=\"color:blue\"> |-dense_2_units: 480</span>"
      ],
      "text/plain": [
       "<IPython.core.display.HTML object>"
      ]
     },
     "metadata": {},
     "output_type": "display_data"
    },
    {
     "data": {
      "text/html": [
       "<span style=\"color:cyan\"> |-dense_3_units: 224</span>"
      ],
      "text/plain": [
       "<IPython.core.display.HTML object>"
      ]
     },
     "metadata": {},
     "output_type": "display_data"
    },
    {
     "data": {
      "text/html": [
       "<span style=\"color:blue\"> |-dense_4_units: 256</span>"
      ],
      "text/plain": [
       "<IPython.core.display.HTML object>"
      ]
     },
     "metadata": {},
     "output_type": "display_data"
    },
    {
     "data": {
      "text/html": [
       "<span style=\"color:cyan\"> |-dense_5_units: 128</span>"
      ],
      "text/plain": [
       "<IPython.core.display.HTML object>"
      ]
     },
     "metadata": {},
     "output_type": "display_data"
    },
    {
     "data": {
      "text/html": [
       "<span style=\"color:blue\"> |-dense_6_units: 320</span>"
      ],
      "text/plain": [
       "<IPython.core.display.HTML object>"
      ]
     },
     "metadata": {},
     "output_type": "display_data"
    },
    {
     "data": {
      "text/html": [
       "<span style=\"color:cyan\"> |-dense_7_units: 128</span>"
      ],
      "text/plain": [
       "<IPython.core.display.HTML object>"
      ]
     },
     "metadata": {},
     "output_type": "display_data"
    },
    {
     "data": {
      "text/html": [
       "<span style=\"color:blue\"> |-dense_layers: 1</span>"
      ],
      "text/plain": [
       "<IPython.core.display.HTML object>"
      ]
     },
     "metadata": {},
     "output_type": "display_data"
    },
    {
     "data": {
      "text/html": [
       "<span style=\"color:cyan\"> |-input_units: 360</span>"
      ],
      "text/plain": [
       "<IPython.core.display.HTML object>"
      ]
     },
     "metadata": {},
     "output_type": "display_data"
    },
    {
     "data": {
      "text/html": [
       "<span style=\"color:blue\"> |-learning_rate: 1e-07</span>"
      ],
      "text/plain": [
       "<IPython.core.display.HTML object>"
      ]
     },
     "metadata": {},
     "output_type": "display_data"
    },
    {
     "name": "stdout",
     "output_type": "stream",
     "text": [
      "Train on 180 samples, validate on 60 samples\n",
      "Epoch 1/10\n",
      "180/180 [==============================] - ETA: 4:37 - loss: 0.7060 - acc: 0.520 - ETA: 2:41 - loss: 0.6994 - acc: 0.570 - ETA: 1:01 - loss: 0.7200 - acc: 0.526 - 402s 2s/sample - loss: 0.7105 - acc: 0.5333 - val_loss: 0.7456 - val_acc: 0.4500\n",
      "Epoch 2/10\n",
      "180/180 [==============================] - ETA: 4:11 - loss: 0.7073 - acc: 0.580 - ETA: 2:47 - loss: 0.6729 - acc: 0.620 - ETA: 1:04 - loss: 0.6714 - acc: 0.620 - 413s 2s/sample - loss: 0.6716 - acc: 0.6111 - val_loss: 0.7274 - val_acc: 0.4667\n",
      "Epoch 3/10\n",
      "180/180 [==============================] - ETA: 3:45 - loss: 0.6280 - acc: 0.660 - ETA: 2:18 - loss: 0.6490 - acc: 0.610 - ETA: 52s - loss: 0.6404 - acc: 0.613 - 353s 2s/sample - loss: 0.6384 - acc: 0.6278 - val_loss: 0.7358 - val_acc: 0.5000\n",
      "Epoch 4/10\n",
      "180/180 [==============================] - ETA: 5:44 - loss: 0.6657 - acc: 0.620 - ETA: 3:27 - loss: 0.6046 - acc: 0.700 - ETA: 1:15 - loss: 0.6014 - acc: 0.713 - 514s 3s/sample - loss: 0.6096 - acc: 0.7000 - val_loss: 0.7589 - val_acc: 0.4500\n",
      "Epoch 5/10\n",
      "180/180 [==============================] - ETA: 5:23 - loss: 0.5492 - acc: 0.720 - ETA: 2:57 - loss: 0.5451 - acc: 0.720 - ETA: 1:05 - loss: 0.5824 - acc: 0.666 - 409s 2s/sample - loss: 0.5833 - acc: 0.6667 - val_loss: 0.7552 - val_acc: 0.4833\n",
      "Epoch 6/10\n",
      "180/180 [==============================] - ETA: 3:54 - loss: 0.5850 - acc: 0.680 - ETA: 2:31 - loss: 0.5538 - acc: 0.710 - ETA: 56s - loss: 0.5900 - acc: 0.673 - 369s 2s/sample - loss: 0.5900 - acc: 0.6611 - val_loss: 0.7613 - val_acc: 0.4833\n",
      "Epoch 7/10\n",
      "180/180 [==============================] - ETA: 4:43 - loss: 0.6571 - acc: 0.700 - ETA: 2:50 - loss: 0.6202 - acc: 0.710 - ETA: 1:01 - loss: 0.6143 - acc: 0.720 - 416s 2s/sample - loss: 0.6130 - acc: 0.7111 - val_loss: 0.7733 - val_acc: 0.4667\n",
      "Epoch 8/10\n",
      "180/180 [==============================] - ETA: 4:31 - loss: 0.5368 - acc: 0.720 - ETA: 2:49 - loss: 0.5400 - acc: 0.710 - ETA: 1:04 - loss: 0.5650 - acc: 0.726 - 414s 2s/sample - loss: 0.5660 - acc: 0.7222 - val_loss: 0.8196 - val_acc: 0.4833\n",
      "Epoch 9/10\n",
      "180/180 [==============================] - ETA: 4:15 - loss: 0.5491 - acc: 0.720 - ETA: 2:40 - loss: 0.5537 - acc: 0.670 - ETA: 1:00 - loss: 0.5558 - acc: 0.680 - 405s 2s/sample - loss: 0.5427 - acc: 0.6944 - val_loss: 0.8421 - val_acc: 0.5167\n",
      "Epoch 10/10\n",
      "180/180 [==============================] - ETA: 4:23 - loss: 0.5527 - acc: 0.720 - ETA: 2:46 - loss: 0.5719 - acc: 0.700 - ETA: 1:01 - loss: 0.5187 - acc: 0.753 - 405s 2s/sample - loss: 0.5438 - acc: 0.7222 - val_loss: 0.7822 - val_acc: 0.4667\n"
     ]
    },
    {
     "data": {
      "text/html": [
       "<span style=\"color:#4527A0\"><h1 style=\"font-size:18px\">Trial complete</h1></span>"
      ],
      "text/plain": [
       "<IPython.core.display.HTML object>"
      ]
     },
     "metadata": {},
     "output_type": "display_data"
    },
    {
     "data": {
      "text/html": [
       "<span style=\"color:#4527A0\"><h1 style=\"font-size:18px\">Trial summary</h1></span>"
      ],
      "text/plain": [
       "<IPython.core.display.HTML object>"
      ]
     },
     "metadata": {},
     "output_type": "display_data"
    },
    {
     "data": {
      "text/html": [
       "<span style=\"color:cyan\"> |-Trial ID: 091b0482a84a7e8b33bf497eb9e4bac3</span>"
      ],
      "text/plain": [
       "<IPython.core.display.HTML object>"
      ]
     },
     "metadata": {},
     "output_type": "display_data"
    },
    {
     "data": {
      "text/html": [
       "<span style=\"color:cyan\"> |-Score: 0.5166666507720947</span>"
      ],
      "text/plain": [
       "<IPython.core.display.HTML object>"
      ]
     },
     "metadata": {},
     "output_type": "display_data"
    },
    {
     "data": {
      "text/html": [
       "<span style=\"color:cyan\"> |-Best step: 0</span>"
      ],
      "text/plain": [
       "<IPython.core.display.HTML object>"
      ]
     },
     "metadata": {},
     "output_type": "display_data"
    },
    {
     "data": {
      "text/html": [
       "<span style=\"color:#7E57C2\"><h2 style=\"font-size:16px\">Hyperparameters:</h2></span>"
      ],
      "text/plain": [
       "<IPython.core.display.HTML object>"
      ]
     },
     "metadata": {},
     "output_type": "display_data"
    },
    {
     "data": {
      "text/html": [
       "<span style=\"color:cyan\"> |-conv_0_units: 256</span>"
      ],
      "text/plain": [
       "<IPython.core.display.HTML object>"
      ]
     },
     "metadata": {},
     "output_type": "display_data"
    },
    {
     "data": {
      "text/html": [
       "<span style=\"color:blue\"> |-conv_1_units: 384</span>"
      ],
      "text/plain": [
       "<IPython.core.display.HTML object>"
      ]
     },
     "metadata": {},
     "output_type": "display_data"
    },
    {
     "data": {
      "text/html": [
       "<span style=\"color:cyan\"> |-conv_2_units: 448</span>"
      ],
      "text/plain": [
       "<IPython.core.display.HTML object>"
      ]
     },
     "metadata": {},
     "output_type": "display_data"
    },
    {
     "data": {
      "text/html": [
       "<span style=\"color:blue\"> |-conv_3_units: 384</span>"
      ],
      "text/plain": [
       "<IPython.core.display.HTML object>"
      ]
     },
     "metadata": {},
     "output_type": "display_data"
    },
    {
     "data": {
      "text/html": [
       "<span style=\"color:cyan\"> |-conv_4_units: 96</span>"
      ],
      "text/plain": [
       "<IPython.core.display.HTML object>"
      ]
     },
     "metadata": {},
     "output_type": "display_data"
    },
    {
     "data": {
      "text/html": [
       "<span style=\"color:blue\"> |-conv_5_units: 416</span>"
      ],
      "text/plain": [
       "<IPython.core.display.HTML object>"
      ]
     },
     "metadata": {},
     "output_type": "display_data"
    },
    {
     "data": {
      "text/html": [
       "<span style=\"color:cyan\"> |-conv_layers: 6</span>"
      ],
      "text/plain": [
       "<IPython.core.display.HTML object>"
      ]
     },
     "metadata": {},
     "output_type": "display_data"
    },
    {
     "data": {
      "text/html": [
       "<span style=\"color:blue\"> |-dense_0_units: 320</span>"
      ],
      "text/plain": [
       "<IPython.core.display.HTML object>"
      ]
     },
     "metadata": {},
     "output_type": "display_data"
    },
    {
     "data": {
      "text/html": [
       "<span style=\"color:cyan\"> |-dense_1_units: 384</span>"
      ],
      "text/plain": [
       "<IPython.core.display.HTML object>"
      ]
     },
     "metadata": {},
     "output_type": "display_data"
    },
    {
     "data": {
      "text/html": [
       "<span style=\"color:blue\"> |-dense_2_units: 288</span>"
      ],
      "text/plain": [
       "<IPython.core.display.HTML object>"
      ]
     },
     "metadata": {},
     "output_type": "display_data"
    },
    {
     "data": {
      "text/html": [
       "<span style=\"color:cyan\"> |-dense_3_units: 128</span>"
      ],
      "text/plain": [
       "<IPython.core.display.HTML object>"
      ]
     },
     "metadata": {},
     "output_type": "display_data"
    },
    {
     "data": {
      "text/html": [
       "<span style=\"color:blue\"> |-dense_4_units: 480</span>"
      ],
      "text/plain": [
       "<IPython.core.display.HTML object>"
      ]
     },
     "metadata": {},
     "output_type": "display_data"
    },
    {
     "data": {
      "text/html": [
       "<span style=\"color:cyan\"> |-dense_5_units: 224</span>"
      ],
      "text/plain": [
       "<IPython.core.display.HTML object>"
      ]
     },
     "metadata": {},
     "output_type": "display_data"
    },
    {
     "data": {
      "text/html": [
       "<span style=\"color:blue\"> |-dense_6_units: 224</span>"
      ],
      "text/plain": [
       "<IPython.core.display.HTML object>"
      ]
     },
     "metadata": {},
     "output_type": "display_data"
    },
    {
     "data": {
      "text/html": [
       "<span style=\"color:cyan\"> |-dense_7_units: 288</span>"
      ],
      "text/plain": [
       "<IPython.core.display.HTML object>"
      ]
     },
     "metadata": {},
     "output_type": "display_data"
    },
    {
     "data": {
      "text/html": [
       "<span style=\"color:blue\"> |-dense_layers: 3</span>"
      ],
      "text/plain": [
       "<IPython.core.display.HTML object>"
      ]
     },
     "metadata": {},
     "output_type": "display_data"
    },
    {
     "data": {
      "text/html": [
       "<span style=\"color:cyan\"> |-input_units: 280</span>"
      ],
      "text/plain": [
       "<IPython.core.display.HTML object>"
      ]
     },
     "metadata": {},
     "output_type": "display_data"
    },
    {
     "data": {
      "text/html": [
       "<span style=\"color:blue\"> |-learning_rate: 0.0001</span>"
      ],
      "text/plain": [
       "<IPython.core.display.HTML object>"
      ]
     },
     "metadata": {},
     "output_type": "display_data"
    },
    {
     "name": "stdout",
     "output_type": "stream",
     "text": [
      "INFO:tensorflow:Oracle triggered exit\n"
     ]
    }
   ],
   "source": [
    "bayesian_tuner = kt.BayesianOptimization(build_hyperparameter_model,\n",
    "                                         objective='val_acc', \n",
    "                                         max_trials=5,\n",
    "                                         executions_per_trial = 1,\n",
    "                                         directory=LOG_DIR)\n",
    "\n",
    "bayesian_tuner.search(x=X_train,\n",
    "                      y=y_train,\n",
    "                      epochs=10,\n",
    "                      batch_size=50,\n",
    "                      validation_data=(X_test, y_test))"
   ]
  },
  {
   "cell_type": "code",
   "execution_count": 37,
   "metadata": {},
   "outputs": [],
   "source": [
    "best_model_bayesian = bayesian_tuner.get_best_models(1)[0]"
   ]
  },
  {
   "cell_type": "code",
   "execution_count": 38,
   "metadata": {
    "scrolled": true
   },
   "outputs": [
    {
     "name": "stdout",
     "output_type": "stream",
     "text": [
      "Model: \"sequential\"\n",
      "_________________________________________________________________\n",
      "Layer (type)                 Output Shape              Param #   \n",
      "=================================================================\n",
      "conv2d (Conv2D)              (None, 38, 99, 360)       3600      \n",
      "_________________________________________________________________\n",
      "conv2d_1 (Conv2D)            (None, 36, 97, 128)       414848    \n",
      "_________________________________________________________________\n",
      "conv2d_2 (Conv2D)            (None, 34, 95, 224)       258272    \n",
      "_________________________________________________________________\n",
      "conv2d_3 (Conv2D)            (None, 32, 93, 128)       258176    \n",
      "_________________________________________________________________\n",
      "conv2d_4 (Conv2D)            (None, 30, 91, 448)       516544    \n",
      "_________________________________________________________________\n",
      "conv2d_5 (Conv2D)            (None, 28, 89, 224)       903392    \n",
      "_________________________________________________________________\n",
      "flatten (Flatten)            (None, 558208)            0         \n",
      "_________________________________________________________________\n",
      "dense (Dense)                (None, 160)               89313440  \n",
      "_________________________________________________________________\n",
      "dropout (Dropout)            (None, 160)               0         \n",
      "_________________________________________________________________\n",
      "dense_1 (Dense)              (None, 2)                 322       \n",
      "=================================================================\n",
      "Total params: 91,668,594\n",
      "Trainable params: 91,668,594\n",
      "Non-trainable params: 0\n",
      "_________________________________________________________________\n"
     ]
    }
   ],
   "source": [
    "best_model_bayesian.summary()"
   ]
  },
  {
   "cell_type": "code",
   "execution_count": 49,
   "metadata": {
    "scrolled": true
   },
   "outputs": [
    {
     "name": "stdout",
     "output_type": "stream",
     "text": [
      "INFO:tensorflow:Reloading Oracle from existing project 1600680976\\untitled_project\\oracle.json\n",
      "INFO:tensorflow:Reloading Tuner from 1600680976\\untitled_project\\tuner0.json\n",
      "Train on 180 samples, validate on 60 samples\n",
      "Epoch 1/4\n",
      "180/180 [==============================] - ETA: 1:41 - loss: 0.7548 - acc: 0.440 - ETA: 47s - loss: 0.7489 - acc: 0.490 - ETA: 15s - loss: 0.7550 - acc: 0.50 - 103s 574ms/sample - loss: 0.7595 - acc: 0.4944 - val_loss: 0.6976 - val_acc: 0.5667\n",
      "Epoch 2/4\n",
      "180/180 [==============================] - ETA: 43s - loss: 0.7956 - acc: 0.48 - ETA: 27s - loss: 0.8404 - acc: 0.43 - ETA: 10s - loss: 0.8208 - acc: 0.43 - 72s 397ms/sample - loss: 0.8086 - acc: 0.4444 - val_loss: 0.6977 - val_acc: 0.5833\n",
      "Epoch 3/4\n",
      "180/180 [==============================] - ETA: 48s - loss: 0.7080 - acc: 0.52 - ETA: 28s - loss: 0.7318 - acc: 0.48 - ETA: 10s - loss: 0.7342 - acc: 0.50 - 69s 381ms/sample - loss: 0.7288 - acc: 0.5278 - val_loss: 0.6982 - val_acc: 0.5833\n",
      "Epoch 4/4\n",
      "180/180 [==============================] - ETA: 43s - loss: 0.7625 - acc: 0.52 - ETA: 27s - loss: 0.7717 - acc: 0.53 - ETA: 9s - loss: 0.7313 - acc: 0.5533 - 66s 367ms/sample - loss: 0.7303 - acc: 0.5389 - val_loss: 0.6986 - val_acc: 0.5167\n"
     ]
    },
    {
     "data": {
      "text/html": [
       "<span style=\"color:#4527A0\"><h1 style=\"font-size:18px\">Trial complete</h1></span>"
      ],
      "text/plain": [
       "<IPython.core.display.HTML object>"
      ]
     },
     "metadata": {},
     "output_type": "display_data"
    },
    {
     "data": {
      "text/html": [
       "<span style=\"color:#4527A0\"><h1 style=\"font-size:18px\">Trial summary</h1></span>"
      ],
      "text/plain": [
       "<IPython.core.display.HTML object>"
      ]
     },
     "metadata": {},
     "output_type": "display_data"
    },
    {
     "data": {
      "text/html": [
       "<span style=\"color:cyan\"> |-Trial ID: c45475e27f2f90165b5cf815aac095ce</span>"
      ],
      "text/plain": [
       "<IPython.core.display.HTML object>"
      ]
     },
     "metadata": {},
     "output_type": "display_data"
    },
    {
     "data": {
      "text/html": [
       "<span style=\"color:cyan\"> |-Score: 0.5833333134651184</span>"
      ],
      "text/plain": [
       "<IPython.core.display.HTML object>"
      ]
     },
     "metadata": {},
     "output_type": "display_data"
    },
    {
     "data": {
      "text/html": [
       "<span style=\"color:cyan\"> |-Best step: 0</span>"
      ],
      "text/plain": [
       "<IPython.core.display.HTML object>"
      ]
     },
     "metadata": {},
     "output_type": "display_data"
    },
    {
     "data": {
      "text/html": [
       "<span style=\"color:#7E57C2\"><h2 style=\"font-size:16px\">Hyperparameters:</h2></span>"
      ],
      "text/plain": [
       "<IPython.core.display.HTML object>"
      ]
     },
     "metadata": {},
     "output_type": "display_data"
    },
    {
     "data": {
      "text/html": [
       "<span style=\"color:cyan\"> |-conv_0_units: 160</span>"
      ],
      "text/plain": [
       "<IPython.core.display.HTML object>"
      ]
     },
     "metadata": {},
     "output_type": "display_data"
    },
    {
     "data": {
      "text/html": [
       "<span style=\"color:blue\"> |-conv_1_units: 128</span>"
      ],
      "text/plain": [
       "<IPython.core.display.HTML object>"
      ]
     },
     "metadata": {},
     "output_type": "display_data"
    },
    {
     "data": {
      "text/html": [
       "<span style=\"color:cyan\"> |-conv_2_units: 96</span>"
      ],
      "text/plain": [
       "<IPython.core.display.HTML object>"
      ]
     },
     "metadata": {},
     "output_type": "display_data"
    },
    {
     "data": {
      "text/html": [
       "<span style=\"color:blue\"> |-conv_3_units: 192</span>"
      ],
      "text/plain": [
       "<IPython.core.display.HTML object>"
      ]
     },
     "metadata": {},
     "output_type": "display_data"
    },
    {
     "data": {
      "text/html": [
       "<span style=\"color:cyan\"> |-conv_4_units: 128</span>"
      ],
      "text/plain": [
       "<IPython.core.display.HTML object>"
      ]
     },
     "metadata": {},
     "output_type": "display_data"
    },
    {
     "data": {
      "text/html": [
       "<span style=\"color:blue\"> |-conv_5_units: 288</span>"
      ],
      "text/plain": [
       "<IPython.core.display.HTML object>"
      ]
     },
     "metadata": {},
     "output_type": "display_data"
    },
    {
     "data": {
      "text/html": [
       "<span style=\"color:cyan\"> |-conv_6_units: 384</span>"
      ],
      "text/plain": [
       "<IPython.core.display.HTML object>"
      ]
     },
     "metadata": {},
     "output_type": "display_data"
    },
    {
     "data": {
      "text/html": [
       "<span style=\"color:blue\"> |-conv_layers: 2</span>"
      ],
      "text/plain": [
       "<IPython.core.display.HTML object>"
      ]
     },
     "metadata": {},
     "output_type": "display_data"
    },
    {
     "data": {
      "text/html": [
       "<span style=\"color:cyan\"> |-dense_0_units: 288</span>"
      ],
      "text/plain": [
       "<IPython.core.display.HTML object>"
      ]
     },
     "metadata": {},
     "output_type": "display_data"
    },
    {
     "data": {
      "text/html": [
       "<span style=\"color:blue\"> |-dense_1_units: 416</span>"
      ],
      "text/plain": [
       "<IPython.core.display.HTML object>"
      ]
     },
     "metadata": {},
     "output_type": "display_data"
    },
    {
     "data": {
      "text/html": [
       "<span style=\"color:cyan\"> |-dense_2_units: 320</span>"
      ],
      "text/plain": [
       "<IPython.core.display.HTML object>"
      ]
     },
     "metadata": {},
     "output_type": "display_data"
    },
    {
     "data": {
      "text/html": [
       "<span style=\"color:blue\"> |-dense_3_units: 64</span>"
      ],
      "text/plain": [
       "<IPython.core.display.HTML object>"
      ]
     },
     "metadata": {},
     "output_type": "display_data"
    },
    {
     "data": {
      "text/html": [
       "<span style=\"color:cyan\"> |-dense_4_units: 352</span>"
      ],
      "text/plain": [
       "<IPython.core.display.HTML object>"
      ]
     },
     "metadata": {},
     "output_type": "display_data"
    },
    {
     "data": {
      "text/html": [
       "<span style=\"color:blue\"> |-dense_5_units: 64</span>"
      ],
      "text/plain": [
       "<IPython.core.display.HTML object>"
      ]
     },
     "metadata": {},
     "output_type": "display_data"
    },
    {
     "data": {
      "text/html": [
       "<span style=\"color:cyan\"> |-dense_6_units: 480</span>"
      ],
      "text/plain": [
       "<IPython.core.display.HTML object>"
      ]
     },
     "metadata": {},
     "output_type": "display_data"
    },
    {
     "data": {
      "text/html": [
       "<span style=\"color:blue\"> |-dense_layers: 3</span>"
      ],
      "text/plain": [
       "<IPython.core.display.HTML object>"
      ]
     },
     "metadata": {},
     "output_type": "display_data"
    },
    {
     "data": {
      "text/html": [
       "<span style=\"color:cyan\"> |-input_units: 350</span>"
      ],
      "text/plain": [
       "<IPython.core.display.HTML object>"
      ]
     },
     "metadata": {},
     "output_type": "display_data"
    },
    {
     "data": {
      "text/html": [
       "<span style=\"color:blue\"> |-learning_rate: 1e-06</span>"
      ],
      "text/plain": [
       "<IPython.core.display.HTML object>"
      ]
     },
     "metadata": {},
     "output_type": "display_data"
    },
    {
     "data": {
      "text/html": [
       "<span style=\"color:cyan\"> |-tuner/bracket: 1</span>"
      ],
      "text/plain": [
       "<IPython.core.display.HTML object>"
      ]
     },
     "metadata": {},
     "output_type": "display_data"
    },
    {
     "data": {
      "text/html": [
       "<span style=\"color:blue\"> |-tuner/epochs: 4</span>"
      ],
      "text/plain": [
       "<IPython.core.display.HTML object>"
      ]
     },
     "metadata": {},
     "output_type": "display_data"
    },
    {
     "data": {
      "text/html": [
       "<span style=\"color:cyan\"> |-tuner/initial_epoch: 0</span>"
      ],
      "text/plain": [
       "<IPython.core.display.HTML object>"
      ]
     },
     "metadata": {},
     "output_type": "display_data"
    },
    {
     "data": {
      "text/html": [
       "<span style=\"color:blue\"> |-tuner/round: 0</span>"
      ],
      "text/plain": [
       "<IPython.core.display.HTML object>"
      ]
     },
     "metadata": {},
     "output_type": "display_data"
    },
    {
     "name": "stdout",
     "output_type": "stream",
     "text": [
      "Train on 180 samples, validate on 60 samples\n",
      "Epoch 5/10\n",
      "180/180 [==============================] - ETA: 1:13 - loss: 0.6717 - acc: 0.520 - ETA: 39s - loss: 0.6759 - acc: 0.560 - ETA: 12s - loss: 0.7265 - acc: 0.52 - 80s 446ms/sample - loss: 0.7134 - acc: 0.5333 - val_loss: 0.7136 - val_acc: 0.5167\n",
      "Epoch 6/10\n",
      "180/180 [==============================] - ETA: 37s - loss: 0.6750 - acc: 0.52 - ETA: 23s - loss: 0.6919 - acc: 0.56 - ETA: 8s - loss: 0.7373 - acc: 0.5267 - 60s 335ms/sample - loss: 0.7397 - acc: 0.5222 - val_loss: 0.7146 - val_acc: 0.5000\n",
      "Epoch 7/10\n",
      "180/180 [==============================] - ETA: 43s - loss: 0.8014 - acc: 0.52 - ETA: 25s - loss: 0.8304 - acc: 0.46 - ETA: 9s - loss: 0.7810 - acc: 0.4867 - 60s 333ms/sample - loss: 0.7658 - acc: 0.4944 - val_loss: 0.7153 - val_acc: 0.4667\n",
      "Epoch 8/10\n",
      "180/180 [==============================] - ETA: 36s - loss: 0.8495 - acc: 0.40 - ETA: 22s - loss: 0.8257 - acc: 0.40 - ETA: 8s - loss: 0.7914 - acc: 0.4600 - 57s 314ms/sample - loss: 0.8019 - acc: 0.4611 - val_loss: 0.7159 - val_acc: 0.4167\n",
      "Epoch 9/10\n",
      "180/180 [==============================] - ETA: 38s - loss: 0.6644 - acc: 0.58 - ETA: 23s - loss: 0.6687 - acc: 0.63 - ETA: 8s - loss: 0.7148 - acc: 0.6000 - 58s 320ms/sample - loss: 0.7114 - acc: 0.5889 - val_loss: 0.7167 - val_acc: 0.4167\n",
      "Epoch 10/10\n",
      "180/180 [==============================] - ETA: 37s - loss: 0.6408 - acc: 0.64 - ETA: 23s - loss: 0.7328 - acc: 0.49 - ETA: 8s - loss: 0.7221 - acc: 0.5133 - 57s 317ms/sample - loss: 0.7105 - acc: 0.5333 - val_loss: 0.7174 - val_acc: 0.4167\n"
     ]
    },
    {
     "data": {
      "text/html": [
       "<span style=\"color:#4527A0\"><h1 style=\"font-size:18px\">Trial complete</h1></span>"
      ],
      "text/plain": [
       "<IPython.core.display.HTML object>"
      ]
     },
     "metadata": {},
     "output_type": "display_data"
    },
    {
     "data": {
      "text/html": [
       "<span style=\"color:#4527A0\"><h1 style=\"font-size:18px\">Trial summary</h1></span>"
      ],
      "text/plain": [
       "<IPython.core.display.HTML object>"
      ]
     },
     "metadata": {},
     "output_type": "display_data"
    },
    {
     "data": {
      "text/html": [
       "<span style=\"color:cyan\"> |-Trial ID: fd272ab80c4d9fbb5bb10db86d33e599</span>"
      ],
      "text/plain": [
       "<IPython.core.display.HTML object>"
      ]
     },
     "metadata": {},
     "output_type": "display_data"
    },
    {
     "data": {
      "text/html": [
       "<span style=\"color:cyan\"> |-Score: 0.5166666507720947</span>"
      ],
      "text/plain": [
       "<IPython.core.display.HTML object>"
      ]
     },
     "metadata": {},
     "output_type": "display_data"
    },
    {
     "data": {
      "text/html": [
       "<span style=\"color:cyan\"> |-Best step: 0</span>"
      ],
      "text/plain": [
       "<IPython.core.display.HTML object>"
      ]
     },
     "metadata": {},
     "output_type": "display_data"
    },
    {
     "data": {
      "text/html": [
       "<span style=\"color:#7E57C2\"><h2 style=\"font-size:16px\">Hyperparameters:</h2></span>"
      ],
      "text/plain": [
       "<IPython.core.display.HTML object>"
      ]
     },
     "metadata": {},
     "output_type": "display_data"
    },
    {
     "data": {
      "text/html": [
       "<span style=\"color:cyan\"> |-conv_0_units: 160</span>"
      ],
      "text/plain": [
       "<IPython.core.display.HTML object>"
      ]
     },
     "metadata": {},
     "output_type": "display_data"
    },
    {
     "data": {
      "text/html": [
       "<span style=\"color:blue\"> |-conv_1_units: 128</span>"
      ],
      "text/plain": [
       "<IPython.core.display.HTML object>"
      ]
     },
     "metadata": {},
     "output_type": "display_data"
    },
    {
     "data": {
      "text/html": [
       "<span style=\"color:cyan\"> |-conv_2_units: 96</span>"
      ],
      "text/plain": [
       "<IPython.core.display.HTML object>"
      ]
     },
     "metadata": {},
     "output_type": "display_data"
    },
    {
     "data": {
      "text/html": [
       "<span style=\"color:blue\"> |-conv_3_units: 192</span>"
      ],
      "text/plain": [
       "<IPython.core.display.HTML object>"
      ]
     },
     "metadata": {},
     "output_type": "display_data"
    },
    {
     "data": {
      "text/html": [
       "<span style=\"color:cyan\"> |-conv_4_units: 128</span>"
      ],
      "text/plain": [
       "<IPython.core.display.HTML object>"
      ]
     },
     "metadata": {},
     "output_type": "display_data"
    },
    {
     "data": {
      "text/html": [
       "<span style=\"color:blue\"> |-conv_5_units: 288</span>"
      ],
      "text/plain": [
       "<IPython.core.display.HTML object>"
      ]
     },
     "metadata": {},
     "output_type": "display_data"
    },
    {
     "data": {
      "text/html": [
       "<span style=\"color:cyan\"> |-conv_6_units: 384</span>"
      ],
      "text/plain": [
       "<IPython.core.display.HTML object>"
      ]
     },
     "metadata": {},
     "output_type": "display_data"
    },
    {
     "data": {
      "text/html": [
       "<span style=\"color:blue\"> |-conv_layers: 2</span>"
      ],
      "text/plain": [
       "<IPython.core.display.HTML object>"
      ]
     },
     "metadata": {},
     "output_type": "display_data"
    },
    {
     "data": {
      "text/html": [
       "<span style=\"color:cyan\"> |-dense_0_units: 288</span>"
      ],
      "text/plain": [
       "<IPython.core.display.HTML object>"
      ]
     },
     "metadata": {},
     "output_type": "display_data"
    },
    {
     "data": {
      "text/html": [
       "<span style=\"color:blue\"> |-dense_1_units: 416</span>"
      ],
      "text/plain": [
       "<IPython.core.display.HTML object>"
      ]
     },
     "metadata": {},
     "output_type": "display_data"
    },
    {
     "data": {
      "text/html": [
       "<span style=\"color:cyan\"> |-dense_2_units: 320</span>"
      ],
      "text/plain": [
       "<IPython.core.display.HTML object>"
      ]
     },
     "metadata": {},
     "output_type": "display_data"
    },
    {
     "data": {
      "text/html": [
       "<span style=\"color:blue\"> |-dense_3_units: 64</span>"
      ],
      "text/plain": [
       "<IPython.core.display.HTML object>"
      ]
     },
     "metadata": {},
     "output_type": "display_data"
    },
    {
     "data": {
      "text/html": [
       "<span style=\"color:cyan\"> |-dense_4_units: 352</span>"
      ],
      "text/plain": [
       "<IPython.core.display.HTML object>"
      ]
     },
     "metadata": {},
     "output_type": "display_data"
    },
    {
     "data": {
      "text/html": [
       "<span style=\"color:blue\"> |-dense_5_units: 64</span>"
      ],
      "text/plain": [
       "<IPython.core.display.HTML object>"
      ]
     },
     "metadata": {},
     "output_type": "display_data"
    },
    {
     "data": {
      "text/html": [
       "<span style=\"color:cyan\"> |-dense_6_units: 480</span>"
      ],
      "text/plain": [
       "<IPython.core.display.HTML object>"
      ]
     },
     "metadata": {},
     "output_type": "display_data"
    },
    {
     "data": {
      "text/html": [
       "<span style=\"color:blue\"> |-dense_layers: 3</span>"
      ],
      "text/plain": [
       "<IPython.core.display.HTML object>"
      ]
     },
     "metadata": {},
     "output_type": "display_data"
    },
    {
     "data": {
      "text/html": [
       "<span style=\"color:cyan\"> |-input_units: 350</span>"
      ],
      "text/plain": [
       "<IPython.core.display.HTML object>"
      ]
     },
     "metadata": {},
     "output_type": "display_data"
    },
    {
     "data": {
      "text/html": [
       "<span style=\"color:blue\"> |-learning_rate: 1e-06</span>"
      ],
      "text/plain": [
       "<IPython.core.display.HTML object>"
      ]
     },
     "metadata": {},
     "output_type": "display_data"
    },
    {
     "data": {
      "text/html": [
       "<span style=\"color:cyan\"> |-tuner/bracket: 1</span>"
      ],
      "text/plain": [
       "<IPython.core.display.HTML object>"
      ]
     },
     "metadata": {},
     "output_type": "display_data"
    },
    {
     "data": {
      "text/html": [
       "<span style=\"color:blue\"> |-tuner/epochs: 10</span>"
      ],
      "text/plain": [
       "<IPython.core.display.HTML object>"
      ]
     },
     "metadata": {},
     "output_type": "display_data"
    },
    {
     "data": {
      "text/html": [
       "<span style=\"color:cyan\"> |-tuner/initial_epoch: 4</span>"
      ],
      "text/plain": [
       "<IPython.core.display.HTML object>"
      ]
     },
     "metadata": {},
     "output_type": "display_data"
    },
    {
     "data": {
      "text/html": [
       "<span style=\"color:blue\"> |-tuner/round: 1</span>"
      ],
      "text/plain": [
       "<IPython.core.display.HTML object>"
      ]
     },
     "metadata": {},
     "output_type": "display_data"
    },
    {
     "data": {
      "text/html": [
       "<span style=\"color:cyan\"> |-tuner/trial_id: c45475e27f2f90165b5cf815aac095ce</span>"
      ],
      "text/plain": [
       "<IPython.core.display.HTML object>"
      ]
     },
     "metadata": {},
     "output_type": "display_data"
    },
    {
     "name": "stdout",
     "output_type": "stream",
     "text": [
      "Train on 180 samples, validate on 60 samples\n",
      "Epoch 5/10\n",
      "180/180 [==============================] - ETA: 2:35 - loss: 0.7798 - acc: 0.540 - ETA: 1:33 - loss: 0.7718 - acc: 0.540 - ETA: 34s - loss: 0.7883 - acc: 0.526 - 230s 1s/sample - loss: 0.7808 - acc: 0.5167 - val_loss: 0.7059 - val_acc: 0.5167\n",
      "Epoch 6/10\n",
      "180/180 [==============================] - ETA: 2:28 - loss: 0.8029 - acc: 0.460 - ETA: 1:31 - loss: 0.7912 - acc: 0.460 - ETA: 34s - loss: 0.7823 - acc: 0.493 - 228s 1s/sample - loss: 0.7936 - acc: 0.4889 - val_loss: 0.7066 - val_acc: 0.5000\n",
      "Epoch 7/10\n",
      "180/180 [==============================] - ETA: 2:29 - loss: 0.6817 - acc: 0.580 - ETA: 1:31 - loss: 0.6792 - acc: 0.590 - ETA: 34s - loss: 0.7202 - acc: 0.566 - 226s 1s/sample - loss: 0.7511 - acc: 0.5333 - val_loss: 0.7072 - val_acc: 0.5000\n",
      "Epoch 8/10\n",
      "180/180 [==============================] - ETA: 2:29 - loss: 0.6407 - acc: 0.600 - ETA: 1:31 - loss: 0.7376 - acc: 0.570 - ETA: 34s - loss: 0.7299 - acc: 0.580 - 225s 1s/sample - loss: 0.7248 - acc: 0.5778 - val_loss: 0.7081 - val_acc: 0.4833\n",
      "Epoch 9/10\n",
      "180/180 [==============================] - ETA: 2:26 - loss: 0.8680 - acc: 0.420 - ETA: 1:31 - loss: 0.9231 - acc: 0.390 - ETA: 34s - loss: 0.8609 - acc: 0.453 - 227s 1s/sample - loss: 0.8284 - acc: 0.4778 - val_loss: 0.7093 - val_acc: 0.5000\n",
      "Epoch 10/10\n",
      "180/180 [==============================] - ETA: 2:29 - loss: 0.7451 - acc: 0.460 - ETA: 1:31 - loss: 0.8084 - acc: 0.460 - ETA: 34s - loss: 0.7461 - acc: 0.540 - 226s 1s/sample - loss: 0.7434 - acc: 0.5333 - val_loss: 0.7105 - val_acc: 0.4667\n"
     ]
    },
    {
     "data": {
      "text/html": [
       "<span style=\"color:#4527A0\"><h1 style=\"font-size:18px\">Trial complete</h1></span>"
      ],
      "text/plain": [
       "<IPython.core.display.HTML object>"
      ]
     },
     "metadata": {},
     "output_type": "display_data"
    },
    {
     "data": {
      "text/html": [
       "<span style=\"color:#4527A0\"><h1 style=\"font-size:18px\">Trial summary</h1></span>"
      ],
      "text/plain": [
       "<IPython.core.display.HTML object>"
      ]
     },
     "metadata": {},
     "output_type": "display_data"
    },
    {
     "data": {
      "text/html": [
       "<span style=\"color:cyan\"> |-Trial ID: 01293831005bd4d31ff02d54d13eadd7</span>"
      ],
      "text/plain": [
       "<IPython.core.display.HTML object>"
      ]
     },
     "metadata": {},
     "output_type": "display_data"
    },
    {
     "data": {
      "text/html": [
       "<span style=\"color:cyan\"> |-Score: 0.5166666507720947</span>"
      ],
      "text/plain": [
       "<IPython.core.display.HTML object>"
      ]
     },
     "metadata": {},
     "output_type": "display_data"
    },
    {
     "data": {
      "text/html": [
       "<span style=\"color:cyan\"> |-Best step: 0</span>"
      ],
      "text/plain": [
       "<IPython.core.display.HTML object>"
      ]
     },
     "metadata": {},
     "output_type": "display_data"
    },
    {
     "data": {
      "text/html": [
       "<span style=\"color:#7E57C2\"><h2 style=\"font-size:16px\">Hyperparameters:</h2></span>"
      ],
      "text/plain": [
       "<IPython.core.display.HTML object>"
      ]
     },
     "metadata": {},
     "output_type": "display_data"
    },
    {
     "data": {
      "text/html": [
       "<span style=\"color:cyan\"> |-conv_0_units: 320</span>"
      ],
      "text/plain": [
       "<IPython.core.display.HTML object>"
      ]
     },
     "metadata": {},
     "output_type": "display_data"
    },
    {
     "data": {
      "text/html": [
       "<span style=\"color:blue\"> |-conv_1_units: 448</span>"
      ],
      "text/plain": [
       "<IPython.core.display.HTML object>"
      ]
     },
     "metadata": {},
     "output_type": "display_data"
    },
    {
     "data": {
      "text/html": [
       "<span style=\"color:cyan\"> |-conv_2_units: 416</span>"
      ],
      "text/plain": [
       "<IPython.core.display.HTML object>"
      ]
     },
     "metadata": {},
     "output_type": "display_data"
    },
    {
     "data": {
      "text/html": [
       "<span style=\"color:blue\"> |-conv_3_units: 320</span>"
      ],
      "text/plain": [
       "<IPython.core.display.HTML object>"
      ]
     },
     "metadata": {},
     "output_type": "display_data"
    },
    {
     "data": {
      "text/html": [
       "<span style=\"color:cyan\"> |-conv_4_units: 160</span>"
      ],
      "text/plain": [
       "<IPython.core.display.HTML object>"
      ]
     },
     "metadata": {},
     "output_type": "display_data"
    },
    {
     "data": {
      "text/html": [
       "<span style=\"color:blue\"> |-conv_5_units: 64</span>"
      ],
      "text/plain": [
       "<IPython.core.display.HTML object>"
      ]
     },
     "metadata": {},
     "output_type": "display_data"
    },
    {
     "data": {
      "text/html": [
       "<span style=\"color:cyan\"> |-conv_6_units: 160</span>"
      ],
      "text/plain": [
       "<IPython.core.display.HTML object>"
      ]
     },
     "metadata": {},
     "output_type": "display_data"
    },
    {
     "data": {
      "text/html": [
       "<span style=\"color:blue\"> |-conv_layers: 3</span>"
      ],
      "text/plain": [
       "<IPython.core.display.HTML object>"
      ]
     },
     "metadata": {},
     "output_type": "display_data"
    },
    {
     "data": {
      "text/html": [
       "<span style=\"color:cyan\"> |-dense_0_units: 96</span>"
      ],
      "text/plain": [
       "<IPython.core.display.HTML object>"
      ]
     },
     "metadata": {},
     "output_type": "display_data"
    },
    {
     "data": {
      "text/html": [
       "<span style=\"color:blue\"> |-dense_1_units: 384</span>"
      ],
      "text/plain": [
       "<IPython.core.display.HTML object>"
      ]
     },
     "metadata": {},
     "output_type": "display_data"
    },
    {
     "data": {
      "text/html": [
       "<span style=\"color:cyan\"> |-dense_2_units: 256</span>"
      ],
      "text/plain": [
       "<IPython.core.display.HTML object>"
      ]
     },
     "metadata": {},
     "output_type": "display_data"
    },
    {
     "data": {
      "text/html": [
       "<span style=\"color:blue\"> |-dense_3_units: 320</span>"
      ],
      "text/plain": [
       "<IPython.core.display.HTML object>"
      ]
     },
     "metadata": {},
     "output_type": "display_data"
    },
    {
     "data": {
      "text/html": [
       "<span style=\"color:cyan\"> |-dense_4_units: 256</span>"
      ],
      "text/plain": [
       "<IPython.core.display.HTML object>"
      ]
     },
     "metadata": {},
     "output_type": "display_data"
    },
    {
     "data": {
      "text/html": [
       "<span style=\"color:blue\"> |-dense_5_units: 224</span>"
      ],
      "text/plain": [
       "<IPython.core.display.HTML object>"
      ]
     },
     "metadata": {},
     "output_type": "display_data"
    },
    {
     "data": {
      "text/html": [
       "<span style=\"color:cyan\"> |-dense_6_units: 96</span>"
      ],
      "text/plain": [
       "<IPython.core.display.HTML object>"
      ]
     },
     "metadata": {},
     "output_type": "display_data"
    },
    {
     "data": {
      "text/html": [
       "<span style=\"color:blue\"> |-dense_layers: 1</span>"
      ],
      "text/plain": [
       "<IPython.core.display.HTML object>"
      ]
     },
     "metadata": {},
     "output_type": "display_data"
    },
    {
     "data": {
      "text/html": [
       "<span style=\"color:cyan\"> |-input_units: 180</span>"
      ],
      "text/plain": [
       "<IPython.core.display.HTML object>"
      ]
     },
     "metadata": {},
     "output_type": "display_data"
    },
    {
     "data": {
      "text/html": [
       "<span style=\"color:blue\"> |-learning_rate: 1e-07</span>"
      ],
      "text/plain": [
       "<IPython.core.display.HTML object>"
      ]
     },
     "metadata": {},
     "output_type": "display_data"
    },
    {
     "data": {
      "text/html": [
       "<span style=\"color:cyan\"> |-tuner/bracket: 1</span>"
      ],
      "text/plain": [
       "<IPython.core.display.HTML object>"
      ]
     },
     "metadata": {},
     "output_type": "display_data"
    },
    {
     "data": {
      "text/html": [
       "<span style=\"color:blue\"> |-tuner/epochs: 10</span>"
      ],
      "text/plain": [
       "<IPython.core.display.HTML object>"
      ]
     },
     "metadata": {},
     "output_type": "display_data"
    },
    {
     "data": {
      "text/html": [
       "<span style=\"color:cyan\"> |-tuner/initial_epoch: 4</span>"
      ],
      "text/plain": [
       "<IPython.core.display.HTML object>"
      ]
     },
     "metadata": {},
     "output_type": "display_data"
    },
    {
     "data": {
      "text/html": [
       "<span style=\"color:blue\"> |-tuner/round: 1</span>"
      ],
      "text/plain": [
       "<IPython.core.display.HTML object>"
      ]
     },
     "metadata": {},
     "output_type": "display_data"
    },
    {
     "data": {
      "text/html": [
       "<span style=\"color:cyan\"> |-tuner/trial_id: 91af61de7f0e5dc426ec7769af95e980</span>"
      ],
      "text/plain": [
       "<IPython.core.display.HTML object>"
      ]
     },
     "metadata": {},
     "output_type": "display_data"
    },
    {
     "name": "stdout",
     "output_type": "stream",
     "text": [
      "Train on 180 samples, validate on 60 samples\n",
      "Epoch 1/10\n",
      "180/180 [==============================] - ETA: 1:03 - loss: 0.8505 - acc: 0.460 - ETA: 38s - loss: 1.1228 - acc: 0.470 - ETA: 14s - loss: 1.0138 - acc: 0.48 - 97s 538ms/sample - loss: 0.9565 - acc: 0.4944 - val_loss: 0.7049 - val_acc: 0.4500\n",
      "Epoch 2/10\n",
      "180/180 [==============================] - ETA: 1:04 - loss: 0.8799 - acc: 0.380 - ETA: 39s - loss: 0.7991 - acc: 0.470 - ETA: 14s - loss: 0.7869 - acc: 0.47 - 96s 533ms/sample - loss: 0.7713 - acc: 0.4944 - val_loss: 0.7309 - val_acc: 0.4500\n",
      "Epoch 3/10\n",
      "180/180 [==============================] - ETA: 1:02 - loss: 0.6796 - acc: 0.640 - ETA: 38s - loss: 0.6866 - acc: 0.620 - ETA: 14s - loss: 0.7007 - acc: 0.60 - 95s 529ms/sample - loss: 0.7282 - acc: 0.5667 - val_loss: 0.7297 - val_acc: 0.4500\n",
      "Epoch 4/10\n",
      "180/180 [==============================] - ETA: 1:01 - loss: 0.6870 - acc: 0.600 - ETA: 38s - loss: 0.6939 - acc: 0.580 - ETA: 14s - loss: 0.6857 - acc: 0.58 - 96s 531ms/sample - loss: 0.6822 - acc: 0.5944 - val_loss: 0.7210 - val_acc: 0.4500\n",
      "Epoch 5/10\n",
      "180/180 [==============================] - ETA: 1:02 - loss: 0.6818 - acc: 0.580 - ETA: 38s - loss: 0.6718 - acc: 0.580 - ETA: 14s - loss: 0.6677 - acc: 0.60 - 95s 530ms/sample - loss: 0.6666 - acc: 0.6056 - val_loss: 0.7243 - val_acc: 0.4500\n",
      "Epoch 6/10\n",
      "180/180 [==============================] - ETA: 1:02 - loss: 0.5912 - acc: 0.680 - ETA: 38s - loss: 0.6284 - acc: 0.660 - ETA: 14s - loss: 0.6454 - acc: 0.62 - 96s 531ms/sample - loss: 0.6609 - acc: 0.5944 - val_loss: 0.7381 - val_acc: 0.4500\n",
      "Epoch 7/10\n",
      "180/180 [==============================] - ETA: 1:03 - loss: 0.6776 - acc: 0.620 - ETA: 38s - loss: 0.6643 - acc: 0.610 - ETA: 14s - loss: 0.6582 - acc: 0.61 - 96s 533ms/sample - loss: 0.6704 - acc: 0.6111 - val_loss: 0.7333 - val_acc: 0.4500\n",
      "Epoch 8/10\n",
      "180/180 [==============================] - ETA: 1:02 - loss: 0.6832 - acc: 0.560 - ETA: 38s - loss: 0.6383 - acc: 0.640 - ETA: 14s - loss: 0.6605 - acc: 0.58 - 96s 535ms/sample - loss: 0.6744 - acc: 0.5667 - val_loss: 0.7231 - val_acc: 0.4667\n",
      "Epoch 9/10\n",
      "180/180 [==============================] - ETA: 1:02 - loss: 0.6332 - acc: 0.620 - ETA: 38s - loss: 0.6426 - acc: 0.620 - ETA: 14s - loss: 0.6539 - acc: 0.60 - 96s 531ms/sample - loss: 0.6538 - acc: 0.6000 - val_loss: 0.7168 - val_acc: 0.4333\n",
      "Epoch 10/10\n",
      "180/180 [==============================] - ETA: 1:01 - loss: 0.6554 - acc: 0.640 - ETA: 38s - loss: 0.6510 - acc: 0.630 - ETA: 14s - loss: 0.6547 - acc: 0.62 - 95s 529ms/sample - loss: 0.6641 - acc: 0.6111 - val_loss: 0.7167 - val_acc: 0.4500\n"
     ]
    },
    {
     "data": {
      "text/html": [
       "<span style=\"color:#4527A0\"><h1 style=\"font-size:18px\">Trial complete</h1></span>"
      ],
      "text/plain": [
       "<IPython.core.display.HTML object>"
      ]
     },
     "metadata": {},
     "output_type": "display_data"
    },
    {
     "data": {
      "text/html": [
       "<span style=\"color:#4527A0\"><h1 style=\"font-size:18px\">Trial summary</h1></span>"
      ],
      "text/plain": [
       "<IPython.core.display.HTML object>"
      ]
     },
     "metadata": {},
     "output_type": "display_data"
    },
    {
     "data": {
      "text/html": [
       "<span style=\"color:cyan\"> |-Trial ID: 5b19b3a2ef616e21a40ae5226bb43b41</span>"
      ],
      "text/plain": [
       "<IPython.core.display.HTML object>"
      ]
     },
     "metadata": {},
     "output_type": "display_data"
    },
    {
     "data": {
      "text/html": [
       "<span style=\"color:cyan\"> |-Score: 0.46666666865348816</span>"
      ],
      "text/plain": [
       "<IPython.core.display.HTML object>"
      ]
     },
     "metadata": {},
     "output_type": "display_data"
    },
    {
     "data": {
      "text/html": [
       "<span style=\"color:cyan\"> |-Best step: 0</span>"
      ],
      "text/plain": [
       "<IPython.core.display.HTML object>"
      ]
     },
     "metadata": {},
     "output_type": "display_data"
    },
    {
     "data": {
      "text/html": [
       "<span style=\"color:#7E57C2\"><h2 style=\"font-size:16px\">Hyperparameters:</h2></span>"
      ],
      "text/plain": [
       "<IPython.core.display.HTML object>"
      ]
     },
     "metadata": {},
     "output_type": "display_data"
    },
    {
     "data": {
      "text/html": [
       "<span style=\"color:cyan\"> |-conv_0_units: 192</span>"
      ],
      "text/plain": [
       "<IPython.core.display.HTML object>"
      ]
     },
     "metadata": {},
     "output_type": "display_data"
    },
    {
     "data": {
      "text/html": [
       "<span style=\"color:blue\"> |-conv_1_units: 480</span>"
      ],
      "text/plain": [
       "<IPython.core.display.HTML object>"
      ]
     },
     "metadata": {},
     "output_type": "display_data"
    },
    {
     "data": {
      "text/html": [
       "<span style=\"color:cyan\"> |-conv_2_units: 480</span>"
      ],
      "text/plain": [
       "<IPython.core.display.HTML object>"
      ]
     },
     "metadata": {},
     "output_type": "display_data"
    },
    {
     "data": {
      "text/html": [
       "<span style=\"color:blue\"> |-conv_3_units: 128</span>"
      ],
      "text/plain": [
       "<IPython.core.display.HTML object>"
      ]
     },
     "metadata": {},
     "output_type": "display_data"
    },
    {
     "data": {
      "text/html": [
       "<span style=\"color:cyan\"> |-conv_4_units: 320</span>"
      ],
      "text/plain": [
       "<IPython.core.display.HTML object>"
      ]
     },
     "metadata": {},
     "output_type": "display_data"
    },
    {
     "data": {
      "text/html": [
       "<span style=\"color:blue\"> |-conv_5_units: 416</span>"
      ],
      "text/plain": [
       "<IPython.core.display.HTML object>"
      ]
     },
     "metadata": {},
     "output_type": "display_data"
    },
    {
     "data": {
      "text/html": [
       "<span style=\"color:cyan\"> |-conv_6_units: 224</span>"
      ],
      "text/plain": [
       "<IPython.core.display.HTML object>"
      ]
     },
     "metadata": {},
     "output_type": "display_data"
    },
    {
     "data": {
      "text/html": [
       "<span style=\"color:blue\"> |-conv_layers: 2</span>"
      ],
      "text/plain": [
       "<IPython.core.display.HTML object>"
      ]
     },
     "metadata": {},
     "output_type": "display_data"
    },
    {
     "data": {
      "text/html": [
       "<span style=\"color:cyan\"> |-dense_0_units: 96</span>"
      ],
      "text/plain": [
       "<IPython.core.display.HTML object>"
      ]
     },
     "metadata": {},
     "output_type": "display_data"
    },
    {
     "data": {
      "text/html": [
       "<span style=\"color:blue\"> |-dense_1_units: 320</span>"
      ],
      "text/plain": [
       "<IPython.core.display.HTML object>"
      ]
     },
     "metadata": {},
     "output_type": "display_data"
    },
    {
     "data": {
      "text/html": [
       "<span style=\"color:cyan\"> |-dense_2_units: 256</span>"
      ],
      "text/plain": [
       "<IPython.core.display.HTML object>"
      ]
     },
     "metadata": {},
     "output_type": "display_data"
    },
    {
     "data": {
      "text/html": [
       "<span style=\"color:blue\"> |-dense_3_units: 384</span>"
      ],
      "text/plain": [
       "<IPython.core.display.HTML object>"
      ]
     },
     "metadata": {},
     "output_type": "display_data"
    },
    {
     "data": {
      "text/html": [
       "<span style=\"color:cyan\"> |-dense_4_units: 224</span>"
      ],
      "text/plain": [
       "<IPython.core.display.HTML object>"
      ]
     },
     "metadata": {},
     "output_type": "display_data"
    },
    {
     "data": {
      "text/html": [
       "<span style=\"color:blue\"> |-dense_5_units: 128</span>"
      ],
      "text/plain": [
       "<IPython.core.display.HTML object>"
      ]
     },
     "metadata": {},
     "output_type": "display_data"
    },
    {
     "data": {
      "text/html": [
       "<span style=\"color:cyan\"> |-dense_6_units: 256</span>"
      ],
      "text/plain": [
       "<IPython.core.display.HTML object>"
      ]
     },
     "metadata": {},
     "output_type": "display_data"
    },
    {
     "data": {
      "text/html": [
       "<span style=\"color:blue\"> |-dense_layers: 1</span>"
      ],
      "text/plain": [
       "<IPython.core.display.HTML object>"
      ]
     },
     "metadata": {},
     "output_type": "display_data"
    },
    {
     "data": {
      "text/html": [
       "<span style=\"color:cyan\"> |-input_units: 250</span>"
      ],
      "text/plain": [
       "<IPython.core.display.HTML object>"
      ]
     },
     "metadata": {},
     "output_type": "display_data"
    },
    {
     "data": {
      "text/html": [
       "<span style=\"color:blue\"> |-learning_rate: 0.0001</span>"
      ],
      "text/plain": [
       "<IPython.core.display.HTML object>"
      ]
     },
     "metadata": {},
     "output_type": "display_data"
    },
    {
     "data": {
      "text/html": [
       "<span style=\"color:cyan\"> |-tuner/bracket: 0</span>"
      ],
      "text/plain": [
       "<IPython.core.display.HTML object>"
      ]
     },
     "metadata": {},
     "output_type": "display_data"
    },
    {
     "data": {
      "text/html": [
       "<span style=\"color:blue\"> |-tuner/epochs: 10</span>"
      ],
      "text/plain": [
       "<IPython.core.display.HTML object>"
      ]
     },
     "metadata": {},
     "output_type": "display_data"
    },
    {
     "data": {
      "text/html": [
       "<span style=\"color:cyan\"> |-tuner/initial_epoch: 0</span>"
      ],
      "text/plain": [
       "<IPython.core.display.HTML object>"
      ]
     },
     "metadata": {},
     "output_type": "display_data"
    },
    {
     "data": {
      "text/html": [
       "<span style=\"color:blue\"> |-tuner/round: 0</span>"
      ],
      "text/plain": [
       "<IPython.core.display.HTML object>"
      ]
     },
     "metadata": {},
     "output_type": "display_data"
    },
    {
     "name": "stdout",
     "output_type": "stream",
     "text": [
      "Train on 180 samples, validate on 60 samples\n",
      "Epoch 1/10\n",
      "180/180 [==============================] - ETA: 18s - loss: 0.6786 - acc: 0.58 - ETA: 10s - loss: 0.7481 - acc: 0.57 - ETA: 4s - loss: 0.7239 - acc: 0.5800 - 28s 157ms/sample - loss: 0.7336 - acc: 0.5722 - val_loss: 0.6931 - val_acc: 0.4833\n",
      "Epoch 2/10\n",
      "180/180 [==============================] - ETA: 17s - loss: 0.7257 - acc: 0.52 - ETA: 10s - loss: 0.7329 - acc: 0.51 - ETA: 4s - loss: 0.7302 - acc: 0.5267 - 27s 147ms/sample - loss: 0.7240 - acc: 0.5278 - val_loss: 0.7095 - val_acc: 0.4333\n",
      "Epoch 3/10\n",
      "180/180 [==============================] - ETA: 16s - loss: 0.6581 - acc: 0.60 - ETA: 10s - loss: 0.6718 - acc: 0.56 - ETA: 3s - loss: 0.6602 - acc: 0.5800 - 26s 144ms/sample - loss: 0.6611 - acc: 0.5833 - val_loss: 0.7429 - val_acc: 0.4500\n",
      "Epoch 4/10\n",
      "180/180 [==============================] - ETA: 17s - loss: 0.7081 - acc: 0.58 - ETA: 10s - loss: 0.6570 - acc: 0.63 - ETA: 4s - loss: 0.6437 - acc: 0.6400 - 26s 147ms/sample - loss: 0.6574 - acc: 0.6278 - val_loss: 0.7217 - val_acc: 0.4667\n",
      "Epoch 5/10\n",
      "180/180 [==============================] - ETA: 17s - loss: 0.7135 - acc: 0.48 - ETA: 10s - loss: 0.7203 - acc: 0.49 - ETA: 3s - loss: 0.7309 - acc: 0.5067 - 26s 144ms/sample - loss: 0.7210 - acc: 0.5389 - val_loss: 0.7309 - val_acc: 0.4833\n",
      "Epoch 6/10\n",
      "180/180 [==============================] - ETA: 17s - loss: 0.6257 - acc: 0.60 - ETA: 10s - loss: 0.6294 - acc: 0.65 - ETA: 3s - loss: 0.6892 - acc: 0.5733 - 26s 144ms/sample - loss: 0.6851 - acc: 0.5778 - val_loss: 0.7384 - val_acc: 0.4833\n",
      "Epoch 7/10\n",
      "180/180 [==============================] - ETA: 17s - loss: 0.6117 - acc: 0.70 - ETA: 10s - loss: 0.6203 - acc: 0.66 - ETA: 3s - loss: 0.6488 - acc: 0.6333 - 26s 145ms/sample - loss: 0.6561 - acc: 0.6167 - val_loss: 0.7153 - val_acc: 0.4333\n",
      "Epoch 8/10\n",
      "180/180 [==============================] - ETA: 17s - loss: 0.6317 - acc: 0.66 - ETA: 10s - loss: 0.6065 - acc: 0.71 - ETA: 3s - loss: 0.6129 - acc: 0.6867 - 26s 145ms/sample - loss: 0.6271 - acc: 0.6556 - val_loss: 0.7333 - val_acc: 0.4333\n",
      "Epoch 9/10\n",
      "180/180 [==============================] - ETA: 16s - loss: 0.6952 - acc: 0.56 - ETA: 10s - loss: 0.6834 - acc: 0.55 - ETA: 3s - loss: 0.6451 - acc: 0.6133 - 26s 145ms/sample - loss: 0.6293 - acc: 0.6556 - val_loss: 0.8208 - val_acc: 0.4500\n",
      "Epoch 10/10\n",
      "180/180 [==============================] - ETA: 17s - loss: 0.5995 - acc: 0.60 - ETA: 10s - loss: 0.5747 - acc: 0.65 - ETA: 4s - loss: 0.6444 - acc: 0.6067 - 26s 146ms/sample - loss: 0.6267 - acc: 0.6389 - val_loss: 0.7626 - val_acc: 0.4833\n"
     ]
    },
    {
     "data": {
      "text/html": [
       "<span style=\"color:#4527A0\"><h1 style=\"font-size:18px\">Trial complete</h1></span>"
      ],
      "text/plain": [
       "<IPython.core.display.HTML object>"
      ]
     },
     "metadata": {},
     "output_type": "display_data"
    },
    {
     "data": {
      "text/html": [
       "<span style=\"color:#4527A0\"><h1 style=\"font-size:18px\">Trial summary</h1></span>"
      ],
      "text/plain": [
       "<IPython.core.display.HTML object>"
      ]
     },
     "metadata": {},
     "output_type": "display_data"
    },
    {
     "data": {
      "text/html": [
       "<span style=\"color:cyan\"> |-Trial ID: d4dedb32e35e680da92cea972e05ece0</span>"
      ],
      "text/plain": [
       "<IPython.core.display.HTML object>"
      ]
     },
     "metadata": {},
     "output_type": "display_data"
    },
    {
     "data": {
      "text/html": [
       "<span style=\"color:cyan\"> |-Score: 0.4833333194255829</span>"
      ],
      "text/plain": [
       "<IPython.core.display.HTML object>"
      ]
     },
     "metadata": {},
     "output_type": "display_data"
    },
    {
     "data": {
      "text/html": [
       "<span style=\"color:cyan\"> |-Best step: 0</span>"
      ],
      "text/plain": [
       "<IPython.core.display.HTML object>"
      ]
     },
     "metadata": {},
     "output_type": "display_data"
    },
    {
     "data": {
      "text/html": [
       "<span style=\"color:#7E57C2\"><h2 style=\"font-size:16px\">Hyperparameters:</h2></span>"
      ],
      "text/plain": [
       "<IPython.core.display.HTML object>"
      ]
     },
     "metadata": {},
     "output_type": "display_data"
    },
    {
     "data": {
      "text/html": [
       "<span style=\"color:cyan\"> |-conv_0_units: 96</span>"
      ],
      "text/plain": [
       "<IPython.core.display.HTML object>"
      ]
     },
     "metadata": {},
     "output_type": "display_data"
    },
    {
     "data": {
      "text/html": [
       "<span style=\"color:blue\"> |-conv_1_units: 32</span>"
      ],
      "text/plain": [
       "<IPython.core.display.HTML object>"
      ]
     },
     "metadata": {},
     "output_type": "display_data"
    },
    {
     "data": {
      "text/html": [
       "<span style=\"color:cyan\"> |-conv_2_units: 288</span>"
      ],
      "text/plain": [
       "<IPython.core.display.HTML object>"
      ]
     },
     "metadata": {},
     "output_type": "display_data"
    },
    {
     "data": {
      "text/html": [
       "<span style=\"color:blue\"> |-conv_3_units: 32</span>"
      ],
      "text/plain": [
       "<IPython.core.display.HTML object>"
      ]
     },
     "metadata": {},
     "output_type": "display_data"
    },
    {
     "data": {
      "text/html": [
       "<span style=\"color:cyan\"> |-conv_4_units: 416</span>"
      ],
      "text/plain": [
       "<IPython.core.display.HTML object>"
      ]
     },
     "metadata": {},
     "output_type": "display_data"
    },
    {
     "data": {
      "text/html": [
       "<span style=\"color:blue\"> |-conv_5_units: 384</span>"
      ],
      "text/plain": [
       "<IPython.core.display.HTML object>"
      ]
     },
     "metadata": {},
     "output_type": "display_data"
    },
    {
     "data": {
      "text/html": [
       "<span style=\"color:cyan\"> |-conv_6_units: 96</span>"
      ],
      "text/plain": [
       "<IPython.core.display.HTML object>"
      ]
     },
     "metadata": {},
     "output_type": "display_data"
    },
    {
     "data": {
      "text/html": [
       "<span style=\"color:blue\"> |-conv_layers: 3</span>"
      ],
      "text/plain": [
       "<IPython.core.display.HTML object>"
      ]
     },
     "metadata": {},
     "output_type": "display_data"
    },
    {
     "data": {
      "text/html": [
       "<span style=\"color:cyan\"> |-dense_0_units: 192</span>"
      ],
      "text/plain": [
       "<IPython.core.display.HTML object>"
      ]
     },
     "metadata": {},
     "output_type": "display_data"
    },
    {
     "data": {
      "text/html": [
       "<span style=\"color:blue\"> |-dense_1_units: 192</span>"
      ],
      "text/plain": [
       "<IPython.core.display.HTML object>"
      ]
     },
     "metadata": {},
     "output_type": "display_data"
    },
    {
     "data": {
      "text/html": [
       "<span style=\"color:cyan\"> |-dense_2_units: 160</span>"
      ],
      "text/plain": [
       "<IPython.core.display.HTML object>"
      ]
     },
     "metadata": {},
     "output_type": "display_data"
    },
    {
     "data": {
      "text/html": [
       "<span style=\"color:blue\"> |-dense_3_units: 320</span>"
      ],
      "text/plain": [
       "<IPython.core.display.HTML object>"
      ]
     },
     "metadata": {},
     "output_type": "display_data"
    },
    {
     "data": {
      "text/html": [
       "<span style=\"color:cyan\"> |-dense_4_units: 320</span>"
      ],
      "text/plain": [
       "<IPython.core.display.HTML object>"
      ]
     },
     "metadata": {},
     "output_type": "display_data"
    },
    {
     "data": {
      "text/html": [
       "<span style=\"color:blue\"> |-dense_5_units: 320</span>"
      ],
      "text/plain": [
       "<IPython.core.display.HTML object>"
      ]
     },
     "metadata": {},
     "output_type": "display_data"
    },
    {
     "data": {
      "text/html": [
       "<span style=\"color:cyan\"> |-dense_6_units: 160</span>"
      ],
      "text/plain": [
       "<IPython.core.display.HTML object>"
      ]
     },
     "metadata": {},
     "output_type": "display_data"
    },
    {
     "data": {
      "text/html": [
       "<span style=\"color:blue\"> |-dense_layers: 4</span>"
      ],
      "text/plain": [
       "<IPython.core.display.HTML object>"
      ]
     },
     "metadata": {},
     "output_type": "display_data"
    },
    {
     "data": {
      "text/html": [
       "<span style=\"color:cyan\"> |-input_units: 150</span>"
      ],
      "text/plain": [
       "<IPython.core.display.HTML object>"
      ]
     },
     "metadata": {},
     "output_type": "display_data"
    },
    {
     "data": {
      "text/html": [
       "<span style=\"color:blue\"> |-learning_rate: 0.001</span>"
      ],
      "text/plain": [
       "<IPython.core.display.HTML object>"
      ]
     },
     "metadata": {},
     "output_type": "display_data"
    },
    {
     "data": {
      "text/html": [
       "<span style=\"color:cyan\"> |-tuner/bracket: 0</span>"
      ],
      "text/plain": [
       "<IPython.core.display.HTML object>"
      ]
     },
     "metadata": {},
     "output_type": "display_data"
    },
    {
     "data": {
      "text/html": [
       "<span style=\"color:blue\"> |-tuner/epochs: 10</span>"
      ],
      "text/plain": [
       "<IPython.core.display.HTML object>"
      ]
     },
     "metadata": {},
     "output_type": "display_data"
    },
    {
     "data": {
      "text/html": [
       "<span style=\"color:cyan\"> |-tuner/initial_epoch: 0</span>"
      ],
      "text/plain": [
       "<IPython.core.display.HTML object>"
      ]
     },
     "metadata": {},
     "output_type": "display_data"
    },
    {
     "data": {
      "text/html": [
       "<span style=\"color:blue\"> |-tuner/round: 0</span>"
      ],
      "text/plain": [
       "<IPython.core.display.HTML object>"
      ]
     },
     "metadata": {},
     "output_type": "display_data"
    },
    {
     "name": "stdout",
     "output_type": "stream",
     "text": [
      "Train on 180 samples, validate on 60 samples\n",
      "Epoch 1/10\n",
      "180/180 [==============================] - ETA: 1:13 - loss: 0.8158 - acc: 0.460 - ETA: 44s - loss: 0.8120 - acc: 0.490 - ETA: 16s - loss: 0.8408 - acc: 0.46 - 112s 621ms/sample - loss: 0.8078 - acc: 0.5000 - val_loss: 0.9104 - val_acc: 0.4500\n",
      "Epoch 2/10\n",
      "180/180 [==============================] - ETA: 1:12 - loss: 0.7622 - acc: 0.580 - ETA: 44s - loss: 0.6905 - acc: 0.620 - ETA: 16s - loss: 0.7187 - acc: 0.58 - 111s 616ms/sample - loss: 0.7034 - acc: 0.5889 - val_loss: 0.7133 - val_acc: 0.4667\n",
      "Epoch 3/10\n",
      "180/180 [==============================] - ETA: 1:11 - loss: 0.6487 - acc: 0.580 - ETA: 44s - loss: 0.6372 - acc: 0.630 - ETA: 16s - loss: 0.6466 - acc: 0.61 - 111s 618ms/sample - loss: 0.6624 - acc: 0.5889 - val_loss: 0.7112 - val_acc: 0.5167\n",
      "Epoch 4/10\n",
      "180/180 [==============================] - ETA: 1:12 - loss: 0.6916 - acc: 0.540 - ETA: 44s - loss: 0.6890 - acc: 0.510 - ETA: 16s - loss: 0.6815 - acc: 0.52 - 110s 610ms/sample - loss: 0.6768 - acc: 0.5389 - val_loss: 0.7082 - val_acc: 0.4500\n",
      "Epoch 5/10\n",
      "180/180 [==============================] - ETA: 1:12 - loss: 0.6385 - acc: 0.620 - ETA: 44s - loss: 0.6516 - acc: 0.640 - ETA: 16s - loss: 0.6590 - acc: 0.61 - 110s 613ms/sample - loss: 0.6594 - acc: 0.6111 - val_loss: 0.7263 - val_acc: 0.5000\n",
      "Epoch 6/10\n",
      "180/180 [==============================] - ETA: 1:12 - loss: 0.6833 - acc: 0.580 - ETA: 44s - loss: 0.6736 - acc: 0.590 - ETA: 16s - loss: 0.6632 - acc: 0.59 - 110s 613ms/sample - loss: 0.6474 - acc: 0.6222 - val_loss: 0.7398 - val_acc: 0.4667\n",
      "Epoch 7/10\n",
      "180/180 [==============================] - ETA: 1:11 - loss: 0.6254 - acc: 0.640 - ETA: 43s - loss: 0.6561 - acc: 0.580 - ETA: 16s - loss: 0.6544 - acc: 0.58 - 109s 606ms/sample - loss: 0.6371 - acc: 0.6111 - val_loss: 0.7524 - val_acc: 0.4667\n",
      "Epoch 8/10\n",
      "180/180 [==============================] - ETA: 1:11 - loss: 0.6326 - acc: 0.640 - ETA: 44s - loss: 0.6430 - acc: 0.630 - ETA: 16s - loss: 0.6345 - acc: 0.65 - 110s 609ms/sample - loss: 0.6422 - acc: 0.6444 - val_loss: 0.7431 - val_acc: 0.4667\n",
      "Epoch 9/10\n",
      "180/180 [==============================] - ETA: 1:12 - loss: 0.6429 - acc: 0.540 - ETA: 44s - loss: 0.6379 - acc: 0.580 - ETA: 16s - loss: 0.6247 - acc: 0.62 - 110s 613ms/sample - loss: 0.6192 - acc: 0.6222 - val_loss: 0.7414 - val_acc: 0.4667\n",
      "Epoch 10/10\n",
      "180/180 [==============================] - ETA: 1:11 - loss: 0.6066 - acc: 0.680 - ETA: 43s - loss: 0.6373 - acc: 0.630 - ETA: 16s - loss: 0.6480 - acc: 0.60 - 109s 608ms/sample - loss: 0.6432 - acc: 0.6111 - val_loss: 0.7478 - val_acc: 0.4667\n"
     ]
    },
    {
     "data": {
      "text/html": [
       "<span style=\"color:#4527A0\"><h1 style=\"font-size:18px\">Trial complete</h1></span>"
      ],
      "text/plain": [
       "<IPython.core.display.HTML object>"
      ]
     },
     "metadata": {},
     "output_type": "display_data"
    },
    {
     "data": {
      "text/html": [
       "<span style=\"color:#4527A0\"><h1 style=\"font-size:18px\">Trial summary</h1></span>"
      ],
      "text/plain": [
       "<IPython.core.display.HTML object>"
      ]
     },
     "metadata": {},
     "output_type": "display_data"
    },
    {
     "data": {
      "text/html": [
       "<span style=\"color:cyan\"> |-Trial ID: 227b38b8525eeac726390f481825d231</span>"
      ],
      "text/plain": [
       "<IPython.core.display.HTML object>"
      ]
     },
     "metadata": {},
     "output_type": "display_data"
    },
    {
     "data": {
      "text/html": [
       "<span style=\"color:cyan\"> |-Score: 0.5166666507720947</span>"
      ],
      "text/plain": [
       "<IPython.core.display.HTML object>"
      ]
     },
     "metadata": {},
     "output_type": "display_data"
    },
    {
     "data": {
      "text/html": [
       "<span style=\"color:cyan\"> |-Best step: 0</span>"
      ],
      "text/plain": [
       "<IPython.core.display.HTML object>"
      ]
     },
     "metadata": {},
     "output_type": "display_data"
    },
    {
     "data": {
      "text/html": [
       "<span style=\"color:#7E57C2\"><h2 style=\"font-size:16px\">Hyperparameters:</h2></span>"
      ],
      "text/plain": [
       "<IPython.core.display.HTML object>"
      ]
     },
     "metadata": {},
     "output_type": "display_data"
    },
    {
     "data": {
      "text/html": [
       "<span style=\"color:cyan\"> |-conv_0_units: 64</span>"
      ],
      "text/plain": [
       "<IPython.core.display.HTML object>"
      ]
     },
     "metadata": {},
     "output_type": "display_data"
    },
    {
     "data": {
      "text/html": [
       "<span style=\"color:blue\"> |-conv_1_units: 480</span>"
      ],
      "text/plain": [
       "<IPython.core.display.HTML object>"
      ]
     },
     "metadata": {},
     "output_type": "display_data"
    },
    {
     "data": {
      "text/html": [
       "<span style=\"color:cyan\"> |-conv_2_units: 96</span>"
      ],
      "text/plain": [
       "<IPython.core.display.HTML object>"
      ]
     },
     "metadata": {},
     "output_type": "display_data"
    },
    {
     "data": {
      "text/html": [
       "<span style=\"color:blue\"> |-conv_3_units: 288</span>"
      ],
      "text/plain": [
       "<IPython.core.display.HTML object>"
      ]
     },
     "metadata": {},
     "output_type": "display_data"
    },
    {
     "data": {
      "text/html": [
       "<span style=\"color:cyan\"> |-conv_4_units: 224</span>"
      ],
      "text/plain": [
       "<IPython.core.display.HTML object>"
      ]
     },
     "metadata": {},
     "output_type": "display_data"
    },
    {
     "data": {
      "text/html": [
       "<span style=\"color:blue\"> |-conv_5_units: 160</span>"
      ],
      "text/plain": [
       "<IPython.core.display.HTML object>"
      ]
     },
     "metadata": {},
     "output_type": "display_data"
    },
    {
     "data": {
      "text/html": [
       "<span style=\"color:cyan\"> |-conv_6_units: 512</span>"
      ],
      "text/plain": [
       "<IPython.core.display.HTML object>"
      ]
     },
     "metadata": {},
     "output_type": "display_data"
    },
    {
     "data": {
      "text/html": [
       "<span style=\"color:blue\"> |-conv_layers: 6</span>"
      ],
      "text/plain": [
       "<IPython.core.display.HTML object>"
      ]
     },
     "metadata": {},
     "output_type": "display_data"
    },
    {
     "data": {
      "text/html": [
       "<span style=\"color:cyan\"> |-dense_0_units: 128</span>"
      ],
      "text/plain": [
       "<IPython.core.display.HTML object>"
      ]
     },
     "metadata": {},
     "output_type": "display_data"
    },
    {
     "data": {
      "text/html": [
       "<span style=\"color:blue\"> |-dense_1_units: 352</span>"
      ],
      "text/plain": [
       "<IPython.core.display.HTML object>"
      ]
     },
     "metadata": {},
     "output_type": "display_data"
    },
    {
     "data": {
      "text/html": [
       "<span style=\"color:cyan\"> |-dense_2_units: 352</span>"
      ],
      "text/plain": [
       "<IPython.core.display.HTML object>"
      ]
     },
     "metadata": {},
     "output_type": "display_data"
    },
    {
     "data": {
      "text/html": [
       "<span style=\"color:blue\"> |-dense_3_units: 512</span>"
      ],
      "text/plain": [
       "<IPython.core.display.HTML object>"
      ]
     },
     "metadata": {},
     "output_type": "display_data"
    },
    {
     "data": {
      "text/html": [
       "<span style=\"color:cyan\"> |-dense_4_units: 160</span>"
      ],
      "text/plain": [
       "<IPython.core.display.HTML object>"
      ]
     },
     "metadata": {},
     "output_type": "display_data"
    },
    {
     "data": {
      "text/html": [
       "<span style=\"color:blue\"> |-dense_5_units: 192</span>"
      ],
      "text/plain": [
       "<IPython.core.display.HTML object>"
      ]
     },
     "metadata": {},
     "output_type": "display_data"
    },
    {
     "data": {
      "text/html": [
       "<span style=\"color:cyan\"> |-dense_6_units: 288</span>"
      ],
      "text/plain": [
       "<IPython.core.display.HTML object>"
      ]
     },
     "metadata": {},
     "output_type": "display_data"
    },
    {
     "data": {
      "text/html": [
       "<span style=\"color:blue\"> |-dense_layers: 1</span>"
      ],
      "text/plain": [
       "<IPython.core.display.HTML object>"
      ]
     },
     "metadata": {},
     "output_type": "display_data"
    },
    {
     "data": {
      "text/html": [
       "<span style=\"color:cyan\"> |-input_units: 100</span>"
      ],
      "text/plain": [
       "<IPython.core.display.HTML object>"
      ]
     },
     "metadata": {},
     "output_type": "display_data"
    },
    {
     "data": {
      "text/html": [
       "<span style=\"color:blue\"> |-learning_rate: 0.001</span>"
      ],
      "text/plain": [
       "<IPython.core.display.HTML object>"
      ]
     },
     "metadata": {},
     "output_type": "display_data"
    },
    {
     "data": {
      "text/html": [
       "<span style=\"color:cyan\"> |-tuner/bracket: 0</span>"
      ],
      "text/plain": [
       "<IPython.core.display.HTML object>"
      ]
     },
     "metadata": {},
     "output_type": "display_data"
    },
    {
     "data": {
      "text/html": [
       "<span style=\"color:blue\"> |-tuner/epochs: 10</span>"
      ],
      "text/plain": [
       "<IPython.core.display.HTML object>"
      ]
     },
     "metadata": {},
     "output_type": "display_data"
    },
    {
     "data": {
      "text/html": [
       "<span style=\"color:cyan\"> |-tuner/initial_epoch: 0</span>"
      ],
      "text/plain": [
       "<IPython.core.display.HTML object>"
      ]
     },
     "metadata": {},
     "output_type": "display_data"
    },
    {
     "data": {
      "text/html": [
       "<span style=\"color:blue\"> |-tuner/round: 0</span>"
      ],
      "text/plain": [
       "<IPython.core.display.HTML object>"
      ]
     },
     "metadata": {},
     "output_type": "display_data"
    },
    {
     "name": "stdout",
     "output_type": "stream",
     "text": [
      "Train on 180 samples, validate on 60 samples\n",
      "Epoch 1/10\n",
      "180/180 [==============================] - ETA: 3:24 - loss: 0.6876 - acc: 0.600 - ETA: 2:05 - loss: 0.6931 - acc: 0.590 - ETA: 46s - loss: 0.7167 - acc: 0.520 - 312s 2s/sample - loss: 0.7078 - acc: 0.5333 - val_loss: 0.6845 - val_acc: 0.5167\n",
      "Epoch 2/10\n",
      "180/180 [==============================] - ETA: 3:23 - loss: 0.6501 - acc: 0.680 - ETA: 2:06 - loss: 0.7017 - acc: 0.520 - ETA: 48s - loss: 0.7177 - acc: 0.486 - 321s 2s/sample - loss: 0.7111 - acc: 0.4889 - val_loss: 0.6845 - val_acc: 0.5167\n",
      "Epoch 3/10\n",
      "180/180 [==============================] - ETA: 3:23 - loss: 0.7015 - acc: 0.500 - ETA: 2:08 - loss: 0.6960 - acc: 0.510 - ETA: 47s - loss: 0.6840 - acc: 0.540 - 314s 2s/sample - loss: 0.7101 - acc: 0.5056 - val_loss: 0.6845 - val_acc: 0.5167\n",
      "Epoch 4/10\n",
      "180/180 [==============================] - ETA: 3:23 - loss: 0.7184 - acc: 0.520 - ETA: 2:05 - loss: 0.7196 - acc: 0.530 - ETA: 47s - loss: 0.7229 - acc: 0.500 - 312s 2s/sample - loss: 0.7305 - acc: 0.4944 - val_loss: 0.6845 - val_acc: 0.5167\n",
      "Epoch 5/10\n",
      "180/180 [==============================] - ETA: 3:22 - loss: 0.7367 - acc: 0.520 - ETA: 2:04 - loss: 0.7181 - acc: 0.530 - ETA: 46s - loss: 0.7064 - acc: 0.520 - 310s 2s/sample - loss: 0.7047 - acc: 0.5111 - val_loss: 0.6845 - val_acc: 0.5167\n",
      "Epoch 6/10\n",
      "180/180 [==============================] - ETA: 3:22 - loss: 0.7833 - acc: 0.340 - ETA: 2:04 - loss: 0.7440 - acc: 0.470 - ETA: 46s - loss: 0.7257 - acc: 0.493 - 309s 2s/sample - loss: 0.7400 - acc: 0.4500 - val_loss: 0.6845 - val_acc: 0.5167\n",
      "Epoch 7/10\n",
      "180/180 [==============================] - ETA: 3:21 - loss: 0.7541 - acc: 0.420 - ETA: 2:03 - loss: 0.7484 - acc: 0.410 - ETA: 46s - loss: 0.7347 - acc: 0.433 - 309s 2s/sample - loss: 0.7408 - acc: 0.4389 - val_loss: 0.6845 - val_acc: 0.5167\n",
      "Epoch 8/10\n",
      "180/180 [==============================] - ETA: 3:21 - loss: 0.7054 - acc: 0.480 - ETA: 2:03 - loss: 0.7212 - acc: 0.460 - ETA: 46s - loss: 0.7166 - acc: 0.486 - 309s 2s/sample - loss: 0.7014 - acc: 0.5278 - val_loss: 0.6846 - val_acc: 0.5167\n",
      "Epoch 9/10\n",
      "180/180 [==============================] - ETA: 3:21 - loss: 0.7326 - acc: 0.420 - ETA: 2:08 - loss: 0.7014 - acc: 0.520 - ETA: 49s - loss: 0.7151 - acc: 0.500 - 330s 2s/sample - loss: 0.7138 - acc: 0.5056 - val_loss: 0.6846 - val_acc: 0.5167\n",
      "Epoch 10/10\n",
      "180/180 [==============================] - ETA: 3:45 - loss: 0.7244 - acc: 0.460 - ETA: 2:19 - loss: 0.7358 - acc: 0.440 - ETA: 52s - loss: 0.7415 - acc: 0.420 - 343s 2s/sample - loss: 0.7351 - acc: 0.4500 - val_loss: 0.6846 - val_acc: 0.5167\n"
     ]
    },
    {
     "data": {
      "text/html": [
       "<span style=\"color:#4527A0\"><h1 style=\"font-size:18px\">Trial complete</h1></span>"
      ],
      "text/plain": [
       "<IPython.core.display.HTML object>"
      ]
     },
     "metadata": {},
     "output_type": "display_data"
    },
    {
     "data": {
      "text/html": [
       "<span style=\"color:#4527A0\"><h1 style=\"font-size:18px\">Trial summary</h1></span>"
      ],
      "text/plain": [
       "<IPython.core.display.HTML object>"
      ]
     },
     "metadata": {},
     "output_type": "display_data"
    },
    {
     "data": {
      "text/html": [
       "<span style=\"color:cyan\"> |-Trial ID: acd4de6952892606eedfcd34b07c3193</span>"
      ],
      "text/plain": [
       "<IPython.core.display.HTML object>"
      ]
     },
     "metadata": {},
     "output_type": "display_data"
    },
    {
     "data": {
      "text/html": [
       "<span style=\"color:cyan\"> |-Score: 0.5166666507720947</span>"
      ],
      "text/plain": [
       "<IPython.core.display.HTML object>"
      ]
     },
     "metadata": {},
     "output_type": "display_data"
    },
    {
     "data": {
      "text/html": [
       "<span style=\"color:cyan\"> |-Best step: 0</span>"
      ],
      "text/plain": [
       "<IPython.core.display.HTML object>"
      ]
     },
     "metadata": {},
     "output_type": "display_data"
    },
    {
     "data": {
      "text/html": [
       "<span style=\"color:#7E57C2\"><h2 style=\"font-size:16px\">Hyperparameters:</h2></span>"
      ],
      "text/plain": [
       "<IPython.core.display.HTML object>"
      ]
     },
     "metadata": {},
     "output_type": "display_data"
    },
    {
     "data": {
      "text/html": [
       "<span style=\"color:cyan\"> |-conv_0_units: 192</span>"
      ],
      "text/plain": [
       "<IPython.core.display.HTML object>"
      ]
     },
     "metadata": {},
     "output_type": "display_data"
    },
    {
     "data": {
      "text/html": [
       "<span style=\"color:blue\"> |-conv_1_units: 160</span>"
      ],
      "text/plain": [
       "<IPython.core.display.HTML object>"
      ]
     },
     "metadata": {},
     "output_type": "display_data"
    },
    {
     "data": {
      "text/html": [
       "<span style=\"color:cyan\"> |-conv_2_units: 480</span>"
      ],
      "text/plain": [
       "<IPython.core.display.HTML object>"
      ]
     },
     "metadata": {},
     "output_type": "display_data"
    },
    {
     "data": {
      "text/html": [
       "<span style=\"color:blue\"> |-conv_3_units: 256</span>"
      ],
      "text/plain": [
       "<IPython.core.display.HTML object>"
      ]
     },
     "metadata": {},
     "output_type": "display_data"
    },
    {
     "data": {
      "text/html": [
       "<span style=\"color:cyan\"> |-conv_4_units: 416</span>"
      ],
      "text/plain": [
       "<IPython.core.display.HTML object>"
      ]
     },
     "metadata": {},
     "output_type": "display_data"
    },
    {
     "data": {
      "text/html": [
       "<span style=\"color:blue\"> |-conv_5_units: 384</span>"
      ],
      "text/plain": [
       "<IPython.core.display.HTML object>"
      ]
     },
     "metadata": {},
     "output_type": "display_data"
    },
    {
     "data": {
      "text/html": [
       "<span style=\"color:cyan\"> |-conv_6_units: 384</span>"
      ],
      "text/plain": [
       "<IPython.core.display.HTML object>"
      ]
     },
     "metadata": {},
     "output_type": "display_data"
    },
    {
     "data": {
      "text/html": [
       "<span style=\"color:blue\"> |-conv_layers: 7</span>"
      ],
      "text/plain": [
       "<IPython.core.display.HTML object>"
      ]
     },
     "metadata": {},
     "output_type": "display_data"
    },
    {
     "data": {
      "text/html": [
       "<span style=\"color:cyan\"> |-dense_0_units: 160</span>"
      ],
      "text/plain": [
       "<IPython.core.display.HTML object>"
      ]
     },
     "metadata": {},
     "output_type": "display_data"
    },
    {
     "data": {
      "text/html": [
       "<span style=\"color:blue\"> |-dense_1_units: 320</span>"
      ],
      "text/plain": [
       "<IPython.core.display.HTML object>"
      ]
     },
     "metadata": {},
     "output_type": "display_data"
    },
    {
     "data": {
      "text/html": [
       "<span style=\"color:cyan\"> |-dense_2_units: 416</span>"
      ],
      "text/plain": [
       "<IPython.core.display.HTML object>"
      ]
     },
     "metadata": {},
     "output_type": "display_data"
    },
    {
     "data": {
      "text/html": [
       "<span style=\"color:blue\"> |-dense_3_units: 160</span>"
      ],
      "text/plain": [
       "<IPython.core.display.HTML object>"
      ]
     },
     "metadata": {},
     "output_type": "display_data"
    },
    {
     "data": {
      "text/html": [
       "<span style=\"color:cyan\"> |-dense_4_units: 96</span>"
      ],
      "text/plain": [
       "<IPython.core.display.HTML object>"
      ]
     },
     "metadata": {},
     "output_type": "display_data"
    },
    {
     "data": {
      "text/html": [
       "<span style=\"color:blue\"> |-dense_5_units: 320</span>"
      ],
      "text/plain": [
       "<IPython.core.display.HTML object>"
      ]
     },
     "metadata": {},
     "output_type": "display_data"
    },
    {
     "data": {
      "text/html": [
       "<span style=\"color:cyan\"> |-dense_6_units: 448</span>"
      ],
      "text/plain": [
       "<IPython.core.display.HTML object>"
      ]
     },
     "metadata": {},
     "output_type": "display_data"
    },
    {
     "data": {
      "text/html": [
       "<span style=\"color:blue\"> |-dense_layers: 6</span>"
      ],
      "text/plain": [
       "<IPython.core.display.HTML object>"
      ]
     },
     "metadata": {},
     "output_type": "display_data"
    },
    {
     "data": {
      "text/html": [
       "<span style=\"color:cyan\"> |-input_units: 190</span>"
      ],
      "text/plain": [
       "<IPython.core.display.HTML object>"
      ]
     },
     "metadata": {},
     "output_type": "display_data"
    },
    {
     "data": {
      "text/html": [
       "<span style=\"color:blue\"> |-learning_rate: 1e-08</span>"
      ],
      "text/plain": [
       "<IPython.core.display.HTML object>"
      ]
     },
     "metadata": {},
     "output_type": "display_data"
    },
    {
     "data": {
      "text/html": [
       "<span style=\"color:cyan\"> |-tuner/bracket: 0</span>"
      ],
      "text/plain": [
       "<IPython.core.display.HTML object>"
      ]
     },
     "metadata": {},
     "output_type": "display_data"
    },
    {
     "data": {
      "text/html": [
       "<span style=\"color:blue\"> |-tuner/epochs: 10</span>"
      ],
      "text/plain": [
       "<IPython.core.display.HTML object>"
      ]
     },
     "metadata": {},
     "output_type": "display_data"
    },
    {
     "data": {
      "text/html": [
       "<span style=\"color:cyan\"> |-tuner/initial_epoch: 0</span>"
      ],
      "text/plain": [
       "<IPython.core.display.HTML object>"
      ]
     },
     "metadata": {},
     "output_type": "display_data"
    },
    {
     "data": {
      "text/html": [
       "<span style=\"color:blue\"> |-tuner/round: 0</span>"
      ],
      "text/plain": [
       "<IPython.core.display.HTML object>"
      ]
     },
     "metadata": {},
     "output_type": "display_data"
    },
    {
     "name": "stdout",
     "output_type": "stream",
     "text": [
      "INFO:tensorflow:Oracle triggered exit\n"
     ]
    }
   ],
   "source": [
    "hyperband_tuner = kt.Hyperband(build_hyperparameter_model,\n",
    "                               objective='val_acc', \n",
    "                               max_epochs=5, \n",
    "                               directory=LOG_DIR)\n",
    "\n",
    "hyperband_tuner.search(x=X_train,\n",
    "                      y=y_train,\n",
    "                      epochs=10,\n",
    "                      batch_size=50,\n",
    "                      validation_data=(X_test, y_test))"
   ]
  },
  {
   "cell_type": "code",
   "execution_count": 50,
   "metadata": {},
   "outputs": [
    {
     "name": "stdout",
     "output_type": "stream",
     "text": [
      "Model: \"sequential\"\n",
      "_________________________________________________________________\n",
      "Layer (type)                 Output Shape              Param #   \n",
      "=================================================================\n",
      "conv2d (Conv2D)              (None, 38, 99, 310)       3100      \n",
      "_________________________________________________________________\n",
      "conv2d_1 (Conv2D)            (None, 36, 97, 448)       1250368   \n",
      "_________________________________________________________________\n",
      "conv2d_2 (Conv2D)            (None, 34, 95, 288)       1161504   \n",
      "_________________________________________________________________\n",
      "max_pooling2d (MaxPooling2D) (None, 17, 47, 288)       0         \n",
      "_________________________________________________________________\n",
      "dropout (Dropout)            (None, 17, 47, 288)       0         \n",
      "_________________________________________________________________\n",
      "flatten (Flatten)            (None, 230112)            0         \n",
      "_________________________________________________________________\n",
      "dense (Dense)                (None, 224)               51545312  \n",
      "_________________________________________________________________\n",
      "dropout_1 (Dropout)          (None, 224)               0         \n",
      "_________________________________________________________________\n",
      "dense_1 (Dense)              (None, 2)                 450       \n",
      "=================================================================\n",
      "Total params: 53,960,734\n",
      "Trainable params: 53,960,734\n",
      "Non-trainable params: 0\n",
      "_________________________________________________________________\n"
     ]
    }
   ],
   "source": [
    "best_model_hyperband = hyperband_tuner.get_best_models(1)[0]\n",
    "best_model_hyperband.summary()"
   ]
  },
  {
   "cell_type": "code",
   "execution_count": 44,
   "metadata": {},
   "outputs": [
    {
     "name": "stdout",
     "output_type": "stream",
     "text": [
      "mean loss =  0.7141988947987556\n",
      "mean accuracy =  0.35\n"
     ]
    }
   ],
   "source": [
    "losses, accuracies = kfold_validate(X, y_valance, best_model_randSearch)\n",
    "print(\"mean loss = \",np.mean(losses))\n",
    "print(\"mean accuracy = \",np.mean(accuracies))"
   ]
  },
  {
   "cell_type": "code",
   "execution_count": 45,
   "metadata": {},
   "outputs": [
    {
     "name": "stdout",
     "output_type": "stream",
     "text": [
      "Train on 200 samples, validate on 40 samples\n",
      "Epoch 1/10\n",
      "200/200 [==============================] - ETA: 14s - loss: 0.7233 - acc: 0.62 - ETA: 8s - loss: 0.7602 - acc: 0.5900 - ETA: 4s - loss: 0.7852 - acc: 0.533 - 19s 96ms/sample - loss: 0.8026 - acc: 0.5100 - val_loss: 0.7463 - val_acc: 0.4750\n",
      "Epoch 2/10\n",
      "200/200 [==============================] - ETA: 12s - loss: 0.8681 - acc: 0.44 - ETA: 9s - loss: 0.8884 - acc: 0.4800 - ETA: 4s - loss: 0.8549 - acc: 0.506 - 20s 98ms/sample - loss: 0.8326 - acc: 0.5150 - val_loss: 0.7248 - val_acc: 0.4750\n",
      "Epoch 3/10\n",
      "200/200 [==============================] - ETA: 12s - loss: 0.7832 - acc: 0.44 - ETA: 8s - loss: 0.7870 - acc: 0.4500 - ETA: 4s - loss: 0.7922 - acc: 0.466 - 18s 89ms/sample - loss: 0.7941 - acc: 0.4650 - val_loss: 0.7171 - val_acc: 0.4500\n",
      "Epoch 4/10\n",
      "200/200 [==============================] - ETA: 12s - loss: 0.6955 - acc: 0.60 - ETA: 8s - loss: 0.7466 - acc: 0.5400 - ETA: 4s - loss: 0.7622 - acc: 0.506 - 18s 91ms/sample - loss: 0.7712 - acc: 0.4850 - val_loss: 0.7133 - val_acc: 0.4500\n",
      "Epoch 5/10\n",
      "200/200 [==============================] - ETA: 12s - loss: 0.7320 - acc: 0.52 - ETA: 8s - loss: 0.7358 - acc: 0.4900 - ETA: 4s - loss: 0.7341 - acc: 0.513 - 20s 102ms/sample - loss: 0.7163 - acc: 0.5300 - val_loss: 0.7147 - val_acc: 0.4500\n",
      "Epoch 6/10\n",
      "200/200 [==============================] - ETA: 23s - loss: 0.7562 - acc: 0.52 - ETA: 13s - loss: 0.7306 - acc: 0.54 - ETA: 6s - loss: 0.7487 - acc: 0.5267 - 26s 128ms/sample - loss: 0.7354 - acc: 0.5400 - val_loss: 0.7176 - val_acc: 0.4750\n",
      "Epoch 7/10\n",
      "200/200 [==============================] - ETA: 12s - loss: 0.6775 - acc: 0.62 - ETA: 7s - loss: 0.7317 - acc: 0.5300 - ETA: 3s - loss: 0.7086 - acc: 0.553 - 15s 77ms/sample - loss: 0.6966 - acc: 0.5600 - val_loss: 0.7191 - val_acc: 0.4750\n",
      "Epoch 8/10\n",
      "200/200 [==============================] - ETA: 10s - loss: 0.8350 - acc: 0.46 - ETA: 6s - loss: 0.8106 - acc: 0.4500 - ETA: 3s - loss: 0.7763 - acc: 0.473 - 15s 73ms/sample - loss: 0.7591 - acc: 0.4900 - val_loss: 0.7186 - val_acc: 0.4750\n",
      "Epoch 9/10\n",
      "200/200 [==============================] - ETA: 10s - loss: 0.6822 - acc: 0.48 - ETA: 6s - loss: 0.6989 - acc: 0.5400 - ETA: 3s - loss: 0.7137 - acc: 0.540 - 15s 74ms/sample - loss: 0.7266 - acc: 0.5150 - val_loss: 0.7215 - val_acc: 0.4750\n",
      "Epoch 10/10\n",
      "200/200 [==============================] - ETA: 10s - loss: 0.6795 - acc: 0.56 - ETA: 6s - loss: 0.6818 - acc: 0.5800 - ETA: 3s - loss: 0.7089 - acc: 0.526 - 15s 76ms/sample - loss: 0.7047 - acc: 0.5300 - val_loss: 0.7240 - val_acc: 0.4750\n",
      "40/40 [==============================] - ETA: 1s - loss: 0.4553 - acc: 1.000 - ETA: 1s - loss: 0.5040 - acc: 1.000 - ETA: 1s - loss: 0.5779 - acc: 0.800 - ETA: 1s - loss: 0.5471 - acc: 0.857 - ETA: 1s - loss: 0.5805 - acc: 0.777 - ETA: 1s - loss: 0.6156 - acc: 0.700 - ETA: 1s - loss: 0.6406 - acc: 0.636 - ETA: 1s - loss: 0.6633 - acc: 0.583 - ETA: 1s - loss: 0.6898 - acc: 0.500 - ETA: 1s - loss: 0.6988 - acc: 0.500 - ETA: 0s - loss: 0.7026 - acc: 0.500 - ETA: 0s - loss: 0.6908 - acc: 0.526 - ETA: 0s - loss: 0.6772 - acc: 0.571 - ETA: 0s - loss: 0.6680 - acc: 0.590 - ETA: 0s - loss: 0.6608 - acc: 0.608 - ETA: 0s - loss: 0.6543 - acc: 0.625 - ETA: 0s - loss: 0.6458 - acc: 0.653 - ETA: 0s - loss: 0.6496 - acc: 0.642 - ETA: 0s - loss: 0.6629 - acc: 0.600 - ETA: 0s - loss: 0.6771 - acc: 0.562 - ETA: 0s - loss: 0.6921 - acc: 0.529 - ETA: 0s - loss: 0.7092 - acc: 0.500 - ETA: 0s - loss: 0.7222 - acc: 0.473 - 2s 44ms/sample - loss: 0.7240 - acc: 0.4750\n",
      "mean loss =  0.7239915445446968\n",
      "mean accuracy =  0.475\n"
     ]
    }
   ],
   "source": [
    "losses, accuracies = kfold_validate(X, y_valance, best_model_bayesian)\n",
    "print(\"mean loss = \",np.mean(losses))\n",
    "print(\"mean accuracy = \",np.mean(accuracies))"
   ]
  },
  {
   "cell_type": "code",
   "execution_count": 51,
   "metadata": {},
   "outputs": [
    {
     "name": "stdout",
     "output_type": "stream",
     "text": [
      "Train on 200 samples, validate on 40 samples\n",
      "Epoch 1/10\n",
      "200/200 [==============================] - ETA: 15s - loss: 0.8594 - acc: 0.52 - ETA: 9s - loss: 0.8643 - acc: 0.5000 - ETA: 4s - loss: 0.8300 - acc: 0.513 - 19s 95ms/sample - loss: 0.8154 - acc: 0.5400 - val_loss: 0.7185 - val_acc: 0.5250\n",
      "Epoch 2/10\n",
      "200/200 [==============================] - ETA: 12s - loss: 0.8297 - acc: 0.58 - ETA: 8s - loss: 0.8771 - acc: 0.5400 - ETA: 4s - loss: 0.8931 - acc: 0.513 - 18s 89ms/sample - loss: 0.8336 - acc: 0.5450 - val_loss: 0.7556 - val_acc: 0.4500\n",
      "Epoch 3/10\n",
      "200/200 [==============================] - ETA: 12s - loss: 0.7160 - acc: 0.62 - ETA: 8s - loss: 0.7741 - acc: 0.6000 - ETA: 4s - loss: 0.7655 - acc: 0.593 - 18s 91ms/sample - loss: 0.7850 - acc: 0.5850 - val_loss: 0.7473 - val_acc: 0.4500\n",
      "Epoch 4/10\n",
      "200/200 [==============================] - ETA: 16s - loss: 0.7966 - acc: 0.48 - ETA: 9s - loss: 0.8645 - acc: 0.4500 - ETA: 4s - loss: 0.8564 - acc: 0.466 - 19s 96ms/sample - loss: 0.8192 - acc: 0.5100 - val_loss: 0.7248 - val_acc: 0.5000\n",
      "Epoch 5/10\n",
      "200/200 [==============================] - ETA: 11s - loss: 0.6870 - acc: 0.60 - ETA: 8s - loss: 0.6848 - acc: 0.6500 - ETA: 4s - loss: 0.7557 - acc: 0.566 - 17s 87ms/sample - loss: 0.7453 - acc: 0.5800 - val_loss: 0.7224 - val_acc: 0.5000\n",
      "Epoch 6/10\n",
      "200/200 [==============================] - ETA: 15s - loss: 0.6785 - acc: 0.58 - ETA: 9s - loss: 0.6792 - acc: 0.6300 - ETA: 4s - loss: 0.7348 - acc: 0.593 - 19s 96ms/sample - loss: 0.7477 - acc: 0.5700 - val_loss: 0.7315 - val_acc: 0.4500\n",
      "Epoch 7/10\n",
      "200/200 [==============================] - ETA: 11s - loss: 0.7615 - acc: 0.54 - ETA: 7s - loss: 0.8140 - acc: 0.5200 - ETA: 3s - loss: 0.7967 - acc: 0.533 - 17s 84ms/sample - loss: 0.7851 - acc: 0.5500 - val_loss: 0.7439 - val_acc: 0.4750\n",
      "Epoch 8/10\n",
      "200/200 [==============================] - ETA: 11s - loss: 0.7303 - acc: 0.60 - ETA: 7s - loss: 0.7655 - acc: 0.5800 - ETA: 3s - loss: 0.7658 - acc: 0.580 - 17s 85ms/sample - loss: 0.7592 - acc: 0.5700 - val_loss: 0.7440 - val_acc: 0.4750\n",
      "Epoch 9/10\n",
      "200/200 [==============================] - ETA: 12s - loss: 0.5885 - acc: 0.76 - ETA: 8s - loss: 0.7050 - acc: 0.6100 - ETA: 3s - loss: 0.7093 - acc: 0.580 - 18s 89ms/sample - loss: 0.7003 - acc: 0.5950 - val_loss: 0.7459 - val_acc: 0.4750\n",
      "Epoch 10/10\n",
      "200/200 [==============================] - ETA: 15s - loss: 0.7717 - acc: 0.56 - ETA: 9s - loss: 0.7269 - acc: 0.5500 - ETA: 4s - loss: 0.7115 - acc: 0.573 - 17s 85ms/sample - loss: 0.7122 - acc: 0.5650 - val_loss: 0.7540 - val_acc: 0.4750\n",
      "40/40 [==============================] - ETA: 2s - loss: 0.3138 - acc: 1.000 - ETA: 1s - loss: 0.4222 - acc: 1.000 - ETA: 1s - loss: 0.5587 - acc: 0.750 - ETA: 1s - loss: 0.5166 - acc: 0.800 - ETA: 1s - loss: 0.4774 - acc: 0.857 - ETA: 1s - loss: 0.5322 - acc: 0.777 - ETA: 1s - loss: 0.5975 - acc: 0.727 - ETA: 1s - loss: 0.6743 - acc: 0.615 - ETA: 1s - loss: 0.7146 - acc: 0.533 - ETA: 0s - loss: 0.7266 - acc: 0.470 - ETA: 0s - loss: 0.7020 - acc: 0.526 - ETA: 0s - loss: 0.6770 - acc: 0.571 - ETA: 0s - loss: 0.6494 - acc: 0.608 - ETA: 0s - loss: 0.6391 - acc: 0.640 - ETA: 0s - loss: 0.6287 - acc: 0.666 - ETA: 0s - loss: 0.6435 - acc: 0.620 - ETA: 0s - loss: 0.6656 - acc: 0.580 - ETA: 0s - loss: 0.6966 - acc: 0.545 - ETA: 0s - loss: 0.7248 - acc: 0.514 - ETA: 0s - loss: 0.7423 - acc: 0.486 - ETA: 0s - loss: 0.7663 - acc: 0.461 - 1s 37ms/sample - loss: 0.7540 - acc: 0.4750\n",
      "mean loss =  0.7540453724563122\n",
      "mean accuracy =  0.475\n"
     ]
    }
   ],
   "source": [
    "losses, accuracies = kfold_validate(X, y_valance, best_model_hyperband)\n",
    "print(\"mean loss = \",np.mean(losses))\n",
    "print(\"mean accuracy = \",np.mean(accuracies))"
   ]
  },
  {
   "cell_type": "code",
   "execution_count": null,
   "metadata": {},
   "outputs": [],
   "source": []
  }
 ],
 "metadata": {
  "kernelspec": {
   "display_name": "Python 3",
   "language": "python",
   "name": "python3"
  },
  "language_info": {
   "codemirror_mode": {
    "name": "ipython",
    "version": 3
   },
   "file_extension": ".py",
   "mimetype": "text/x-python",
   "name": "python",
   "nbconvert_exporter": "python",
   "pygments_lexer": "ipython3",
   "version": "3.7.7"
  }
 },
 "nbformat": 4,
 "nbformat_minor": 2
}
