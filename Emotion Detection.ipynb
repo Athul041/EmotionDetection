{
  "nbformat": 4,
  "nbformat_minor": 0,
  "metadata": {
    "kernelspec": {
      "display_name": "Python 3",
      "language": "python",
      "name": "python3"
    },
    "language_info": {
      "codemirror_mode": {
        "name": "ipython",
        "version": 3
      },
      "file_extension": ".py",
      "mimetype": "text/x-python",
      "name": "python",
      "nbconvert_exporter": "python",
      "pygments_lexer": "ipython3",
      "version": "3.7.7"
    },
    "colab": {
      "name": "Emotion Detection.ipynb",
      "provenance": [],
      "toc_visible": true
    },
    "accelerator": "GPU"
  },
  "cells": [
    {
      "cell_type": "markdown",
      "metadata": {
        "id": "P7PD8Lqqr0ff"
      },
      "source": [
        "This project tries to classify the data from EEG signals as high Valance or low Valance."
      ]
    },
    {
      "cell_type": "code",
      "metadata": {
        "id": "0tpVLkGMr0fm"
      },
      "source": [
        "import pandas as pd\n",
        "import numpy as np\n",
        "import pickle\n",
        "import math\n",
        "import statistics as stat\n",
        "import scipy.stats as scStat"
      ],
      "execution_count": null,
      "outputs": []
    },
    {
      "cell_type": "markdown",
      "metadata": {
        "id": "l1jQ170rr0gD"
      },
      "source": [
        "### The DEAP Dataset\n",
        "\n",
        "The dataset contains 40 experiments for each of the 32 participants. The labels array contain the valence, arousal, dominance and liking ratings for each participant for each of the 40 experiments. The data array contains 8064 physiological/EEG signal data from 40 different channels for each of the 40 experiments for each of the 32 participants."
      ]
    },
    {
      "cell_type": "markdown",
      "metadata": {
        "id": "P6_aDfRzr0gN"
      },
      "source": [
        "### Feature Extraction\n",
        "\n",
        "We divide the 8064 readings per channel, into 10 batches of approximately 807 readings each. For each batch we extract the mean, median, maximum, minimum, standard deviation, variance, range, skewness and kurtosis values for the 807 readings. Hence for each of the 10 batches of a single channel we extract 9 values mentioned above, we get 90 values as our processed dataset. We further add the net mean, median, maximum, minimum, standard deviation, variance, range, skewness and kurtosis values for the entire 8064 readings along with the experiment and participant number to our dataset, bringing it up to 101 values per channel."
      ]
    },
    {
      "cell_type": "code",
      "metadata": {
        "id": "q3qcydlFr0gR"
      },
      "source": [
        "def extract_features(data, trial, participantNumber):\n",
        "    extData = []\n",
        "    for x in np.array_split(data, 10):\n",
        "        extData.extend(calc_features(x))\n",
        "    extData.extend(calc_features(data))\n",
        "    extData.append(trial)\n",
        "    extData.append(participantNumber)\n",
        "    return extData"
      ],
      "execution_count": null,
      "outputs": []
    },
    {
      "cell_type": "code",
      "metadata": {
        "id": "wC2v3o_4r0gk"
      },
      "source": [
        "def calc_features(array):\n",
        "    return [np.mean(array),\n",
        "            np.median(array),\n",
        "            np.var(array),\n",
        "            np.std(array),\n",
        "            max(array),\n",
        "            min(array),\n",
        "            scStat.mode(array)[0][0],\n",
        "            scStat.kurtosis(array),\n",
        "            scStat.skew(array, axis=0, bias=True)]"
      ],
      "execution_count": null,
      "outputs": []
    },
    {
      "cell_type": "markdown",
      "metadata": {
        "id": "ZGASFB3nr0g0"
      },
      "source": [
        "Features from each channel are extracted and appended to a df so that it can be stored into a csv file and accessed later."
      ]
    },
    {
      "cell_type": "code",
      "metadata": {
        "id": "OEHVBSymr0g5"
      },
      "source": [
        "def process_data_file(fileName, participantNumber):\n",
        "    with open(fileName, 'rb') as f: content = pickle.load(f, encoding='latin1')\n",
        "    data = content['data']\n",
        "    labels = content['labels']\n",
        "    extracted_features = []\n",
        "    for index, trialData in enumerate(data):\n",
        "        for i, channelData in enumerate(trialData):\n",
        "            extracted_features.append(extract_features(channelData, index, participantNumber))\n",
        "    df = pd.DataFrame(extracted_features)\n",
        "    df['Valance Label'] = list(labels[:,0])*int(len(df)/len(labels))\n",
        "    df['Arousal Label'] = list(labels[:,1])*int(len(df)/len(labels))\n",
        "    return df"
      ],
      "execution_count": null,
      "outputs": []
    },
    {
      "cell_type": "markdown",
      "metadata": {
        "id": "UGnDpP17r0hJ"
      },
      "source": [
        "### Reading Data from DEAP Dataset\n",
        "\n",
        "The data from DEAP Dataset .dat files are read one by one and the extracted features are appended into a csv file."
      ]
    },
    {
      "cell_type": "code",
      "metadata": {
        "scrolled": false,
        "id": "2nu_Dvjfr0hi"
      },
      "source": [
        "files = ['s'+f\"{x:02d}\"+'.dat' for x in range(1,33)]\n",
        "participants = [int(x.split('.')[0][-2:]) for x in files]\n",
        "for f, participantNumber in zip(files, participants):\n",
        "    process_data_file(f, participantNumber).to_csv('ExtractedFeatures.csv', mode='a', index=False, header=False)\n",
        "    print(\"Participant No. : \", participantNumber)"
      ],
      "execution_count": null,
      "outputs": []
    },
    {
      "cell_type": "markdown",
      "metadata": {
        "id": "K72wYYlzr0h2"
      },
      "source": [
        "### Learning from extracted features\n",
        "\n",
        "If you're reading from the provided csv file, learning starts here"
      ]
    },
    {
      "cell_type": "code",
      "metadata": {
        "id": "aeg8BqT-r0iB"
      },
      "source": [
        "columns = [str(i) for i in range(0,99)]\n",
        "columns.extend(['experiment No', 'participant No', 'Valance Label', 'Arousal Label'])\n",
        "df = pd.read_csv('ExtractedFeatures.csv', header=None, names=columns)"
      ],
      "execution_count": null,
      "outputs": []
    },
    {
      "cell_type": "code",
      "metadata": {
        "id": "hMzWrdjtr0ig"
      },
      "source": [
        "df['Valance Label'] = df['Valance Label'].apply(lambda x: 1 if x>5 else 0)\n",
        "df['Arousal Label'] = df['Arousal Label'].apply(lambda x: 1 if x>5 else 0)"
      ],
      "execution_count": null,
      "outputs": []
    },
    {
      "cell_type": "code",
      "metadata": {
        "id": "dvLm87Q9r0iu"
      },
      "source": [
        "X = df[df.columns.difference(['Valance Label', 'Arousal Label'])].values\n",
        "\n",
        "y_valance = np.array([x for i, x in enumerate(df['Valance Label'].values) if i%1640 < 40])\n",
        "y_arousal = np.array([x for i, x in enumerate(df['Arousal Label'].values) if i%1640 < 40])"
      ],
      "execution_count": null,
      "outputs": []
    },
    {
      "cell_type": "code",
      "metadata": {
        "id": "lj4T-D7Lr0i8"
      },
      "source": [
        "X = X.reshape(int(X.shape[0]/40),40,101)"
      ],
      "execution_count": null,
      "outputs": []
    },
    {
      "cell_type": "code",
      "metadata": {
        "id": "gtKywAS2r0jM"
      },
      "source": [
        "import tensorflow as tf\n",
        "from tensorflow import keras\n",
        "from tensorflow.keras.models import Sequential\n",
        "from tensorflow.keras.layers import Dense, Activation, Conv2D, MaxPooling2D, Dropout, Flatten\n",
        "from sklearn.model_selection import KFold\n",
        "from tensorflow.keras.optimizers import SGD\n",
        "from tensorflow.keras.utils import to_categorical\n",
        "from sklearn.model_selection import train_test_split\n",
        "from keras.models import load_model"
      ],
      "execution_count": null,
      "outputs": []
    },
    {
      "cell_type": "markdown",
      "metadata": {
        "id": "cJTVpmzUr0jY"
      },
      "source": [
        "### Building basic CNN Model\n",
        "This model follows the setup recommended in the paper."
      ]
    },
    {
      "cell_type": "code",
      "metadata": {
        "id": "etYN9WOHr0jd"
      },
      "source": [
        "def build_model():\n",
        "    model = Sequential()\n",
        "    \n",
        "    model.add(Conv2D(100, (3,3), padding=\"valid\", activation='tanh', input_shape = (40, 101, 1)))\n",
        "    \n",
        "    model.add(Conv2D(100, (3, 3), activation='tanh' ))\n",
        "    \n",
        "    model.add(MaxPooling2D(pool_size = (2, 2)))\n",
        "    model.add(Dropout(0.25))\n",
        "    \n",
        "    model.add(Flatten())\n",
        "    \n",
        "    model.add(Dense(128, activation='tanh'))\n",
        "    model.add(Dropout(0.50))\n",
        "    \n",
        "    model.add(Dense(2, activation='softplus'))\n",
        "    \n",
        "    sgd = SGD(lr = 0.00001, momentum = 0.9, nesterov = True)\n",
        "    model.compile(loss ='categorical_crossentropy', optimizer = sgd,metrics=['accuracy'])\n",
        "    \n",
        "    return model"
      ],
      "execution_count": null,
      "outputs": []
    },
    {
      "cell_type": "markdown",
      "metadata": {
        "id": "6wYv693Vr0jo"
      },
      "source": [
        "###### Building a model for tuning using hyperparameters\n",
        "The function sets hyperparameters for the following:\n",
        "- No. of input layers into 1st Conv layer\n",
        "- No. subsequent conv layers\n",
        "- No. of units in these layers\n",
        "- No. of Dense layers\n",
        "- Learning rate"
      ]
    },
    {
      "cell_type": "code",
      "metadata": {
        "id": "OLIqTgWcr0jp"
      },
      "source": [
        "def build_hyperparameter_model(hp):\n",
        "    model = Sequential()\n",
        "    \n",
        "    model.add(Conv2D(hp.Int(\"input_units\", min_value=32, max_value=512, step=16),\n",
        "                     (3,3), padding=\"valid\", activation=hp.Choice('input_activation', values = ['tanh', 'relu']), input_shape = (40, 101, 1)))\n",
        "    \n",
        "    for i in range(hp.Int(\"conv_layers\",1, 8)):\n",
        "        model.add(Conv2D(hp.Int(f\"conv_{i}_units\", min_value=32, max_value=512, step=32),\n",
        "                         (3, 3), activation=hp.Choice(f'conv_{i}_activation', values = ['tanh', 'relu']) ))\n",
        "    \n",
        "    model.add(MaxPooling2D(pool_size = (2, 2)))\n",
        "    model.add(Dropout(hp.Choice('dropout_1', values = [0.25,0.5,0.75])))\n",
        "    \n",
        "    model.add(Flatten())\n",
        "    for i in range(hp.Int(\"dense_layers\",0, 8)):\n",
        "        model.add(Dense(hp.Int(f\"dense_{i}_units\", min_value=64, max_value=512, step=32), activation='tanh'))\n",
        "    \n",
        "    model.add(Dropout(hp.Choice('dropout_2', values = [0.25,0.5,0.75])))\n",
        "    \n",
        "    model.add(Dense(2, activation='softplus'))\n",
        "    \n",
        "    hp_learning_rate = hp.Choice('learning_rate', values = [1e-3, 1e-4, 1e-5, 1e-6, 1e-7, 1e-8]) \n",
        "    \n",
        "    sgd = SGD(lr = hp_learning_rate, momentum = 0.9, nesterov = True)\n",
        "    model.compile(loss ='categorical_crossentropy', optimizer = sgd,metrics=['accuracy'])\n",
        "    \n",
        "    return model"
      ],
      "execution_count": null,
      "outputs": []
    },
    {
      "cell_type": "markdown",
      "metadata": {
        "id": "6qpmRkSjr0j6"
      },
      "source": [
        "### One-Hot encoding labels"
      ]
    },
    {
      "cell_type": "code",
      "metadata": {
        "id": "tTGC44nKr0j8"
      },
      "source": [
        "y_valance = to_categorical(y_valance, num_classes=2)"
      ],
      "execution_count": null,
      "outputs": []
    },
    {
      "cell_type": "markdown",
      "metadata": {
        "id": "YFQeObHrr0kI"
      },
      "source": [
        "### KFold cross validation before hyperparameter tuning"
      ]
    },
    {
      "cell_type": "code",
      "metadata": {
        "scrolled": true,
        "id": "bHZmA_VPr0kJ"
      },
      "source": [
        "def kfold_validate(X, y, model):\n",
        "    model = build_model()\n",
        "    kf = KFold(n_splits=int(len(X)/40), shuffle=False)\n",
        "    losses = []\n",
        "    accuracies = []\n",
        "    for train_index, test_index in kf.split(X):\n",
        "        X_train, X_test = X[train_index], X[test_index]\n",
        "        y_train, y_test = y[train_index], y[test_index]\n",
        "        \n",
        "        X_train = X_train.reshape(X_train.shape[0], 40, 101, 1)\n",
        "        X_test = X_test.reshape(X_test.shape[0], 40, 101, 1)\n",
        "        \n",
        "        history = model.fit(X_train, y_train, batch_size = 50, \n",
        "                            epochs = 10, validation_data = (X_test, y_test))\n",
        "        score = model.evaluate(X_test, y_test, batch_size = 1)\n",
        "        losses.append(score[0])\n",
        "        accuracies.append(score[1])\n",
        "        \n",
        "    return (losses, accuracies)"
      ],
      "execution_count": null,
      "outputs": []
    },
    {
      "cell_type": "code",
      "metadata": {
        "scrolled": true,
        "id": "l5vAdLOgr0kT",
        "outputId": "d92034e1-017c-4d3f-b1ac-c2698a8fe3fc",
        "colab": {
          "base_uri": "https://localhost:8080/",
          "height": 1000
        }
      },
      "source": [
        "base_losses, base_accuracies = kfold_validate(X, y_valance, build_model())\n",
        "print(\"max loss = \",max(base_losses))\n",
        "print(\"max accuracy = \",max(base_accuracies))"
      ],
      "execution_count": null,
      "outputs": [
        {
          "output_type": "stream",
          "text": [
            "Epoch 1/10\n",
            "25/25 [==============================] - 1s 41ms/step - loss: 0.8587 - accuracy: 0.5073 - val_loss: 0.7436 - val_accuracy: 0.5000\n",
            "Epoch 2/10\n",
            "25/25 [==============================] - 1s 35ms/step - loss: 0.8107 - accuracy: 0.5282 - val_loss: 0.7416 - val_accuracy: 0.4750\n",
            "Epoch 3/10\n",
            "25/25 [==============================] - 1s 35ms/step - loss: 0.7417 - accuracy: 0.5210 - val_loss: 0.7127 - val_accuracy: 0.4750\n",
            "Epoch 4/10\n",
            "25/25 [==============================] - 1s 35ms/step - loss: 0.7274 - accuracy: 0.5282 - val_loss: 0.7102 - val_accuracy: 0.4750\n",
            "Epoch 5/10\n",
            "25/25 [==============================] - 1s 36ms/step - loss: 0.7234 - accuracy: 0.5371 - val_loss: 0.7061 - val_accuracy: 0.4750\n",
            "Epoch 6/10\n",
            "25/25 [==============================] - 1s 35ms/step - loss: 0.7290 - accuracy: 0.5024 - val_loss: 0.7057 - val_accuracy: 0.4750\n",
            "Epoch 7/10\n",
            "25/25 [==============================] - 1s 35ms/step - loss: 0.7179 - accuracy: 0.5315 - val_loss: 0.7067 - val_accuracy: 0.4750\n",
            "Epoch 8/10\n",
            "25/25 [==============================] - 1s 35ms/step - loss: 0.6999 - accuracy: 0.5290 - val_loss: 0.7049 - val_accuracy: 0.4750\n",
            "Epoch 9/10\n",
            "25/25 [==============================] - 1s 35ms/step - loss: 0.7049 - accuracy: 0.5355 - val_loss: 0.7031 - val_accuracy: 0.4750\n",
            "Epoch 10/10\n",
            "25/25 [==============================] - 1s 36ms/step - loss: 0.7054 - accuracy: 0.5355 - val_loss: 0.7091 - val_accuracy: 0.4750\n",
            " 1/40 [..............................] - ETA: 0s - loss: 0.5925 - accuracy: 1.0000WARNING:tensorflow:Callbacks method `on_test_batch_end` is slow compared to the batch time (batch time: 0.0020s vs `on_test_batch_end` time: 0.0037s). Check your callbacks.\n",
            "40/40 [==============================] - 0s 2ms/step - loss: 0.7091 - accuracy: 0.4750\n",
            "Epoch 1/10\n",
            "25/25 [==============================] - 1s 37ms/step - loss: 0.7084 - accuracy: 0.5460 - val_loss: 0.6751 - val_accuracy: 0.5250\n",
            "Epoch 2/10\n",
            "25/25 [==============================] - 1s 36ms/step - loss: 0.7051 - accuracy: 0.5065 - val_loss: 0.6776 - val_accuracy: 0.5500\n",
            "Epoch 3/10\n",
            "25/25 [==============================] - 1s 36ms/step - loss: 0.7024 - accuracy: 0.5387 - val_loss: 0.6768 - val_accuracy: 0.5500\n",
            "Epoch 4/10\n",
            "25/25 [==============================] - 1s 35ms/step - loss: 0.7000 - accuracy: 0.5331 - val_loss: 0.6754 - val_accuracy: 0.5500\n",
            "Epoch 5/10\n",
            "25/25 [==============================] - 1s 36ms/step - loss: 0.6955 - accuracy: 0.5484 - val_loss: 0.6769 - val_accuracy: 0.5500\n",
            "Epoch 6/10\n",
            "25/25 [==============================] - 1s 36ms/step - loss: 0.6912 - accuracy: 0.5613 - val_loss: 0.6773 - val_accuracy: 0.5500\n",
            "Epoch 7/10\n",
            "25/25 [==============================] - 1s 36ms/step - loss: 0.6919 - accuracy: 0.5411 - val_loss: 0.6769 - val_accuracy: 0.5500\n",
            "Epoch 8/10\n",
            "25/25 [==============================] - 1s 36ms/step - loss: 0.7035 - accuracy: 0.5210 - val_loss: 0.6777 - val_accuracy: 0.5750\n",
            "Epoch 9/10\n",
            "25/25 [==============================] - 1s 36ms/step - loss: 0.6936 - accuracy: 0.5613 - val_loss: 0.6768 - val_accuracy: 0.5500\n",
            "Epoch 10/10\n",
            "25/25 [==============================] - 1s 36ms/step - loss: 0.6872 - accuracy: 0.5468 - val_loss: 0.6764 - val_accuracy: 0.5750\n",
            "40/40 [==============================] - 0s 2ms/step - loss: 0.6764 - accuracy: 0.5750\n",
            "Epoch 1/10\n",
            "25/25 [==============================] - 1s 37ms/step - loss: 0.6954 - accuracy: 0.5403 - val_loss: 0.6614 - val_accuracy: 0.5500\n",
            "Epoch 2/10\n",
            "25/25 [==============================] - 1s 36ms/step - loss: 0.6973 - accuracy: 0.5242 - val_loss: 0.6619 - val_accuracy: 0.5750\n",
            "Epoch 3/10\n",
            "25/25 [==============================] - 1s 36ms/step - loss: 0.6962 - accuracy: 0.5452 - val_loss: 0.6614 - val_accuracy: 0.5500\n",
            "Epoch 4/10\n",
            "25/25 [==============================] - 1s 36ms/step - loss: 0.6932 - accuracy: 0.5339 - val_loss: 0.6618 - val_accuracy: 0.5500\n",
            "Epoch 5/10\n",
            "25/25 [==============================] - 1s 36ms/step - loss: 0.6872 - accuracy: 0.5492 - val_loss: 0.6620 - val_accuracy: 0.5500\n",
            "Epoch 6/10\n",
            "25/25 [==============================] - 1s 36ms/step - loss: 0.6839 - accuracy: 0.5597 - val_loss: 0.6617 - val_accuracy: 0.5500\n",
            "Epoch 7/10\n",
            "25/25 [==============================] - 1s 36ms/step - loss: 0.6845 - accuracy: 0.5734 - val_loss: 0.6621 - val_accuracy: 0.5500\n",
            "Epoch 8/10\n",
            "25/25 [==============================] - 1s 36ms/step - loss: 0.7000 - accuracy: 0.5339 - val_loss: 0.6622 - val_accuracy: 0.5500\n",
            "Epoch 9/10\n",
            "25/25 [==============================] - 1s 36ms/step - loss: 0.6913 - accuracy: 0.5524 - val_loss: 0.6623 - val_accuracy: 0.5500\n",
            "Epoch 10/10\n",
            "25/25 [==============================] - 1s 36ms/step - loss: 0.6924 - accuracy: 0.5387 - val_loss: 0.6618 - val_accuracy: 0.5500\n",
            "40/40 [==============================] - 0s 2ms/step - loss: 0.6618 - accuracy: 0.5500\n",
            "Epoch 1/10\n",
            "25/25 [==============================] - 1s 37ms/step - loss: 0.6826 - accuracy: 0.5718 - val_loss: 0.7050 - val_accuracy: 0.4250\n",
            "Epoch 2/10\n",
            "25/25 [==============================] - 1s 36ms/step - loss: 0.6908 - accuracy: 0.5460 - val_loss: 0.7088 - val_accuracy: 0.4000\n",
            "Epoch 3/10\n",
            "25/25 [==============================] - 1s 36ms/step - loss: 0.6827 - accuracy: 0.5589 - val_loss: 0.7034 - val_accuracy: 0.4500\n",
            "Epoch 4/10\n",
            "25/25 [==============================] - 1s 36ms/step - loss: 0.6822 - accuracy: 0.5548 - val_loss: 0.7089 - val_accuracy: 0.4000\n",
            "Epoch 5/10\n",
            "25/25 [==============================] - 1s 36ms/step - loss: 0.6753 - accuracy: 0.5855 - val_loss: 0.7049 - val_accuracy: 0.4250\n",
            "Epoch 6/10\n",
            "25/25 [==============================] - 1s 36ms/step - loss: 0.6778 - accuracy: 0.5677 - val_loss: 0.7055 - val_accuracy: 0.4750\n",
            "Epoch 7/10\n",
            "25/25 [==============================] - 1s 36ms/step - loss: 0.6861 - accuracy: 0.5524 - val_loss: 0.7116 - val_accuracy: 0.4000\n",
            "Epoch 8/10\n",
            "25/25 [==============================] - 1s 36ms/step - loss: 0.6730 - accuracy: 0.5911 - val_loss: 0.7072 - val_accuracy: 0.4000\n",
            "Epoch 9/10\n",
            "25/25 [==============================] - 1s 36ms/step - loss: 0.6859 - accuracy: 0.5476 - val_loss: 0.7031 - val_accuracy: 0.4750\n",
            "Epoch 10/10\n",
            "25/25 [==============================] - 1s 36ms/step - loss: 0.6767 - accuracy: 0.5613 - val_loss: 0.7103 - val_accuracy: 0.4000\n",
            "40/40 [==============================] - 0s 2ms/step - loss: 0.7103 - accuracy: 0.4000\n",
            "Epoch 1/10\n",
            "25/25 [==============================] - 1s 37ms/step - loss: 0.6794 - accuracy: 0.5782 - val_loss: 0.6559 - val_accuracy: 0.6500\n",
            "Epoch 2/10\n",
            "25/25 [==============================] - 1s 36ms/step - loss: 0.6821 - accuracy: 0.5685 - val_loss: 0.6558 - val_accuracy: 0.6500\n",
            "Epoch 3/10\n",
            "25/25 [==============================] - 1s 36ms/step - loss: 0.6868 - accuracy: 0.5540 - val_loss: 0.6557 - val_accuracy: 0.6500\n",
            "Epoch 4/10\n",
            "25/25 [==============================] - 1s 36ms/step - loss: 0.6869 - accuracy: 0.5613 - val_loss: 0.6553 - val_accuracy: 0.6500\n",
            "Epoch 5/10\n",
            "25/25 [==============================] - 1s 36ms/step - loss: 0.6877 - accuracy: 0.5637 - val_loss: 0.6561 - val_accuracy: 0.6500\n",
            "Epoch 6/10\n",
            "25/25 [==============================] - 1s 36ms/step - loss: 0.6795 - accuracy: 0.5669 - val_loss: 0.6540 - val_accuracy: 0.6000\n",
            "Epoch 7/10\n",
            "25/25 [==============================] - 1s 35ms/step - loss: 0.6846 - accuracy: 0.5556 - val_loss: 0.6543 - val_accuracy: 0.6250\n",
            "Epoch 8/10\n",
            "25/25 [==============================] - 1s 36ms/step - loss: 0.6826 - accuracy: 0.5556 - val_loss: 0.6571 - val_accuracy: 0.6500\n",
            "Epoch 9/10\n",
            "25/25 [==============================] - 1s 35ms/step - loss: 0.6786 - accuracy: 0.5774 - val_loss: 0.6580 - val_accuracy: 0.6500\n",
            "Epoch 10/10\n",
            "25/25 [==============================] - 1s 36ms/step - loss: 0.6733 - accuracy: 0.5855 - val_loss: 0.6538 - val_accuracy: 0.6000\n",
            "40/40 [==============================] - 0s 2ms/step - loss: 0.6538 - accuracy: 0.6000\n",
            "Epoch 1/10\n",
            "25/25 [==============================] - 1s 36ms/step - loss: 0.6846 - accuracy: 0.5581 - val_loss: 0.6181 - val_accuracy: 0.7500\n",
            "Epoch 2/10\n",
            "25/25 [==============================] - 1s 35ms/step - loss: 0.6841 - accuracy: 0.5685 - val_loss: 0.6206 - val_accuracy: 0.7500\n",
            "Epoch 3/10\n",
            "25/25 [==============================] - 1s 36ms/step - loss: 0.6936 - accuracy: 0.5532 - val_loss: 0.6278 - val_accuracy: 0.7500\n",
            "Epoch 4/10\n",
            "25/25 [==============================] - 1s 36ms/step - loss: 0.6838 - accuracy: 0.5548 - val_loss: 0.6240 - val_accuracy: 0.7500\n",
            "Epoch 5/10\n",
            "25/25 [==============================] - 1s 36ms/step - loss: 0.6810 - accuracy: 0.5645 - val_loss: 0.6212 - val_accuracy: 0.7500\n",
            "Epoch 6/10\n",
            "25/25 [==============================] - 1s 35ms/step - loss: 0.6814 - accuracy: 0.5629 - val_loss: 0.6279 - val_accuracy: 0.7500\n",
            "Epoch 7/10\n",
            "25/25 [==============================] - 1s 36ms/step - loss: 0.6861 - accuracy: 0.5532 - val_loss: 0.6261 - val_accuracy: 0.7500\n",
            "Epoch 8/10\n",
            "25/25 [==============================] - 1s 36ms/step - loss: 0.6854 - accuracy: 0.5419 - val_loss: 0.6240 - val_accuracy: 0.7500\n",
            "Epoch 9/10\n",
            "25/25 [==============================] - 1s 36ms/step - loss: 0.6763 - accuracy: 0.5831 - val_loss: 0.6258 - val_accuracy: 0.7500\n",
            "Epoch 10/10\n",
            "25/25 [==============================] - 1s 35ms/step - loss: 0.6779 - accuracy: 0.5782 - val_loss: 0.6262 - val_accuracy: 0.7500\n",
            "40/40 [==============================] - 0s 2ms/step - loss: 0.6262 - accuracy: 0.7500\n",
            "Epoch 1/10\n",
            "25/25 [==============================] - 1s 37ms/step - loss: 0.6731 - accuracy: 0.5726 - val_loss: 0.6396 - val_accuracy: 0.7000\n",
            "Epoch 2/10\n",
            "25/25 [==============================] - 1s 35ms/step - loss: 0.6763 - accuracy: 0.5806 - val_loss: 0.6412 - val_accuracy: 0.7000\n",
            "Epoch 3/10\n",
            "25/25 [==============================] - 1s 36ms/step - loss: 0.6813 - accuracy: 0.5661 - val_loss: 0.6414 - val_accuracy: 0.7000\n",
            "Epoch 4/10\n",
            "25/25 [==============================] - 1s 36ms/step - loss: 0.6799 - accuracy: 0.5726 - val_loss: 0.6374 - val_accuracy: 0.7000\n",
            "Epoch 5/10\n",
            "25/25 [==============================] - 1s 36ms/step - loss: 0.6783 - accuracy: 0.5645 - val_loss: 0.6379 - val_accuracy: 0.7000\n",
            "Epoch 6/10\n",
            "25/25 [==============================] - 1s 35ms/step - loss: 0.6841 - accuracy: 0.5661 - val_loss: 0.6364 - val_accuracy: 0.7000\n",
            "Epoch 7/10\n",
            "25/25 [==============================] - 1s 36ms/step - loss: 0.6775 - accuracy: 0.5685 - val_loss: 0.6448 - val_accuracy: 0.7000\n",
            "Epoch 8/10\n",
            "25/25 [==============================] - 1s 35ms/step - loss: 0.6796 - accuracy: 0.5734 - val_loss: 0.6451 - val_accuracy: 0.7000\n",
            "Epoch 9/10\n",
            "25/25 [==============================] - 1s 35ms/step - loss: 0.6830 - accuracy: 0.5661 - val_loss: 0.6444 - val_accuracy: 0.7000\n",
            "Epoch 10/10\n",
            "25/25 [==============================] - 1s 35ms/step - loss: 0.6741 - accuracy: 0.5750 - val_loss: 0.6368 - val_accuracy: 0.7000\n",
            "40/40 [==============================] - 0s 2ms/step - loss: 0.6368 - accuracy: 0.7000\n",
            "Epoch 1/10\n",
            "25/25 [==============================] - 1s 36ms/step - loss: 0.6736 - accuracy: 0.5927 - val_loss: 0.6908 - val_accuracy: 0.5750\n",
            "Epoch 2/10\n",
            "25/25 [==============================] - 1s 35ms/step - loss: 0.6774 - accuracy: 0.5911 - val_loss: 0.6909 - val_accuracy: 0.5750\n",
            "Epoch 3/10\n",
            "25/25 [==============================] - 1s 36ms/step - loss: 0.6725 - accuracy: 0.5847 - val_loss: 0.6917 - val_accuracy: 0.6000\n",
            "Epoch 4/10\n",
            "25/25 [==============================] - 1s 35ms/step - loss: 0.6749 - accuracy: 0.5871 - val_loss: 0.6917 - val_accuracy: 0.6250\n",
            "Epoch 5/10\n",
            "25/25 [==============================] - 1s 36ms/step - loss: 0.6689 - accuracy: 0.5935 - val_loss: 0.6919 - val_accuracy: 0.6000\n",
            "Epoch 6/10\n",
            "25/25 [==============================] - 1s 35ms/step - loss: 0.6625 - accuracy: 0.6097 - val_loss: 0.6924 - val_accuracy: 0.6000\n",
            "Epoch 7/10\n",
            "25/25 [==============================] - 1s 35ms/step - loss: 0.6670 - accuracy: 0.5879 - val_loss: 0.6927 - val_accuracy: 0.5750\n",
            "Epoch 8/10\n",
            "25/25 [==============================] - 1s 36ms/step - loss: 0.6694 - accuracy: 0.5766 - val_loss: 0.6934 - val_accuracy: 0.5750\n",
            "Epoch 9/10\n",
            "25/25 [==============================] - 1s 36ms/step - loss: 0.6708 - accuracy: 0.5734 - val_loss: 0.6928 - val_accuracy: 0.5750\n",
            "Epoch 10/10\n",
            "25/25 [==============================] - 1s 36ms/step - loss: 0.6666 - accuracy: 0.5895 - val_loss: 0.6927 - val_accuracy: 0.6000\n",
            "40/40 [==============================] - 0s 2ms/step - loss: 0.6927 - accuracy: 0.6000\n",
            "Epoch 1/10\n",
            "25/25 [==============================] - 1s 37ms/step - loss: 0.6650 - accuracy: 0.6129 - val_loss: 0.6581 - val_accuracy: 0.7250\n",
            "Epoch 2/10\n",
            "25/25 [==============================] - 1s 35ms/step - loss: 0.6738 - accuracy: 0.5871 - val_loss: 0.6583 - val_accuracy: 0.7000\n",
            "Epoch 3/10\n",
            "25/25 [==============================] - 1s 36ms/step - loss: 0.6720 - accuracy: 0.5758 - val_loss: 0.6589 - val_accuracy: 0.7500\n",
            "Epoch 4/10\n",
            "25/25 [==============================] - 1s 36ms/step - loss: 0.6682 - accuracy: 0.6097 - val_loss: 0.6584 - val_accuracy: 0.6500\n",
            "Epoch 5/10\n",
            "25/25 [==============================] - 1s 36ms/step - loss: 0.6665 - accuracy: 0.5790 - val_loss: 0.6601 - val_accuracy: 0.7500\n",
            "Epoch 6/10\n",
            "25/25 [==============================] - 1s 36ms/step - loss: 0.6659 - accuracy: 0.6016 - val_loss: 0.6583 - val_accuracy: 0.7250\n",
            "Epoch 7/10\n",
            "25/25 [==============================] - 1s 35ms/step - loss: 0.6710 - accuracy: 0.5992 - val_loss: 0.6587 - val_accuracy: 0.7250\n",
            "Epoch 8/10\n",
            "25/25 [==============================] - 1s 35ms/step - loss: 0.6635 - accuracy: 0.6113 - val_loss: 0.6582 - val_accuracy: 0.8000\n",
            "Epoch 9/10\n",
            "25/25 [==============================] - 1s 35ms/step - loss: 0.6729 - accuracy: 0.6024 - val_loss: 0.6582 - val_accuracy: 0.6750\n",
            "Epoch 10/10\n",
            "25/25 [==============================] - 1s 35ms/step - loss: 0.6672 - accuracy: 0.5758 - val_loss: 0.6585 - val_accuracy: 0.6500\n",
            "40/40 [==============================] - 0s 2ms/step - loss: 0.6585 - accuracy: 0.6500\n",
            "Epoch 1/10\n",
            "25/25 [==============================] - 1s 36ms/step - loss: 0.6717 - accuracy: 0.5847 - val_loss: 0.6663 - val_accuracy: 0.7000\n",
            "Epoch 2/10\n",
            "25/25 [==============================] - 1s 35ms/step - loss: 0.6682 - accuracy: 0.5887 - val_loss: 0.6681 - val_accuracy: 0.6500\n",
            "Epoch 3/10\n",
            "25/25 [==============================] - 1s 35ms/step - loss: 0.6644 - accuracy: 0.5984 - val_loss: 0.6676 - val_accuracy: 0.6500\n",
            "Epoch 4/10\n",
            "25/25 [==============================] - 1s 35ms/step - loss: 0.6661 - accuracy: 0.5984 - val_loss: 0.6678 - val_accuracy: 0.6250\n",
            "Epoch 5/10\n",
            "25/25 [==============================] - 1s 36ms/step - loss: 0.6706 - accuracy: 0.6008 - val_loss: 0.6677 - val_accuracy: 0.6500\n",
            "Epoch 6/10\n",
            "25/25 [==============================] - 1s 36ms/step - loss: 0.6553 - accuracy: 0.6105 - val_loss: 0.6685 - val_accuracy: 0.6250\n",
            "Epoch 7/10\n",
            "25/25 [==============================] - 1s 35ms/step - loss: 0.6685 - accuracy: 0.5927 - val_loss: 0.6710 - val_accuracy: 0.6000\n",
            "Epoch 8/10\n",
            "25/25 [==============================] - 1s 36ms/step - loss: 0.6780 - accuracy: 0.5597 - val_loss: 0.6688 - val_accuracy: 0.6250\n",
            "Epoch 9/10\n",
            "25/25 [==============================] - 1s 35ms/step - loss: 0.6713 - accuracy: 0.5895 - val_loss: 0.6679 - val_accuracy: 0.6250\n",
            "Epoch 10/10\n",
            "25/25 [==============================] - 1s 35ms/step - loss: 0.6687 - accuracy: 0.5847 - val_loss: 0.6683 - val_accuracy: 0.6250\n",
            "40/40 [==============================] - 0s 2ms/step - loss: 0.6683 - accuracy: 0.6250\n",
            "Epoch 1/10\n",
            "25/25 [==============================] - 1s 36ms/step - loss: 0.6711 - accuracy: 0.5823 - val_loss: 0.6325 - val_accuracy: 0.6250\n",
            "Epoch 2/10\n",
            "25/25 [==============================] - 1s 36ms/step - loss: 0.6652 - accuracy: 0.5927 - val_loss: 0.6355 - val_accuracy: 0.6750\n",
            "Epoch 3/10\n",
            "25/25 [==============================] - 1s 36ms/step - loss: 0.6675 - accuracy: 0.6024 - val_loss: 0.6364 - val_accuracy: 0.7250\n",
            "Epoch 4/10\n",
            "25/25 [==============================] - 1s 35ms/step - loss: 0.6734 - accuracy: 0.5863 - val_loss: 0.6351 - val_accuracy: 0.6500\n",
            "Epoch 5/10\n",
            "25/25 [==============================] - 1s 35ms/step - loss: 0.6718 - accuracy: 0.5806 - val_loss: 0.6358 - val_accuracy: 0.7750\n",
            "Epoch 6/10\n",
            "25/25 [==============================] - 1s 36ms/step - loss: 0.6671 - accuracy: 0.5798 - val_loss: 0.6318 - val_accuracy: 0.6250\n",
            "Epoch 7/10\n",
            "25/25 [==============================] - 1s 36ms/step - loss: 0.6664 - accuracy: 0.5976 - val_loss: 0.6334 - val_accuracy: 0.6250\n",
            "Epoch 8/10\n",
            "25/25 [==============================] - 1s 35ms/step - loss: 0.6715 - accuracy: 0.5855 - val_loss: 0.6347 - val_accuracy: 0.6500\n",
            "Epoch 9/10\n",
            "25/25 [==============================] - 1s 35ms/step - loss: 0.6664 - accuracy: 0.5815 - val_loss: 0.6365 - val_accuracy: 0.6750\n",
            "Epoch 10/10\n",
            "25/25 [==============================] - 1s 36ms/step - loss: 0.6637 - accuracy: 0.6032 - val_loss: 0.6391 - val_accuracy: 0.8000\n",
            "40/40 [==============================] - 0s 2ms/step - loss: 0.6391 - accuracy: 0.8000\n",
            "Epoch 1/10\n",
            "25/25 [==============================] - 1s 36ms/step - loss: 0.6733 - accuracy: 0.5919 - val_loss: 0.6836 - val_accuracy: 0.6750\n",
            "Epoch 2/10\n",
            "25/25 [==============================] - 1s 35ms/step - loss: 0.6681 - accuracy: 0.6016 - val_loss: 0.6837 - val_accuracy: 0.7000\n",
            "Epoch 3/10\n",
            "25/25 [==============================] - 1s 35ms/step - loss: 0.6645 - accuracy: 0.5927 - val_loss: 0.6833 - val_accuracy: 0.7000\n",
            "Epoch 4/10\n",
            "25/25 [==============================] - 1s 36ms/step - loss: 0.6737 - accuracy: 0.5952 - val_loss: 0.6844 - val_accuracy: 0.6750\n",
            "Epoch 5/10\n",
            "25/25 [==============================] - 1s 36ms/step - loss: 0.6588 - accuracy: 0.6081 - val_loss: 0.6843 - val_accuracy: 0.7000\n",
            "Epoch 6/10\n",
            "25/25 [==============================] - 1s 36ms/step - loss: 0.6658 - accuracy: 0.6008 - val_loss: 0.6848 - val_accuracy: 0.6750\n",
            "Epoch 7/10\n",
            "25/25 [==============================] - 1s 36ms/step - loss: 0.6689 - accuracy: 0.5742 - val_loss: 0.6851 - val_accuracy: 0.6750\n",
            "Epoch 8/10\n",
            "25/25 [==============================] - 1s 36ms/step - loss: 0.6607 - accuracy: 0.6113 - val_loss: 0.6855 - val_accuracy: 0.6750\n",
            "Epoch 9/10\n",
            "25/25 [==============================] - 1s 36ms/step - loss: 0.6617 - accuracy: 0.6081 - val_loss: 0.6864 - val_accuracy: 0.6500\n",
            "Epoch 10/10\n",
            "25/25 [==============================] - 1s 36ms/step - loss: 0.6641 - accuracy: 0.6048 - val_loss: 0.6861 - val_accuracy: 0.6750\n",
            "40/40 [==============================] - 0s 2ms/step - loss: 0.6861 - accuracy: 0.6750\n",
            "Epoch 1/10\n",
            "25/25 [==============================] - 1s 36ms/step - loss: 0.6676 - accuracy: 0.6016 - val_loss: 0.6601 - val_accuracy: 0.7500\n",
            "Epoch 2/10\n",
            "25/25 [==============================] - 1s 35ms/step - loss: 0.6607 - accuracy: 0.6016 - val_loss: 0.6595 - val_accuracy: 0.7250\n",
            "Epoch 3/10\n",
            "25/25 [==============================] - 1s 35ms/step - loss: 0.6625 - accuracy: 0.6105 - val_loss: 0.6603 - val_accuracy: 0.7500\n",
            "Epoch 4/10\n",
            "25/25 [==============================] - 1s 36ms/step - loss: 0.6613 - accuracy: 0.6065 - val_loss: 0.6613 - val_accuracy: 0.7500\n",
            "Epoch 5/10\n",
            "25/25 [==============================] - 1s 36ms/step - loss: 0.6508 - accuracy: 0.6194 - val_loss: 0.6603 - val_accuracy: 0.6750\n",
            "Epoch 6/10\n",
            "25/25 [==============================] - 1s 36ms/step - loss: 0.6559 - accuracy: 0.6113 - val_loss: 0.6634 - val_accuracy: 0.7500\n",
            "Epoch 7/10\n",
            "25/25 [==============================] - 1s 36ms/step - loss: 0.6546 - accuracy: 0.6137 - val_loss: 0.6608 - val_accuracy: 0.7500\n",
            "Epoch 8/10\n",
            "25/25 [==============================] - 1s 36ms/step - loss: 0.6592 - accuracy: 0.6194 - val_loss: 0.6617 - val_accuracy: 0.7500\n",
            "Epoch 9/10\n",
            "25/25 [==============================] - 1s 35ms/step - loss: 0.6630 - accuracy: 0.5879 - val_loss: 0.6635 - val_accuracy: 0.7250\n",
            "Epoch 10/10\n",
            "25/25 [==============================] - 1s 35ms/step - loss: 0.6563 - accuracy: 0.5944 - val_loss: 0.6626 - val_accuracy: 0.7500\n",
            "40/40 [==============================] - 0s 2ms/step - loss: 0.6626 - accuracy: 0.7500\n",
            "Epoch 1/10\n",
            "25/25 [==============================] - 1s 37ms/step - loss: 0.6550 - accuracy: 0.6040 - val_loss: 0.6411 - val_accuracy: 0.6750\n",
            "Epoch 2/10\n",
            "25/25 [==============================] - 1s 35ms/step - loss: 0.6636 - accuracy: 0.6105 - val_loss: 0.6438 - val_accuracy: 0.6500\n",
            "Epoch 3/10\n",
            "25/25 [==============================] - 1s 36ms/step - loss: 0.6500 - accuracy: 0.6234 - val_loss: 0.6457 - val_accuracy: 0.6500\n",
            "Epoch 4/10\n",
            "25/25 [==============================] - 1s 36ms/step - loss: 0.6685 - accuracy: 0.6056 - val_loss: 0.6418 - val_accuracy: 0.6500\n",
            "Epoch 5/10\n",
            "25/25 [==============================] - 1s 36ms/step - loss: 0.6524 - accuracy: 0.6242 - val_loss: 0.6444 - val_accuracy: 0.6750\n",
            "Epoch 6/10\n",
            "25/25 [==============================] - 1s 36ms/step - loss: 0.6541 - accuracy: 0.6153 - val_loss: 0.6442 - val_accuracy: 0.6500\n",
            "Epoch 7/10\n",
            "25/25 [==============================] - 1s 36ms/step - loss: 0.6486 - accuracy: 0.6242 - val_loss: 0.6438 - val_accuracy: 0.6500\n",
            "Epoch 8/10\n",
            "25/25 [==============================] - 1s 36ms/step - loss: 0.6592 - accuracy: 0.6048 - val_loss: 0.6437 - val_accuracy: 0.6500\n",
            "Epoch 9/10\n",
            "25/25 [==============================] - 1s 36ms/step - loss: 0.6638 - accuracy: 0.6210 - val_loss: 0.6430 - val_accuracy: 0.6750\n",
            "Epoch 10/10\n",
            "25/25 [==============================] - 1s 36ms/step - loss: 0.6534 - accuracy: 0.6145 - val_loss: 0.6431 - val_accuracy: 0.6750\n",
            "40/40 [==============================] - 0s 2ms/step - loss: 0.6431 - accuracy: 0.6750\n",
            "Epoch 1/10\n",
            "25/25 [==============================] - 1s 36ms/step - loss: 0.6603 - accuracy: 0.6073 - val_loss: 0.6060 - val_accuracy: 0.8250\n",
            "Epoch 2/10\n",
            "25/25 [==============================] - 1s 36ms/step - loss: 0.6618 - accuracy: 0.6016 - val_loss: 0.6077 - val_accuracy: 0.8250\n",
            "Epoch 3/10\n",
            "25/25 [==============================] - 1s 36ms/step - loss: 0.6644 - accuracy: 0.5960 - val_loss: 0.6050 - val_accuracy: 0.8500\n",
            "Epoch 4/10\n",
            "25/25 [==============================] - 1s 36ms/step - loss: 0.6547 - accuracy: 0.6161 - val_loss: 0.6051 - val_accuracy: 0.8250\n",
            "Epoch 5/10\n",
            "25/25 [==============================] - 1s 36ms/step - loss: 0.6552 - accuracy: 0.6153 - val_loss: 0.6038 - val_accuracy: 0.8250\n",
            "Epoch 6/10\n",
            "25/25 [==============================] - 1s 36ms/step - loss: 0.6463 - accuracy: 0.6234 - val_loss: 0.6020 - val_accuracy: 0.8250\n",
            "Epoch 7/10\n",
            "25/25 [==============================] - 1s 36ms/step - loss: 0.6523 - accuracy: 0.6331 - val_loss: 0.6020 - val_accuracy: 0.9000\n",
            "Epoch 8/10\n",
            "25/25 [==============================] - 1s 35ms/step - loss: 0.6437 - accuracy: 0.6258 - val_loss: 0.6010 - val_accuracy: 0.9000\n",
            "Epoch 9/10\n",
            "25/25 [==============================] - 1s 36ms/step - loss: 0.6547 - accuracy: 0.6210 - val_loss: 0.5983 - val_accuracy: 0.8250\n",
            "Epoch 10/10\n",
            "25/25 [==============================] - 1s 36ms/step - loss: 0.6558 - accuracy: 0.6113 - val_loss: 0.6005 - val_accuracy: 0.9000\n",
            "40/40 [==============================] - 0s 2ms/step - loss: 0.6005 - accuracy: 0.9000\n",
            "Epoch 1/10\n",
            "25/25 [==============================] - 1s 37ms/step - loss: 0.6461 - accuracy: 0.6331 - val_loss: 0.6491 - val_accuracy: 0.6000\n",
            "Epoch 2/10\n",
            "25/25 [==============================] - 1s 35ms/step - loss: 0.6601 - accuracy: 0.5935 - val_loss: 0.6519 - val_accuracy: 0.5750\n",
            "Epoch 3/10\n",
            "25/25 [==============================] - 1s 35ms/step - loss: 0.6544 - accuracy: 0.6000 - val_loss: 0.6498 - val_accuracy: 0.6000\n",
            "Epoch 4/10\n",
            "25/25 [==============================] - 1s 36ms/step - loss: 0.6564 - accuracy: 0.6153 - val_loss: 0.6497 - val_accuracy: 0.6250\n",
            "Epoch 5/10\n",
            "25/25 [==============================] - 1s 36ms/step - loss: 0.6470 - accuracy: 0.6411 - val_loss: 0.6500 - val_accuracy: 0.6250\n",
            "Epoch 6/10\n",
            "25/25 [==============================] - 1s 35ms/step - loss: 0.6579 - accuracy: 0.5984 - val_loss: 0.6496 - val_accuracy: 0.6750\n",
            "Epoch 7/10\n",
            "25/25 [==============================] - 1s 35ms/step - loss: 0.6481 - accuracy: 0.6218 - val_loss: 0.6503 - val_accuracy: 0.5750\n",
            "Epoch 8/10\n",
            "25/25 [==============================] - 1s 36ms/step - loss: 0.6589 - accuracy: 0.6040 - val_loss: 0.6544 - val_accuracy: 0.6000\n",
            "Epoch 9/10\n",
            "25/25 [==============================] - 1s 35ms/step - loss: 0.6490 - accuracy: 0.6210 - val_loss: 0.6530 - val_accuracy: 0.5750\n",
            "Epoch 10/10\n",
            "25/25 [==============================] - 1s 36ms/step - loss: 0.6565 - accuracy: 0.6056 - val_loss: 0.6578 - val_accuracy: 0.5750\n",
            "40/40 [==============================] - 0s 2ms/step - loss: 0.6578 - accuracy: 0.5750\n",
            "Epoch 1/10\n",
            "25/25 [==============================] - 1s 36ms/step - loss: 0.6430 - accuracy: 0.6484 - val_loss: 0.6543 - val_accuracy: 0.6000\n",
            "Epoch 2/10\n",
            "25/25 [==============================] - 1s 36ms/step - loss: 0.6418 - accuracy: 0.6427 - val_loss: 0.6544 - val_accuracy: 0.6000\n",
            "Epoch 3/10\n",
            "25/25 [==============================] - 1s 36ms/step - loss: 0.6521 - accuracy: 0.6016 - val_loss: 0.6572 - val_accuracy: 0.6250\n",
            "Epoch 4/10\n",
            "25/25 [==============================] - 1s 36ms/step - loss: 0.6394 - accuracy: 0.6460 - val_loss: 0.6560 - val_accuracy: 0.5750\n",
            "Epoch 5/10\n",
            "25/25 [==============================] - 1s 35ms/step - loss: 0.6373 - accuracy: 0.6347 - val_loss: 0.6602 - val_accuracy: 0.6500\n",
            "Epoch 6/10\n",
            "25/25 [==============================] - 1s 36ms/step - loss: 0.6487 - accuracy: 0.6113 - val_loss: 0.6605 - val_accuracy: 0.6500\n",
            "Epoch 7/10\n",
            "25/25 [==============================] - 1s 36ms/step - loss: 0.6461 - accuracy: 0.6323 - val_loss: 0.6590 - val_accuracy: 0.6250\n",
            "Epoch 8/10\n",
            "25/25 [==============================] - 1s 36ms/step - loss: 0.6385 - accuracy: 0.6411 - val_loss: 0.6592 - val_accuracy: 0.6250\n",
            "Epoch 9/10\n",
            "25/25 [==============================] - 1s 35ms/step - loss: 0.6390 - accuracy: 0.6419 - val_loss: 0.6600 - val_accuracy: 0.6750\n",
            "Epoch 10/10\n",
            "25/25 [==============================] - 1s 35ms/step - loss: 0.6377 - accuracy: 0.6427 - val_loss: 0.6602 - val_accuracy: 0.6750\n",
            "40/40 [==============================] - 0s 2ms/step - loss: 0.6602 - accuracy: 0.6750\n",
            "Epoch 1/10\n",
            "25/25 [==============================] - 1s 36ms/step - loss: 0.6402 - accuracy: 0.6226 - val_loss: 0.6076 - val_accuracy: 0.6000\n",
            "Epoch 2/10\n",
            "25/25 [==============================] - 1s 35ms/step - loss: 0.6434 - accuracy: 0.6363 - val_loss: 0.6065 - val_accuracy: 0.6000\n",
            "Epoch 3/10\n",
            "25/25 [==============================] - 1s 36ms/step - loss: 0.6481 - accuracy: 0.6065 - val_loss: 0.6094 - val_accuracy: 0.6000\n",
            "Epoch 4/10\n",
            "25/25 [==============================] - 1s 36ms/step - loss: 0.6521 - accuracy: 0.6129 - val_loss: 0.6081 - val_accuracy: 0.6000\n",
            "Epoch 5/10\n",
            "25/25 [==============================] - 1s 36ms/step - loss: 0.6512 - accuracy: 0.6242 - val_loss: 0.6085 - val_accuracy: 0.6000\n",
            "Epoch 6/10\n",
            "25/25 [==============================] - 1s 36ms/step - loss: 0.6477 - accuracy: 0.6008 - val_loss: 0.6094 - val_accuracy: 0.6000\n",
            "Epoch 7/10\n",
            "25/25 [==============================] - 1s 35ms/step - loss: 0.6384 - accuracy: 0.6298 - val_loss: 0.6093 - val_accuracy: 0.6000\n",
            "Epoch 8/10\n",
            "25/25 [==============================] - 1s 35ms/step - loss: 0.6464 - accuracy: 0.6258 - val_loss: 0.6134 - val_accuracy: 0.6000\n",
            "Epoch 9/10\n",
            "25/25 [==============================] - 1s 35ms/step - loss: 0.6535 - accuracy: 0.6169 - val_loss: 0.6143 - val_accuracy: 0.6000\n",
            "Epoch 10/10\n",
            "25/25 [==============================] - 1s 35ms/step - loss: 0.6354 - accuracy: 0.6476 - val_loss: 0.6153 - val_accuracy: 0.6000\n",
            "40/40 [==============================] - 0s 2ms/step - loss: 0.6153 - accuracy: 0.6000\n",
            "Epoch 1/10\n",
            "25/25 [==============================] - 1s 37ms/step - loss: 0.6521 - accuracy: 0.6048 - val_loss: 0.6261 - val_accuracy: 0.7000\n",
            "Epoch 2/10\n",
            "25/25 [==============================] - 1s 36ms/step - loss: 0.6486 - accuracy: 0.6113 - val_loss: 0.6255 - val_accuracy: 0.7000\n",
            "Epoch 3/10\n",
            "25/25 [==============================] - 1s 35ms/step - loss: 0.6421 - accuracy: 0.6234 - val_loss: 0.6242 - val_accuracy: 0.7000\n",
            "Epoch 4/10\n",
            "25/25 [==============================] - 1s 35ms/step - loss: 0.6382 - accuracy: 0.6435 - val_loss: 0.6248 - val_accuracy: 0.6750\n",
            "Epoch 5/10\n",
            "25/25 [==============================] - 1s 36ms/step - loss: 0.6532 - accuracy: 0.6113 - val_loss: 0.6256 - val_accuracy: 0.7000\n",
            "Epoch 6/10\n",
            "25/25 [==============================] - 1s 36ms/step - loss: 0.6381 - accuracy: 0.6379 - val_loss: 0.6239 - val_accuracy: 0.7000\n",
            "Epoch 7/10\n",
            "25/25 [==============================] - 1s 36ms/step - loss: 0.6434 - accuracy: 0.6266 - val_loss: 0.6237 - val_accuracy: 0.7000\n",
            "Epoch 8/10\n",
            "25/25 [==============================] - 1s 36ms/step - loss: 0.6539 - accuracy: 0.6250 - val_loss: 0.6270 - val_accuracy: 0.7000\n",
            "Epoch 9/10\n",
            "25/25 [==============================] - 1s 35ms/step - loss: 0.6311 - accuracy: 0.6492 - val_loss: 0.6247 - val_accuracy: 0.7000\n",
            "Epoch 10/10\n",
            "25/25 [==============================] - 1s 36ms/step - loss: 0.6413 - accuracy: 0.6177 - val_loss: 0.6252 - val_accuracy: 0.7250\n",
            "40/40 [==============================] - 0s 2ms/step - loss: 0.6252 - accuracy: 0.7250\n",
            "Epoch 1/10\n",
            "25/25 [==============================] - 1s 36ms/step - loss: 0.6413 - accuracy: 0.6355 - val_loss: 0.5927 - val_accuracy: 0.7750\n",
            "Epoch 2/10\n",
            "25/25 [==============================] - 1s 35ms/step - loss: 0.6394 - accuracy: 0.6444 - val_loss: 0.5899 - val_accuracy: 0.7750\n",
            "Epoch 3/10\n",
            "25/25 [==============================] - 1s 36ms/step - loss: 0.6389 - accuracy: 0.6444 - val_loss: 0.5907 - val_accuracy: 0.7750\n",
            "Epoch 4/10\n",
            "25/25 [==============================] - 1s 35ms/step - loss: 0.6320 - accuracy: 0.6452 - val_loss: 0.5873 - val_accuracy: 0.7250\n",
            "Epoch 5/10\n",
            "25/25 [==============================] - 1s 35ms/step - loss: 0.6287 - accuracy: 0.6573 - val_loss: 0.5870 - val_accuracy: 0.7750\n",
            "Epoch 6/10\n",
            "25/25 [==============================] - 1s 36ms/step - loss: 0.6396 - accuracy: 0.6234 - val_loss: 0.5861 - val_accuracy: 0.7500\n",
            "Epoch 7/10\n",
            "25/25 [==============================] - 1s 35ms/step - loss: 0.6435 - accuracy: 0.6185 - val_loss: 0.5869 - val_accuracy: 0.7500\n",
            "Epoch 8/10\n",
            "25/25 [==============================] - 1s 36ms/step - loss: 0.6411 - accuracy: 0.6250 - val_loss: 0.5878 - val_accuracy: 0.7500\n",
            "Epoch 9/10\n",
            "25/25 [==============================] - 1s 36ms/step - loss: 0.6370 - accuracy: 0.6508 - val_loss: 0.5882 - val_accuracy: 0.7500\n",
            "Epoch 10/10\n",
            "25/25 [==============================] - 1s 35ms/step - loss: 0.6279 - accuracy: 0.6476 - val_loss: 0.5865 - val_accuracy: 0.7500\n",
            "40/40 [==============================] - 0s 2ms/step - loss: 0.5865 - accuracy: 0.7500\n",
            "Epoch 1/10\n",
            "25/25 [==============================] - 1s 36ms/step - loss: 0.6375 - accuracy: 0.6298 - val_loss: 0.6292 - val_accuracy: 0.7250\n",
            "Epoch 2/10\n",
            "25/25 [==============================] - 1s 35ms/step - loss: 0.6350 - accuracy: 0.6371 - val_loss: 0.6304 - val_accuracy: 0.8000\n",
            "Epoch 3/10\n",
            "25/25 [==============================] - 1s 36ms/step - loss: 0.6368 - accuracy: 0.6347 - val_loss: 0.6303 - val_accuracy: 0.7250\n",
            "Epoch 4/10\n",
            "25/25 [==============================] - 1s 35ms/step - loss: 0.6430 - accuracy: 0.6403 - val_loss: 0.6306 - val_accuracy: 0.7250\n",
            "Epoch 5/10\n",
            "25/25 [==============================] - 1s 35ms/step - loss: 0.6421 - accuracy: 0.6371 - val_loss: 0.6329 - val_accuracy: 0.7250\n",
            "Epoch 6/10\n",
            "25/25 [==============================] - 1s 35ms/step - loss: 0.6308 - accuracy: 0.6452 - val_loss: 0.6343 - val_accuracy: 0.7500\n",
            "Epoch 7/10\n",
            "25/25 [==============================] - 1s 36ms/step - loss: 0.6392 - accuracy: 0.6169 - val_loss: 0.6350 - val_accuracy: 0.6000\n",
            "Epoch 8/10\n",
            "25/25 [==============================] - 1s 36ms/step - loss: 0.6327 - accuracy: 0.6290 - val_loss: 0.6344 - val_accuracy: 0.6000\n",
            "Epoch 9/10\n",
            "25/25 [==============================] - 1s 36ms/step - loss: 0.6426 - accuracy: 0.6403 - val_loss: 0.6339 - val_accuracy: 0.7500\n",
            "Epoch 10/10\n",
            "25/25 [==============================] - 1s 36ms/step - loss: 0.6332 - accuracy: 0.6419 - val_loss: 0.6348 - val_accuracy: 0.6250\n",
            "40/40 [==============================] - 0s 2ms/step - loss: 0.6348 - accuracy: 0.6250\n",
            "Epoch 1/10\n",
            "25/25 [==============================] - 1s 36ms/step - loss: 0.6230 - accuracy: 0.6540 - val_loss: 0.6368 - val_accuracy: 0.6000\n",
            "Epoch 2/10\n",
            "25/25 [==============================] - 1s 35ms/step - loss: 0.6379 - accuracy: 0.6363 - val_loss: 0.6345 - val_accuracy: 0.6500\n",
            "Epoch 3/10\n",
            "25/25 [==============================] - 1s 35ms/step - loss: 0.6276 - accuracy: 0.6331 - val_loss: 0.6375 - val_accuracy: 0.6250\n",
            "Epoch 4/10\n",
            "25/25 [==============================] - 1s 36ms/step - loss: 0.6209 - accuracy: 0.6565 - val_loss: 0.6363 - val_accuracy: 0.6500\n",
            "Epoch 5/10\n",
            "25/25 [==============================] - 1s 36ms/step - loss: 0.6402 - accuracy: 0.6419 - val_loss: 0.6369 - val_accuracy: 0.6250\n",
            "Epoch 6/10\n",
            "25/25 [==============================] - 1s 35ms/step - loss: 0.6174 - accuracy: 0.6565 - val_loss: 0.6395 - val_accuracy: 0.6250\n",
            "Epoch 7/10\n",
            "25/25 [==============================] - 1s 36ms/step - loss: 0.6272 - accuracy: 0.6508 - val_loss: 0.6398 - val_accuracy: 0.6250\n",
            "Epoch 8/10\n",
            "25/25 [==============================] - 1s 35ms/step - loss: 0.6283 - accuracy: 0.6427 - val_loss: 0.6395 - val_accuracy: 0.6250\n",
            "Epoch 9/10\n",
            "25/25 [==============================] - 1s 36ms/step - loss: 0.6268 - accuracy: 0.6540 - val_loss: 0.6393 - val_accuracy: 0.6250\n",
            "Epoch 10/10\n",
            "25/25 [==============================] - 1s 36ms/step - loss: 0.6337 - accuracy: 0.6363 - val_loss: 0.6422 - val_accuracy: 0.6500\n",
            "40/40 [==============================] - 0s 2ms/step - loss: 0.6422 - accuracy: 0.6500\n",
            "Epoch 1/10\n",
            "25/25 [==============================] - 1s 36ms/step - loss: 0.6196 - accuracy: 0.6645 - val_loss: 0.5516 - val_accuracy: 0.6500\n",
            "Epoch 2/10\n",
            "25/25 [==============================] - 1s 36ms/step - loss: 0.6298 - accuracy: 0.6500 - val_loss: 0.5489 - val_accuracy: 0.7000\n",
            "Epoch 3/10\n",
            "25/25 [==============================] - 1s 35ms/step - loss: 0.6367 - accuracy: 0.6435 - val_loss: 0.5534 - val_accuracy: 0.6500\n",
            "Epoch 4/10\n",
            "25/25 [==============================] - 1s 35ms/step - loss: 0.6214 - accuracy: 0.6702 - val_loss: 0.5496 - val_accuracy: 0.6750\n",
            "Epoch 5/10\n",
            "25/25 [==============================] - 1s 36ms/step - loss: 0.6240 - accuracy: 0.6500 - val_loss: 0.5484 - val_accuracy: 0.6750\n",
            "Epoch 6/10\n",
            "25/25 [==============================] - 1s 35ms/step - loss: 0.6313 - accuracy: 0.6637 - val_loss: 0.5510 - val_accuracy: 0.6500\n",
            "Epoch 7/10\n",
            "25/25 [==============================] - 1s 35ms/step - loss: 0.6344 - accuracy: 0.6306 - val_loss: 0.5505 - val_accuracy: 0.6750\n",
            "Epoch 8/10\n",
            "25/25 [==============================] - 1s 35ms/step - loss: 0.6316 - accuracy: 0.6427 - val_loss: 0.5544 - val_accuracy: 0.6500\n",
            "Epoch 9/10\n",
            "25/25 [==============================] - 1s 36ms/step - loss: 0.6216 - accuracy: 0.6508 - val_loss: 0.5501 - val_accuracy: 0.6750\n",
            "Epoch 10/10\n",
            "25/25 [==============================] - 1s 35ms/step - loss: 0.6320 - accuracy: 0.6387 - val_loss: 0.5499 - val_accuracy: 0.6750\n",
            "40/40 [==============================] - 0s 2ms/step - loss: 0.5499 - accuracy: 0.6750\n",
            "Epoch 1/10\n",
            "25/25 [==============================] - 1s 36ms/step - loss: 0.6188 - accuracy: 0.6661 - val_loss: 0.5756 - val_accuracy: 0.8000\n",
            "Epoch 2/10\n",
            "25/25 [==============================] - 1s 36ms/step - loss: 0.6042 - accuracy: 0.6968 - val_loss: 0.5824 - val_accuracy: 0.8250\n",
            "Epoch 3/10\n",
            "25/25 [==============================] - 1s 36ms/step - loss: 0.6143 - accuracy: 0.6565 - val_loss: 0.5742 - val_accuracy: 0.8250\n",
            "Epoch 4/10\n",
            "25/25 [==============================] - 1s 36ms/step - loss: 0.6226 - accuracy: 0.6411 - val_loss: 0.5718 - val_accuracy: 0.8250\n",
            "Epoch 5/10\n",
            "25/25 [==============================] - 1s 36ms/step - loss: 0.6311 - accuracy: 0.6298 - val_loss: 0.5784 - val_accuracy: 0.8500\n",
            "Epoch 6/10\n",
            "25/25 [==============================] - 1s 36ms/step - loss: 0.6164 - accuracy: 0.6444 - val_loss: 0.5801 - val_accuracy: 0.9000\n",
            "Epoch 7/10\n",
            "25/25 [==============================] - 1s 36ms/step - loss: 0.6197 - accuracy: 0.6726 - val_loss: 0.5811 - val_accuracy: 0.8250\n",
            "Epoch 8/10\n",
            "25/25 [==============================] - 1s 36ms/step - loss: 0.6278 - accuracy: 0.6508 - val_loss: 0.5799 - val_accuracy: 0.9000\n",
            "Epoch 9/10\n",
            "25/25 [==============================] - 1s 36ms/step - loss: 0.6200 - accuracy: 0.6484 - val_loss: 0.5792 - val_accuracy: 0.9000\n",
            "Epoch 10/10\n",
            "25/25 [==============================] - 1s 36ms/step - loss: 0.6038 - accuracy: 0.6669 - val_loss: 0.5814 - val_accuracy: 0.8000\n",
            "40/40 [==============================] - 0s 2ms/step - loss: 0.5814 - accuracy: 0.8000\n",
            "Epoch 1/10\n",
            "25/25 [==============================] - 1s 37ms/step - loss: 0.6172 - accuracy: 0.6581 - val_loss: 0.5768 - val_accuracy: 0.8000\n",
            "Epoch 2/10\n",
            "25/25 [==============================] - 1s 36ms/step - loss: 0.6138 - accuracy: 0.6710 - val_loss: 0.5852 - val_accuracy: 0.7750\n",
            "Epoch 3/10\n",
            "25/25 [==============================] - 1s 36ms/step - loss: 0.6170 - accuracy: 0.6661 - val_loss: 0.5812 - val_accuracy: 0.8000\n",
            "Epoch 4/10\n",
            "25/25 [==============================] - 1s 36ms/step - loss: 0.6183 - accuracy: 0.6669 - val_loss: 0.5937 - val_accuracy: 0.7250\n",
            "Epoch 5/10\n",
            "25/25 [==============================] - 1s 36ms/step - loss: 0.6047 - accuracy: 0.6726 - val_loss: 0.5823 - val_accuracy: 0.8500\n",
            "Epoch 6/10\n",
            "25/25 [==============================] - 1s 36ms/step - loss: 0.5927 - accuracy: 0.6806 - val_loss: 0.5804 - val_accuracy: 0.7250\n",
            "Epoch 7/10\n",
            "25/25 [==============================] - 1s 35ms/step - loss: 0.6068 - accuracy: 0.6637 - val_loss: 0.5669 - val_accuracy: 0.8250\n",
            "Epoch 8/10\n",
            "25/25 [==============================] - 1s 36ms/step - loss: 0.6208 - accuracy: 0.6548 - val_loss: 0.5638 - val_accuracy: 0.8750\n",
            "Epoch 9/10\n",
            "25/25 [==============================] - 1s 35ms/step - loss: 0.5947 - accuracy: 0.6798 - val_loss: 0.5643 - val_accuracy: 0.8750\n",
            "Epoch 10/10\n",
            "25/25 [==============================] - 1s 35ms/step - loss: 0.6181 - accuracy: 0.6742 - val_loss: 0.5731 - val_accuracy: 0.8750\n",
            "40/40 [==============================] - 0s 2ms/step - loss: 0.5731 - accuracy: 0.8750\n",
            "Epoch 1/10\n",
            "25/25 [==============================] - 1s 37ms/step - loss: 0.6161 - accuracy: 0.6532 - val_loss: 0.5561 - val_accuracy: 0.7000\n",
            "Epoch 2/10\n",
            "25/25 [==============================] - 1s 36ms/step - loss: 0.6139 - accuracy: 0.6605 - val_loss: 0.5531 - val_accuracy: 0.7750\n",
            "Epoch 3/10\n",
            "25/25 [==============================] - 1s 35ms/step - loss: 0.6075 - accuracy: 0.6540 - val_loss: 0.5495 - val_accuracy: 0.7000\n",
            "Epoch 4/10\n",
            "25/25 [==============================] - 1s 35ms/step - loss: 0.6125 - accuracy: 0.6734 - val_loss: 0.5434 - val_accuracy: 0.6750\n",
            "Epoch 5/10\n",
            "25/25 [==============================] - 1s 36ms/step - loss: 0.6080 - accuracy: 0.6581 - val_loss: 0.5459 - val_accuracy: 0.7750\n",
            "Epoch 6/10\n",
            "25/25 [==============================] - 1s 35ms/step - loss: 0.5960 - accuracy: 0.6669 - val_loss: 0.5414 - val_accuracy: 0.6500\n",
            "Epoch 7/10\n",
            "25/25 [==============================] - 1s 36ms/step - loss: 0.5991 - accuracy: 0.6742 - val_loss: 0.5393 - val_accuracy: 0.6750\n",
            "Epoch 8/10\n",
            "25/25 [==============================] - 1s 36ms/step - loss: 0.6168 - accuracy: 0.6508 - val_loss: 0.5429 - val_accuracy: 0.6750\n",
            "Epoch 9/10\n",
            "25/25 [==============================] - 1s 36ms/step - loss: 0.6020 - accuracy: 0.6734 - val_loss: 0.5482 - val_accuracy: 0.7500\n",
            "Epoch 10/10\n",
            "25/25 [==============================] - 1s 36ms/step - loss: 0.5968 - accuracy: 0.6879 - val_loss: 0.5491 - val_accuracy: 0.7500\n",
            "40/40 [==============================] - 0s 2ms/step - loss: 0.5491 - accuracy: 0.7500\n",
            "Epoch 1/10\n",
            "25/25 [==============================] - 1s 37ms/step - loss: 0.5994 - accuracy: 0.6847 - val_loss: 0.4528 - val_accuracy: 0.7500\n",
            "Epoch 2/10\n",
            "25/25 [==============================] - 1s 35ms/step - loss: 0.6013 - accuracy: 0.6790 - val_loss: 0.4809 - val_accuracy: 0.7500\n",
            "Epoch 3/10\n",
            "25/25 [==============================] - 1s 36ms/step - loss: 0.6262 - accuracy: 0.6419 - val_loss: 0.4574 - val_accuracy: 0.7500\n",
            "Epoch 4/10\n",
            "25/25 [==============================] - 1s 36ms/step - loss: 0.6131 - accuracy: 0.6524 - val_loss: 0.4555 - val_accuracy: 0.7500\n",
            "Epoch 5/10\n",
            "25/25 [==============================] - 1s 35ms/step - loss: 0.6008 - accuracy: 0.6726 - val_loss: 0.4557 - val_accuracy: 0.7500\n",
            "Epoch 6/10\n",
            "25/25 [==============================] - 1s 36ms/step - loss: 0.6045 - accuracy: 0.6766 - val_loss: 0.4632 - val_accuracy: 0.7500\n",
            "Epoch 7/10\n",
            "25/25 [==============================] - 1s 36ms/step - loss: 0.6003 - accuracy: 0.6742 - val_loss: 0.4877 - val_accuracy: 0.7500\n",
            "Epoch 8/10\n",
            "25/25 [==============================] - 1s 36ms/step - loss: 0.5902 - accuracy: 0.6742 - val_loss: 0.4636 - val_accuracy: 0.7500\n",
            "Epoch 9/10\n",
            "25/25 [==============================] - 1s 35ms/step - loss: 0.6147 - accuracy: 0.6556 - val_loss: 0.4588 - val_accuracy: 0.7500\n",
            "Epoch 10/10\n",
            "25/25 [==============================] - 1s 36ms/step - loss: 0.6012 - accuracy: 0.6750 - val_loss: 0.4614 - val_accuracy: 0.7500\n",
            "40/40 [==============================] - 0s 2ms/step - loss: 0.4614 - accuracy: 0.7500\n",
            "Epoch 1/10\n",
            "25/25 [==============================] - 1s 37ms/step - loss: 0.5945 - accuracy: 0.6823 - val_loss: 0.5603 - val_accuracy: 0.7000\n",
            "Epoch 2/10\n",
            "25/25 [==============================] - 1s 36ms/step - loss: 0.5935 - accuracy: 0.6734 - val_loss: 0.5665 - val_accuracy: 0.6750\n",
            "Epoch 3/10\n",
            "25/25 [==============================] - 1s 35ms/step - loss: 0.5909 - accuracy: 0.6863 - val_loss: 0.5682 - val_accuracy: 0.6750\n",
            "Epoch 4/10\n",
            "25/25 [==============================] - 1s 35ms/step - loss: 0.5910 - accuracy: 0.6815 - val_loss: 0.5627 - val_accuracy: 0.7250\n",
            "Epoch 5/10\n",
            "25/25 [==============================] - 1s 36ms/step - loss: 0.5833 - accuracy: 0.6823 - val_loss: 0.5586 - val_accuracy: 0.7000\n",
            "Epoch 6/10\n",
            "25/25 [==============================] - 1s 36ms/step - loss: 0.6014 - accuracy: 0.6855 - val_loss: 0.5592 - val_accuracy: 0.7000\n",
            "Epoch 7/10\n",
            "25/25 [==============================] - 1s 36ms/step - loss: 0.5887 - accuracy: 0.6968 - val_loss: 0.5579 - val_accuracy: 0.7000\n",
            "Epoch 8/10\n",
            "25/25 [==============================] - 1s 35ms/step - loss: 0.5659 - accuracy: 0.6984 - val_loss: 0.5573 - val_accuracy: 0.6750\n",
            "Epoch 9/10\n",
            "25/25 [==============================] - 1s 35ms/step - loss: 0.5875 - accuracy: 0.6952 - val_loss: 0.5655 - val_accuracy: 0.6250\n",
            "Epoch 10/10\n",
            "25/25 [==============================] - 1s 35ms/step - loss: 0.5828 - accuracy: 0.6911 - val_loss: 0.5589 - val_accuracy: 0.6750\n",
            "40/40 [==============================] - 0s 2ms/step - loss: 0.5589 - accuracy: 0.6750\n",
            "Epoch 1/10\n",
            "25/25 [==============================] - 1s 36ms/step - loss: 0.6066 - accuracy: 0.6823 - val_loss: 0.4444 - val_accuracy: 0.8500\n",
            "Epoch 2/10\n",
            "25/25 [==============================] - 1s 36ms/step - loss: 0.5973 - accuracy: 0.6815 - val_loss: 0.4479 - val_accuracy: 0.8500\n",
            "Epoch 3/10\n",
            "25/25 [==============================] - 1s 36ms/step - loss: 0.5973 - accuracy: 0.6831 - val_loss: 0.4552 - val_accuracy: 0.8250\n",
            "Epoch 4/10\n",
            "25/25 [==============================] - 1s 36ms/step - loss: 0.5955 - accuracy: 0.7008 - val_loss: 0.4528 - val_accuracy: 0.8750\n",
            "Epoch 5/10\n",
            "25/25 [==============================] - 1s 36ms/step - loss: 0.5824 - accuracy: 0.7000 - val_loss: 0.4560 - val_accuracy: 0.8500\n",
            "Epoch 6/10\n",
            "25/25 [==============================] - 1s 36ms/step - loss: 0.5891 - accuracy: 0.6839 - val_loss: 0.4583 - val_accuracy: 0.8000\n",
            "Epoch 7/10\n",
            "25/25 [==============================] - 1s 36ms/step - loss: 0.5742 - accuracy: 0.7024 - val_loss: 0.4491 - val_accuracy: 0.8000\n",
            "Epoch 8/10\n",
            "25/25 [==============================] - 1s 36ms/step - loss: 0.5884 - accuracy: 0.6871 - val_loss: 0.4454 - val_accuracy: 0.8250\n",
            "Epoch 9/10\n",
            "25/25 [==============================] - 1s 36ms/step - loss: 0.5789 - accuracy: 0.7048 - val_loss: 0.4470 - val_accuracy: 0.8250\n",
            "Epoch 10/10\n",
            "25/25 [==============================] - 1s 35ms/step - loss: 0.5860 - accuracy: 0.7008 - val_loss: 0.4521 - val_accuracy: 0.8000\n",
            "40/40 [==============================] - 0s 2ms/step - loss: 0.4521 - accuracy: 0.8000\n",
            "Epoch 1/10\n",
            "25/25 [==============================] - 1s 37ms/step - loss: 0.5804 - accuracy: 0.6927 - val_loss: 0.4647 - val_accuracy: 0.8000\n",
            "Epoch 2/10\n",
            "25/25 [==============================] - 1s 35ms/step - loss: 0.5901 - accuracy: 0.6919 - val_loss: 0.4761 - val_accuracy: 0.9000\n",
            "Epoch 3/10\n",
            "25/25 [==============================] - 1s 35ms/step - loss: 0.5747 - accuracy: 0.6984 - val_loss: 0.4704 - val_accuracy: 0.8000\n",
            "Epoch 4/10\n",
            "25/25 [==============================] - 1s 36ms/step - loss: 0.5841 - accuracy: 0.6984 - val_loss: 0.4682 - val_accuracy: 0.8500\n",
            "Epoch 5/10\n",
            "25/25 [==============================] - 1s 36ms/step - loss: 0.5662 - accuracy: 0.6992 - val_loss: 0.4651 - val_accuracy: 0.8000\n",
            "Epoch 6/10\n",
            "25/25 [==============================] - 1s 36ms/step - loss: 0.5778 - accuracy: 0.6831 - val_loss: 0.4616 - val_accuracy: 0.8500\n",
            "Epoch 7/10\n",
            "25/25 [==============================] - 1s 36ms/step - loss: 0.5801 - accuracy: 0.6823 - val_loss: 0.4620 - val_accuracy: 0.9250\n",
            "Epoch 8/10\n",
            "25/25 [==============================] - 1s 35ms/step - loss: 0.5753 - accuracy: 0.6919 - val_loss: 0.4630 - val_accuracy: 0.8000\n",
            "Epoch 9/10\n",
            "25/25 [==============================] - 1s 36ms/step - loss: 0.5774 - accuracy: 0.7161 - val_loss: 0.4679 - val_accuracy: 0.7750\n",
            "Epoch 10/10\n",
            "25/25 [==============================] - 1s 36ms/step - loss: 0.5904 - accuracy: 0.6823 - val_loss: 0.4747 - val_accuracy: 0.9000\n",
            "40/40 [==============================] - 0s 2ms/step - loss: 0.4747 - accuracy: 0.9000\n",
            "Epoch 1/10\n",
            "25/25 [==============================] - 1s 37ms/step - loss: 0.5625 - accuracy: 0.6992 - val_loss: 0.5476 - val_accuracy: 0.7750\n",
            "Epoch 2/10\n",
            "25/25 [==============================] - 1s 36ms/step - loss: 0.5693 - accuracy: 0.7000 - val_loss: 0.5571 - val_accuracy: 0.6500\n",
            "Epoch 3/10\n",
            "25/25 [==============================] - 1s 35ms/step - loss: 0.5662 - accuracy: 0.7097 - val_loss: 0.5415 - val_accuracy: 0.7750\n",
            "Epoch 4/10\n",
            "25/25 [==============================] - 1s 36ms/step - loss: 0.5796 - accuracy: 0.6960 - val_loss: 0.5419 - val_accuracy: 0.8000\n",
            "Epoch 5/10\n",
            "25/25 [==============================] - 1s 35ms/step - loss: 0.5662 - accuracy: 0.7161 - val_loss: 0.5601 - val_accuracy: 0.5750\n",
            "Epoch 6/10\n",
            "25/25 [==============================] - 1s 36ms/step - loss: 0.5635 - accuracy: 0.7113 - val_loss: 0.5513 - val_accuracy: 0.6500\n",
            "Epoch 7/10\n",
            "25/25 [==============================] - 1s 36ms/step - loss: 0.5634 - accuracy: 0.7016 - val_loss: 0.5417 - val_accuracy: 0.8500\n",
            "Epoch 8/10\n",
            "25/25 [==============================] - 1s 36ms/step - loss: 0.5863 - accuracy: 0.6895 - val_loss: 0.5414 - val_accuracy: 0.8500\n",
            "Epoch 9/10\n",
            "25/25 [==============================] - 1s 35ms/step - loss: 0.5516 - accuracy: 0.7145 - val_loss: 0.5507 - val_accuracy: 0.7500\n",
            "Epoch 10/10\n",
            "25/25 [==============================] - 1s 35ms/step - loss: 0.5589 - accuracy: 0.7073 - val_loss: 0.5477 - val_accuracy: 0.8000\n",
            "40/40 [==============================] - 0s 2ms/step - loss: 0.5477 - accuracy: 0.8000\n",
            "Epoch 1/10\n",
            "25/25 [==============================] - 1s 37ms/step - loss: 0.5502 - accuracy: 0.7161 - val_loss: 0.3552 - val_accuracy: 0.9500\n",
            "Epoch 2/10\n",
            "25/25 [==============================] - 1s 35ms/step - loss: 0.5706 - accuracy: 0.7089 - val_loss: 0.3568 - val_accuracy: 0.9500\n",
            "Epoch 3/10\n",
            "25/25 [==============================] - 1s 35ms/step - loss: 0.5443 - accuracy: 0.7234 - val_loss: 0.3546 - val_accuracy: 0.9500\n",
            "Epoch 4/10\n",
            "25/25 [==============================] - 1s 36ms/step - loss: 0.5614 - accuracy: 0.7056 - val_loss: 0.3526 - val_accuracy: 0.9500\n",
            "Epoch 5/10\n",
            "25/25 [==============================] - 1s 35ms/step - loss: 0.5500 - accuracy: 0.7218 - val_loss: 0.3725 - val_accuracy: 0.9000\n",
            "Epoch 6/10\n",
            "25/25 [==============================] - 1s 36ms/step - loss: 0.5723 - accuracy: 0.7040 - val_loss: 0.3553 - val_accuracy: 0.9500\n",
            "Epoch 7/10\n",
            "25/25 [==============================] - 1s 36ms/step - loss: 0.5589 - accuracy: 0.7105 - val_loss: 0.3541 - val_accuracy: 0.9500\n",
            "Epoch 8/10\n",
            "25/25 [==============================] - 1s 36ms/step - loss: 0.5503 - accuracy: 0.7177 - val_loss: 0.3590 - val_accuracy: 0.8750\n",
            "Epoch 9/10\n",
            "25/25 [==============================] - 1s 35ms/step - loss: 0.5486 - accuracy: 0.7177 - val_loss: 0.3510 - val_accuracy: 0.9750\n",
            "Epoch 10/10\n",
            "25/25 [==============================] - 1s 35ms/step - loss: 0.5444 - accuracy: 0.7282 - val_loss: 0.3487 - val_accuracy: 0.9500\n",
            "40/40 [==============================] - 0s 2ms/step - loss: 0.3487 - accuracy: 0.9500\n",
            "max loss =  0.7102694511413574\n",
            "max accuracy =  0.949999988079071\n"
          ],
          "name": "stdout"
        }
      ]
    },
    {
      "cell_type": "markdown",
      "metadata": {
        "id": "SOgk8vGVr0ke"
      },
      "source": [
        "## Tuning using Keras-Tuner\n",
        "- RandomSearch\n",
        "- Bayesian optimisation\n",
        "- Hyperband Tuning"
      ]
    },
    {
      "cell_type": "code",
      "metadata": {
        "id": "Hzu3vGjl7dw_",
        "outputId": "a3fb137e-1a71-407d-b83a-af6991d32388",
        "colab": {
          "base_uri": "https://localhost:8080/",
          "height": 73
        }
      },
      "source": [
        "!pip install -q -U keras-tuner"
      ],
      "execution_count": null,
      "outputs": [
        {
          "output_type": "stream",
          "text": [
            "\u001b[?25l\r\u001b[K     |██████                          | 10kB 33.7MB/s eta 0:00:01\r\u001b[K     |████████████                    | 20kB 6.2MB/s eta 0:00:01\r\u001b[K     |██████████████████              | 30kB 7.6MB/s eta 0:00:01\r\u001b[K     |████████████████████████        | 40kB 7.7MB/s eta 0:00:01\r\u001b[K     |██████████████████████████████  | 51kB 7.3MB/s eta 0:00:01\r\u001b[K     |████████████████████████████████| 61kB 4.5MB/s \n",
            "\u001b[?25h  Building wheel for keras-tuner (setup.py) ... \u001b[?25l\u001b[?25hdone\n",
            "  Building wheel for terminaltables (setup.py) ... \u001b[?25l\u001b[?25hdone\n"
          ],
          "name": "stdout"
        }
      ]
    },
    {
      "cell_type": "code",
      "metadata": {
        "scrolled": true,
        "id": "TXkeRP39r0kh"
      },
      "source": [
        "import kerastuner as kt\n",
        "from kerastuner.tuners import RandomSearch, BayesianOptimization, Hyperband\n",
        "import time\n",
        "\n",
        "X_train, X_test, y_train, y_test = train_test_split(X, y_valance)\n",
        "\n",
        "X_train = X_train.reshape(X_train.shape[0], 40, 101, 1)\n",
        "X_test = X_test.reshape(X_test.shape[0], 40, 101, 1)\n",
        "\n",
        "LOG_DIR = f'{int(time.time())}'"
      ],
      "execution_count": null,
      "outputs": []
    },
    {
      "cell_type": "markdown",
      "metadata": {
        "id": "5Oc2kH9pbwy1"
      },
      "source": [
        "### Random Search for valance accuracy"
      ]
    },
    {
      "cell_type": "code",
      "metadata": {
        "id": "-dlQ9_cbbtOV",
        "outputId": "71c5f4b2-2308-434e-b39b-431bcad56536",
        "colab": {
          "base_uri": "https://localhost:8080/",
          "height": 1000
        }
      },
      "source": [
        "rand_tuner = RandomSearch(build_hyperparameter_model, \n",
        "                    objective='val_accuracy',\n",
        "                    max_trials=5,\n",
        "                    executions_per_trial = 1,\n",
        "                    directory=LOG_DIR)\n",
        "\n",
        "rand_tuner.search(x=X_train,\n",
        "            y=y_train,\n",
        "            epochs=10,\n",
        "            batch_size=50,\n",
        "            validation_data=(X_test, y_test))\n",
        "rand_tuner.get_best_models(1)[0].save('randSearchModel')"
      ],
      "execution_count": null,
      "outputs": [
        {
          "output_type": "stream",
          "text": [
            "Epoch 1/10\n",
            " 2/20 [==>...........................] - ETA: 1s - loss: 0.7436 - accuracy: 0.4700WARNING:tensorflow:Callbacks method `on_train_batch_end` is slow compared to the batch time (batch time: 0.0579s vs `on_train_batch_end` time: 0.1164s). Check your callbacks.\n",
            "20/20 [==============================] - 4s 224ms/step - loss: 0.7334 - accuracy: 0.4896 - val_loss: 0.7044 - val_accuracy: 0.4531\n",
            "Epoch 2/10\n",
            "20/20 [==============================] - 4s 176ms/step - loss: 0.7157 - accuracy: 0.5240 - val_loss: 0.7043 - val_accuracy: 0.4531\n",
            "Epoch 3/10\n",
            "20/20 [==============================] - 4s 178ms/step - loss: 0.7284 - accuracy: 0.4875 - val_loss: 0.7043 - val_accuracy: 0.4531\n",
            "Epoch 4/10\n",
            "20/20 [==============================] - 4s 178ms/step - loss: 0.7433 - accuracy: 0.4729 - val_loss: 0.7043 - val_accuracy: 0.4531\n",
            "Epoch 5/10\n",
            "20/20 [==============================] - 4s 178ms/step - loss: 0.7298 - accuracy: 0.4958 - val_loss: 0.7043 - val_accuracy: 0.4531\n",
            "Epoch 6/10\n",
            "20/20 [==============================] - 4s 176ms/step - loss: 0.7272 - accuracy: 0.5094 - val_loss: 0.7043 - val_accuracy: 0.4531\n",
            "Epoch 7/10\n",
            "20/20 [==============================] - 3s 172ms/step - loss: 0.7113 - accuracy: 0.5198 - val_loss: 0.7043 - val_accuracy: 0.4531\n",
            "Epoch 8/10\n",
            "20/20 [==============================] - 3s 170ms/step - loss: 0.7351 - accuracy: 0.4896 - val_loss: 0.7043 - val_accuracy: 0.4531\n",
            "Epoch 9/10\n",
            "20/20 [==============================] - 3s 169ms/step - loss: 0.7242 - accuracy: 0.4906 - val_loss: 0.7043 - val_accuracy: 0.4531\n",
            "Epoch 10/10\n",
            "20/20 [==============================] - 3s 168ms/step - loss: 0.7255 - accuracy: 0.5042 - val_loss: 0.7043 - val_accuracy: 0.4531\n"
          ],
          "name": "stdout"
        },
        {
          "output_type": "display_data",
          "data": {
            "text/html": [
              "<span style=\"color:#4527A0\"><h1 style=\"font-size:18px\">Trial complete</h1></span>"
            ],
            "text/plain": [
              "<IPython.core.display.HTML object>"
            ]
          },
          "metadata": {
            "tags": []
          }
        },
        {
          "output_type": "display_data",
          "data": {
            "text/html": [
              "<span style=\"color:#4527A0\"><h1 style=\"font-size:18px\">Trial summary</h1></span>"
            ],
            "text/plain": [
              "<IPython.core.display.HTML object>"
            ]
          },
          "metadata": {
            "tags": []
          }
        },
        {
          "output_type": "display_data",
          "data": {
            "text/html": [
              "<span style=\"color:cyan\"> |-Trial ID: d5e5ff889dc1de4795cbf31c4473ae50</span>"
            ],
            "text/plain": [
              "<IPython.core.display.HTML object>"
            ]
          },
          "metadata": {
            "tags": []
          }
        },
        {
          "output_type": "display_data",
          "data": {
            "text/html": [
              "<span style=\"color:cyan\"> |-Score: 0.453125</span>"
            ],
            "text/plain": [
              "<IPython.core.display.HTML object>"
            ]
          },
          "metadata": {
            "tags": []
          }
        },
        {
          "output_type": "display_data",
          "data": {
            "text/html": [
              "<span style=\"color:cyan\"> |-Best step: 0</span>"
            ],
            "text/plain": [
              "<IPython.core.display.HTML object>"
            ]
          },
          "metadata": {
            "tags": []
          }
        },
        {
          "output_type": "display_data",
          "data": {
            "text/html": [
              "<span style=\"color:#7E57C2\"><h2 style=\"font-size:16px\">Hyperparameters:</h2></span>"
            ],
            "text/plain": [
              "<IPython.core.display.HTML object>"
            ]
          },
          "metadata": {
            "tags": []
          }
        },
        {
          "output_type": "display_data",
          "data": {
            "text/html": [
              "<span style=\"color:cyan\"> |-conv_0_activation: relu</span>"
            ],
            "text/plain": [
              "<IPython.core.display.HTML object>"
            ]
          },
          "metadata": {
            "tags": []
          }
        },
        {
          "output_type": "display_data",
          "data": {
            "text/html": [
              "<span style=\"color:blue\"> |-conv_0_units: 192</span>"
            ],
            "text/plain": [
              "<IPython.core.display.HTML object>"
            ]
          },
          "metadata": {
            "tags": []
          }
        },
        {
          "output_type": "display_data",
          "data": {
            "text/html": [
              "<span style=\"color:cyan\"> |-conv_1_activation: tanh</span>"
            ],
            "text/plain": [
              "<IPython.core.display.HTML object>"
            ]
          },
          "metadata": {
            "tags": []
          }
        },
        {
          "output_type": "display_data",
          "data": {
            "text/html": [
              "<span style=\"color:blue\"> |-conv_1_units: 32</span>"
            ],
            "text/plain": [
              "<IPython.core.display.HTML object>"
            ]
          },
          "metadata": {
            "tags": []
          }
        },
        {
          "output_type": "display_data",
          "data": {
            "text/html": [
              "<span style=\"color:cyan\"> |-conv_2_activation: tanh</span>"
            ],
            "text/plain": [
              "<IPython.core.display.HTML object>"
            ]
          },
          "metadata": {
            "tags": []
          }
        },
        {
          "output_type": "display_data",
          "data": {
            "text/html": [
              "<span style=\"color:blue\"> |-conv_2_units: 32</span>"
            ],
            "text/plain": [
              "<IPython.core.display.HTML object>"
            ]
          },
          "metadata": {
            "tags": []
          }
        },
        {
          "output_type": "display_data",
          "data": {
            "text/html": [
              "<span style=\"color:cyan\"> |-conv_layers: 3</span>"
            ],
            "text/plain": [
              "<IPython.core.display.HTML object>"
            ]
          },
          "metadata": {
            "tags": []
          }
        },
        {
          "output_type": "display_data",
          "data": {
            "text/html": [
              "<span style=\"color:blue\"> |-dense_0_units: 64</span>"
            ],
            "text/plain": [
              "<IPython.core.display.HTML object>"
            ]
          },
          "metadata": {
            "tags": []
          }
        },
        {
          "output_type": "display_data",
          "data": {
            "text/html": [
              "<span style=\"color:cyan\"> |-dense_1_units: 64</span>"
            ],
            "text/plain": [
              "<IPython.core.display.HTML object>"
            ]
          },
          "metadata": {
            "tags": []
          }
        },
        {
          "output_type": "display_data",
          "data": {
            "text/html": [
              "<span style=\"color:blue\"> |-dense_2_units: 64</span>"
            ],
            "text/plain": [
              "<IPython.core.display.HTML object>"
            ]
          },
          "metadata": {
            "tags": []
          }
        },
        {
          "output_type": "display_data",
          "data": {
            "text/html": [
              "<span style=\"color:cyan\"> |-dense_3_units: 64</span>"
            ],
            "text/plain": [
              "<IPython.core.display.HTML object>"
            ]
          },
          "metadata": {
            "tags": []
          }
        },
        {
          "output_type": "display_data",
          "data": {
            "text/html": [
              "<span style=\"color:blue\"> |-dense_4_units: 64</span>"
            ],
            "text/plain": [
              "<IPython.core.display.HTML object>"
            ]
          },
          "metadata": {
            "tags": []
          }
        },
        {
          "output_type": "display_data",
          "data": {
            "text/html": [
              "<span style=\"color:cyan\"> |-dense_layers: 5</span>"
            ],
            "text/plain": [
              "<IPython.core.display.HTML object>"
            ]
          },
          "metadata": {
            "tags": []
          }
        },
        {
          "output_type": "display_data",
          "data": {
            "text/html": [
              "<span style=\"color:blue\"> |-dropout_1: 0.5</span>"
            ],
            "text/plain": [
              "<IPython.core.display.HTML object>"
            ]
          },
          "metadata": {
            "tags": []
          }
        },
        {
          "output_type": "display_data",
          "data": {
            "text/html": [
              "<span style=\"color:cyan\"> |-dropout_2: 0.5</span>"
            ],
            "text/plain": [
              "<IPython.core.display.HTML object>"
            ]
          },
          "metadata": {
            "tags": []
          }
        },
        {
          "output_type": "display_data",
          "data": {
            "text/html": [
              "<span style=\"color:blue\"> |-input_activation: tanh</span>"
            ],
            "text/plain": [
              "<IPython.core.display.HTML object>"
            ]
          },
          "metadata": {
            "tags": []
          }
        },
        {
          "output_type": "display_data",
          "data": {
            "text/html": [
              "<span style=\"color:cyan\"> |-input_units: 464</span>"
            ],
            "text/plain": [
              "<IPython.core.display.HTML object>"
            ]
          },
          "metadata": {
            "tags": []
          }
        },
        {
          "output_type": "display_data",
          "data": {
            "text/html": [
              "<span style=\"color:blue\"> |-learning_rate: 1e-08</span>"
            ],
            "text/plain": [
              "<IPython.core.display.HTML object>"
            ]
          },
          "metadata": {
            "tags": []
          }
        },
        {
          "output_type": "stream",
          "text": [
            "Epoch 1/10\n",
            " 2/20 [==>...........................] - ETA: 1s - loss: 0.8105 - accuracy: 0.5500WARNING:tensorflow:Callbacks method `on_train_batch_end` is slow compared to the batch time (batch time: 0.0643s vs `on_train_batch_end` time: 0.1321s). Check your callbacks.\n",
            "20/20 [==============================] - 5s 255ms/step - loss: 0.8036 - accuracy: 0.5021 - val_loss: 0.6850 - val_accuracy: 0.6000\n",
            "Epoch 2/10\n",
            "20/20 [==============================] - 4s 201ms/step - loss: 0.7726 - accuracy: 0.5135 - val_loss: 0.6737 - val_accuracy: 0.6313\n",
            "Epoch 3/10\n",
            "20/20 [==============================] - 4s 189ms/step - loss: 0.7835 - accuracy: 0.4958 - val_loss: 0.6738 - val_accuracy: 0.6281\n",
            "Epoch 4/10\n",
            "20/20 [==============================] - 4s 191ms/step - loss: 0.7537 - accuracy: 0.5302 - val_loss: 0.6787 - val_accuracy: 0.6031\n",
            "Epoch 5/10\n",
            "20/20 [==============================] - 4s 192ms/step - loss: 0.7780 - accuracy: 0.4760 - val_loss: 0.6781 - val_accuracy: 0.6094\n",
            "Epoch 6/10\n",
            "20/20 [==============================] - 4s 189ms/step - loss: 0.7793 - accuracy: 0.5073 - val_loss: 0.6780 - val_accuracy: 0.6094\n",
            "Epoch 7/10\n",
            "20/20 [==============================] - 4s 192ms/step - loss: 0.7523 - accuracy: 0.5042 - val_loss: 0.6725 - val_accuracy: 0.6250\n",
            "Epoch 8/10\n",
            "20/20 [==============================] - 4s 200ms/step - loss: 0.7582 - accuracy: 0.5083 - val_loss: 0.6736 - val_accuracy: 0.6406\n",
            "Epoch 9/10\n",
            "20/20 [==============================] - 4s 192ms/step - loss: 0.7466 - accuracy: 0.5406 - val_loss: 0.6712 - val_accuracy: 0.6250\n",
            "Epoch 10/10\n",
            "20/20 [==============================] - 4s 195ms/step - loss: 0.7545 - accuracy: 0.5198 - val_loss: 0.6732 - val_accuracy: 0.6313\n"
          ],
          "name": "stdout"
        },
        {
          "output_type": "display_data",
          "data": {
            "text/html": [
              "<span style=\"color:#4527A0\"><h1 style=\"font-size:18px\">Trial complete</h1></span>"
            ],
            "text/plain": [
              "<IPython.core.display.HTML object>"
            ]
          },
          "metadata": {
            "tags": []
          }
        },
        {
          "output_type": "display_data",
          "data": {
            "text/html": [
              "<span style=\"color:#4527A0\"><h1 style=\"font-size:18px\">Trial summary</h1></span>"
            ],
            "text/plain": [
              "<IPython.core.display.HTML object>"
            ]
          },
          "metadata": {
            "tags": []
          }
        },
        {
          "output_type": "display_data",
          "data": {
            "text/html": [
              "<span style=\"color:cyan\"> |-Trial ID: cc3e59b84c027ede6560dc992826667c</span>"
            ],
            "text/plain": [
              "<IPython.core.display.HTML object>"
            ]
          },
          "metadata": {
            "tags": []
          }
        },
        {
          "output_type": "display_data",
          "data": {
            "text/html": [
              "<span style=\"color:cyan\"> |-Score: 0.640625</span>"
            ],
            "text/plain": [
              "<IPython.core.display.HTML object>"
            ]
          },
          "metadata": {
            "tags": []
          }
        },
        {
          "output_type": "display_data",
          "data": {
            "text/html": [
              "<span style=\"color:cyan\"> |-Best step: 0</span>"
            ],
            "text/plain": [
              "<IPython.core.display.HTML object>"
            ]
          },
          "metadata": {
            "tags": []
          }
        },
        {
          "output_type": "display_data",
          "data": {
            "text/html": [
              "<span style=\"color:#7E57C2\"><h2 style=\"font-size:16px\">Hyperparameters:</h2></span>"
            ],
            "text/plain": [
              "<IPython.core.display.HTML object>"
            ]
          },
          "metadata": {
            "tags": []
          }
        },
        {
          "output_type": "display_data",
          "data": {
            "text/html": [
              "<span style=\"color:cyan\"> |-conv_0_activation: tanh</span>"
            ],
            "text/plain": [
              "<IPython.core.display.HTML object>"
            ]
          },
          "metadata": {
            "tags": []
          }
        },
        {
          "output_type": "display_data",
          "data": {
            "text/html": [
              "<span style=\"color:blue\"> |-conv_0_units: 160</span>"
            ],
            "text/plain": [
              "<IPython.core.display.HTML object>"
            ]
          },
          "metadata": {
            "tags": []
          }
        },
        {
          "output_type": "display_data",
          "data": {
            "text/html": [
              "<span style=\"color:cyan\"> |-conv_1_activation: tanh</span>"
            ],
            "text/plain": [
              "<IPython.core.display.HTML object>"
            ]
          },
          "metadata": {
            "tags": []
          }
        },
        {
          "output_type": "display_data",
          "data": {
            "text/html": [
              "<span style=\"color:blue\"> |-conv_1_units: 256</span>"
            ],
            "text/plain": [
              "<IPython.core.display.HTML object>"
            ]
          },
          "metadata": {
            "tags": []
          }
        },
        {
          "output_type": "display_data",
          "data": {
            "text/html": [
              "<span style=\"color:cyan\"> |-conv_2_activation: tanh</span>"
            ],
            "text/plain": [
              "<IPython.core.display.HTML object>"
            ]
          },
          "metadata": {
            "tags": []
          }
        },
        {
          "output_type": "display_data",
          "data": {
            "text/html": [
              "<span style=\"color:blue\"> |-conv_2_units: 96</span>"
            ],
            "text/plain": [
              "<IPython.core.display.HTML object>"
            ]
          },
          "metadata": {
            "tags": []
          }
        },
        {
          "output_type": "display_data",
          "data": {
            "text/html": [
              "<span style=\"color:cyan\"> |-conv_3_activation: tanh</span>"
            ],
            "text/plain": [
              "<IPython.core.display.HTML object>"
            ]
          },
          "metadata": {
            "tags": []
          }
        },
        {
          "output_type": "display_data",
          "data": {
            "text/html": [
              "<span style=\"color:blue\"> |-conv_3_units: 32</span>"
            ],
            "text/plain": [
              "<IPython.core.display.HTML object>"
            ]
          },
          "metadata": {
            "tags": []
          }
        },
        {
          "output_type": "display_data",
          "data": {
            "text/html": [
              "<span style=\"color:cyan\"> |-conv_4_activation: tanh</span>"
            ],
            "text/plain": [
              "<IPython.core.display.HTML object>"
            ]
          },
          "metadata": {
            "tags": []
          }
        },
        {
          "output_type": "display_data",
          "data": {
            "text/html": [
              "<span style=\"color:blue\"> |-conv_4_units: 32</span>"
            ],
            "text/plain": [
              "<IPython.core.display.HTML object>"
            ]
          },
          "metadata": {
            "tags": []
          }
        },
        {
          "output_type": "display_data",
          "data": {
            "text/html": [
              "<span style=\"color:cyan\"> |-conv_5_activation: tanh</span>"
            ],
            "text/plain": [
              "<IPython.core.display.HTML object>"
            ]
          },
          "metadata": {
            "tags": []
          }
        },
        {
          "output_type": "display_data",
          "data": {
            "text/html": [
              "<span style=\"color:blue\"> |-conv_5_units: 32</span>"
            ],
            "text/plain": [
              "<IPython.core.display.HTML object>"
            ]
          },
          "metadata": {
            "tags": []
          }
        },
        {
          "output_type": "display_data",
          "data": {
            "text/html": [
              "<span style=\"color:cyan\"> |-conv_layers: 6</span>"
            ],
            "text/plain": [
              "<IPython.core.display.HTML object>"
            ]
          },
          "metadata": {
            "tags": []
          }
        },
        {
          "output_type": "display_data",
          "data": {
            "text/html": [
              "<span style=\"color:blue\"> |-dense_0_units: 416</span>"
            ],
            "text/plain": [
              "<IPython.core.display.HTML object>"
            ]
          },
          "metadata": {
            "tags": []
          }
        },
        {
          "output_type": "display_data",
          "data": {
            "text/html": [
              "<span style=\"color:cyan\"> |-dense_1_units: 320</span>"
            ],
            "text/plain": [
              "<IPython.core.display.HTML object>"
            ]
          },
          "metadata": {
            "tags": []
          }
        },
        {
          "output_type": "display_data",
          "data": {
            "text/html": [
              "<span style=\"color:blue\"> |-dense_2_units: 320</span>"
            ],
            "text/plain": [
              "<IPython.core.display.HTML object>"
            ]
          },
          "metadata": {
            "tags": []
          }
        },
        {
          "output_type": "display_data",
          "data": {
            "text/html": [
              "<span style=\"color:cyan\"> |-dense_3_units: 224</span>"
            ],
            "text/plain": [
              "<IPython.core.display.HTML object>"
            ]
          },
          "metadata": {
            "tags": []
          }
        },
        {
          "output_type": "display_data",
          "data": {
            "text/html": [
              "<span style=\"color:blue\"> |-dense_4_units: 160</span>"
            ],
            "text/plain": [
              "<IPython.core.display.HTML object>"
            ]
          },
          "metadata": {
            "tags": []
          }
        },
        {
          "output_type": "display_data",
          "data": {
            "text/html": [
              "<span style=\"color:cyan\"> |-dense_layers: 4</span>"
            ],
            "text/plain": [
              "<IPython.core.display.HTML object>"
            ]
          },
          "metadata": {
            "tags": []
          }
        },
        {
          "output_type": "display_data",
          "data": {
            "text/html": [
              "<span style=\"color:blue\"> |-dropout_1: 0.25</span>"
            ],
            "text/plain": [
              "<IPython.core.display.HTML object>"
            ]
          },
          "metadata": {
            "tags": []
          }
        },
        {
          "output_type": "display_data",
          "data": {
            "text/html": [
              "<span style=\"color:cyan\"> |-dropout_2: 0.75</span>"
            ],
            "text/plain": [
              "<IPython.core.display.HTML object>"
            ]
          },
          "metadata": {
            "tags": []
          }
        },
        {
          "output_type": "display_data",
          "data": {
            "text/html": [
              "<span style=\"color:blue\"> |-input_activation: relu</span>"
            ],
            "text/plain": [
              "<IPython.core.display.HTML object>"
            ]
          },
          "metadata": {
            "tags": []
          }
        },
        {
          "output_type": "display_data",
          "data": {
            "text/html": [
              "<span style=\"color:cyan\"> |-input_units: 208</span>"
            ],
            "text/plain": [
              "<IPython.core.display.HTML object>"
            ]
          },
          "metadata": {
            "tags": []
          }
        },
        {
          "output_type": "display_data",
          "data": {
            "text/html": [
              "<span style=\"color:blue\"> |-learning_rate: 1e-05</span>"
            ],
            "text/plain": [
              "<IPython.core.display.HTML object>"
            ]
          },
          "metadata": {
            "tags": []
          }
        },
        {
          "output_type": "stream",
          "text": [
            "Epoch 1/10\n",
            " 2/20 [==>...........................] - ETA: 6s - loss: 0.7454 - accuracy: 0.5000WARNING:tensorflow:Callbacks method `on_train_batch_end` is slow compared to the batch time (batch time: 0.2602s vs `on_train_batch_end` time: 0.4752s). Check your callbacks.\n",
            "20/20 [==============================] - 19s 948ms/step - loss: 0.7256 - accuracy: 0.5167 - val_loss: 0.6841 - val_accuracy: 0.5656\n",
            "Epoch 2/10\n",
            "20/20 [==============================] - 15s 773ms/step - loss: 0.7000 - accuracy: 0.5260 - val_loss: 0.6805 - val_accuracy: 0.5875\n",
            "Epoch 3/10\n",
            "20/20 [==============================] - 15s 747ms/step - loss: 0.6892 - accuracy: 0.5448 - val_loss: 0.6849 - val_accuracy: 0.5719\n",
            "Epoch 4/10\n",
            "20/20 [==============================] - 15s 764ms/step - loss: 0.6911 - accuracy: 0.5250 - val_loss: 0.6771 - val_accuracy: 0.6094\n",
            "Epoch 5/10\n",
            "20/20 [==============================] - 15s 748ms/step - loss: 0.6939 - accuracy: 0.5240 - val_loss: 0.6726 - val_accuracy: 0.6062\n",
            "Epoch 6/10\n",
            "20/20 [==============================] - 15s 750ms/step - loss: 0.6839 - accuracy: 0.5677 - val_loss: 0.6721 - val_accuracy: 0.6031\n",
            "Epoch 7/10\n",
            "20/20 [==============================] - 15s 750ms/step - loss: 0.6876 - accuracy: 0.5458 - val_loss: 0.6731 - val_accuracy: 0.6062\n",
            "Epoch 8/10\n",
            "20/20 [==============================] - 15s 768ms/step - loss: 0.6799 - accuracy: 0.5656 - val_loss: 0.6732 - val_accuracy: 0.6219\n",
            "Epoch 9/10\n",
            "20/20 [==============================] - 15s 747ms/step - loss: 0.6858 - accuracy: 0.5698 - val_loss: 0.6640 - val_accuracy: 0.6031\n",
            "Epoch 10/10\n",
            "20/20 [==============================] - 15s 747ms/step - loss: 0.6882 - accuracy: 0.5250 - val_loss: 0.6676 - val_accuracy: 0.6000\n"
          ],
          "name": "stdout"
        },
        {
          "output_type": "display_data",
          "data": {
            "text/html": [
              "<span style=\"color:#4527A0\"><h1 style=\"font-size:18px\">Trial complete</h1></span>"
            ],
            "text/plain": [
              "<IPython.core.display.HTML object>"
            ]
          },
          "metadata": {
            "tags": []
          }
        },
        {
          "output_type": "display_data",
          "data": {
            "text/html": [
              "<span style=\"color:#4527A0\"><h1 style=\"font-size:18px\">Trial summary</h1></span>"
            ],
            "text/plain": [
              "<IPython.core.display.HTML object>"
            ]
          },
          "metadata": {
            "tags": []
          }
        },
        {
          "output_type": "display_data",
          "data": {
            "text/html": [
              "<span style=\"color:cyan\"> |-Trial ID: b9621dd746a5b05df2e8de74b59edfa2</span>"
            ],
            "text/plain": [
              "<IPython.core.display.HTML object>"
            ]
          },
          "metadata": {
            "tags": []
          }
        },
        {
          "output_type": "display_data",
          "data": {
            "text/html": [
              "<span style=\"color:cyan\"> |-Score: 0.621874988079071</span>"
            ],
            "text/plain": [
              "<IPython.core.display.HTML object>"
            ]
          },
          "metadata": {
            "tags": []
          }
        },
        {
          "output_type": "display_data",
          "data": {
            "text/html": [
              "<span style=\"color:cyan\"> |-Best step: 0</span>"
            ],
            "text/plain": [
              "<IPython.core.display.HTML object>"
            ]
          },
          "metadata": {
            "tags": []
          }
        },
        {
          "output_type": "display_data",
          "data": {
            "text/html": [
              "<span style=\"color:#7E57C2\"><h2 style=\"font-size:16px\">Hyperparameters:</h2></span>"
            ],
            "text/plain": [
              "<IPython.core.display.HTML object>"
            ]
          },
          "metadata": {
            "tags": []
          }
        },
        {
          "output_type": "display_data",
          "data": {
            "text/html": [
              "<span style=\"color:cyan\"> |-conv_0_activation: relu</span>"
            ],
            "text/plain": [
              "<IPython.core.display.HTML object>"
            ]
          },
          "metadata": {
            "tags": []
          }
        },
        {
          "output_type": "display_data",
          "data": {
            "text/html": [
              "<span style=\"color:blue\"> |-conv_0_units: 480</span>"
            ],
            "text/plain": [
              "<IPython.core.display.HTML object>"
            ]
          },
          "metadata": {
            "tags": []
          }
        },
        {
          "output_type": "display_data",
          "data": {
            "text/html": [
              "<span style=\"color:cyan\"> |-conv_1_activation: tanh</span>"
            ],
            "text/plain": [
              "<IPython.core.display.HTML object>"
            ]
          },
          "metadata": {
            "tags": []
          }
        },
        {
          "output_type": "display_data",
          "data": {
            "text/html": [
              "<span style=\"color:blue\"> |-conv_1_units: 480</span>"
            ],
            "text/plain": [
              "<IPython.core.display.HTML object>"
            ]
          },
          "metadata": {
            "tags": []
          }
        },
        {
          "output_type": "display_data",
          "data": {
            "text/html": [
              "<span style=\"color:cyan\"> |-conv_2_activation: relu</span>"
            ],
            "text/plain": [
              "<IPython.core.display.HTML object>"
            ]
          },
          "metadata": {
            "tags": []
          }
        },
        {
          "output_type": "display_data",
          "data": {
            "text/html": [
              "<span style=\"color:blue\"> |-conv_2_units: 384</span>"
            ],
            "text/plain": [
              "<IPython.core.display.HTML object>"
            ]
          },
          "metadata": {
            "tags": []
          }
        },
        {
          "output_type": "display_data",
          "data": {
            "text/html": [
              "<span style=\"color:cyan\"> |-conv_3_activation: tanh</span>"
            ],
            "text/plain": [
              "<IPython.core.display.HTML object>"
            ]
          },
          "metadata": {
            "tags": []
          }
        },
        {
          "output_type": "display_data",
          "data": {
            "text/html": [
              "<span style=\"color:blue\"> |-conv_3_units: 320</span>"
            ],
            "text/plain": [
              "<IPython.core.display.HTML object>"
            ]
          },
          "metadata": {
            "tags": []
          }
        },
        {
          "output_type": "display_data",
          "data": {
            "text/html": [
              "<span style=\"color:cyan\"> |-conv_4_activation: tanh</span>"
            ],
            "text/plain": [
              "<IPython.core.display.HTML object>"
            ]
          },
          "metadata": {
            "tags": []
          }
        },
        {
          "output_type": "display_data",
          "data": {
            "text/html": [
              "<span style=\"color:blue\"> |-conv_4_units: 320</span>"
            ],
            "text/plain": [
              "<IPython.core.display.HTML object>"
            ]
          },
          "metadata": {
            "tags": []
          }
        },
        {
          "output_type": "display_data",
          "data": {
            "text/html": [
              "<span style=\"color:cyan\"> |-conv_5_activation: relu</span>"
            ],
            "text/plain": [
              "<IPython.core.display.HTML object>"
            ]
          },
          "metadata": {
            "tags": []
          }
        },
        {
          "output_type": "display_data",
          "data": {
            "text/html": [
              "<span style=\"color:blue\"> |-conv_5_units: 352</span>"
            ],
            "text/plain": [
              "<IPython.core.display.HTML object>"
            ]
          },
          "metadata": {
            "tags": []
          }
        },
        {
          "output_type": "display_data",
          "data": {
            "text/html": [
              "<span style=\"color:cyan\"> |-conv_layers: 5</span>"
            ],
            "text/plain": [
              "<IPython.core.display.HTML object>"
            ]
          },
          "metadata": {
            "tags": []
          }
        },
        {
          "output_type": "display_data",
          "data": {
            "text/html": [
              "<span style=\"color:blue\"> |-dense_0_units: 96</span>"
            ],
            "text/plain": [
              "<IPython.core.display.HTML object>"
            ]
          },
          "metadata": {
            "tags": []
          }
        },
        {
          "output_type": "display_data",
          "data": {
            "text/html": [
              "<span style=\"color:cyan\"> |-dense_1_units: 512</span>"
            ],
            "text/plain": [
              "<IPython.core.display.HTML object>"
            ]
          },
          "metadata": {
            "tags": []
          }
        },
        {
          "output_type": "display_data",
          "data": {
            "text/html": [
              "<span style=\"color:blue\"> |-dense_2_units: 320</span>"
            ],
            "text/plain": [
              "<IPython.core.display.HTML object>"
            ]
          },
          "metadata": {
            "tags": []
          }
        },
        {
          "output_type": "display_data",
          "data": {
            "text/html": [
              "<span style=\"color:cyan\"> |-dense_3_units: 160</span>"
            ],
            "text/plain": [
              "<IPython.core.display.HTML object>"
            ]
          },
          "metadata": {
            "tags": []
          }
        },
        {
          "output_type": "display_data",
          "data": {
            "text/html": [
              "<span style=\"color:blue\"> |-dense_4_units: 64</span>"
            ],
            "text/plain": [
              "<IPython.core.display.HTML object>"
            ]
          },
          "metadata": {
            "tags": []
          }
        },
        {
          "output_type": "display_data",
          "data": {
            "text/html": [
              "<span style=\"color:cyan\"> |-dense_layers: 1</span>"
            ],
            "text/plain": [
              "<IPython.core.display.HTML object>"
            ]
          },
          "metadata": {
            "tags": []
          }
        },
        {
          "output_type": "display_data",
          "data": {
            "text/html": [
              "<span style=\"color:blue\"> |-dropout_1: 0.5</span>"
            ],
            "text/plain": [
              "<IPython.core.display.HTML object>"
            ]
          },
          "metadata": {
            "tags": []
          }
        },
        {
          "output_type": "display_data",
          "data": {
            "text/html": [
              "<span style=\"color:cyan\"> |-dropout_2: 0.25</span>"
            ],
            "text/plain": [
              "<IPython.core.display.HTML object>"
            ]
          },
          "metadata": {
            "tags": []
          }
        },
        {
          "output_type": "display_data",
          "data": {
            "text/html": [
              "<span style=\"color:blue\"> |-input_activation: relu</span>"
            ],
            "text/plain": [
              "<IPython.core.display.HTML object>"
            ]
          },
          "metadata": {
            "tags": []
          }
        },
        {
          "output_type": "display_data",
          "data": {
            "text/html": [
              "<span style=\"color:cyan\"> |-input_units: 208</span>"
            ],
            "text/plain": [
              "<IPython.core.display.HTML object>"
            ]
          },
          "metadata": {
            "tags": []
          }
        },
        {
          "output_type": "display_data",
          "data": {
            "text/html": [
              "<span style=\"color:blue\"> |-learning_rate: 0.0001</span>"
            ],
            "text/plain": [
              "<IPython.core.display.HTML object>"
            ]
          },
          "metadata": {
            "tags": []
          }
        },
        {
          "output_type": "stream",
          "text": [
            "Epoch 1/10\n",
            " 2/20 [==>...........................] - ETA: 2s - loss: 0.8542 - accuracy: 0.4800WARNING:tensorflow:Callbacks method `on_train_batch_end` is slow compared to the batch time (batch time: 0.0793s vs `on_train_batch_end` time: 0.1498s). Check your callbacks.\n",
            "20/20 [==============================] - 6s 310ms/step - loss: 0.8204 - accuracy: 0.5063 - val_loss: 0.6762 - val_accuracy: 0.6125\n",
            "Epoch 2/10\n",
            "20/20 [==============================] - 5s 241ms/step - loss: 0.7656 - accuracy: 0.5094 - val_loss: 0.6847 - val_accuracy: 0.5531\n",
            "Epoch 3/10\n",
            "20/20 [==============================] - 5s 242ms/step - loss: 0.7460 - accuracy: 0.5177 - val_loss: 0.6816 - val_accuracy: 0.5781\n",
            "Epoch 4/10\n",
            "20/20 [==============================] - 5s 242ms/step - loss: 0.7436 - accuracy: 0.4990 - val_loss: 0.6807 - val_accuracy: 0.5938\n",
            "Epoch 5/10\n",
            "20/20 [==============================] - 5s 241ms/step - loss: 0.7243 - accuracy: 0.5167 - val_loss: 0.6805 - val_accuracy: 0.6000\n",
            "Epoch 6/10\n",
            "20/20 [==============================] - 5s 242ms/step - loss: 0.7279 - accuracy: 0.5198 - val_loss: 0.6811 - val_accuracy: 0.6000\n",
            "Epoch 7/10\n",
            "20/20 [==============================] - 5s 241ms/step - loss: 0.7366 - accuracy: 0.4833 - val_loss: 0.6827 - val_accuracy: 0.5875\n",
            "Epoch 8/10\n",
            "20/20 [==============================] - 5s 244ms/step - loss: 0.7141 - accuracy: 0.5208 - val_loss: 0.6802 - val_accuracy: 0.6187\n",
            "Epoch 9/10\n",
            "20/20 [==============================] - 5s 242ms/step - loss: 0.6956 - accuracy: 0.5365 - val_loss: 0.6776 - val_accuracy: 0.6031\n",
            "Epoch 10/10\n",
            "20/20 [==============================] - 5s 243ms/step - loss: 0.6976 - accuracy: 0.5552 - val_loss: 0.6755 - val_accuracy: 0.6000\n"
          ],
          "name": "stdout"
        },
        {
          "output_type": "display_data",
          "data": {
            "text/html": [
              "<span style=\"color:#4527A0\"><h1 style=\"font-size:18px\">Trial complete</h1></span>"
            ],
            "text/plain": [
              "<IPython.core.display.HTML object>"
            ]
          },
          "metadata": {
            "tags": []
          }
        },
        {
          "output_type": "display_data",
          "data": {
            "text/html": [
              "<span style=\"color:#4527A0\"><h1 style=\"font-size:18px\">Trial summary</h1></span>"
            ],
            "text/plain": [
              "<IPython.core.display.HTML object>"
            ]
          },
          "metadata": {
            "tags": []
          }
        },
        {
          "output_type": "display_data",
          "data": {
            "text/html": [
              "<span style=\"color:cyan\"> |-Trial ID: d950a18c16c41090a5eba37179b47747</span>"
            ],
            "text/plain": [
              "<IPython.core.display.HTML object>"
            ]
          },
          "metadata": {
            "tags": []
          }
        },
        {
          "output_type": "display_data",
          "data": {
            "text/html": [
              "<span style=\"color:cyan\"> |-Score: 0.6187499761581421</span>"
            ],
            "text/plain": [
              "<IPython.core.display.HTML object>"
            ]
          },
          "metadata": {
            "tags": []
          }
        },
        {
          "output_type": "display_data",
          "data": {
            "text/html": [
              "<span style=\"color:cyan\"> |-Best step: 0</span>"
            ],
            "text/plain": [
              "<IPython.core.display.HTML object>"
            ]
          },
          "metadata": {
            "tags": []
          }
        },
        {
          "output_type": "display_data",
          "data": {
            "text/html": [
              "<span style=\"color:#7E57C2\"><h2 style=\"font-size:16px\">Hyperparameters:</h2></span>"
            ],
            "text/plain": [
              "<IPython.core.display.HTML object>"
            ]
          },
          "metadata": {
            "tags": []
          }
        },
        {
          "output_type": "display_data",
          "data": {
            "text/html": [
              "<span style=\"color:cyan\"> |-conv_0_activation: tanh</span>"
            ],
            "text/plain": [
              "<IPython.core.display.HTML object>"
            ]
          },
          "metadata": {
            "tags": []
          }
        },
        {
          "output_type": "display_data",
          "data": {
            "text/html": [
              "<span style=\"color:blue\"> |-conv_0_units: 512</span>"
            ],
            "text/plain": [
              "<IPython.core.display.HTML object>"
            ]
          },
          "metadata": {
            "tags": []
          }
        },
        {
          "output_type": "display_data",
          "data": {
            "text/html": [
              "<span style=\"color:cyan\"> |-conv_1_activation: tanh</span>"
            ],
            "text/plain": [
              "<IPython.core.display.HTML object>"
            ]
          },
          "metadata": {
            "tags": []
          }
        },
        {
          "output_type": "display_data",
          "data": {
            "text/html": [
              "<span style=\"color:blue\"> |-conv_1_units: 32</span>"
            ],
            "text/plain": [
              "<IPython.core.display.HTML object>"
            ]
          },
          "metadata": {
            "tags": []
          }
        },
        {
          "output_type": "display_data",
          "data": {
            "text/html": [
              "<span style=\"color:cyan\"> |-conv_2_activation: tanh</span>"
            ],
            "text/plain": [
              "<IPython.core.display.HTML object>"
            ]
          },
          "metadata": {
            "tags": []
          }
        },
        {
          "output_type": "display_data",
          "data": {
            "text/html": [
              "<span style=\"color:blue\"> |-conv_2_units: 256</span>"
            ],
            "text/plain": [
              "<IPython.core.display.HTML object>"
            ]
          },
          "metadata": {
            "tags": []
          }
        },
        {
          "output_type": "display_data",
          "data": {
            "text/html": [
              "<span style=\"color:cyan\"> |-conv_3_activation: tanh</span>"
            ],
            "text/plain": [
              "<IPython.core.display.HTML object>"
            ]
          },
          "metadata": {
            "tags": []
          }
        },
        {
          "output_type": "display_data",
          "data": {
            "text/html": [
              "<span style=\"color:blue\"> |-conv_3_units: 384</span>"
            ],
            "text/plain": [
              "<IPython.core.display.HTML object>"
            ]
          },
          "metadata": {
            "tags": []
          }
        },
        {
          "output_type": "display_data",
          "data": {
            "text/html": [
              "<span style=\"color:cyan\"> |-conv_4_activation: relu</span>"
            ],
            "text/plain": [
              "<IPython.core.display.HTML object>"
            ]
          },
          "metadata": {
            "tags": []
          }
        },
        {
          "output_type": "display_data",
          "data": {
            "text/html": [
              "<span style=\"color:blue\"> |-conv_4_units: 352</span>"
            ],
            "text/plain": [
              "<IPython.core.display.HTML object>"
            ]
          },
          "metadata": {
            "tags": []
          }
        },
        {
          "output_type": "display_data",
          "data": {
            "text/html": [
              "<span style=\"color:cyan\"> |-conv_5_activation: tanh</span>"
            ],
            "text/plain": [
              "<IPython.core.display.HTML object>"
            ]
          },
          "metadata": {
            "tags": []
          }
        },
        {
          "output_type": "display_data",
          "data": {
            "text/html": [
              "<span style=\"color:blue\"> |-conv_5_units: 128</span>"
            ],
            "text/plain": [
              "<IPython.core.display.HTML object>"
            ]
          },
          "metadata": {
            "tags": []
          }
        },
        {
          "output_type": "display_data",
          "data": {
            "text/html": [
              "<span style=\"color:cyan\"> |-conv_layers: 3</span>"
            ],
            "text/plain": [
              "<IPython.core.display.HTML object>"
            ]
          },
          "metadata": {
            "tags": []
          }
        },
        {
          "output_type": "display_data",
          "data": {
            "text/html": [
              "<span style=\"color:blue\"> |-dense_0_units: 352</span>"
            ],
            "text/plain": [
              "<IPython.core.display.HTML object>"
            ]
          },
          "metadata": {
            "tags": []
          }
        },
        {
          "output_type": "display_data",
          "data": {
            "text/html": [
              "<span style=\"color:cyan\"> |-dense_1_units: 128</span>"
            ],
            "text/plain": [
              "<IPython.core.display.HTML object>"
            ]
          },
          "metadata": {
            "tags": []
          }
        },
        {
          "output_type": "display_data",
          "data": {
            "text/html": [
              "<span style=\"color:blue\"> |-dense_2_units: 416</span>"
            ],
            "text/plain": [
              "<IPython.core.display.HTML object>"
            ]
          },
          "metadata": {
            "tags": []
          }
        },
        {
          "output_type": "display_data",
          "data": {
            "text/html": [
              "<span style=\"color:cyan\"> |-dense_3_units: 352</span>"
            ],
            "text/plain": [
              "<IPython.core.display.HTML object>"
            ]
          },
          "metadata": {
            "tags": []
          }
        },
        {
          "output_type": "display_data",
          "data": {
            "text/html": [
              "<span style=\"color:blue\"> |-dense_4_units: 96</span>"
            ],
            "text/plain": [
              "<IPython.core.display.HTML object>"
            ]
          },
          "metadata": {
            "tags": []
          }
        },
        {
          "output_type": "display_data",
          "data": {
            "text/html": [
              "<span style=\"color:cyan\"> |-dense_layers: 0</span>"
            ],
            "text/plain": [
              "<IPython.core.display.HTML object>"
            ]
          },
          "metadata": {
            "tags": []
          }
        },
        {
          "output_type": "display_data",
          "data": {
            "text/html": [
              "<span style=\"color:blue\"> |-dropout_1: 0.5</span>"
            ],
            "text/plain": [
              "<IPython.core.display.HTML object>"
            ]
          },
          "metadata": {
            "tags": []
          }
        },
        {
          "output_type": "display_data",
          "data": {
            "text/html": [
              "<span style=\"color:cyan\"> |-dropout_2: 0.75</span>"
            ],
            "text/plain": [
              "<IPython.core.display.HTML object>"
            ]
          },
          "metadata": {
            "tags": []
          }
        },
        {
          "output_type": "display_data",
          "data": {
            "text/html": [
              "<span style=\"color:blue\"> |-input_activation: tanh</span>"
            ],
            "text/plain": [
              "<IPython.core.display.HTML object>"
            ]
          },
          "metadata": {
            "tags": []
          }
        },
        {
          "output_type": "display_data",
          "data": {
            "text/html": [
              "<span style=\"color:cyan\"> |-input_units: 256</span>"
            ],
            "text/plain": [
              "<IPython.core.display.HTML object>"
            ]
          },
          "metadata": {
            "tags": []
          }
        },
        {
          "output_type": "display_data",
          "data": {
            "text/html": [
              "<span style=\"color:blue\"> |-learning_rate: 1e-05</span>"
            ],
            "text/plain": [
              "<IPython.core.display.HTML object>"
            ]
          },
          "metadata": {
            "tags": []
          }
        },
        {
          "output_type": "stream",
          "text": [
            "Epoch 1/10\n",
            " 2/20 [==>...........................] - ETA: 3s - loss: 0.6854 - accuracy: 0.5100WARNING:tensorflow:Callbacks method `on_train_batch_end` is slow compared to the batch time (batch time: 0.1233s vs `on_train_batch_end` time: 0.2358s). Check your callbacks.\n",
            "20/20 [==============================] - 12s 586ms/step - loss: 0.7156 - accuracy: 0.4938 - val_loss: 0.6815 - val_accuracy: 0.5906\n",
            "Epoch 2/10\n",
            "20/20 [==============================] - 10s 492ms/step - loss: 0.7105 - accuracy: 0.5146 - val_loss: 0.6807 - val_accuracy: 0.5938\n",
            "Epoch 3/10\n",
            "20/20 [==============================] - 7s 365ms/step - loss: 0.7131 - accuracy: 0.5198 - val_loss: 0.6793 - val_accuracy: 0.5844\n",
            "Epoch 4/10\n",
            "20/20 [==============================] - 7s 367ms/step - loss: 0.7180 - accuracy: 0.5156 - val_loss: 0.6783 - val_accuracy: 0.5906\n",
            "Epoch 5/10\n",
            "20/20 [==============================] - 7s 368ms/step - loss: 0.6949 - accuracy: 0.5375 - val_loss: 0.6786 - val_accuracy: 0.5875\n",
            "Epoch 6/10\n",
            "20/20 [==============================] - 7s 370ms/step - loss: 0.7201 - accuracy: 0.4844 - val_loss: 0.6783 - val_accuracy: 0.5906\n",
            "Epoch 7/10\n",
            "20/20 [==============================] - 7s 369ms/step - loss: 0.6982 - accuracy: 0.5354 - val_loss: 0.6775 - val_accuracy: 0.5875\n",
            "Epoch 8/10\n",
            "20/20 [==============================] - 7s 368ms/step - loss: 0.7118 - accuracy: 0.5000 - val_loss: 0.6779 - val_accuracy: 0.5875\n",
            "Epoch 9/10\n",
            "20/20 [==============================] - 7s 368ms/step - loss: 0.7072 - accuracy: 0.5375 - val_loss: 0.6772 - val_accuracy: 0.5875\n",
            "Epoch 10/10\n",
            "20/20 [==============================] - 7s 367ms/step - loss: 0.7161 - accuracy: 0.5156 - val_loss: 0.6780 - val_accuracy: 0.5906\n"
          ],
          "name": "stdout"
        },
        {
          "output_type": "display_data",
          "data": {
            "text/html": [
              "<span style=\"color:#4527A0\"><h1 style=\"font-size:18px\">Trial complete</h1></span>"
            ],
            "text/plain": [
              "<IPython.core.display.HTML object>"
            ]
          },
          "metadata": {
            "tags": []
          }
        },
        {
          "output_type": "display_data",
          "data": {
            "text/html": [
              "<span style=\"color:#4527A0\"><h1 style=\"font-size:18px\">Trial summary</h1></span>"
            ],
            "text/plain": [
              "<IPython.core.display.HTML object>"
            ]
          },
          "metadata": {
            "tags": []
          }
        },
        {
          "output_type": "display_data",
          "data": {
            "text/html": [
              "<span style=\"color:cyan\"> |-Trial ID: 7e56aaada82caae5281e82704fba8f81</span>"
            ],
            "text/plain": [
              "<IPython.core.display.HTML object>"
            ]
          },
          "metadata": {
            "tags": []
          }
        },
        {
          "output_type": "display_data",
          "data": {
            "text/html": [
              "<span style=\"color:cyan\"> |-Score: 0.59375</span>"
            ],
            "text/plain": [
              "<IPython.core.display.HTML object>"
            ]
          },
          "metadata": {
            "tags": []
          }
        },
        {
          "output_type": "display_data",
          "data": {
            "text/html": [
              "<span style=\"color:cyan\"> |-Best step: 0</span>"
            ],
            "text/plain": [
              "<IPython.core.display.HTML object>"
            ]
          },
          "metadata": {
            "tags": []
          }
        },
        {
          "output_type": "display_data",
          "data": {
            "text/html": [
              "<span style=\"color:#7E57C2\"><h2 style=\"font-size:16px\">Hyperparameters:</h2></span>"
            ],
            "text/plain": [
              "<IPython.core.display.HTML object>"
            ]
          },
          "metadata": {
            "tags": []
          }
        },
        {
          "output_type": "display_data",
          "data": {
            "text/html": [
              "<span style=\"color:cyan\"> |-conv_0_activation: relu</span>"
            ],
            "text/plain": [
              "<IPython.core.display.HTML object>"
            ]
          },
          "metadata": {
            "tags": []
          }
        },
        {
          "output_type": "display_data",
          "data": {
            "text/html": [
              "<span style=\"color:blue\"> |-conv_0_units: 160</span>"
            ],
            "text/plain": [
              "<IPython.core.display.HTML object>"
            ]
          },
          "metadata": {
            "tags": []
          }
        },
        {
          "output_type": "display_data",
          "data": {
            "text/html": [
              "<span style=\"color:cyan\"> |-conv_1_activation: relu</span>"
            ],
            "text/plain": [
              "<IPython.core.display.HTML object>"
            ]
          },
          "metadata": {
            "tags": []
          }
        },
        {
          "output_type": "display_data",
          "data": {
            "text/html": [
              "<span style=\"color:blue\"> |-conv_1_units: 96</span>"
            ],
            "text/plain": [
              "<IPython.core.display.HTML object>"
            ]
          },
          "metadata": {
            "tags": []
          }
        },
        {
          "output_type": "display_data",
          "data": {
            "text/html": [
              "<span style=\"color:cyan\"> |-conv_2_activation: tanh</span>"
            ],
            "text/plain": [
              "<IPython.core.display.HTML object>"
            ]
          },
          "metadata": {
            "tags": []
          }
        },
        {
          "output_type": "display_data",
          "data": {
            "text/html": [
              "<span style=\"color:blue\"> |-conv_2_units: 352</span>"
            ],
            "text/plain": [
              "<IPython.core.display.HTML object>"
            ]
          },
          "metadata": {
            "tags": []
          }
        },
        {
          "output_type": "display_data",
          "data": {
            "text/html": [
              "<span style=\"color:cyan\"> |-conv_3_activation: relu</span>"
            ],
            "text/plain": [
              "<IPython.core.display.HTML object>"
            ]
          },
          "metadata": {
            "tags": []
          }
        },
        {
          "output_type": "display_data",
          "data": {
            "text/html": [
              "<span style=\"color:blue\"> |-conv_3_units: 192</span>"
            ],
            "text/plain": [
              "<IPython.core.display.HTML object>"
            ]
          },
          "metadata": {
            "tags": []
          }
        },
        {
          "output_type": "display_data",
          "data": {
            "text/html": [
              "<span style=\"color:cyan\"> |-conv_4_activation: tanh</span>"
            ],
            "text/plain": [
              "<IPython.core.display.HTML object>"
            ]
          },
          "metadata": {
            "tags": []
          }
        },
        {
          "output_type": "display_data",
          "data": {
            "text/html": [
              "<span style=\"color:blue\"> |-conv_4_units: 192</span>"
            ],
            "text/plain": [
              "<IPython.core.display.HTML object>"
            ]
          },
          "metadata": {
            "tags": []
          }
        },
        {
          "output_type": "display_data",
          "data": {
            "text/html": [
              "<span style=\"color:cyan\"> |-conv_5_activation: tanh</span>"
            ],
            "text/plain": [
              "<IPython.core.display.HTML object>"
            ]
          },
          "metadata": {
            "tags": []
          }
        },
        {
          "output_type": "display_data",
          "data": {
            "text/html": [
              "<span style=\"color:blue\"> |-conv_5_units: 320</span>"
            ],
            "text/plain": [
              "<IPython.core.display.HTML object>"
            ]
          },
          "metadata": {
            "tags": []
          }
        },
        {
          "output_type": "display_data",
          "data": {
            "text/html": [
              "<span style=\"color:cyan\"> |-conv_layers: 6</span>"
            ],
            "text/plain": [
              "<IPython.core.display.HTML object>"
            ]
          },
          "metadata": {
            "tags": []
          }
        },
        {
          "output_type": "display_data",
          "data": {
            "text/html": [
              "<span style=\"color:blue\"> |-dense_0_units: 512</span>"
            ],
            "text/plain": [
              "<IPython.core.display.HTML object>"
            ]
          },
          "metadata": {
            "tags": []
          }
        },
        {
          "output_type": "display_data",
          "data": {
            "text/html": [
              "<span style=\"color:cyan\"> |-dense_1_units: 64</span>"
            ],
            "text/plain": [
              "<IPython.core.display.HTML object>"
            ]
          },
          "metadata": {
            "tags": []
          }
        },
        {
          "output_type": "display_data",
          "data": {
            "text/html": [
              "<span style=\"color:blue\"> |-dense_2_units: 192</span>"
            ],
            "text/plain": [
              "<IPython.core.display.HTML object>"
            ]
          },
          "metadata": {
            "tags": []
          }
        },
        {
          "output_type": "display_data",
          "data": {
            "text/html": [
              "<span style=\"color:cyan\"> |-dense_3_units: 352</span>"
            ],
            "text/plain": [
              "<IPython.core.display.HTML object>"
            ]
          },
          "metadata": {
            "tags": []
          }
        },
        {
          "output_type": "display_data",
          "data": {
            "text/html": [
              "<span style=\"color:blue\"> |-dense_4_units: 96</span>"
            ],
            "text/plain": [
              "<IPython.core.display.HTML object>"
            ]
          },
          "metadata": {
            "tags": []
          }
        },
        {
          "output_type": "display_data",
          "data": {
            "text/html": [
              "<span style=\"color:cyan\"> |-dense_layers: 3</span>"
            ],
            "text/plain": [
              "<IPython.core.display.HTML object>"
            ]
          },
          "metadata": {
            "tags": []
          }
        },
        {
          "output_type": "display_data",
          "data": {
            "text/html": [
              "<span style=\"color:blue\"> |-dropout_1: 0.5</span>"
            ],
            "text/plain": [
              "<IPython.core.display.HTML object>"
            ]
          },
          "metadata": {
            "tags": []
          }
        },
        {
          "output_type": "display_data",
          "data": {
            "text/html": [
              "<span style=\"color:cyan\"> |-dropout_2: 0.5</span>"
            ],
            "text/plain": [
              "<IPython.core.display.HTML object>"
            ]
          },
          "metadata": {
            "tags": []
          }
        },
        {
          "output_type": "display_data",
          "data": {
            "text/html": [
              "<span style=\"color:blue\"> |-input_activation: tanh</span>"
            ],
            "text/plain": [
              "<IPython.core.display.HTML object>"
            ]
          },
          "metadata": {
            "tags": []
          }
        },
        {
          "output_type": "display_data",
          "data": {
            "text/html": [
              "<span style=\"color:cyan\"> |-input_units: 192</span>"
            ],
            "text/plain": [
              "<IPython.core.display.HTML object>"
            ]
          },
          "metadata": {
            "tags": []
          }
        },
        {
          "output_type": "display_data",
          "data": {
            "text/html": [
              "<span style=\"color:blue\"> |-learning_rate: 1e-06</span>"
            ],
            "text/plain": [
              "<IPython.core.display.HTML object>"
            ]
          },
          "metadata": {
            "tags": []
          }
        },
        {
          "output_type": "stream",
          "text": [
            "INFO:tensorflow:Oracle triggered exit\n",
            "WARNING:tensorflow:From /usr/local/lib/python3.6/dist-packages/tensorflow/python/training/tracking/tracking.py:111: Model.state_updates (from tensorflow.python.keras.engine.training) is deprecated and will be removed in a future version.\n",
            "Instructions for updating:\n",
            "This property should not be used in TensorFlow 2.0, as updates are applied automatically.\n",
            "WARNING:tensorflow:From /usr/local/lib/python3.6/dist-packages/tensorflow/python/training/tracking/tracking.py:111: Layer.updates (from tensorflow.python.keras.engine.base_layer) is deprecated and will be removed in a future version.\n",
            "Instructions for updating:\n",
            "This property should not be used in TensorFlow 2.0, as updates are applied automatically.\n",
            "INFO:tensorflow:Assets written to: randSearchModel/assets\n",
            "WARNING:tensorflow:Unresolved object in checkpoint: (root).optimizer.iter\n",
            "WARNING:tensorflow:Unresolved object in checkpoint: (root).optimizer.decay\n",
            "WARNING:tensorflow:Unresolved object in checkpoint: (root).optimizer.learning_rate\n",
            "WARNING:tensorflow:Unresolved object in checkpoint: (root).optimizer.momentum\n",
            "WARNING:tensorflow:A checkpoint was restored (e.g. tf.train.Checkpoint.restore or tf.keras.Model.load_weights) but not all checkpointed values were used. See above for specific issues. Use expect_partial() on the load status object, e.g. tf.train.Checkpoint.restore(...).expect_partial(), to silence these warnings, or use assert_consumed() to make the check explicit. See https://www.tensorflow.org/guide/checkpoint#loading_mechanics for details.\n"
          ],
          "name": "stdout"
        }
      ]
    },
    {
      "cell_type": "markdown",
      "metadata": {
        "id": "fKy95IJocAMZ"
      },
      "source": [
        "###  Bayesian optimisation tuner for valance accuracy"
      ]
    },
    {
      "cell_type": "code",
      "metadata": {
        "id": "X7tm-rmHr0k3",
        "outputId": "1a67b4a6-9143-4f1f-e73e-fe6a3ae63879",
        "colab": {
          "base_uri": "https://localhost:8080/",
          "height": 1000
        }
      },
      "source": [
        "bayesian_tuner = kt.BayesianOptimization(build_hyperparameter_model,\n",
        "                                         objective='val_accuracy', \n",
        "                                         max_trials=5,\n",
        "                                         executions_per_trial = 1,\n",
        "                                         directory=LOG_DIR)\n",
        "\n",
        "bayesian_tuner.search(x=X_train,\n",
        "                      y=y_train,\n",
        "                      epochs=10,\n",
        "                      batch_size=50,\n",
        "                      validation_data=(X_test, y_test))\n",
        "bayesian_tuner.get_best_models(1)[0].save('bayesianModel')"
      ],
      "execution_count": null,
      "outputs": [
        {
          "output_type": "stream",
          "text": [
            "Epoch 1/10\n",
            " 2/20 [==>...........................] - ETA: 1s - loss: 0.8174 - accuracy: 0.5000WARNING:tensorflow:Callbacks method `on_train_batch_end` is slow compared to the batch time (batch time: 0.0478s vs `on_train_batch_end` time: 0.0983s). Check your callbacks.\n",
            "20/20 [==============================] - 4s 190ms/step - loss: 0.8153 - accuracy: 0.4792 - val_loss: 0.7884 - val_accuracy: 0.3969\n",
            "Epoch 2/10\n",
            "20/20 [==============================] - 3s 148ms/step - loss: 0.7932 - accuracy: 0.4854 - val_loss: 0.7747 - val_accuracy: 0.4000\n",
            "Epoch 3/10\n",
            "20/20 [==============================] - 3s 147ms/step - loss: 0.8020 - accuracy: 0.4781 - val_loss: 0.7616 - val_accuracy: 0.4000\n",
            "Epoch 4/10\n",
            "20/20 [==============================] - 3s 151ms/step - loss: 0.7816 - accuracy: 0.4708 - val_loss: 0.7499 - val_accuracy: 0.4031\n",
            "Epoch 5/10\n",
            "20/20 [==============================] - 3s 151ms/step - loss: 0.7673 - accuracy: 0.4708 - val_loss: 0.7406 - val_accuracy: 0.4062\n",
            "Epoch 6/10\n",
            "20/20 [==============================] - 3s 150ms/step - loss: 0.7593 - accuracy: 0.4917 - val_loss: 0.7326 - val_accuracy: 0.4062\n",
            "Epoch 7/10\n",
            "20/20 [==============================] - 3s 153ms/step - loss: 0.7708 - accuracy: 0.4823 - val_loss: 0.7255 - val_accuracy: 0.4125\n",
            "Epoch 8/10\n",
            "20/20 [==============================] - 3s 152ms/step - loss: 0.7689 - accuracy: 0.4688 - val_loss: 0.7183 - val_accuracy: 0.4406\n",
            "Epoch 9/10\n",
            "20/20 [==============================] - 3s 150ms/step - loss: 0.7724 - accuracy: 0.4708 - val_loss: 0.7129 - val_accuracy: 0.4344\n",
            "Epoch 10/10\n",
            "20/20 [==============================] - 3s 149ms/step - loss: 0.7517 - accuracy: 0.5052 - val_loss: 0.7079 - val_accuracy: 0.4469\n"
          ],
          "name": "stdout"
        },
        {
          "output_type": "display_data",
          "data": {
            "text/html": [
              "<span style=\"color:#4527A0\"><h1 style=\"font-size:18px\">Trial complete</h1></span>"
            ],
            "text/plain": [
              "<IPython.core.display.HTML object>"
            ]
          },
          "metadata": {
            "tags": []
          }
        },
        {
          "output_type": "display_data",
          "data": {
            "text/html": [
              "<span style=\"color:#4527A0\"><h1 style=\"font-size:18px\">Trial summary</h1></span>"
            ],
            "text/plain": [
              "<IPython.core.display.HTML object>"
            ]
          },
          "metadata": {
            "tags": []
          }
        },
        {
          "output_type": "display_data",
          "data": {
            "text/html": [
              "<span style=\"color:cyan\"> |-Trial ID: 9c2bdcf36cefcec7f0cebbdd09865809</span>"
            ],
            "text/plain": [
              "<IPython.core.display.HTML object>"
            ]
          },
          "metadata": {
            "tags": []
          }
        },
        {
          "output_type": "display_data",
          "data": {
            "text/html": [
              "<span style=\"color:cyan\"> |-Score: 0.4468750059604645</span>"
            ],
            "text/plain": [
              "<IPython.core.display.HTML object>"
            ]
          },
          "metadata": {
            "tags": []
          }
        },
        {
          "output_type": "display_data",
          "data": {
            "text/html": [
              "<span style=\"color:cyan\"> |-Best step: 0</span>"
            ],
            "text/plain": [
              "<IPython.core.display.HTML object>"
            ]
          },
          "metadata": {
            "tags": []
          }
        },
        {
          "output_type": "display_data",
          "data": {
            "text/html": [
              "<span style=\"color:#7E57C2\"><h2 style=\"font-size:16px\">Hyperparameters:</h2></span>"
            ],
            "text/plain": [
              "<IPython.core.display.HTML object>"
            ]
          },
          "metadata": {
            "tags": []
          }
        },
        {
          "output_type": "display_data",
          "data": {
            "text/html": [
              "<span style=\"color:cyan\"> |-conv_0_activation: relu</span>"
            ],
            "text/plain": [
              "<IPython.core.display.HTML object>"
            ]
          },
          "metadata": {
            "tags": []
          }
        },
        {
          "output_type": "display_data",
          "data": {
            "text/html": [
              "<span style=\"color:blue\"> |-conv_0_units: 128</span>"
            ],
            "text/plain": [
              "<IPython.core.display.HTML object>"
            ]
          },
          "metadata": {
            "tags": []
          }
        },
        {
          "output_type": "display_data",
          "data": {
            "text/html": [
              "<span style=\"color:cyan\"> |-conv_1_activation: tanh</span>"
            ],
            "text/plain": [
              "<IPython.core.display.HTML object>"
            ]
          },
          "metadata": {
            "tags": []
          }
        },
        {
          "output_type": "display_data",
          "data": {
            "text/html": [
              "<span style=\"color:blue\"> |-conv_1_units: 32</span>"
            ],
            "text/plain": [
              "<IPython.core.display.HTML object>"
            ]
          },
          "metadata": {
            "tags": []
          }
        },
        {
          "output_type": "display_data",
          "data": {
            "text/html": [
              "<span style=\"color:cyan\"> |-conv_2_activation: tanh</span>"
            ],
            "text/plain": [
              "<IPython.core.display.HTML object>"
            ]
          },
          "metadata": {
            "tags": []
          }
        },
        {
          "output_type": "display_data",
          "data": {
            "text/html": [
              "<span style=\"color:blue\"> |-conv_2_units: 32</span>"
            ],
            "text/plain": [
              "<IPython.core.display.HTML object>"
            ]
          },
          "metadata": {
            "tags": []
          }
        },
        {
          "output_type": "display_data",
          "data": {
            "text/html": [
              "<span style=\"color:cyan\"> |-conv_3_activation: tanh</span>"
            ],
            "text/plain": [
              "<IPython.core.display.HTML object>"
            ]
          },
          "metadata": {
            "tags": []
          }
        },
        {
          "output_type": "display_data",
          "data": {
            "text/html": [
              "<span style=\"color:blue\"> |-conv_3_units: 32</span>"
            ],
            "text/plain": [
              "<IPython.core.display.HTML object>"
            ]
          },
          "metadata": {
            "tags": []
          }
        },
        {
          "output_type": "display_data",
          "data": {
            "text/html": [
              "<span style=\"color:cyan\"> |-conv_4_activation: tanh</span>"
            ],
            "text/plain": [
              "<IPython.core.display.HTML object>"
            ]
          },
          "metadata": {
            "tags": []
          }
        },
        {
          "output_type": "display_data",
          "data": {
            "text/html": [
              "<span style=\"color:blue\"> |-conv_4_units: 32</span>"
            ],
            "text/plain": [
              "<IPython.core.display.HTML object>"
            ]
          },
          "metadata": {
            "tags": []
          }
        },
        {
          "output_type": "display_data",
          "data": {
            "text/html": [
              "<span style=\"color:cyan\"> |-conv_5_activation: tanh</span>"
            ],
            "text/plain": [
              "<IPython.core.display.HTML object>"
            ]
          },
          "metadata": {
            "tags": []
          }
        },
        {
          "output_type": "display_data",
          "data": {
            "text/html": [
              "<span style=\"color:blue\"> |-conv_5_units: 32</span>"
            ],
            "text/plain": [
              "<IPython.core.display.HTML object>"
            ]
          },
          "metadata": {
            "tags": []
          }
        },
        {
          "output_type": "display_data",
          "data": {
            "text/html": [
              "<span style=\"color:cyan\"> |-conv_6_activation: tanh</span>"
            ],
            "text/plain": [
              "<IPython.core.display.HTML object>"
            ]
          },
          "metadata": {
            "tags": []
          }
        },
        {
          "output_type": "display_data",
          "data": {
            "text/html": [
              "<span style=\"color:blue\"> |-conv_6_units: 32</span>"
            ],
            "text/plain": [
              "<IPython.core.display.HTML object>"
            ]
          },
          "metadata": {
            "tags": []
          }
        },
        {
          "output_type": "display_data",
          "data": {
            "text/html": [
              "<span style=\"color:cyan\"> |-conv_7_activation: tanh</span>"
            ],
            "text/plain": [
              "<IPython.core.display.HTML object>"
            ]
          },
          "metadata": {
            "tags": []
          }
        },
        {
          "output_type": "display_data",
          "data": {
            "text/html": [
              "<span style=\"color:blue\"> |-conv_7_units: 32</span>"
            ],
            "text/plain": [
              "<IPython.core.display.HTML object>"
            ]
          },
          "metadata": {
            "tags": []
          }
        },
        {
          "output_type": "display_data",
          "data": {
            "text/html": [
              "<span style=\"color:cyan\"> |-conv_layers: 8</span>"
            ],
            "text/plain": [
              "<IPython.core.display.HTML object>"
            ]
          },
          "metadata": {
            "tags": []
          }
        },
        {
          "output_type": "display_data",
          "data": {
            "text/html": [
              "<span style=\"color:blue\"> |-dense_0_units: 64</span>"
            ],
            "text/plain": [
              "<IPython.core.display.HTML object>"
            ]
          },
          "metadata": {
            "tags": []
          }
        },
        {
          "output_type": "display_data",
          "data": {
            "text/html": [
              "<span style=\"color:cyan\"> |-dense_1_units: 64</span>"
            ],
            "text/plain": [
              "<IPython.core.display.HTML object>"
            ]
          },
          "metadata": {
            "tags": []
          }
        },
        {
          "output_type": "display_data",
          "data": {
            "text/html": [
              "<span style=\"color:blue\"> |-dense_2_units: 64</span>"
            ],
            "text/plain": [
              "<IPython.core.display.HTML object>"
            ]
          },
          "metadata": {
            "tags": []
          }
        },
        {
          "output_type": "display_data",
          "data": {
            "text/html": [
              "<span style=\"color:cyan\"> |-dense_3_units: 64</span>"
            ],
            "text/plain": [
              "<IPython.core.display.HTML object>"
            ]
          },
          "metadata": {
            "tags": []
          }
        },
        {
          "output_type": "display_data",
          "data": {
            "text/html": [
              "<span style=\"color:blue\"> |-dense_4_units: 64</span>"
            ],
            "text/plain": [
              "<IPython.core.display.HTML object>"
            ]
          },
          "metadata": {
            "tags": []
          }
        },
        {
          "output_type": "display_data",
          "data": {
            "text/html": [
              "<span style=\"color:cyan\"> |-dense_5_units: 64</span>"
            ],
            "text/plain": [
              "<IPython.core.display.HTML object>"
            ]
          },
          "metadata": {
            "tags": []
          }
        },
        {
          "output_type": "display_data",
          "data": {
            "text/html": [
              "<span style=\"color:blue\"> |-dense_layers: 6</span>"
            ],
            "text/plain": [
              "<IPython.core.display.HTML object>"
            ]
          },
          "metadata": {
            "tags": []
          }
        },
        {
          "output_type": "display_data",
          "data": {
            "text/html": [
              "<span style=\"color:cyan\"> |-dropout_1: 0.25</span>"
            ],
            "text/plain": [
              "<IPython.core.display.HTML object>"
            ]
          },
          "metadata": {
            "tags": []
          }
        },
        {
          "output_type": "display_data",
          "data": {
            "text/html": [
              "<span style=\"color:blue\"> |-dropout_2: 0.75</span>"
            ],
            "text/plain": [
              "<IPython.core.display.HTML object>"
            ]
          },
          "metadata": {
            "tags": []
          }
        },
        {
          "output_type": "display_data",
          "data": {
            "text/html": [
              "<span style=\"color:cyan\"> |-input_activation: relu</span>"
            ],
            "text/plain": [
              "<IPython.core.display.HTML object>"
            ]
          },
          "metadata": {
            "tags": []
          }
        },
        {
          "output_type": "display_data",
          "data": {
            "text/html": [
              "<span style=\"color:blue\"> |-input_units: 496</span>"
            ],
            "text/plain": [
              "<IPython.core.display.HTML object>"
            ]
          },
          "metadata": {
            "tags": []
          }
        },
        {
          "output_type": "display_data",
          "data": {
            "text/html": [
              "<span style=\"color:cyan\"> |-learning_rate: 1e-06</span>"
            ],
            "text/plain": [
              "<IPython.core.display.HTML object>"
            ]
          },
          "metadata": {
            "tags": []
          }
        },
        {
          "output_type": "stream",
          "text": [
            "Epoch 1/10\n",
            " 2/20 [==>...........................] - ETA: 5s - loss: 0.7006 - accuracy: 0.5200WARNING:tensorflow:Callbacks method `on_train_batch_end` is slow compared to the batch time (batch time: 0.2007s vs `on_train_batch_end` time: 0.3944s). Check your callbacks.\n",
            "20/20 [==============================] - 16s 788ms/step - loss: 0.7089 - accuracy: 0.5177 - val_loss: 0.6825 - val_accuracy: 0.6031\n",
            "Epoch 2/10\n",
            "20/20 [==============================] - 12s 591ms/step - loss: 0.7016 - accuracy: 0.5115 - val_loss: 0.6939 - val_accuracy: 0.4531\n",
            "Epoch 3/10\n",
            "20/20 [==============================] - 12s 594ms/step - loss: 0.6922 - accuracy: 0.5260 - val_loss: 0.6784 - val_accuracy: 0.6031\n",
            "Epoch 4/10\n",
            "20/20 [==============================] - 12s 599ms/step - loss: 0.6908 - accuracy: 0.5219 - val_loss: 0.6866 - val_accuracy: 0.6031\n",
            "Epoch 5/10\n",
            "20/20 [==============================] - 12s 603ms/step - loss: 0.6996 - accuracy: 0.5115 - val_loss: 0.6955 - val_accuracy: 0.4031\n",
            "Epoch 6/10\n",
            "20/20 [==============================] - 12s 605ms/step - loss: 0.6903 - accuracy: 0.5292 - val_loss: 0.6716 - val_accuracy: 0.6031\n",
            "Epoch 7/10\n",
            "20/20 [==============================] - 12s 602ms/step - loss: 0.6968 - accuracy: 0.5333 - val_loss: 0.6918 - val_accuracy: 0.5875\n",
            "Epoch 8/10\n",
            "20/20 [==============================] - 12s 601ms/step - loss: 0.6983 - accuracy: 0.5010 - val_loss: 0.6777 - val_accuracy: 0.6031\n",
            "Epoch 9/10\n",
            "20/20 [==============================] - 12s 599ms/step - loss: 0.7010 - accuracy: 0.4979 - val_loss: 0.6816 - val_accuracy: 0.6031\n",
            "Epoch 10/10\n",
            "20/20 [==============================] - 12s 600ms/step - loss: 0.6950 - accuracy: 0.5208 - val_loss: 0.6800 - val_accuracy: 0.6031\n"
          ],
          "name": "stdout"
        },
        {
          "output_type": "display_data",
          "data": {
            "text/html": [
              "<span style=\"color:#4527A0\"><h1 style=\"font-size:18px\">Trial complete</h1></span>"
            ],
            "text/plain": [
              "<IPython.core.display.HTML object>"
            ]
          },
          "metadata": {
            "tags": []
          }
        },
        {
          "output_type": "display_data",
          "data": {
            "text/html": [
              "<span style=\"color:#4527A0\"><h1 style=\"font-size:18px\">Trial summary</h1></span>"
            ],
            "text/plain": [
              "<IPython.core.display.HTML object>"
            ]
          },
          "metadata": {
            "tags": []
          }
        },
        {
          "output_type": "display_data",
          "data": {
            "text/html": [
              "<span style=\"color:cyan\"> |-Trial ID: 876b5a1a1dd588b45e98ac4c31ea8571</span>"
            ],
            "text/plain": [
              "<IPython.core.display.HTML object>"
            ]
          },
          "metadata": {
            "tags": []
          }
        },
        {
          "output_type": "display_data",
          "data": {
            "text/html": [
              "<span style=\"color:cyan\"> |-Score: 0.6031249761581421</span>"
            ],
            "text/plain": [
              "<IPython.core.display.HTML object>"
            ]
          },
          "metadata": {
            "tags": []
          }
        },
        {
          "output_type": "display_data",
          "data": {
            "text/html": [
              "<span style=\"color:cyan\"> |-Best step: 0</span>"
            ],
            "text/plain": [
              "<IPython.core.display.HTML object>"
            ]
          },
          "metadata": {
            "tags": []
          }
        },
        {
          "output_type": "display_data",
          "data": {
            "text/html": [
              "<span style=\"color:#7E57C2\"><h2 style=\"font-size:16px\">Hyperparameters:</h2></span>"
            ],
            "text/plain": [
              "<IPython.core.display.HTML object>"
            ]
          },
          "metadata": {
            "tags": []
          }
        },
        {
          "output_type": "display_data",
          "data": {
            "text/html": [
              "<span style=\"color:cyan\"> |-conv_0_activation: tanh</span>"
            ],
            "text/plain": [
              "<IPython.core.display.HTML object>"
            ]
          },
          "metadata": {
            "tags": []
          }
        },
        {
          "output_type": "display_data",
          "data": {
            "text/html": [
              "<span style=\"color:blue\"> |-conv_0_units: 416</span>"
            ],
            "text/plain": [
              "<IPython.core.display.HTML object>"
            ]
          },
          "metadata": {
            "tags": []
          }
        },
        {
          "output_type": "display_data",
          "data": {
            "text/html": [
              "<span style=\"color:cyan\"> |-conv_1_activation: relu</span>"
            ],
            "text/plain": [
              "<IPython.core.display.HTML object>"
            ]
          },
          "metadata": {
            "tags": []
          }
        },
        {
          "output_type": "display_data",
          "data": {
            "text/html": [
              "<span style=\"color:blue\"> |-conv_1_units: 288</span>"
            ],
            "text/plain": [
              "<IPython.core.display.HTML object>"
            ]
          },
          "metadata": {
            "tags": []
          }
        },
        {
          "output_type": "display_data",
          "data": {
            "text/html": [
              "<span style=\"color:cyan\"> |-conv_2_activation: relu</span>"
            ],
            "text/plain": [
              "<IPython.core.display.HTML object>"
            ]
          },
          "metadata": {
            "tags": []
          }
        },
        {
          "output_type": "display_data",
          "data": {
            "text/html": [
              "<span style=\"color:blue\"> |-conv_2_units: 448</span>"
            ],
            "text/plain": [
              "<IPython.core.display.HTML object>"
            ]
          },
          "metadata": {
            "tags": []
          }
        },
        {
          "output_type": "display_data",
          "data": {
            "text/html": [
              "<span style=\"color:cyan\"> |-conv_3_activation: tanh</span>"
            ],
            "text/plain": [
              "<IPython.core.display.HTML object>"
            ]
          },
          "metadata": {
            "tags": []
          }
        },
        {
          "output_type": "display_data",
          "data": {
            "text/html": [
              "<span style=\"color:blue\"> |-conv_3_units: 192</span>"
            ],
            "text/plain": [
              "<IPython.core.display.HTML object>"
            ]
          },
          "metadata": {
            "tags": []
          }
        },
        {
          "output_type": "display_data",
          "data": {
            "text/html": [
              "<span style=\"color:cyan\"> |-conv_4_activation: relu</span>"
            ],
            "text/plain": [
              "<IPython.core.display.HTML object>"
            ]
          },
          "metadata": {
            "tags": []
          }
        },
        {
          "output_type": "display_data",
          "data": {
            "text/html": [
              "<span style=\"color:blue\"> |-conv_4_units: 192</span>"
            ],
            "text/plain": [
              "<IPython.core.display.HTML object>"
            ]
          },
          "metadata": {
            "tags": []
          }
        },
        {
          "output_type": "display_data",
          "data": {
            "text/html": [
              "<span style=\"color:cyan\"> |-conv_5_activation: relu</span>"
            ],
            "text/plain": [
              "<IPython.core.display.HTML object>"
            ]
          },
          "metadata": {
            "tags": []
          }
        },
        {
          "output_type": "display_data",
          "data": {
            "text/html": [
              "<span style=\"color:blue\"> |-conv_5_units: 448</span>"
            ],
            "text/plain": [
              "<IPython.core.display.HTML object>"
            ]
          },
          "metadata": {
            "tags": []
          }
        },
        {
          "output_type": "display_data",
          "data": {
            "text/html": [
              "<span style=\"color:cyan\"> |-conv_6_activation: relu</span>"
            ],
            "text/plain": [
              "<IPython.core.display.HTML object>"
            ]
          },
          "metadata": {
            "tags": []
          }
        },
        {
          "output_type": "display_data",
          "data": {
            "text/html": [
              "<span style=\"color:blue\"> |-conv_6_units: 224</span>"
            ],
            "text/plain": [
              "<IPython.core.display.HTML object>"
            ]
          },
          "metadata": {
            "tags": []
          }
        },
        {
          "output_type": "display_data",
          "data": {
            "text/html": [
              "<span style=\"color:cyan\"> |-conv_7_activation: relu</span>"
            ],
            "text/plain": [
              "<IPython.core.display.HTML object>"
            ]
          },
          "metadata": {
            "tags": []
          }
        },
        {
          "output_type": "display_data",
          "data": {
            "text/html": [
              "<span style=\"color:blue\"> |-conv_7_units: 416</span>"
            ],
            "text/plain": [
              "<IPython.core.display.HTML object>"
            ]
          },
          "metadata": {
            "tags": []
          }
        },
        {
          "output_type": "display_data",
          "data": {
            "text/html": [
              "<span style=\"color:cyan\"> |-conv_layers: 6</span>"
            ],
            "text/plain": [
              "<IPython.core.display.HTML object>"
            ]
          },
          "metadata": {
            "tags": []
          }
        },
        {
          "output_type": "display_data",
          "data": {
            "text/html": [
              "<span style=\"color:blue\"> |-dense_0_units: 224</span>"
            ],
            "text/plain": [
              "<IPython.core.display.HTML object>"
            ]
          },
          "metadata": {
            "tags": []
          }
        },
        {
          "output_type": "display_data",
          "data": {
            "text/html": [
              "<span style=\"color:cyan\"> |-dense_1_units: 96</span>"
            ],
            "text/plain": [
              "<IPython.core.display.HTML object>"
            ]
          },
          "metadata": {
            "tags": []
          }
        },
        {
          "output_type": "display_data",
          "data": {
            "text/html": [
              "<span style=\"color:blue\"> |-dense_2_units: 480</span>"
            ],
            "text/plain": [
              "<IPython.core.display.HTML object>"
            ]
          },
          "metadata": {
            "tags": []
          }
        },
        {
          "output_type": "display_data",
          "data": {
            "text/html": [
              "<span style=\"color:cyan\"> |-dense_3_units: 480</span>"
            ],
            "text/plain": [
              "<IPython.core.display.HTML object>"
            ]
          },
          "metadata": {
            "tags": []
          }
        },
        {
          "output_type": "display_data",
          "data": {
            "text/html": [
              "<span style=\"color:blue\"> |-dense_4_units: 480</span>"
            ],
            "text/plain": [
              "<IPython.core.display.HTML object>"
            ]
          },
          "metadata": {
            "tags": []
          }
        },
        {
          "output_type": "display_data",
          "data": {
            "text/html": [
              "<span style=\"color:cyan\"> |-dense_5_units: 288</span>"
            ],
            "text/plain": [
              "<IPython.core.display.HTML object>"
            ]
          },
          "metadata": {
            "tags": []
          }
        },
        {
          "output_type": "display_data",
          "data": {
            "text/html": [
              "<span style=\"color:blue\"> |-dense_layers: 3</span>"
            ],
            "text/plain": [
              "<IPython.core.display.HTML object>"
            ]
          },
          "metadata": {
            "tags": []
          }
        },
        {
          "output_type": "display_data",
          "data": {
            "text/html": [
              "<span style=\"color:cyan\"> |-dropout_1: 0.5</span>"
            ],
            "text/plain": [
              "<IPython.core.display.HTML object>"
            ]
          },
          "metadata": {
            "tags": []
          }
        },
        {
          "output_type": "display_data",
          "data": {
            "text/html": [
              "<span style=\"color:blue\"> |-dropout_2: 0.25</span>"
            ],
            "text/plain": [
              "<IPython.core.display.HTML object>"
            ]
          },
          "metadata": {
            "tags": []
          }
        },
        {
          "output_type": "display_data",
          "data": {
            "text/html": [
              "<span style=\"color:cyan\"> |-input_activation: relu</span>"
            ],
            "text/plain": [
              "<IPython.core.display.HTML object>"
            ]
          },
          "metadata": {
            "tags": []
          }
        },
        {
          "output_type": "display_data",
          "data": {
            "text/html": [
              "<span style=\"color:blue\"> |-input_units: 112</span>"
            ],
            "text/plain": [
              "<IPython.core.display.HTML object>"
            ]
          },
          "metadata": {
            "tags": []
          }
        },
        {
          "output_type": "display_data",
          "data": {
            "text/html": [
              "<span style=\"color:cyan\"> |-learning_rate: 0.001</span>"
            ],
            "text/plain": [
              "<IPython.core.display.HTML object>"
            ]
          },
          "metadata": {
            "tags": []
          }
        },
        {
          "output_type": "stream",
          "text": [
            "Epoch 1/10\n",
            " 2/20 [==>...........................] - ETA: 2s - loss: 0.9986 - accuracy: 0.5000WARNING:tensorflow:Callbacks method `on_train_batch_end` is slow compared to the batch time (batch time: 0.1130s vs `on_train_batch_end` time: 0.1815s). Check your callbacks.\n",
            "20/20 [==============================] - 7s 369ms/step - loss: 1.0669 - accuracy: 0.4896 - val_loss: 0.7461 - val_accuracy: 0.4250\n",
            "Epoch 2/10\n",
            "20/20 [==============================] - 6s 305ms/step - loss: 1.0609 - accuracy: 0.4802 - val_loss: 0.7430 - val_accuracy: 0.4437\n",
            "Epoch 3/10\n",
            "20/20 [==============================] - 6s 307ms/step - loss: 0.9558 - accuracy: 0.5375 - val_loss: 0.7395 - val_accuracy: 0.4437\n",
            "Epoch 4/10\n",
            "20/20 [==============================] - 6s 307ms/step - loss: 1.0066 - accuracy: 0.4958 - val_loss: 0.7363 - val_accuracy: 0.4375\n",
            "Epoch 5/10\n",
            "20/20 [==============================] - 6s 307ms/step - loss: 1.0479 - accuracy: 0.4833 - val_loss: 0.7326 - val_accuracy: 0.4594\n",
            "Epoch 6/10\n",
            "20/20 [==============================] - 6s 302ms/step - loss: 1.0829 - accuracy: 0.4833 - val_loss: 0.7295 - val_accuracy: 0.4594\n",
            "Epoch 7/10\n",
            "20/20 [==============================] - 6s 303ms/step - loss: 1.0195 - accuracy: 0.5010 - val_loss: 0.7277 - val_accuracy: 0.4625\n",
            "Epoch 8/10\n",
            "20/20 [==============================] - 6s 302ms/step - loss: 0.9914 - accuracy: 0.5281 - val_loss: 0.7258 - val_accuracy: 0.4688\n",
            "Epoch 9/10\n",
            "20/20 [==============================] - 6s 298ms/step - loss: 1.0455 - accuracy: 0.4865 - val_loss: 0.7237 - val_accuracy: 0.4688\n",
            "Epoch 10/10\n",
            "20/20 [==============================] - 6s 298ms/step - loss: 1.1184 - accuracy: 0.4667 - val_loss: 0.7217 - val_accuracy: 0.4594\n"
          ],
          "name": "stdout"
        },
        {
          "output_type": "display_data",
          "data": {
            "text/html": [
              "<span style=\"color:#4527A0\"><h1 style=\"font-size:18px\">Trial complete</h1></span>"
            ],
            "text/plain": [
              "<IPython.core.display.HTML object>"
            ]
          },
          "metadata": {
            "tags": []
          }
        },
        {
          "output_type": "display_data",
          "data": {
            "text/html": [
              "<span style=\"color:#4527A0\"><h1 style=\"font-size:18px\">Trial summary</h1></span>"
            ],
            "text/plain": [
              "<IPython.core.display.HTML object>"
            ]
          },
          "metadata": {
            "tags": []
          }
        },
        {
          "output_type": "display_data",
          "data": {
            "text/html": [
              "<span style=\"color:cyan\"> |-Trial ID: 9a7d7f81811770306d25ebb32c9ba583</span>"
            ],
            "text/plain": [
              "<IPython.core.display.HTML object>"
            ]
          },
          "metadata": {
            "tags": []
          }
        },
        {
          "output_type": "display_data",
          "data": {
            "text/html": [
              "<span style=\"color:cyan\"> |-Score: 0.46875</span>"
            ],
            "text/plain": [
              "<IPython.core.display.HTML object>"
            ]
          },
          "metadata": {
            "tags": []
          }
        },
        {
          "output_type": "display_data",
          "data": {
            "text/html": [
              "<span style=\"color:cyan\"> |-Best step: 0</span>"
            ],
            "text/plain": [
              "<IPython.core.display.HTML object>"
            ]
          },
          "metadata": {
            "tags": []
          }
        },
        {
          "output_type": "display_data",
          "data": {
            "text/html": [
              "<span style=\"color:#7E57C2\"><h2 style=\"font-size:16px\">Hyperparameters:</h2></span>"
            ],
            "text/plain": [
              "<IPython.core.display.HTML object>"
            ]
          },
          "metadata": {
            "tags": []
          }
        },
        {
          "output_type": "display_data",
          "data": {
            "text/html": [
              "<span style=\"color:cyan\"> |-conv_0_activation: tanh</span>"
            ],
            "text/plain": [
              "<IPython.core.display.HTML object>"
            ]
          },
          "metadata": {
            "tags": []
          }
        },
        {
          "output_type": "display_data",
          "data": {
            "text/html": [
              "<span style=\"color:blue\"> |-conv_0_units: 512</span>"
            ],
            "text/plain": [
              "<IPython.core.display.HTML object>"
            ]
          },
          "metadata": {
            "tags": []
          }
        },
        {
          "output_type": "display_data",
          "data": {
            "text/html": [
              "<span style=\"color:cyan\"> |-conv_1_activation: tanh</span>"
            ],
            "text/plain": [
              "<IPython.core.display.HTML object>"
            ]
          },
          "metadata": {
            "tags": []
          }
        },
        {
          "output_type": "display_data",
          "data": {
            "text/html": [
              "<span style=\"color:blue\"> |-conv_1_units: 512</span>"
            ],
            "text/plain": [
              "<IPython.core.display.HTML object>"
            ]
          },
          "metadata": {
            "tags": []
          }
        },
        {
          "output_type": "display_data",
          "data": {
            "text/html": [
              "<span style=\"color:cyan\"> |-conv_2_activation: tanh</span>"
            ],
            "text/plain": [
              "<IPython.core.display.HTML object>"
            ]
          },
          "metadata": {
            "tags": []
          }
        },
        {
          "output_type": "display_data",
          "data": {
            "text/html": [
              "<span style=\"color:blue\"> |-conv_2_units: 512</span>"
            ],
            "text/plain": [
              "<IPython.core.display.HTML object>"
            ]
          },
          "metadata": {
            "tags": []
          }
        },
        {
          "output_type": "display_data",
          "data": {
            "text/html": [
              "<span style=\"color:cyan\"> |-conv_3_activation: relu</span>"
            ],
            "text/plain": [
              "<IPython.core.display.HTML object>"
            ]
          },
          "metadata": {
            "tags": []
          }
        },
        {
          "output_type": "display_data",
          "data": {
            "text/html": [
              "<span style=\"color:blue\"> |-conv_3_units: 512</span>"
            ],
            "text/plain": [
              "<IPython.core.display.HTML object>"
            ]
          },
          "metadata": {
            "tags": []
          }
        },
        {
          "output_type": "display_data",
          "data": {
            "text/html": [
              "<span style=\"color:cyan\"> |-conv_4_activation: tanh</span>"
            ],
            "text/plain": [
              "<IPython.core.display.HTML object>"
            ]
          },
          "metadata": {
            "tags": []
          }
        },
        {
          "output_type": "display_data",
          "data": {
            "text/html": [
              "<span style=\"color:blue\"> |-conv_4_units: 512</span>"
            ],
            "text/plain": [
              "<IPython.core.display.HTML object>"
            ]
          },
          "metadata": {
            "tags": []
          }
        },
        {
          "output_type": "display_data",
          "data": {
            "text/html": [
              "<span style=\"color:cyan\"> |-conv_5_activation: relu</span>"
            ],
            "text/plain": [
              "<IPython.core.display.HTML object>"
            ]
          },
          "metadata": {
            "tags": []
          }
        },
        {
          "output_type": "display_data",
          "data": {
            "text/html": [
              "<span style=\"color:blue\"> |-conv_5_units: 512</span>"
            ],
            "text/plain": [
              "<IPython.core.display.HTML object>"
            ]
          },
          "metadata": {
            "tags": []
          }
        },
        {
          "output_type": "display_data",
          "data": {
            "text/html": [
              "<span style=\"color:cyan\"> |-conv_6_activation: relu</span>"
            ],
            "text/plain": [
              "<IPython.core.display.HTML object>"
            ]
          },
          "metadata": {
            "tags": []
          }
        },
        {
          "output_type": "display_data",
          "data": {
            "text/html": [
              "<span style=\"color:blue\"> |-conv_6_units: 512</span>"
            ],
            "text/plain": [
              "<IPython.core.display.HTML object>"
            ]
          },
          "metadata": {
            "tags": []
          }
        },
        {
          "output_type": "display_data",
          "data": {
            "text/html": [
              "<span style=\"color:cyan\"> |-conv_7_activation: tanh</span>"
            ],
            "text/plain": [
              "<IPython.core.display.HTML object>"
            ]
          },
          "metadata": {
            "tags": []
          }
        },
        {
          "output_type": "display_data",
          "data": {
            "text/html": [
              "<span style=\"color:blue\"> |-conv_7_units: 512</span>"
            ],
            "text/plain": [
              "<IPython.core.display.HTML object>"
            ]
          },
          "metadata": {
            "tags": []
          }
        },
        {
          "output_type": "display_data",
          "data": {
            "text/html": [
              "<span style=\"color:cyan\"> |-conv_layers: 1</span>"
            ],
            "text/plain": [
              "<IPython.core.display.HTML object>"
            ]
          },
          "metadata": {
            "tags": []
          }
        },
        {
          "output_type": "display_data",
          "data": {
            "text/html": [
              "<span style=\"color:blue\"> |-dense_0_units: 512</span>"
            ],
            "text/plain": [
              "<IPython.core.display.HTML object>"
            ]
          },
          "metadata": {
            "tags": []
          }
        },
        {
          "output_type": "display_data",
          "data": {
            "text/html": [
              "<span style=\"color:cyan\"> |-dense_1_units: 512</span>"
            ],
            "text/plain": [
              "<IPython.core.display.HTML object>"
            ]
          },
          "metadata": {
            "tags": []
          }
        },
        {
          "output_type": "display_data",
          "data": {
            "text/html": [
              "<span style=\"color:blue\"> |-dense_2_units: 64</span>"
            ],
            "text/plain": [
              "<IPython.core.display.HTML object>"
            ]
          },
          "metadata": {
            "tags": []
          }
        },
        {
          "output_type": "display_data",
          "data": {
            "text/html": [
              "<span style=\"color:cyan\"> |-dense_3_units: 512</span>"
            ],
            "text/plain": [
              "<IPython.core.display.HTML object>"
            ]
          },
          "metadata": {
            "tags": []
          }
        },
        {
          "output_type": "display_data",
          "data": {
            "text/html": [
              "<span style=\"color:blue\"> |-dense_4_units: 512</span>"
            ],
            "text/plain": [
              "<IPython.core.display.HTML object>"
            ]
          },
          "metadata": {
            "tags": []
          }
        },
        {
          "output_type": "display_data",
          "data": {
            "text/html": [
              "<span style=\"color:cyan\"> |-dense_5_units: 512</span>"
            ],
            "text/plain": [
              "<IPython.core.display.HTML object>"
            ]
          },
          "metadata": {
            "tags": []
          }
        },
        {
          "output_type": "display_data",
          "data": {
            "text/html": [
              "<span style=\"color:blue\"> |-dense_layers: 0</span>"
            ],
            "text/plain": [
              "<IPython.core.display.HTML object>"
            ]
          },
          "metadata": {
            "tags": []
          }
        },
        {
          "output_type": "display_data",
          "data": {
            "text/html": [
              "<span style=\"color:cyan\"> |-dropout_1: 0.75</span>"
            ],
            "text/plain": [
              "<IPython.core.display.HTML object>"
            ]
          },
          "metadata": {
            "tags": []
          }
        },
        {
          "output_type": "display_data",
          "data": {
            "text/html": [
              "<span style=\"color:blue\"> |-dropout_2: 0.25</span>"
            ],
            "text/plain": [
              "<IPython.core.display.HTML object>"
            ]
          },
          "metadata": {
            "tags": []
          }
        },
        {
          "output_type": "display_data",
          "data": {
            "text/html": [
              "<span style=\"color:cyan\"> |-input_activation: tanh</span>"
            ],
            "text/plain": [
              "<IPython.core.display.HTML object>"
            ]
          },
          "metadata": {
            "tags": []
          }
        },
        {
          "output_type": "display_data",
          "data": {
            "text/html": [
              "<span style=\"color:blue\"> |-input_units: 512</span>"
            ],
            "text/plain": [
              "<IPython.core.display.HTML object>"
            ]
          },
          "metadata": {
            "tags": []
          }
        },
        {
          "output_type": "display_data",
          "data": {
            "text/html": [
              "<span style=\"color:cyan\"> |-learning_rate: 1e-08</span>"
            ],
            "text/plain": [
              "<IPython.core.display.HTML object>"
            ]
          },
          "metadata": {
            "tags": []
          }
        },
        {
          "output_type": "stream",
          "text": [
            "Epoch 1/10\n",
            "20/20 [==============================] - 1s 36ms/step - loss: 0.7044 - accuracy: 0.5031 - val_loss: 0.6803 - val_accuracy: 0.5938\n",
            "Epoch 2/10\n",
            "20/20 [==============================] - 1s 29ms/step - loss: 0.6984 - accuracy: 0.5104 - val_loss: 0.6734 - val_accuracy: 0.6031\n",
            "Epoch 3/10\n",
            "20/20 [==============================] - 0s 16ms/step - loss: 0.6980 - accuracy: 0.5094 - val_loss: 0.6761 - val_accuracy: 0.6031\n",
            "Epoch 4/10\n",
            "20/20 [==============================] - 0s 15ms/step - loss: 0.6814 - accuracy: 0.5656 - val_loss: 0.7062 - val_accuracy: 0.4062\n",
            "Epoch 5/10\n",
            "20/20 [==============================] - 0s 14ms/step - loss: 0.6820 - accuracy: 0.5583 - val_loss: 0.6627 - val_accuracy: 0.6031\n",
            "Epoch 6/10\n",
            "20/20 [==============================] - 1s 26ms/step - loss: 0.6825 - accuracy: 0.5688 - val_loss: 0.6757 - val_accuracy: 0.6313\n",
            "Epoch 7/10\n",
            "20/20 [==============================] - 0s 16ms/step - loss: 0.6747 - accuracy: 0.5792 - val_loss: 0.7249 - val_accuracy: 0.4313\n",
            "Epoch 8/10\n",
            "20/20 [==============================] - 0s 14ms/step - loss: 0.6832 - accuracy: 0.5667 - val_loss: 0.6691 - val_accuracy: 0.6281\n",
            "Epoch 9/10\n",
            "20/20 [==============================] - 0s 15ms/step - loss: 0.6669 - accuracy: 0.5948 - val_loss: 0.6565 - val_accuracy: 0.6000\n",
            "Epoch 10/10\n",
            "20/20 [==============================] - 0s 14ms/step - loss: 0.6610 - accuracy: 0.6052 - val_loss: 0.6505 - val_accuracy: 0.6250\n"
          ],
          "name": "stdout"
        },
        {
          "output_type": "display_data",
          "data": {
            "text/html": [
              "<span style=\"color:#4527A0\"><h1 style=\"font-size:18px\">Trial complete</h1></span>"
            ],
            "text/plain": [
              "<IPython.core.display.HTML object>"
            ]
          },
          "metadata": {
            "tags": []
          }
        },
        {
          "output_type": "display_data",
          "data": {
            "text/html": [
              "<span style=\"color:#4527A0\"><h1 style=\"font-size:18px\">Trial summary</h1></span>"
            ],
            "text/plain": [
              "<IPython.core.display.HTML object>"
            ]
          },
          "metadata": {
            "tags": []
          }
        },
        {
          "output_type": "display_data",
          "data": {
            "text/html": [
              "<span style=\"color:cyan\"> |-Trial ID: 471bc9dc6aea35465e2f64abf84b8548</span>"
            ],
            "text/plain": [
              "<IPython.core.display.HTML object>"
            ]
          },
          "metadata": {
            "tags": []
          }
        },
        {
          "output_type": "display_data",
          "data": {
            "text/html": [
              "<span style=\"color:cyan\"> |-Score: 0.6312500238418579</span>"
            ],
            "text/plain": [
              "<IPython.core.display.HTML object>"
            ]
          },
          "metadata": {
            "tags": []
          }
        },
        {
          "output_type": "display_data",
          "data": {
            "text/html": [
              "<span style=\"color:cyan\"> |-Best step: 0</span>"
            ],
            "text/plain": [
              "<IPython.core.display.HTML object>"
            ]
          },
          "metadata": {
            "tags": []
          }
        },
        {
          "output_type": "display_data",
          "data": {
            "text/html": [
              "<span style=\"color:#7E57C2\"><h2 style=\"font-size:16px\">Hyperparameters:</h2></span>"
            ],
            "text/plain": [
              "<IPython.core.display.HTML object>"
            ]
          },
          "metadata": {
            "tags": []
          }
        },
        {
          "output_type": "display_data",
          "data": {
            "text/html": [
              "<span style=\"color:cyan\"> |-conv_0_activation: relu</span>"
            ],
            "text/plain": [
              "<IPython.core.display.HTML object>"
            ]
          },
          "metadata": {
            "tags": []
          }
        },
        {
          "output_type": "display_data",
          "data": {
            "text/html": [
              "<span style=\"color:blue\"> |-conv_0_units: 32</span>"
            ],
            "text/plain": [
              "<IPython.core.display.HTML object>"
            ]
          },
          "metadata": {
            "tags": []
          }
        },
        {
          "output_type": "display_data",
          "data": {
            "text/html": [
              "<span style=\"color:cyan\"> |-conv_1_activation: relu</span>"
            ],
            "text/plain": [
              "<IPython.core.display.HTML object>"
            ]
          },
          "metadata": {
            "tags": []
          }
        },
        {
          "output_type": "display_data",
          "data": {
            "text/html": [
              "<span style=\"color:blue\"> |-conv_1_units: 32</span>"
            ],
            "text/plain": [
              "<IPython.core.display.HTML object>"
            ]
          },
          "metadata": {
            "tags": []
          }
        },
        {
          "output_type": "display_data",
          "data": {
            "text/html": [
              "<span style=\"color:cyan\"> |-conv_2_activation: relu</span>"
            ],
            "text/plain": [
              "<IPython.core.display.HTML object>"
            ]
          },
          "metadata": {
            "tags": []
          }
        },
        {
          "output_type": "display_data",
          "data": {
            "text/html": [
              "<span style=\"color:blue\"> |-conv_2_units: 32</span>"
            ],
            "text/plain": [
              "<IPython.core.display.HTML object>"
            ]
          },
          "metadata": {
            "tags": []
          }
        },
        {
          "output_type": "display_data",
          "data": {
            "text/html": [
              "<span style=\"color:cyan\"> |-conv_3_activation: relu</span>"
            ],
            "text/plain": [
              "<IPython.core.display.HTML object>"
            ]
          },
          "metadata": {
            "tags": []
          }
        },
        {
          "output_type": "display_data",
          "data": {
            "text/html": [
              "<span style=\"color:blue\"> |-conv_3_units: 512</span>"
            ],
            "text/plain": [
              "<IPython.core.display.HTML object>"
            ]
          },
          "metadata": {
            "tags": []
          }
        },
        {
          "output_type": "display_data",
          "data": {
            "text/html": [
              "<span style=\"color:cyan\"> |-conv_4_activation: relu</span>"
            ],
            "text/plain": [
              "<IPython.core.display.HTML object>"
            ]
          },
          "metadata": {
            "tags": []
          }
        },
        {
          "output_type": "display_data",
          "data": {
            "text/html": [
              "<span style=\"color:blue\"> |-conv_4_units: 32</span>"
            ],
            "text/plain": [
              "<IPython.core.display.HTML object>"
            ]
          },
          "metadata": {
            "tags": []
          }
        },
        {
          "output_type": "display_data",
          "data": {
            "text/html": [
              "<span style=\"color:cyan\"> |-conv_5_activation: relu</span>"
            ],
            "text/plain": [
              "<IPython.core.display.HTML object>"
            ]
          },
          "metadata": {
            "tags": []
          }
        },
        {
          "output_type": "display_data",
          "data": {
            "text/html": [
              "<span style=\"color:blue\"> |-conv_5_units: 512</span>"
            ],
            "text/plain": [
              "<IPython.core.display.HTML object>"
            ]
          },
          "metadata": {
            "tags": []
          }
        },
        {
          "output_type": "display_data",
          "data": {
            "text/html": [
              "<span style=\"color:cyan\"> |-conv_6_activation: relu</span>"
            ],
            "text/plain": [
              "<IPython.core.display.HTML object>"
            ]
          },
          "metadata": {
            "tags": []
          }
        },
        {
          "output_type": "display_data",
          "data": {
            "text/html": [
              "<span style=\"color:blue\"> |-conv_6_units: 512</span>"
            ],
            "text/plain": [
              "<IPython.core.display.HTML object>"
            ]
          },
          "metadata": {
            "tags": []
          }
        },
        {
          "output_type": "display_data",
          "data": {
            "text/html": [
              "<span style=\"color:cyan\"> |-conv_7_activation: relu</span>"
            ],
            "text/plain": [
              "<IPython.core.display.HTML object>"
            ]
          },
          "metadata": {
            "tags": []
          }
        },
        {
          "output_type": "display_data",
          "data": {
            "text/html": [
              "<span style=\"color:blue\"> |-conv_7_units: 512</span>"
            ],
            "text/plain": [
              "<IPython.core.display.HTML object>"
            ]
          },
          "metadata": {
            "tags": []
          }
        },
        {
          "output_type": "display_data",
          "data": {
            "text/html": [
              "<span style=\"color:cyan\"> |-conv_layers: 1</span>"
            ],
            "text/plain": [
              "<IPython.core.display.HTML object>"
            ]
          },
          "metadata": {
            "tags": []
          }
        },
        {
          "output_type": "display_data",
          "data": {
            "text/html": [
              "<span style=\"color:blue\"> |-dense_0_units: 512</span>"
            ],
            "text/plain": [
              "<IPython.core.display.HTML object>"
            ]
          },
          "metadata": {
            "tags": []
          }
        },
        {
          "output_type": "display_data",
          "data": {
            "text/html": [
              "<span style=\"color:cyan\"> |-dense_1_units: 512</span>"
            ],
            "text/plain": [
              "<IPython.core.display.HTML object>"
            ]
          },
          "metadata": {
            "tags": []
          }
        },
        {
          "output_type": "display_data",
          "data": {
            "text/html": [
              "<span style=\"color:blue\"> |-dense_2_units: 512</span>"
            ],
            "text/plain": [
              "<IPython.core.display.HTML object>"
            ]
          },
          "metadata": {
            "tags": []
          }
        },
        {
          "output_type": "display_data",
          "data": {
            "text/html": [
              "<span style=\"color:cyan\"> |-dense_3_units: 64</span>"
            ],
            "text/plain": [
              "<IPython.core.display.HTML object>"
            ]
          },
          "metadata": {
            "tags": []
          }
        },
        {
          "output_type": "display_data",
          "data": {
            "text/html": [
              "<span style=\"color:blue\"> |-dense_4_units: 512</span>"
            ],
            "text/plain": [
              "<IPython.core.display.HTML object>"
            ]
          },
          "metadata": {
            "tags": []
          }
        },
        {
          "output_type": "display_data",
          "data": {
            "text/html": [
              "<span style=\"color:cyan\"> |-dense_5_units: 64</span>"
            ],
            "text/plain": [
              "<IPython.core.display.HTML object>"
            ]
          },
          "metadata": {
            "tags": []
          }
        },
        {
          "output_type": "display_data",
          "data": {
            "text/html": [
              "<span style=\"color:blue\"> |-dense_6_units: 64</span>"
            ],
            "text/plain": [
              "<IPython.core.display.HTML object>"
            ]
          },
          "metadata": {
            "tags": []
          }
        },
        {
          "output_type": "display_data",
          "data": {
            "text/html": [
              "<span style=\"color:cyan\"> |-dense_7_units: 64</span>"
            ],
            "text/plain": [
              "<IPython.core.display.HTML object>"
            ]
          },
          "metadata": {
            "tags": []
          }
        },
        {
          "output_type": "display_data",
          "data": {
            "text/html": [
              "<span style=\"color:blue\"> |-dense_layers: 8</span>"
            ],
            "text/plain": [
              "<IPython.core.display.HTML object>"
            ]
          },
          "metadata": {
            "tags": []
          }
        },
        {
          "output_type": "display_data",
          "data": {
            "text/html": [
              "<span style=\"color:cyan\"> |-dropout_1: 0.25</span>"
            ],
            "text/plain": [
              "<IPython.core.display.HTML object>"
            ]
          },
          "metadata": {
            "tags": []
          }
        },
        {
          "output_type": "display_data",
          "data": {
            "text/html": [
              "<span style=\"color:blue\"> |-dropout_2: 0.25</span>"
            ],
            "text/plain": [
              "<IPython.core.display.HTML object>"
            ]
          },
          "metadata": {
            "tags": []
          }
        },
        {
          "output_type": "display_data",
          "data": {
            "text/html": [
              "<span style=\"color:cyan\"> |-input_activation: tanh</span>"
            ],
            "text/plain": [
              "<IPython.core.display.HTML object>"
            ]
          },
          "metadata": {
            "tags": []
          }
        },
        {
          "output_type": "display_data",
          "data": {
            "text/html": [
              "<span style=\"color:blue\"> |-input_units: 32</span>"
            ],
            "text/plain": [
              "<IPython.core.display.HTML object>"
            ]
          },
          "metadata": {
            "tags": []
          }
        },
        {
          "output_type": "display_data",
          "data": {
            "text/html": [
              "<span style=\"color:cyan\"> |-learning_rate: 0.001</span>"
            ],
            "text/plain": [
              "<IPython.core.display.HTML object>"
            ]
          },
          "metadata": {
            "tags": []
          }
        },
        {
          "output_type": "stream",
          "text": [
            "Epoch 1/10\n",
            "20/20 [==============================] - 1s 26ms/step - loss: 0.7047 - accuracy: 0.4906 - val_loss: 0.6875 - val_accuracy: 0.5469\n",
            "Epoch 2/10\n",
            "20/20 [==============================] - 0s 16ms/step - loss: 0.6960 - accuracy: 0.5094 - val_loss: 0.6827 - val_accuracy: 0.5844\n",
            "Epoch 3/10\n",
            "20/20 [==============================] - 0s 12ms/step - loss: 0.6958 - accuracy: 0.5073 - val_loss: 0.6929 - val_accuracy: 0.4969\n",
            "Epoch 4/10\n",
            "20/20 [==============================] - 0s 17ms/step - loss: 0.7004 - accuracy: 0.4938 - val_loss: 0.6805 - val_accuracy: 0.5875\n",
            "Epoch 5/10\n",
            "20/20 [==============================] - 1s 28ms/step - loss: 0.6926 - accuracy: 0.5188 - val_loss: 0.6839 - val_accuracy: 0.6094\n",
            "Epoch 6/10\n",
            "20/20 [==============================] - 0s 12ms/step - loss: 0.6943 - accuracy: 0.5177 - val_loss: 0.6776 - val_accuracy: 0.6000\n",
            "Epoch 7/10\n",
            "20/20 [==============================] - 0s 12ms/step - loss: 0.6942 - accuracy: 0.5229 - val_loss: 0.6856 - val_accuracy: 0.5969\n",
            "Epoch 8/10\n",
            "20/20 [==============================] - 0s 12ms/step - loss: 0.6947 - accuracy: 0.5083 - val_loss: 0.6766 - val_accuracy: 0.6094\n",
            "Epoch 9/10\n",
            "20/20 [==============================] - 0s 12ms/step - loss: 0.6940 - accuracy: 0.5198 - val_loss: 0.6853 - val_accuracy: 0.5719\n",
            "Epoch 10/10\n",
            "20/20 [==============================] - 0s 11ms/step - loss: 0.6926 - accuracy: 0.5260 - val_loss: 0.6753 - val_accuracy: 0.6031\n"
          ],
          "name": "stdout"
        },
        {
          "output_type": "display_data",
          "data": {
            "text/html": [
              "<span style=\"color:#4527A0\"><h1 style=\"font-size:18px\">Trial complete</h1></span>"
            ],
            "text/plain": [
              "<IPython.core.display.HTML object>"
            ]
          },
          "metadata": {
            "tags": []
          }
        },
        {
          "output_type": "display_data",
          "data": {
            "text/html": [
              "<span style=\"color:#4527A0\"><h1 style=\"font-size:18px\">Trial summary</h1></span>"
            ],
            "text/plain": [
              "<IPython.core.display.HTML object>"
            ]
          },
          "metadata": {
            "tags": []
          }
        },
        {
          "output_type": "display_data",
          "data": {
            "text/html": [
              "<span style=\"color:cyan\"> |-Trial ID: 0e849579f0da6f87773bff134fec4ac0</span>"
            ],
            "text/plain": [
              "<IPython.core.display.HTML object>"
            ]
          },
          "metadata": {
            "tags": []
          }
        },
        {
          "output_type": "display_data",
          "data": {
            "text/html": [
              "<span style=\"color:cyan\"> |-Score: 0.609375</span>"
            ],
            "text/plain": [
              "<IPython.core.display.HTML object>"
            ]
          },
          "metadata": {
            "tags": []
          }
        },
        {
          "output_type": "display_data",
          "data": {
            "text/html": [
              "<span style=\"color:cyan\"> |-Best step: 0</span>"
            ],
            "text/plain": [
              "<IPython.core.display.HTML object>"
            ]
          },
          "metadata": {
            "tags": []
          }
        },
        {
          "output_type": "display_data",
          "data": {
            "text/html": [
              "<span style=\"color:#7E57C2\"><h2 style=\"font-size:16px\">Hyperparameters:</h2></span>"
            ],
            "text/plain": [
              "<IPython.core.display.HTML object>"
            ]
          },
          "metadata": {
            "tags": []
          }
        },
        {
          "output_type": "display_data",
          "data": {
            "text/html": [
              "<span style=\"color:cyan\"> |-conv_0_activation: relu</span>"
            ],
            "text/plain": [
              "<IPython.core.display.HTML object>"
            ]
          },
          "metadata": {
            "tags": []
          }
        },
        {
          "output_type": "display_data",
          "data": {
            "text/html": [
              "<span style=\"color:blue\"> |-conv_0_units: 32</span>"
            ],
            "text/plain": [
              "<IPython.core.display.HTML object>"
            ]
          },
          "metadata": {
            "tags": []
          }
        },
        {
          "output_type": "display_data",
          "data": {
            "text/html": [
              "<span style=\"color:cyan\"> |-conv_1_activation: relu</span>"
            ],
            "text/plain": [
              "<IPython.core.display.HTML object>"
            ]
          },
          "metadata": {
            "tags": []
          }
        },
        {
          "output_type": "display_data",
          "data": {
            "text/html": [
              "<span style=\"color:blue\"> |-conv_1_units: 32</span>"
            ],
            "text/plain": [
              "<IPython.core.display.HTML object>"
            ]
          },
          "metadata": {
            "tags": []
          }
        },
        {
          "output_type": "display_data",
          "data": {
            "text/html": [
              "<span style=\"color:cyan\"> |-conv_2_activation: relu</span>"
            ],
            "text/plain": [
              "<IPython.core.display.HTML object>"
            ]
          },
          "metadata": {
            "tags": []
          }
        },
        {
          "output_type": "display_data",
          "data": {
            "text/html": [
              "<span style=\"color:blue\"> |-conv_2_units: 512</span>"
            ],
            "text/plain": [
              "<IPython.core.display.HTML object>"
            ]
          },
          "metadata": {
            "tags": []
          }
        },
        {
          "output_type": "display_data",
          "data": {
            "text/html": [
              "<span style=\"color:cyan\"> |-conv_3_activation: relu</span>"
            ],
            "text/plain": [
              "<IPython.core.display.HTML object>"
            ]
          },
          "metadata": {
            "tags": []
          }
        },
        {
          "output_type": "display_data",
          "data": {
            "text/html": [
              "<span style=\"color:blue\"> |-conv_3_units: 32</span>"
            ],
            "text/plain": [
              "<IPython.core.display.HTML object>"
            ]
          },
          "metadata": {
            "tags": []
          }
        },
        {
          "output_type": "display_data",
          "data": {
            "text/html": [
              "<span style=\"color:cyan\"> |-conv_4_activation: relu</span>"
            ],
            "text/plain": [
              "<IPython.core.display.HTML object>"
            ]
          },
          "metadata": {
            "tags": []
          }
        },
        {
          "output_type": "display_data",
          "data": {
            "text/html": [
              "<span style=\"color:blue\"> |-conv_4_units: 512</span>"
            ],
            "text/plain": [
              "<IPython.core.display.HTML object>"
            ]
          },
          "metadata": {
            "tags": []
          }
        },
        {
          "output_type": "display_data",
          "data": {
            "text/html": [
              "<span style=\"color:cyan\"> |-conv_5_activation: tanh</span>"
            ],
            "text/plain": [
              "<IPython.core.display.HTML object>"
            ]
          },
          "metadata": {
            "tags": []
          }
        },
        {
          "output_type": "display_data",
          "data": {
            "text/html": [
              "<span style=\"color:blue\"> |-conv_5_units: 512</span>"
            ],
            "text/plain": [
              "<IPython.core.display.HTML object>"
            ]
          },
          "metadata": {
            "tags": []
          }
        },
        {
          "output_type": "display_data",
          "data": {
            "text/html": [
              "<span style=\"color:cyan\"> |-conv_6_activation: relu</span>"
            ],
            "text/plain": [
              "<IPython.core.display.HTML object>"
            ]
          },
          "metadata": {
            "tags": []
          }
        },
        {
          "output_type": "display_data",
          "data": {
            "text/html": [
              "<span style=\"color:blue\"> |-conv_6_units: 32</span>"
            ],
            "text/plain": [
              "<IPython.core.display.HTML object>"
            ]
          },
          "metadata": {
            "tags": []
          }
        },
        {
          "output_type": "display_data",
          "data": {
            "text/html": [
              "<span style=\"color:cyan\"> |-conv_7_activation: relu</span>"
            ],
            "text/plain": [
              "<IPython.core.display.HTML object>"
            ]
          },
          "metadata": {
            "tags": []
          }
        },
        {
          "output_type": "display_data",
          "data": {
            "text/html": [
              "<span style=\"color:blue\"> |-conv_7_units: 512</span>"
            ],
            "text/plain": [
              "<IPython.core.display.HTML object>"
            ]
          },
          "metadata": {
            "tags": []
          }
        },
        {
          "output_type": "display_data",
          "data": {
            "text/html": [
              "<span style=\"color:cyan\"> |-conv_layers: 1</span>"
            ],
            "text/plain": [
              "<IPython.core.display.HTML object>"
            ]
          },
          "metadata": {
            "tags": []
          }
        },
        {
          "output_type": "display_data",
          "data": {
            "text/html": [
              "<span style=\"color:blue\"> |-dense_0_units: 64</span>"
            ],
            "text/plain": [
              "<IPython.core.display.HTML object>"
            ]
          },
          "metadata": {
            "tags": []
          }
        },
        {
          "output_type": "display_data",
          "data": {
            "text/html": [
              "<span style=\"color:cyan\"> |-dense_1_units: 512</span>"
            ],
            "text/plain": [
              "<IPython.core.display.HTML object>"
            ]
          },
          "metadata": {
            "tags": []
          }
        },
        {
          "output_type": "display_data",
          "data": {
            "text/html": [
              "<span style=\"color:blue\"> |-dense_2_units: 512</span>"
            ],
            "text/plain": [
              "<IPython.core.display.HTML object>"
            ]
          },
          "metadata": {
            "tags": []
          }
        },
        {
          "output_type": "display_data",
          "data": {
            "text/html": [
              "<span style=\"color:cyan\"> |-dense_3_units: 512</span>"
            ],
            "text/plain": [
              "<IPython.core.display.HTML object>"
            ]
          },
          "metadata": {
            "tags": []
          }
        },
        {
          "output_type": "display_data",
          "data": {
            "text/html": [
              "<span style=\"color:blue\"> |-dense_4_units: 64</span>"
            ],
            "text/plain": [
              "<IPython.core.display.HTML object>"
            ]
          },
          "metadata": {
            "tags": []
          }
        },
        {
          "output_type": "display_data",
          "data": {
            "text/html": [
              "<span style=\"color:cyan\"> |-dense_5_units: 512</span>"
            ],
            "text/plain": [
              "<IPython.core.display.HTML object>"
            ]
          },
          "metadata": {
            "tags": []
          }
        },
        {
          "output_type": "display_data",
          "data": {
            "text/html": [
              "<span style=\"color:blue\"> |-dense_6_units: 512</span>"
            ],
            "text/plain": [
              "<IPython.core.display.HTML object>"
            ]
          },
          "metadata": {
            "tags": []
          }
        },
        {
          "output_type": "display_data",
          "data": {
            "text/html": [
              "<span style=\"color:cyan\"> |-dense_7_units: 512</span>"
            ],
            "text/plain": [
              "<IPython.core.display.HTML object>"
            ]
          },
          "metadata": {
            "tags": []
          }
        },
        {
          "output_type": "display_data",
          "data": {
            "text/html": [
              "<span style=\"color:blue\"> |-dense_layers: 8</span>"
            ],
            "text/plain": [
              "<IPython.core.display.HTML object>"
            ]
          },
          "metadata": {
            "tags": []
          }
        },
        {
          "output_type": "display_data",
          "data": {
            "text/html": [
              "<span style=\"color:cyan\"> |-dropout_1: 0.25</span>"
            ],
            "text/plain": [
              "<IPython.core.display.HTML object>"
            ]
          },
          "metadata": {
            "tags": []
          }
        },
        {
          "output_type": "display_data",
          "data": {
            "text/html": [
              "<span style=\"color:blue\"> |-dropout_2: 0.25</span>"
            ],
            "text/plain": [
              "<IPython.core.display.HTML object>"
            ]
          },
          "metadata": {
            "tags": []
          }
        },
        {
          "output_type": "display_data",
          "data": {
            "text/html": [
              "<span style=\"color:cyan\"> |-input_activation: relu</span>"
            ],
            "text/plain": [
              "<IPython.core.display.HTML object>"
            ]
          },
          "metadata": {
            "tags": []
          }
        },
        {
          "output_type": "display_data",
          "data": {
            "text/html": [
              "<span style=\"color:blue\"> |-input_units: 32</span>"
            ],
            "text/plain": [
              "<IPython.core.display.HTML object>"
            ]
          },
          "metadata": {
            "tags": []
          }
        },
        {
          "output_type": "display_data",
          "data": {
            "text/html": [
              "<span style=\"color:cyan\"> |-learning_rate: 0.001</span>"
            ],
            "text/plain": [
              "<IPython.core.display.HTML object>"
            ]
          },
          "metadata": {
            "tags": []
          }
        },
        {
          "output_type": "stream",
          "text": [
            "INFO:tensorflow:Oracle triggered exit\n",
            "INFO:tensorflow:Assets written to: bayesianModel/assets\n",
            "WARNING:tensorflow:Unresolved object in checkpoint: (root).optimizer.iter\n",
            "WARNING:tensorflow:Unresolved object in checkpoint: (root).optimizer.decay\n",
            "WARNING:tensorflow:Unresolved object in checkpoint: (root).optimizer.learning_rate\n",
            "WARNING:tensorflow:Unresolved object in checkpoint: (root).optimizer.momentum\n",
            "WARNING:tensorflow:A checkpoint was restored (e.g. tf.train.Checkpoint.restore or tf.keras.Model.load_weights) but not all checkpointed values were used. See above for specific issues. Use expect_partial() on the load status object, e.g. tf.train.Checkpoint.restore(...).expect_partial(), to silence these warnings, or use assert_consumed() to make the check explicit. See https://www.tensorflow.org/guide/checkpoint#loading_mechanics for details.\n"
          ],
          "name": "stdout"
        }
      ]
    },
    {
      "cell_type": "markdown",
      "metadata": {
        "id": "894pdlBQcKlb"
      },
      "source": [
        "### Hyperband tuner for valance accuracy"
      ]
    },
    {
      "cell_type": "code",
      "metadata": {
        "scrolled": true,
        "id": "-bT1L9VXr0la",
        "outputId": "5276c451-c9e6-46b0-edbe-46f51bdcda37",
        "colab": {
          "base_uri": "https://localhost:8080/",
          "height": 1000
        }
      },
      "source": [
        "hyperband_tuner = kt.Hyperband(build_hyperparameter_model,\n",
        "                               objective='val_accuracy', \n",
        "                               max_epochs=5, \n",
        "                               directory=LOG_DIR)\n",
        "\n",
        "hyperband_tuner.search(x=X_train,\n",
        "                      y=y_train,\n",
        "                      epochs=10,\n",
        "                      batch_size=50,\n",
        "                      validation_data=(X_test, y_test))\n",
        "hyperband_tuner.get_best_models(1)[0].save('hyperbandModel')"
      ],
      "execution_count": null,
      "outputs": [
        {
          "output_type": "stream",
          "text": [
            "Epoch 1/2\n",
            " 2/20 [==>...........................] - ETA: 1s - loss: 0.7137 - accuracy: 0.5000WARNING:tensorflow:Callbacks method `on_train_batch_end` is slow compared to the batch time (batch time: 0.0439s vs `on_train_batch_end` time: 0.1104s). Check your callbacks.\n",
            "20/20 [==============================] - 4s 198ms/step - loss: 0.7096 - accuracy: 0.5271 - val_loss: 0.6722 - val_accuracy: 0.6031\n",
            "Epoch 2/2\n",
            "20/20 [==============================] - 3s 158ms/step - loss: 0.7181 - accuracy: 0.5167 - val_loss: 0.6722 - val_accuracy: 0.6031\n"
          ],
          "name": "stdout"
        },
        {
          "output_type": "display_data",
          "data": {
            "text/html": [
              "<span style=\"color:#4527A0\"><h1 style=\"font-size:18px\">Trial complete</h1></span>"
            ],
            "text/plain": [
              "<IPython.core.display.HTML object>"
            ]
          },
          "metadata": {
            "tags": []
          }
        },
        {
          "output_type": "display_data",
          "data": {
            "text/html": [
              "<span style=\"color:#4527A0\"><h1 style=\"font-size:18px\">Trial summary</h1></span>"
            ],
            "text/plain": [
              "<IPython.core.display.HTML object>"
            ]
          },
          "metadata": {
            "tags": []
          }
        },
        {
          "output_type": "display_data",
          "data": {
            "text/html": [
              "<span style=\"color:cyan\"> |-Trial ID: 83419a03076586758da49911ad3d6674</span>"
            ],
            "text/plain": [
              "<IPython.core.display.HTML object>"
            ]
          },
          "metadata": {
            "tags": []
          }
        },
        {
          "output_type": "display_data",
          "data": {
            "text/html": [
              "<span style=\"color:cyan\"> |-Score: 0.6031249761581421</span>"
            ],
            "text/plain": [
              "<IPython.core.display.HTML object>"
            ]
          },
          "metadata": {
            "tags": []
          }
        },
        {
          "output_type": "display_data",
          "data": {
            "text/html": [
              "<span style=\"color:cyan\"> |-Best step: 0</span>"
            ],
            "text/plain": [
              "<IPython.core.display.HTML object>"
            ]
          },
          "metadata": {
            "tags": []
          }
        },
        {
          "output_type": "display_data",
          "data": {
            "text/html": [
              "<span style=\"color:#7E57C2\"><h2 style=\"font-size:16px\">Hyperparameters:</h2></span>"
            ],
            "text/plain": [
              "<IPython.core.display.HTML object>"
            ]
          },
          "metadata": {
            "tags": []
          }
        },
        {
          "output_type": "display_data",
          "data": {
            "text/html": [
              "<span style=\"color:cyan\"> |-conv_0_activation: tanh</span>"
            ],
            "text/plain": [
              "<IPython.core.display.HTML object>"
            ]
          },
          "metadata": {
            "tags": []
          }
        },
        {
          "output_type": "display_data",
          "data": {
            "text/html": [
              "<span style=\"color:blue\"> |-conv_0_units: 480</span>"
            ],
            "text/plain": [
              "<IPython.core.display.HTML object>"
            ]
          },
          "metadata": {
            "tags": []
          }
        },
        {
          "output_type": "display_data",
          "data": {
            "text/html": [
              "<span style=\"color:cyan\"> |-conv_1_activation: tanh</span>"
            ],
            "text/plain": [
              "<IPython.core.display.HTML object>"
            ]
          },
          "metadata": {
            "tags": []
          }
        },
        {
          "output_type": "display_data",
          "data": {
            "text/html": [
              "<span style=\"color:blue\"> |-conv_1_units: 32</span>"
            ],
            "text/plain": [
              "<IPython.core.display.HTML object>"
            ]
          },
          "metadata": {
            "tags": []
          }
        },
        {
          "output_type": "display_data",
          "data": {
            "text/html": [
              "<span style=\"color:cyan\"> |-conv_2_activation: tanh</span>"
            ],
            "text/plain": [
              "<IPython.core.display.HTML object>"
            ]
          },
          "metadata": {
            "tags": []
          }
        },
        {
          "output_type": "display_data",
          "data": {
            "text/html": [
              "<span style=\"color:blue\"> |-conv_2_units: 32</span>"
            ],
            "text/plain": [
              "<IPython.core.display.HTML object>"
            ]
          },
          "metadata": {
            "tags": []
          }
        },
        {
          "output_type": "display_data",
          "data": {
            "text/html": [
              "<span style=\"color:cyan\"> |-conv_3_activation: tanh</span>"
            ],
            "text/plain": [
              "<IPython.core.display.HTML object>"
            ]
          },
          "metadata": {
            "tags": []
          }
        },
        {
          "output_type": "display_data",
          "data": {
            "text/html": [
              "<span style=\"color:blue\"> |-conv_3_units: 32</span>"
            ],
            "text/plain": [
              "<IPython.core.display.HTML object>"
            ]
          },
          "metadata": {
            "tags": []
          }
        },
        {
          "output_type": "display_data",
          "data": {
            "text/html": [
              "<span style=\"color:cyan\"> |-conv_4_activation: tanh</span>"
            ],
            "text/plain": [
              "<IPython.core.display.HTML object>"
            ]
          },
          "metadata": {
            "tags": []
          }
        },
        {
          "output_type": "display_data",
          "data": {
            "text/html": [
              "<span style=\"color:blue\"> |-conv_4_units: 32</span>"
            ],
            "text/plain": [
              "<IPython.core.display.HTML object>"
            ]
          },
          "metadata": {
            "tags": []
          }
        },
        {
          "output_type": "display_data",
          "data": {
            "text/html": [
              "<span style=\"color:cyan\"> |-conv_5_activation: tanh</span>"
            ],
            "text/plain": [
              "<IPython.core.display.HTML object>"
            ]
          },
          "metadata": {
            "tags": []
          }
        },
        {
          "output_type": "display_data",
          "data": {
            "text/html": [
              "<span style=\"color:blue\"> |-conv_5_units: 32</span>"
            ],
            "text/plain": [
              "<IPython.core.display.HTML object>"
            ]
          },
          "metadata": {
            "tags": []
          }
        },
        {
          "output_type": "display_data",
          "data": {
            "text/html": [
              "<span style=\"color:cyan\"> |-conv_6_activation: tanh</span>"
            ],
            "text/plain": [
              "<IPython.core.display.HTML object>"
            ]
          },
          "metadata": {
            "tags": []
          }
        },
        {
          "output_type": "display_data",
          "data": {
            "text/html": [
              "<span style=\"color:blue\"> |-conv_6_units: 32</span>"
            ],
            "text/plain": [
              "<IPython.core.display.HTML object>"
            ]
          },
          "metadata": {
            "tags": []
          }
        },
        {
          "output_type": "display_data",
          "data": {
            "text/html": [
              "<span style=\"color:cyan\"> |-conv_layers: 7</span>"
            ],
            "text/plain": [
              "<IPython.core.display.HTML object>"
            ]
          },
          "metadata": {
            "tags": []
          }
        },
        {
          "output_type": "display_data",
          "data": {
            "text/html": [
              "<span style=\"color:blue\"> |-dense_0_units: 64</span>"
            ],
            "text/plain": [
              "<IPython.core.display.HTML object>"
            ]
          },
          "metadata": {
            "tags": []
          }
        },
        {
          "output_type": "display_data",
          "data": {
            "text/html": [
              "<span style=\"color:cyan\"> |-dense_1_units: 64</span>"
            ],
            "text/plain": [
              "<IPython.core.display.HTML object>"
            ]
          },
          "metadata": {
            "tags": []
          }
        },
        {
          "output_type": "display_data",
          "data": {
            "text/html": [
              "<span style=\"color:blue\"> |-dense_2_units: 64</span>"
            ],
            "text/plain": [
              "<IPython.core.display.HTML object>"
            ]
          },
          "metadata": {
            "tags": []
          }
        },
        {
          "output_type": "display_data",
          "data": {
            "text/html": [
              "<span style=\"color:cyan\"> |-dense_3_units: 64</span>"
            ],
            "text/plain": [
              "<IPython.core.display.HTML object>"
            ]
          },
          "metadata": {
            "tags": []
          }
        },
        {
          "output_type": "display_data",
          "data": {
            "text/html": [
              "<span style=\"color:blue\"> |-dense_4_units: 64</span>"
            ],
            "text/plain": [
              "<IPython.core.display.HTML object>"
            ]
          },
          "metadata": {
            "tags": []
          }
        },
        {
          "output_type": "display_data",
          "data": {
            "text/html": [
              "<span style=\"color:cyan\"> |-dense_layers: 5</span>"
            ],
            "text/plain": [
              "<IPython.core.display.HTML object>"
            ]
          },
          "metadata": {
            "tags": []
          }
        },
        {
          "output_type": "display_data",
          "data": {
            "text/html": [
              "<span style=\"color:blue\"> |-dropout_1: 0.25</span>"
            ],
            "text/plain": [
              "<IPython.core.display.HTML object>"
            ]
          },
          "metadata": {
            "tags": []
          }
        },
        {
          "output_type": "display_data",
          "data": {
            "text/html": [
              "<span style=\"color:cyan\"> |-dropout_2: 0.25</span>"
            ],
            "text/plain": [
              "<IPython.core.display.HTML object>"
            ]
          },
          "metadata": {
            "tags": []
          }
        },
        {
          "output_type": "display_data",
          "data": {
            "text/html": [
              "<span style=\"color:blue\"> |-input_activation: tanh</span>"
            ],
            "text/plain": [
              "<IPython.core.display.HTML object>"
            ]
          },
          "metadata": {
            "tags": []
          }
        },
        {
          "output_type": "display_data",
          "data": {
            "text/html": [
              "<span style=\"color:cyan\"> |-input_units: 80</span>"
            ],
            "text/plain": [
              "<IPython.core.display.HTML object>"
            ]
          },
          "metadata": {
            "tags": []
          }
        },
        {
          "output_type": "display_data",
          "data": {
            "text/html": [
              "<span style=\"color:blue\"> |-learning_rate: 1e-07</span>"
            ],
            "text/plain": [
              "<IPython.core.display.HTML object>"
            ]
          },
          "metadata": {
            "tags": []
          }
        },
        {
          "output_type": "display_data",
          "data": {
            "text/html": [
              "<span style=\"color:cyan\"> |-tuner/bracket: 1</span>"
            ],
            "text/plain": [
              "<IPython.core.display.HTML object>"
            ]
          },
          "metadata": {
            "tags": []
          }
        },
        {
          "output_type": "display_data",
          "data": {
            "text/html": [
              "<span style=\"color:blue\"> |-tuner/epochs: 2</span>"
            ],
            "text/plain": [
              "<IPython.core.display.HTML object>"
            ]
          },
          "metadata": {
            "tags": []
          }
        },
        {
          "output_type": "display_data",
          "data": {
            "text/html": [
              "<span style=\"color:cyan\"> |-tuner/initial_epoch: 0</span>"
            ],
            "text/plain": [
              "<IPython.core.display.HTML object>"
            ]
          },
          "metadata": {
            "tags": []
          }
        },
        {
          "output_type": "display_data",
          "data": {
            "text/html": [
              "<span style=\"color:blue\"> |-tuner/round: 0</span>"
            ],
            "text/plain": [
              "<IPython.core.display.HTML object>"
            ]
          },
          "metadata": {
            "tags": []
          }
        },
        {
          "output_type": "stream",
          "text": [
            "Epoch 1/2\n",
            " 2/20 [==>...........................] - ETA: 6s - loss: 0.6486 - accuracy: 0.6100WARNING:tensorflow:Callbacks method `on_train_batch_end` is slow compared to the batch time (batch time: 0.2381s vs `on_train_batch_end` time: 0.4430s). Check your callbacks.\n",
            "20/20 [==============================] - 17s 842ms/step - loss: 0.7123 - accuracy: 0.5448 - val_loss: 0.6872 - val_accuracy: 0.5281\n",
            "Epoch 2/2\n",
            "20/20 [==============================] - 13s 665ms/step - loss: 0.7217 - accuracy: 0.5115 - val_loss: 0.6834 - val_accuracy: 0.5406\n"
          ],
          "name": "stdout"
        },
        {
          "output_type": "display_data",
          "data": {
            "text/html": [
              "<span style=\"color:#4527A0\"><h1 style=\"font-size:18px\">Trial complete</h1></span>"
            ],
            "text/plain": [
              "<IPython.core.display.HTML object>"
            ]
          },
          "metadata": {
            "tags": []
          }
        },
        {
          "output_type": "display_data",
          "data": {
            "text/html": [
              "<span style=\"color:#4527A0\"><h1 style=\"font-size:18px\">Trial summary</h1></span>"
            ],
            "text/plain": [
              "<IPython.core.display.HTML object>"
            ]
          },
          "metadata": {
            "tags": []
          }
        },
        {
          "output_type": "display_data",
          "data": {
            "text/html": [
              "<span style=\"color:cyan\"> |-Trial ID: a6dfbd971b486b7fae9130d5ac3001f9</span>"
            ],
            "text/plain": [
              "<IPython.core.display.HTML object>"
            ]
          },
          "metadata": {
            "tags": []
          }
        },
        {
          "output_type": "display_data",
          "data": {
            "text/html": [
              "<span style=\"color:cyan\"> |-Score: 0.5406249761581421</span>"
            ],
            "text/plain": [
              "<IPython.core.display.HTML object>"
            ]
          },
          "metadata": {
            "tags": []
          }
        },
        {
          "output_type": "display_data",
          "data": {
            "text/html": [
              "<span style=\"color:cyan\"> |-Best step: 0</span>"
            ],
            "text/plain": [
              "<IPython.core.display.HTML object>"
            ]
          },
          "metadata": {
            "tags": []
          }
        },
        {
          "output_type": "display_data",
          "data": {
            "text/html": [
              "<span style=\"color:#7E57C2\"><h2 style=\"font-size:16px\">Hyperparameters:</h2></span>"
            ],
            "text/plain": [
              "<IPython.core.display.HTML object>"
            ]
          },
          "metadata": {
            "tags": []
          }
        },
        {
          "output_type": "display_data",
          "data": {
            "text/html": [
              "<span style=\"color:cyan\"> |-conv_0_activation: tanh</span>"
            ],
            "text/plain": [
              "<IPython.core.display.HTML object>"
            ]
          },
          "metadata": {
            "tags": []
          }
        },
        {
          "output_type": "display_data",
          "data": {
            "text/html": [
              "<span style=\"color:blue\"> |-conv_0_units: 320</span>"
            ],
            "text/plain": [
              "<IPython.core.display.HTML object>"
            ]
          },
          "metadata": {
            "tags": []
          }
        },
        {
          "output_type": "display_data",
          "data": {
            "text/html": [
              "<span style=\"color:cyan\"> |-conv_1_activation: tanh</span>"
            ],
            "text/plain": [
              "<IPython.core.display.HTML object>"
            ]
          },
          "metadata": {
            "tags": []
          }
        },
        {
          "output_type": "display_data",
          "data": {
            "text/html": [
              "<span style=\"color:blue\"> |-conv_1_units: 416</span>"
            ],
            "text/plain": [
              "<IPython.core.display.HTML object>"
            ]
          },
          "metadata": {
            "tags": []
          }
        },
        {
          "output_type": "display_data",
          "data": {
            "text/html": [
              "<span style=\"color:cyan\"> |-conv_2_activation: relu</span>"
            ],
            "text/plain": [
              "<IPython.core.display.HTML object>"
            ]
          },
          "metadata": {
            "tags": []
          }
        },
        {
          "output_type": "display_data",
          "data": {
            "text/html": [
              "<span style=\"color:blue\"> |-conv_2_units: 384</span>"
            ],
            "text/plain": [
              "<IPython.core.display.HTML object>"
            ]
          },
          "metadata": {
            "tags": []
          }
        },
        {
          "output_type": "display_data",
          "data": {
            "text/html": [
              "<span style=\"color:cyan\"> |-conv_3_activation: relu</span>"
            ],
            "text/plain": [
              "<IPython.core.display.HTML object>"
            ]
          },
          "metadata": {
            "tags": []
          }
        },
        {
          "output_type": "display_data",
          "data": {
            "text/html": [
              "<span style=\"color:blue\"> |-conv_3_units: 160</span>"
            ],
            "text/plain": [
              "<IPython.core.display.HTML object>"
            ]
          },
          "metadata": {
            "tags": []
          }
        },
        {
          "output_type": "display_data",
          "data": {
            "text/html": [
              "<span style=\"color:cyan\"> |-conv_4_activation: tanh</span>"
            ],
            "text/plain": [
              "<IPython.core.display.HTML object>"
            ]
          },
          "metadata": {
            "tags": []
          }
        },
        {
          "output_type": "display_data",
          "data": {
            "text/html": [
              "<span style=\"color:blue\"> |-conv_4_units: 256</span>"
            ],
            "text/plain": [
              "<IPython.core.display.HTML object>"
            ]
          },
          "metadata": {
            "tags": []
          }
        },
        {
          "output_type": "display_data",
          "data": {
            "text/html": [
              "<span style=\"color:cyan\"> |-conv_5_activation: tanh</span>"
            ],
            "text/plain": [
              "<IPython.core.display.HTML object>"
            ]
          },
          "metadata": {
            "tags": []
          }
        },
        {
          "output_type": "display_data",
          "data": {
            "text/html": [
              "<span style=\"color:blue\"> |-conv_5_units: 384</span>"
            ],
            "text/plain": [
              "<IPython.core.display.HTML object>"
            ]
          },
          "metadata": {
            "tags": []
          }
        },
        {
          "output_type": "display_data",
          "data": {
            "text/html": [
              "<span style=\"color:cyan\"> |-conv_6_activation: tanh</span>"
            ],
            "text/plain": [
              "<IPython.core.display.HTML object>"
            ]
          },
          "metadata": {
            "tags": []
          }
        },
        {
          "output_type": "display_data",
          "data": {
            "text/html": [
              "<span style=\"color:blue\"> |-conv_6_units: 224</span>"
            ],
            "text/plain": [
              "<IPython.core.display.HTML object>"
            ]
          },
          "metadata": {
            "tags": []
          }
        },
        {
          "output_type": "display_data",
          "data": {
            "text/html": [
              "<span style=\"color:cyan\"> |-conv_7_activation: tanh</span>"
            ],
            "text/plain": [
              "<IPython.core.display.HTML object>"
            ]
          },
          "metadata": {
            "tags": []
          }
        },
        {
          "output_type": "display_data",
          "data": {
            "text/html": [
              "<span style=\"color:blue\"> |-conv_7_units: 32</span>"
            ],
            "text/plain": [
              "<IPython.core.display.HTML object>"
            ]
          },
          "metadata": {
            "tags": []
          }
        },
        {
          "output_type": "display_data",
          "data": {
            "text/html": [
              "<span style=\"color:cyan\"> |-conv_layers: 8</span>"
            ],
            "text/plain": [
              "<IPython.core.display.HTML object>"
            ]
          },
          "metadata": {
            "tags": []
          }
        },
        {
          "output_type": "display_data",
          "data": {
            "text/html": [
              "<span style=\"color:blue\"> |-dense_0_units: 416</span>"
            ],
            "text/plain": [
              "<IPython.core.display.HTML object>"
            ]
          },
          "metadata": {
            "tags": []
          }
        },
        {
          "output_type": "display_data",
          "data": {
            "text/html": [
              "<span style=\"color:cyan\"> |-dense_1_units: 384</span>"
            ],
            "text/plain": [
              "<IPython.core.display.HTML object>"
            ]
          },
          "metadata": {
            "tags": []
          }
        },
        {
          "output_type": "display_data",
          "data": {
            "text/html": [
              "<span style=\"color:blue\"> |-dense_2_units: 160</span>"
            ],
            "text/plain": [
              "<IPython.core.display.HTML object>"
            ]
          },
          "metadata": {
            "tags": []
          }
        },
        {
          "output_type": "display_data",
          "data": {
            "text/html": [
              "<span style=\"color:cyan\"> |-dense_3_units: 96</span>"
            ],
            "text/plain": [
              "<IPython.core.display.HTML object>"
            ]
          },
          "metadata": {
            "tags": []
          }
        },
        {
          "output_type": "display_data",
          "data": {
            "text/html": [
              "<span style=\"color:blue\"> |-dense_4_units: 128</span>"
            ],
            "text/plain": [
              "<IPython.core.display.HTML object>"
            ]
          },
          "metadata": {
            "tags": []
          }
        },
        {
          "output_type": "display_data",
          "data": {
            "text/html": [
              "<span style=\"color:cyan\"> |-dense_layers: 5</span>"
            ],
            "text/plain": [
              "<IPython.core.display.HTML object>"
            ]
          },
          "metadata": {
            "tags": []
          }
        },
        {
          "output_type": "display_data",
          "data": {
            "text/html": [
              "<span style=\"color:blue\"> |-dropout_1: 0.5</span>"
            ],
            "text/plain": [
              "<IPython.core.display.HTML object>"
            ]
          },
          "metadata": {
            "tags": []
          }
        },
        {
          "output_type": "display_data",
          "data": {
            "text/html": [
              "<span style=\"color:cyan\"> |-dropout_2: 0.5</span>"
            ],
            "text/plain": [
              "<IPython.core.display.HTML object>"
            ]
          },
          "metadata": {
            "tags": []
          }
        },
        {
          "output_type": "display_data",
          "data": {
            "text/html": [
              "<span style=\"color:blue\"> |-input_activation: relu</span>"
            ],
            "text/plain": [
              "<IPython.core.display.HTML object>"
            ]
          },
          "metadata": {
            "tags": []
          }
        },
        {
          "output_type": "display_data",
          "data": {
            "text/html": [
              "<span style=\"color:cyan\"> |-input_units: 128</span>"
            ],
            "text/plain": [
              "<IPython.core.display.HTML object>"
            ]
          },
          "metadata": {
            "tags": []
          }
        },
        {
          "output_type": "display_data",
          "data": {
            "text/html": [
              "<span style=\"color:blue\"> |-learning_rate: 1e-05</span>"
            ],
            "text/plain": [
              "<IPython.core.display.HTML object>"
            ]
          },
          "metadata": {
            "tags": []
          }
        },
        {
          "output_type": "display_data",
          "data": {
            "text/html": [
              "<span style=\"color:cyan\"> |-tuner/bracket: 1</span>"
            ],
            "text/plain": [
              "<IPython.core.display.HTML object>"
            ]
          },
          "metadata": {
            "tags": []
          }
        },
        {
          "output_type": "display_data",
          "data": {
            "text/html": [
              "<span style=\"color:blue\"> |-tuner/epochs: 2</span>"
            ],
            "text/plain": [
              "<IPython.core.display.HTML object>"
            ]
          },
          "metadata": {
            "tags": []
          }
        },
        {
          "output_type": "display_data",
          "data": {
            "text/html": [
              "<span style=\"color:cyan\"> |-tuner/initial_epoch: 0</span>"
            ],
            "text/plain": [
              "<IPython.core.display.HTML object>"
            ]
          },
          "metadata": {
            "tags": []
          }
        },
        {
          "output_type": "display_data",
          "data": {
            "text/html": [
              "<span style=\"color:blue\"> |-tuner/round: 0</span>"
            ],
            "text/plain": [
              "<IPython.core.display.HTML object>"
            ]
          },
          "metadata": {
            "tags": []
          }
        },
        {
          "output_type": "stream",
          "text": [
            "Epoch 1/2\n",
            " 2/20 [==>...........................] - ETA: 2s - loss: 0.6790 - accuracy: 0.6000WARNING:tensorflow:Callbacks method `on_train_batch_end` is slow compared to the batch time (batch time: 0.1147s vs `on_train_batch_end` time: 0.2152s). Check your callbacks.\n",
            "20/20 [==============================] - 10s 504ms/step - loss: 0.7038 - accuracy: 0.5031 - val_loss: 0.6913 - val_accuracy: 0.5188\n",
            "Epoch 2/2\n",
            "20/20 [==============================] - 8s 410ms/step - loss: 0.6991 - accuracy: 0.5229 - val_loss: 0.6875 - val_accuracy: 0.5719\n"
          ],
          "name": "stdout"
        },
        {
          "output_type": "display_data",
          "data": {
            "text/html": [
              "<span style=\"color:#4527A0\"><h1 style=\"font-size:18px\">Trial complete</h1></span>"
            ],
            "text/plain": [
              "<IPython.core.display.HTML object>"
            ]
          },
          "metadata": {
            "tags": []
          }
        },
        {
          "output_type": "display_data",
          "data": {
            "text/html": [
              "<span style=\"color:#4527A0\"><h1 style=\"font-size:18px\">Trial summary</h1></span>"
            ],
            "text/plain": [
              "<IPython.core.display.HTML object>"
            ]
          },
          "metadata": {
            "tags": []
          }
        },
        {
          "output_type": "display_data",
          "data": {
            "text/html": [
              "<span style=\"color:cyan\"> |-Trial ID: e9bf1a269da09ac054e03d2c87c909d2</span>"
            ],
            "text/plain": [
              "<IPython.core.display.HTML object>"
            ]
          },
          "metadata": {
            "tags": []
          }
        },
        {
          "output_type": "display_data",
          "data": {
            "text/html": [
              "<span style=\"color:cyan\"> |-Score: 0.5718749761581421</span>"
            ],
            "text/plain": [
              "<IPython.core.display.HTML object>"
            ]
          },
          "metadata": {
            "tags": []
          }
        },
        {
          "output_type": "display_data",
          "data": {
            "text/html": [
              "<span style=\"color:cyan\"> |-Best step: 0</span>"
            ],
            "text/plain": [
              "<IPython.core.display.HTML object>"
            ]
          },
          "metadata": {
            "tags": []
          }
        },
        {
          "output_type": "display_data",
          "data": {
            "text/html": [
              "<span style=\"color:#7E57C2\"><h2 style=\"font-size:16px\">Hyperparameters:</h2></span>"
            ],
            "text/plain": [
              "<IPython.core.display.HTML object>"
            ]
          },
          "metadata": {
            "tags": []
          }
        },
        {
          "output_type": "display_data",
          "data": {
            "text/html": [
              "<span style=\"color:cyan\"> |-conv_0_activation: relu</span>"
            ],
            "text/plain": [
              "<IPython.core.display.HTML object>"
            ]
          },
          "metadata": {
            "tags": []
          }
        },
        {
          "output_type": "display_data",
          "data": {
            "text/html": [
              "<span style=\"color:blue\"> |-conv_0_units: 96</span>"
            ],
            "text/plain": [
              "<IPython.core.display.HTML object>"
            ]
          },
          "metadata": {
            "tags": []
          }
        },
        {
          "output_type": "display_data",
          "data": {
            "text/html": [
              "<span style=\"color:cyan\"> |-conv_1_activation: tanh</span>"
            ],
            "text/plain": [
              "<IPython.core.display.HTML object>"
            ]
          },
          "metadata": {
            "tags": []
          }
        },
        {
          "output_type": "display_data",
          "data": {
            "text/html": [
              "<span style=\"color:blue\"> |-conv_1_units: 192</span>"
            ],
            "text/plain": [
              "<IPython.core.display.HTML object>"
            ]
          },
          "metadata": {
            "tags": []
          }
        },
        {
          "output_type": "display_data",
          "data": {
            "text/html": [
              "<span style=\"color:cyan\"> |-conv_2_activation: tanh</span>"
            ],
            "text/plain": [
              "<IPython.core.display.HTML object>"
            ]
          },
          "metadata": {
            "tags": []
          }
        },
        {
          "output_type": "display_data",
          "data": {
            "text/html": [
              "<span style=\"color:blue\"> |-conv_2_units: 288</span>"
            ],
            "text/plain": [
              "<IPython.core.display.HTML object>"
            ]
          },
          "metadata": {
            "tags": []
          }
        },
        {
          "output_type": "display_data",
          "data": {
            "text/html": [
              "<span style=\"color:cyan\"> |-conv_3_activation: relu</span>"
            ],
            "text/plain": [
              "<IPython.core.display.HTML object>"
            ]
          },
          "metadata": {
            "tags": []
          }
        },
        {
          "output_type": "display_data",
          "data": {
            "text/html": [
              "<span style=\"color:blue\"> |-conv_3_units: 96</span>"
            ],
            "text/plain": [
              "<IPython.core.display.HTML object>"
            ]
          },
          "metadata": {
            "tags": []
          }
        },
        {
          "output_type": "display_data",
          "data": {
            "text/html": [
              "<span style=\"color:cyan\"> |-conv_4_activation: relu</span>"
            ],
            "text/plain": [
              "<IPython.core.display.HTML object>"
            ]
          },
          "metadata": {
            "tags": []
          }
        },
        {
          "output_type": "display_data",
          "data": {
            "text/html": [
              "<span style=\"color:blue\"> |-conv_4_units: 192</span>"
            ],
            "text/plain": [
              "<IPython.core.display.HTML object>"
            ]
          },
          "metadata": {
            "tags": []
          }
        },
        {
          "output_type": "display_data",
          "data": {
            "text/html": [
              "<span style=\"color:cyan\"> |-conv_5_activation: relu</span>"
            ],
            "text/plain": [
              "<IPython.core.display.HTML object>"
            ]
          },
          "metadata": {
            "tags": []
          }
        },
        {
          "output_type": "display_data",
          "data": {
            "text/html": [
              "<span style=\"color:blue\"> |-conv_5_units: 384</span>"
            ],
            "text/plain": [
              "<IPython.core.display.HTML object>"
            ]
          },
          "metadata": {
            "tags": []
          }
        },
        {
          "output_type": "display_data",
          "data": {
            "text/html": [
              "<span style=\"color:cyan\"> |-conv_6_activation: relu</span>"
            ],
            "text/plain": [
              "<IPython.core.display.HTML object>"
            ]
          },
          "metadata": {
            "tags": []
          }
        },
        {
          "output_type": "display_data",
          "data": {
            "text/html": [
              "<span style=\"color:blue\"> |-conv_6_units: 480</span>"
            ],
            "text/plain": [
              "<IPython.core.display.HTML object>"
            ]
          },
          "metadata": {
            "tags": []
          }
        },
        {
          "output_type": "display_data",
          "data": {
            "text/html": [
              "<span style=\"color:cyan\"> |-conv_7_activation: relu</span>"
            ],
            "text/plain": [
              "<IPython.core.display.HTML object>"
            ]
          },
          "metadata": {
            "tags": []
          }
        },
        {
          "output_type": "display_data",
          "data": {
            "text/html": [
              "<span style=\"color:blue\"> |-conv_7_units: 480</span>"
            ],
            "text/plain": [
              "<IPython.core.display.HTML object>"
            ]
          },
          "metadata": {
            "tags": []
          }
        },
        {
          "output_type": "display_data",
          "data": {
            "text/html": [
              "<span style=\"color:cyan\"> |-conv_layers: 6</span>"
            ],
            "text/plain": [
              "<IPython.core.display.HTML object>"
            ]
          },
          "metadata": {
            "tags": []
          }
        },
        {
          "output_type": "display_data",
          "data": {
            "text/html": [
              "<span style=\"color:blue\"> |-dense_0_units: 256</span>"
            ],
            "text/plain": [
              "<IPython.core.display.HTML object>"
            ]
          },
          "metadata": {
            "tags": []
          }
        },
        {
          "output_type": "display_data",
          "data": {
            "text/html": [
              "<span style=\"color:cyan\"> |-dense_1_units: 512</span>"
            ],
            "text/plain": [
              "<IPython.core.display.HTML object>"
            ]
          },
          "metadata": {
            "tags": []
          }
        },
        {
          "output_type": "display_data",
          "data": {
            "text/html": [
              "<span style=\"color:blue\"> |-dense_2_units: 96</span>"
            ],
            "text/plain": [
              "<IPython.core.display.HTML object>"
            ]
          },
          "metadata": {
            "tags": []
          }
        },
        {
          "output_type": "display_data",
          "data": {
            "text/html": [
              "<span style=\"color:cyan\"> |-dense_3_units: 160</span>"
            ],
            "text/plain": [
              "<IPython.core.display.HTML object>"
            ]
          },
          "metadata": {
            "tags": []
          }
        },
        {
          "output_type": "display_data",
          "data": {
            "text/html": [
              "<span style=\"color:blue\"> |-dense_4_units: 128</span>"
            ],
            "text/plain": [
              "<IPython.core.display.HTML object>"
            ]
          },
          "metadata": {
            "tags": []
          }
        },
        {
          "output_type": "display_data",
          "data": {
            "text/html": [
              "<span style=\"color:cyan\"> |-dense_5_units: 64</span>"
            ],
            "text/plain": [
              "<IPython.core.display.HTML object>"
            ]
          },
          "metadata": {
            "tags": []
          }
        },
        {
          "output_type": "display_data",
          "data": {
            "text/html": [
              "<span style=\"color:blue\"> |-dense_6_units: 64</span>"
            ],
            "text/plain": [
              "<IPython.core.display.HTML object>"
            ]
          },
          "metadata": {
            "tags": []
          }
        },
        {
          "output_type": "display_data",
          "data": {
            "text/html": [
              "<span style=\"color:cyan\"> |-dense_layers: 7</span>"
            ],
            "text/plain": [
              "<IPython.core.display.HTML object>"
            ]
          },
          "metadata": {
            "tags": []
          }
        },
        {
          "output_type": "display_data",
          "data": {
            "text/html": [
              "<span style=\"color:blue\"> |-dropout_1: 0.25</span>"
            ],
            "text/plain": [
              "<IPython.core.display.HTML object>"
            ]
          },
          "metadata": {
            "tags": []
          }
        },
        {
          "output_type": "display_data",
          "data": {
            "text/html": [
              "<span style=\"color:cyan\"> |-dropout_2: 0.25</span>"
            ],
            "text/plain": [
              "<IPython.core.display.HTML object>"
            ]
          },
          "metadata": {
            "tags": []
          }
        },
        {
          "output_type": "display_data",
          "data": {
            "text/html": [
              "<span style=\"color:blue\"> |-input_activation: tanh</span>"
            ],
            "text/plain": [
              "<IPython.core.display.HTML object>"
            ]
          },
          "metadata": {
            "tags": []
          }
        },
        {
          "output_type": "display_data",
          "data": {
            "text/html": [
              "<span style=\"color:cyan\"> |-input_units: 384</span>"
            ],
            "text/plain": [
              "<IPython.core.display.HTML object>"
            ]
          },
          "metadata": {
            "tags": []
          }
        },
        {
          "output_type": "display_data",
          "data": {
            "text/html": [
              "<span style=\"color:blue\"> |-learning_rate: 1e-06</span>"
            ],
            "text/plain": [
              "<IPython.core.display.HTML object>"
            ]
          },
          "metadata": {
            "tags": []
          }
        },
        {
          "output_type": "display_data",
          "data": {
            "text/html": [
              "<span style=\"color:cyan\"> |-tuner/bracket: 1</span>"
            ],
            "text/plain": [
              "<IPython.core.display.HTML object>"
            ]
          },
          "metadata": {
            "tags": []
          }
        },
        {
          "output_type": "display_data",
          "data": {
            "text/html": [
              "<span style=\"color:blue\"> |-tuner/epochs: 2</span>"
            ],
            "text/plain": [
              "<IPython.core.display.HTML object>"
            ]
          },
          "metadata": {
            "tags": []
          }
        },
        {
          "output_type": "display_data",
          "data": {
            "text/html": [
              "<span style=\"color:cyan\"> |-tuner/initial_epoch: 0</span>"
            ],
            "text/plain": [
              "<IPython.core.display.HTML object>"
            ]
          },
          "metadata": {
            "tags": []
          }
        },
        {
          "output_type": "display_data",
          "data": {
            "text/html": [
              "<span style=\"color:blue\"> |-tuner/round: 0</span>"
            ],
            "text/plain": [
              "<IPython.core.display.HTML object>"
            ]
          },
          "metadata": {
            "tags": []
          }
        },
        {
          "output_type": "stream",
          "text": [
            "Epoch 1/2\n",
            " 2/20 [==>...........................] - ETA: 8s - loss: 0.7324 - accuracy: 0.4900WARNING:tensorflow:Callbacks method `on_train_batch_end` is slow compared to the batch time (batch time: 0.3585s vs `on_train_batch_end` time: 0.6361s). Check your callbacks.\n",
            "20/20 [==============================] - 25s 1s/step - loss: 0.7181 - accuracy: 0.4948 - val_loss: 0.7103 - val_accuracy: 0.3969\n",
            "Epoch 2/2\n",
            "20/20 [==============================] - 20s 984ms/step - loss: 0.7084 - accuracy: 0.5208 - val_loss: 0.7099 - val_accuracy: 0.3969\n"
          ],
          "name": "stdout"
        },
        {
          "output_type": "display_data",
          "data": {
            "text/html": [
              "<span style=\"color:#4527A0\"><h1 style=\"font-size:18px\">Trial complete</h1></span>"
            ],
            "text/plain": [
              "<IPython.core.display.HTML object>"
            ]
          },
          "metadata": {
            "tags": []
          }
        },
        {
          "output_type": "display_data",
          "data": {
            "text/html": [
              "<span style=\"color:#4527A0\"><h1 style=\"font-size:18px\">Trial summary</h1></span>"
            ],
            "text/plain": [
              "<IPython.core.display.HTML object>"
            ]
          },
          "metadata": {
            "tags": []
          }
        },
        {
          "output_type": "display_data",
          "data": {
            "text/html": [
              "<span style=\"color:cyan\"> |-Trial ID: b90499d091e14fbdd0873adb5ae567e5</span>"
            ],
            "text/plain": [
              "<IPython.core.display.HTML object>"
            ]
          },
          "metadata": {
            "tags": []
          }
        },
        {
          "output_type": "display_data",
          "data": {
            "text/html": [
              "<span style=\"color:cyan\"> |-Score: 0.3968749940395355</span>"
            ],
            "text/plain": [
              "<IPython.core.display.HTML object>"
            ]
          },
          "metadata": {
            "tags": []
          }
        },
        {
          "output_type": "display_data",
          "data": {
            "text/html": [
              "<span style=\"color:cyan\"> |-Best step: 0</span>"
            ],
            "text/plain": [
              "<IPython.core.display.HTML object>"
            ]
          },
          "metadata": {
            "tags": []
          }
        },
        {
          "output_type": "display_data",
          "data": {
            "text/html": [
              "<span style=\"color:#7E57C2\"><h2 style=\"font-size:16px\">Hyperparameters:</h2></span>"
            ],
            "text/plain": [
              "<IPython.core.display.HTML object>"
            ]
          },
          "metadata": {
            "tags": []
          }
        },
        {
          "output_type": "display_data",
          "data": {
            "text/html": [
              "<span style=\"color:cyan\"> |-conv_0_activation: relu</span>"
            ],
            "text/plain": [
              "<IPython.core.display.HTML object>"
            ]
          },
          "metadata": {
            "tags": []
          }
        },
        {
          "output_type": "display_data",
          "data": {
            "text/html": [
              "<span style=\"color:blue\"> |-conv_0_units: 512</span>"
            ],
            "text/plain": [
              "<IPython.core.display.HTML object>"
            ]
          },
          "metadata": {
            "tags": []
          }
        },
        {
          "output_type": "display_data",
          "data": {
            "text/html": [
              "<span style=\"color:cyan\"> |-conv_1_activation: relu</span>"
            ],
            "text/plain": [
              "<IPython.core.display.HTML object>"
            ]
          },
          "metadata": {
            "tags": []
          }
        },
        {
          "output_type": "display_data",
          "data": {
            "text/html": [
              "<span style=\"color:blue\"> |-conv_1_units: 416</span>"
            ],
            "text/plain": [
              "<IPython.core.display.HTML object>"
            ]
          },
          "metadata": {
            "tags": []
          }
        },
        {
          "output_type": "display_data",
          "data": {
            "text/html": [
              "<span style=\"color:cyan\"> |-conv_2_activation: relu</span>"
            ],
            "text/plain": [
              "<IPython.core.display.HTML object>"
            ]
          },
          "metadata": {
            "tags": []
          }
        },
        {
          "output_type": "display_data",
          "data": {
            "text/html": [
              "<span style=\"color:blue\"> |-conv_2_units: 160</span>"
            ],
            "text/plain": [
              "<IPython.core.display.HTML object>"
            ]
          },
          "metadata": {
            "tags": []
          }
        },
        {
          "output_type": "display_data",
          "data": {
            "text/html": [
              "<span style=\"color:cyan\"> |-conv_3_activation: tanh</span>"
            ],
            "text/plain": [
              "<IPython.core.display.HTML object>"
            ]
          },
          "metadata": {
            "tags": []
          }
        },
        {
          "output_type": "display_data",
          "data": {
            "text/html": [
              "<span style=\"color:blue\"> |-conv_3_units: 448</span>"
            ],
            "text/plain": [
              "<IPython.core.display.HTML object>"
            ]
          },
          "metadata": {
            "tags": []
          }
        },
        {
          "output_type": "display_data",
          "data": {
            "text/html": [
              "<span style=\"color:cyan\"> |-conv_4_activation: relu</span>"
            ],
            "text/plain": [
              "<IPython.core.display.HTML object>"
            ]
          },
          "metadata": {
            "tags": []
          }
        },
        {
          "output_type": "display_data",
          "data": {
            "text/html": [
              "<span style=\"color:blue\"> |-conv_4_units: 352</span>"
            ],
            "text/plain": [
              "<IPython.core.display.HTML object>"
            ]
          },
          "metadata": {
            "tags": []
          }
        },
        {
          "output_type": "display_data",
          "data": {
            "text/html": [
              "<span style=\"color:cyan\"> |-conv_5_activation: tanh</span>"
            ],
            "text/plain": [
              "<IPython.core.display.HTML object>"
            ]
          },
          "metadata": {
            "tags": []
          }
        },
        {
          "output_type": "display_data",
          "data": {
            "text/html": [
              "<span style=\"color:blue\"> |-conv_5_units: 480</span>"
            ],
            "text/plain": [
              "<IPython.core.display.HTML object>"
            ]
          },
          "metadata": {
            "tags": []
          }
        },
        {
          "output_type": "display_data",
          "data": {
            "text/html": [
              "<span style=\"color:cyan\"> |-conv_6_activation: tanh</span>"
            ],
            "text/plain": [
              "<IPython.core.display.HTML object>"
            ]
          },
          "metadata": {
            "tags": []
          }
        },
        {
          "output_type": "display_data",
          "data": {
            "text/html": [
              "<span style=\"color:blue\"> |-conv_6_units: 160</span>"
            ],
            "text/plain": [
              "<IPython.core.display.HTML object>"
            ]
          },
          "metadata": {
            "tags": []
          }
        },
        {
          "output_type": "display_data",
          "data": {
            "text/html": [
              "<span style=\"color:cyan\"> |-conv_7_activation: relu</span>"
            ],
            "text/plain": [
              "<IPython.core.display.HTML object>"
            ]
          },
          "metadata": {
            "tags": []
          }
        },
        {
          "output_type": "display_data",
          "data": {
            "text/html": [
              "<span style=\"color:blue\"> |-conv_7_units: 64</span>"
            ],
            "text/plain": [
              "<IPython.core.display.HTML object>"
            ]
          },
          "metadata": {
            "tags": []
          }
        },
        {
          "output_type": "display_data",
          "data": {
            "text/html": [
              "<span style=\"color:cyan\"> |-conv_layers: 8</span>"
            ],
            "text/plain": [
              "<IPython.core.display.HTML object>"
            ]
          },
          "metadata": {
            "tags": []
          }
        },
        {
          "output_type": "display_data",
          "data": {
            "text/html": [
              "<span style=\"color:blue\"> |-dense_0_units: 64</span>"
            ],
            "text/plain": [
              "<IPython.core.display.HTML object>"
            ]
          },
          "metadata": {
            "tags": []
          }
        },
        {
          "output_type": "display_data",
          "data": {
            "text/html": [
              "<span style=\"color:cyan\"> |-dense_1_units: 416</span>"
            ],
            "text/plain": [
              "<IPython.core.display.HTML object>"
            ]
          },
          "metadata": {
            "tags": []
          }
        },
        {
          "output_type": "display_data",
          "data": {
            "text/html": [
              "<span style=\"color:blue\"> |-dense_2_units: 384</span>"
            ],
            "text/plain": [
              "<IPython.core.display.HTML object>"
            ]
          },
          "metadata": {
            "tags": []
          }
        },
        {
          "output_type": "display_data",
          "data": {
            "text/html": [
              "<span style=\"color:cyan\"> |-dense_3_units: 96</span>"
            ],
            "text/plain": [
              "<IPython.core.display.HTML object>"
            ]
          },
          "metadata": {
            "tags": []
          }
        },
        {
          "output_type": "display_data",
          "data": {
            "text/html": [
              "<span style=\"color:blue\"> |-dense_4_units: 384</span>"
            ],
            "text/plain": [
              "<IPython.core.display.HTML object>"
            ]
          },
          "metadata": {
            "tags": []
          }
        },
        {
          "output_type": "display_data",
          "data": {
            "text/html": [
              "<span style=\"color:cyan\"> |-dense_5_units: 128</span>"
            ],
            "text/plain": [
              "<IPython.core.display.HTML object>"
            ]
          },
          "metadata": {
            "tags": []
          }
        },
        {
          "output_type": "display_data",
          "data": {
            "text/html": [
              "<span style=\"color:blue\"> |-dense_6_units: 288</span>"
            ],
            "text/plain": [
              "<IPython.core.display.HTML object>"
            ]
          },
          "metadata": {
            "tags": []
          }
        },
        {
          "output_type": "display_data",
          "data": {
            "text/html": [
              "<span style=\"color:cyan\"> |-dense_layers: 5</span>"
            ],
            "text/plain": [
              "<IPython.core.display.HTML object>"
            ]
          },
          "metadata": {
            "tags": []
          }
        },
        {
          "output_type": "display_data",
          "data": {
            "text/html": [
              "<span style=\"color:blue\"> |-dropout_1: 0.75</span>"
            ],
            "text/plain": [
              "<IPython.core.display.HTML object>"
            ]
          },
          "metadata": {
            "tags": []
          }
        },
        {
          "output_type": "display_data",
          "data": {
            "text/html": [
              "<span style=\"color:cyan\"> |-dropout_2: 0.75</span>"
            ],
            "text/plain": [
              "<IPython.core.display.HTML object>"
            ]
          },
          "metadata": {
            "tags": []
          }
        },
        {
          "output_type": "display_data",
          "data": {
            "text/html": [
              "<span style=\"color:blue\"> |-input_activation: tanh</span>"
            ],
            "text/plain": [
              "<IPython.core.display.HTML object>"
            ]
          },
          "metadata": {
            "tags": []
          }
        },
        {
          "output_type": "display_data",
          "data": {
            "text/html": [
              "<span style=\"color:cyan\"> |-input_units: 432</span>"
            ],
            "text/plain": [
              "<IPython.core.display.HTML object>"
            ]
          },
          "metadata": {
            "tags": []
          }
        },
        {
          "output_type": "display_data",
          "data": {
            "text/html": [
              "<span style=\"color:blue\"> |-learning_rate: 1e-06</span>"
            ],
            "text/plain": [
              "<IPython.core.display.HTML object>"
            ]
          },
          "metadata": {
            "tags": []
          }
        },
        {
          "output_type": "display_data",
          "data": {
            "text/html": [
              "<span style=\"color:cyan\"> |-tuner/bracket: 1</span>"
            ],
            "text/plain": [
              "<IPython.core.display.HTML object>"
            ]
          },
          "metadata": {
            "tags": []
          }
        },
        {
          "output_type": "display_data",
          "data": {
            "text/html": [
              "<span style=\"color:blue\"> |-tuner/epochs: 2</span>"
            ],
            "text/plain": [
              "<IPython.core.display.HTML object>"
            ]
          },
          "metadata": {
            "tags": []
          }
        },
        {
          "output_type": "display_data",
          "data": {
            "text/html": [
              "<span style=\"color:cyan\"> |-tuner/initial_epoch: 0</span>"
            ],
            "text/plain": [
              "<IPython.core.display.HTML object>"
            ]
          },
          "metadata": {
            "tags": []
          }
        },
        {
          "output_type": "display_data",
          "data": {
            "text/html": [
              "<span style=\"color:blue\"> |-tuner/round: 0</span>"
            ],
            "text/plain": [
              "<IPython.core.display.HTML object>"
            ]
          },
          "metadata": {
            "tags": []
          }
        },
        {
          "output_type": "stream",
          "text": [
            "Epoch 1/2\n",
            " 2/20 [==>...........................] - ETA: 5s - loss: 0.7781 - accuracy: 0.4600WARNING:tensorflow:Callbacks method `on_train_batch_end` is slow compared to the batch time (batch time: 0.2341s vs `on_train_batch_end` time: 0.4158s). Check your callbacks.\n",
            "20/20 [==============================] - 18s 891ms/step - loss: 0.7937 - accuracy: 0.5021 - val_loss: 0.7403 - val_accuracy: 0.4094\n",
            "Epoch 2/2\n",
            "20/20 [==============================] - 15s 745ms/step - loss: 0.8181 - accuracy: 0.4833 - val_loss: 0.7371 - val_accuracy: 0.4187\n"
          ],
          "name": "stdout"
        },
        {
          "output_type": "display_data",
          "data": {
            "text/html": [
              "<span style=\"color:#4527A0\"><h1 style=\"font-size:18px\">Trial complete</h1></span>"
            ],
            "text/plain": [
              "<IPython.core.display.HTML object>"
            ]
          },
          "metadata": {
            "tags": []
          }
        },
        {
          "output_type": "display_data",
          "data": {
            "text/html": [
              "<span style=\"color:#4527A0\"><h1 style=\"font-size:18px\">Trial summary</h1></span>"
            ],
            "text/plain": [
              "<IPython.core.display.HTML object>"
            ]
          },
          "metadata": {
            "tags": []
          }
        },
        {
          "output_type": "display_data",
          "data": {
            "text/html": [
              "<span style=\"color:cyan\"> |-Trial ID: 3a5f7d128f09df36b04491f73acd08a1</span>"
            ],
            "text/plain": [
              "<IPython.core.display.HTML object>"
            ]
          },
          "metadata": {
            "tags": []
          }
        },
        {
          "output_type": "display_data",
          "data": {
            "text/html": [
              "<span style=\"color:cyan\"> |-Score: 0.41874998807907104</span>"
            ],
            "text/plain": [
              "<IPython.core.display.HTML object>"
            ]
          },
          "metadata": {
            "tags": []
          }
        },
        {
          "output_type": "display_data",
          "data": {
            "text/html": [
              "<span style=\"color:cyan\"> |-Best step: 0</span>"
            ],
            "text/plain": [
              "<IPython.core.display.HTML object>"
            ]
          },
          "metadata": {
            "tags": []
          }
        },
        {
          "output_type": "display_data",
          "data": {
            "text/html": [
              "<span style=\"color:#7E57C2\"><h2 style=\"font-size:16px\">Hyperparameters:</h2></span>"
            ],
            "text/plain": [
              "<IPython.core.display.HTML object>"
            ]
          },
          "metadata": {
            "tags": []
          }
        },
        {
          "output_type": "display_data",
          "data": {
            "text/html": [
              "<span style=\"color:cyan\"> |-conv_0_activation: relu</span>"
            ],
            "text/plain": [
              "<IPython.core.display.HTML object>"
            ]
          },
          "metadata": {
            "tags": []
          }
        },
        {
          "output_type": "display_data",
          "data": {
            "text/html": [
              "<span style=\"color:blue\"> |-conv_0_units: 480</span>"
            ],
            "text/plain": [
              "<IPython.core.display.HTML object>"
            ]
          },
          "metadata": {
            "tags": []
          }
        },
        {
          "output_type": "display_data",
          "data": {
            "text/html": [
              "<span style=\"color:cyan\"> |-conv_1_activation: relu</span>"
            ],
            "text/plain": [
              "<IPython.core.display.HTML object>"
            ]
          },
          "metadata": {
            "tags": []
          }
        },
        {
          "output_type": "display_data",
          "data": {
            "text/html": [
              "<span style=\"color:blue\"> |-conv_1_units: 64</span>"
            ],
            "text/plain": [
              "<IPython.core.display.HTML object>"
            ]
          },
          "metadata": {
            "tags": []
          }
        },
        {
          "output_type": "display_data",
          "data": {
            "text/html": [
              "<span style=\"color:cyan\"> |-conv_2_activation: relu</span>"
            ],
            "text/plain": [
              "<IPython.core.display.HTML object>"
            ]
          },
          "metadata": {
            "tags": []
          }
        },
        {
          "output_type": "display_data",
          "data": {
            "text/html": [
              "<span style=\"color:blue\"> |-conv_2_units: 480</span>"
            ],
            "text/plain": [
              "<IPython.core.display.HTML object>"
            ]
          },
          "metadata": {
            "tags": []
          }
        },
        {
          "output_type": "display_data",
          "data": {
            "text/html": [
              "<span style=\"color:cyan\"> |-conv_3_activation: tanh</span>"
            ],
            "text/plain": [
              "<IPython.core.display.HTML object>"
            ]
          },
          "metadata": {
            "tags": []
          }
        },
        {
          "output_type": "display_data",
          "data": {
            "text/html": [
              "<span style=\"color:blue\"> |-conv_3_units: 480</span>"
            ],
            "text/plain": [
              "<IPython.core.display.HTML object>"
            ]
          },
          "metadata": {
            "tags": []
          }
        },
        {
          "output_type": "display_data",
          "data": {
            "text/html": [
              "<span style=\"color:cyan\"> |-conv_4_activation: relu</span>"
            ],
            "text/plain": [
              "<IPython.core.display.HTML object>"
            ]
          },
          "metadata": {
            "tags": []
          }
        },
        {
          "output_type": "display_data",
          "data": {
            "text/html": [
              "<span style=\"color:blue\"> |-conv_4_units: 224</span>"
            ],
            "text/plain": [
              "<IPython.core.display.HTML object>"
            ]
          },
          "metadata": {
            "tags": []
          }
        },
        {
          "output_type": "display_data",
          "data": {
            "text/html": [
              "<span style=\"color:cyan\"> |-conv_5_activation: relu</span>"
            ],
            "text/plain": [
              "<IPython.core.display.HTML object>"
            ]
          },
          "metadata": {
            "tags": []
          }
        },
        {
          "output_type": "display_data",
          "data": {
            "text/html": [
              "<span style=\"color:blue\"> |-conv_5_units: 160</span>"
            ],
            "text/plain": [
              "<IPython.core.display.HTML object>"
            ]
          },
          "metadata": {
            "tags": []
          }
        },
        {
          "output_type": "display_data",
          "data": {
            "text/html": [
              "<span style=\"color:cyan\"> |-conv_6_activation: tanh</span>"
            ],
            "text/plain": [
              "<IPython.core.display.HTML object>"
            ]
          },
          "metadata": {
            "tags": []
          }
        },
        {
          "output_type": "display_data",
          "data": {
            "text/html": [
              "<span style=\"color:blue\"> |-conv_6_units: 192</span>"
            ],
            "text/plain": [
              "<IPython.core.display.HTML object>"
            ]
          },
          "metadata": {
            "tags": []
          }
        },
        {
          "output_type": "display_data",
          "data": {
            "text/html": [
              "<span style=\"color:cyan\"> |-conv_7_activation: tanh</span>"
            ],
            "text/plain": [
              "<IPython.core.display.HTML object>"
            ]
          },
          "metadata": {
            "tags": []
          }
        },
        {
          "output_type": "display_data",
          "data": {
            "text/html": [
              "<span style=\"color:blue\"> |-conv_7_units: 192</span>"
            ],
            "text/plain": [
              "<IPython.core.display.HTML object>"
            ]
          },
          "metadata": {
            "tags": []
          }
        },
        {
          "output_type": "display_data",
          "data": {
            "text/html": [
              "<span style=\"color:cyan\"> |-conv_layers: 5</span>"
            ],
            "text/plain": [
              "<IPython.core.display.HTML object>"
            ]
          },
          "metadata": {
            "tags": []
          }
        },
        {
          "output_type": "display_data",
          "data": {
            "text/html": [
              "<span style=\"color:blue\"> |-dense_0_units: 352</span>"
            ],
            "text/plain": [
              "<IPython.core.display.HTML object>"
            ]
          },
          "metadata": {
            "tags": []
          }
        },
        {
          "output_type": "display_data",
          "data": {
            "text/html": [
              "<span style=\"color:cyan\"> |-dense_1_units: 480</span>"
            ],
            "text/plain": [
              "<IPython.core.display.HTML object>"
            ]
          },
          "metadata": {
            "tags": []
          }
        },
        {
          "output_type": "display_data",
          "data": {
            "text/html": [
              "<span style=\"color:blue\"> |-dense_2_units: 448</span>"
            ],
            "text/plain": [
              "<IPython.core.display.HTML object>"
            ]
          },
          "metadata": {
            "tags": []
          }
        },
        {
          "output_type": "display_data",
          "data": {
            "text/html": [
              "<span style=\"color:cyan\"> |-dense_3_units: 448</span>"
            ],
            "text/plain": [
              "<IPython.core.display.HTML object>"
            ]
          },
          "metadata": {
            "tags": []
          }
        },
        {
          "output_type": "display_data",
          "data": {
            "text/html": [
              "<span style=\"color:blue\"> |-dense_4_units: 192</span>"
            ],
            "text/plain": [
              "<IPython.core.display.HTML object>"
            ]
          },
          "metadata": {
            "tags": []
          }
        },
        {
          "output_type": "display_data",
          "data": {
            "text/html": [
              "<span style=\"color:cyan\"> |-dense_5_units: 128</span>"
            ],
            "text/plain": [
              "<IPython.core.display.HTML object>"
            ]
          },
          "metadata": {
            "tags": []
          }
        },
        {
          "output_type": "display_data",
          "data": {
            "text/html": [
              "<span style=\"color:blue\"> |-dense_6_units: 96</span>"
            ],
            "text/plain": [
              "<IPython.core.display.HTML object>"
            ]
          },
          "metadata": {
            "tags": []
          }
        },
        {
          "output_type": "display_data",
          "data": {
            "text/html": [
              "<span style=\"color:cyan\"> |-dense_layers: 4</span>"
            ],
            "text/plain": [
              "<IPython.core.display.HTML object>"
            ]
          },
          "metadata": {
            "tags": []
          }
        },
        {
          "output_type": "display_data",
          "data": {
            "text/html": [
              "<span style=\"color:blue\"> |-dropout_1: 0.5</span>"
            ],
            "text/plain": [
              "<IPython.core.display.HTML object>"
            ]
          },
          "metadata": {
            "tags": []
          }
        },
        {
          "output_type": "display_data",
          "data": {
            "text/html": [
              "<span style=\"color:cyan\"> |-dropout_2: 0.75</span>"
            ],
            "text/plain": [
              "<IPython.core.display.HTML object>"
            ]
          },
          "metadata": {
            "tags": []
          }
        },
        {
          "output_type": "display_data",
          "data": {
            "text/html": [
              "<span style=\"color:blue\"> |-input_activation: relu</span>"
            ],
            "text/plain": [
              "<IPython.core.display.HTML object>"
            ]
          },
          "metadata": {
            "tags": []
          }
        },
        {
          "output_type": "display_data",
          "data": {
            "text/html": [
              "<span style=\"color:cyan\"> |-input_units: 512</span>"
            ],
            "text/plain": [
              "<IPython.core.display.HTML object>"
            ]
          },
          "metadata": {
            "tags": []
          }
        },
        {
          "output_type": "display_data",
          "data": {
            "text/html": [
              "<span style=\"color:blue\"> |-learning_rate: 1e-07</span>"
            ],
            "text/plain": [
              "<IPython.core.display.HTML object>"
            ]
          },
          "metadata": {
            "tags": []
          }
        },
        {
          "output_type": "display_data",
          "data": {
            "text/html": [
              "<span style=\"color:cyan\"> |-tuner/bracket: 1</span>"
            ],
            "text/plain": [
              "<IPython.core.display.HTML object>"
            ]
          },
          "metadata": {
            "tags": []
          }
        },
        {
          "output_type": "display_data",
          "data": {
            "text/html": [
              "<span style=\"color:blue\"> |-tuner/epochs: 2</span>"
            ],
            "text/plain": [
              "<IPython.core.display.HTML object>"
            ]
          },
          "metadata": {
            "tags": []
          }
        },
        {
          "output_type": "display_data",
          "data": {
            "text/html": [
              "<span style=\"color:cyan\"> |-tuner/initial_epoch: 0</span>"
            ],
            "text/plain": [
              "<IPython.core.display.HTML object>"
            ]
          },
          "metadata": {
            "tags": []
          }
        },
        {
          "output_type": "display_data",
          "data": {
            "text/html": [
              "<span style=\"color:blue\"> |-tuner/round: 0</span>"
            ],
            "text/plain": [
              "<IPython.core.display.HTML object>"
            ]
          },
          "metadata": {
            "tags": []
          }
        },
        {
          "output_type": "stream",
          "text": [
            "Epoch 3/5\n",
            " 2/20 [==>...........................] - ETA: 1s - loss: 0.7483 - accuracy: 0.4300WARNING:tensorflow:Callbacks method `on_train_batch_end` is slow compared to the batch time (batch time: 0.0554s vs `on_train_batch_end` time: 0.1127s). Check your callbacks.\n",
            "20/20 [==============================] - 3s 163ms/step - loss: 0.7165 - accuracy: 0.4948 - val_loss: 0.7030 - val_accuracy: 0.4844\n",
            "Epoch 4/5\n",
            "20/20 [==============================] - 3s 151ms/step - loss: 0.7137 - accuracy: 0.4812 - val_loss: 0.7029 - val_accuracy: 0.4844\n",
            "Epoch 5/5\n",
            "20/20 [==============================] - 3s 153ms/step - loss: 0.7150 - accuracy: 0.5000 - val_loss: 0.7027 - val_accuracy: 0.4812\n"
          ],
          "name": "stdout"
        },
        {
          "output_type": "display_data",
          "data": {
            "text/html": [
              "<span style=\"color:#4527A0\"><h1 style=\"font-size:18px\">Trial complete</h1></span>"
            ],
            "text/plain": [
              "<IPython.core.display.HTML object>"
            ]
          },
          "metadata": {
            "tags": []
          }
        },
        {
          "output_type": "display_data",
          "data": {
            "text/html": [
              "<span style=\"color:#4527A0\"><h1 style=\"font-size:18px\">Trial summary</h1></span>"
            ],
            "text/plain": [
              "<IPython.core.display.HTML object>"
            ]
          },
          "metadata": {
            "tags": []
          }
        },
        {
          "output_type": "display_data",
          "data": {
            "text/html": [
              "<span style=\"color:cyan\"> |-Trial ID: c1beba9f764b74400e998bd5e2a601f5</span>"
            ],
            "text/plain": [
              "<IPython.core.display.HTML object>"
            ]
          },
          "metadata": {
            "tags": []
          }
        },
        {
          "output_type": "display_data",
          "data": {
            "text/html": [
              "<span style=\"color:cyan\"> |-Score: 0.484375</span>"
            ],
            "text/plain": [
              "<IPython.core.display.HTML object>"
            ]
          },
          "metadata": {
            "tags": []
          }
        },
        {
          "output_type": "display_data",
          "data": {
            "text/html": [
              "<span style=\"color:cyan\"> |-Best step: 0</span>"
            ],
            "text/plain": [
              "<IPython.core.display.HTML object>"
            ]
          },
          "metadata": {
            "tags": []
          }
        },
        {
          "output_type": "display_data",
          "data": {
            "text/html": [
              "<span style=\"color:#7E57C2\"><h2 style=\"font-size:16px\">Hyperparameters:</h2></span>"
            ],
            "text/plain": [
              "<IPython.core.display.HTML object>"
            ]
          },
          "metadata": {
            "tags": []
          }
        },
        {
          "output_type": "display_data",
          "data": {
            "text/html": [
              "<span style=\"color:cyan\"> |-conv_0_activation: tanh</span>"
            ],
            "text/plain": [
              "<IPython.core.display.HTML object>"
            ]
          },
          "metadata": {
            "tags": []
          }
        },
        {
          "output_type": "display_data",
          "data": {
            "text/html": [
              "<span style=\"color:blue\"> |-conv_0_units: 480</span>"
            ],
            "text/plain": [
              "<IPython.core.display.HTML object>"
            ]
          },
          "metadata": {
            "tags": []
          }
        },
        {
          "output_type": "display_data",
          "data": {
            "text/html": [
              "<span style=\"color:cyan\"> |-conv_1_activation: tanh</span>"
            ],
            "text/plain": [
              "<IPython.core.display.HTML object>"
            ]
          },
          "metadata": {
            "tags": []
          }
        },
        {
          "output_type": "display_data",
          "data": {
            "text/html": [
              "<span style=\"color:blue\"> |-conv_1_units: 32</span>"
            ],
            "text/plain": [
              "<IPython.core.display.HTML object>"
            ]
          },
          "metadata": {
            "tags": []
          }
        },
        {
          "output_type": "display_data",
          "data": {
            "text/html": [
              "<span style=\"color:cyan\"> |-conv_2_activation: tanh</span>"
            ],
            "text/plain": [
              "<IPython.core.display.HTML object>"
            ]
          },
          "metadata": {
            "tags": []
          }
        },
        {
          "output_type": "display_data",
          "data": {
            "text/html": [
              "<span style=\"color:blue\"> |-conv_2_units: 32</span>"
            ],
            "text/plain": [
              "<IPython.core.display.HTML object>"
            ]
          },
          "metadata": {
            "tags": []
          }
        },
        {
          "output_type": "display_data",
          "data": {
            "text/html": [
              "<span style=\"color:cyan\"> |-conv_3_activation: tanh</span>"
            ],
            "text/plain": [
              "<IPython.core.display.HTML object>"
            ]
          },
          "metadata": {
            "tags": []
          }
        },
        {
          "output_type": "display_data",
          "data": {
            "text/html": [
              "<span style=\"color:blue\"> |-conv_3_units: 32</span>"
            ],
            "text/plain": [
              "<IPython.core.display.HTML object>"
            ]
          },
          "metadata": {
            "tags": []
          }
        },
        {
          "output_type": "display_data",
          "data": {
            "text/html": [
              "<span style=\"color:cyan\"> |-conv_4_activation: tanh</span>"
            ],
            "text/plain": [
              "<IPython.core.display.HTML object>"
            ]
          },
          "metadata": {
            "tags": []
          }
        },
        {
          "output_type": "display_data",
          "data": {
            "text/html": [
              "<span style=\"color:blue\"> |-conv_4_units: 32</span>"
            ],
            "text/plain": [
              "<IPython.core.display.HTML object>"
            ]
          },
          "metadata": {
            "tags": []
          }
        },
        {
          "output_type": "display_data",
          "data": {
            "text/html": [
              "<span style=\"color:cyan\"> |-conv_5_activation: tanh</span>"
            ],
            "text/plain": [
              "<IPython.core.display.HTML object>"
            ]
          },
          "metadata": {
            "tags": []
          }
        },
        {
          "output_type": "display_data",
          "data": {
            "text/html": [
              "<span style=\"color:blue\"> |-conv_5_units: 32</span>"
            ],
            "text/plain": [
              "<IPython.core.display.HTML object>"
            ]
          },
          "metadata": {
            "tags": []
          }
        },
        {
          "output_type": "display_data",
          "data": {
            "text/html": [
              "<span style=\"color:cyan\"> |-conv_6_activation: tanh</span>"
            ],
            "text/plain": [
              "<IPython.core.display.HTML object>"
            ]
          },
          "metadata": {
            "tags": []
          }
        },
        {
          "output_type": "display_data",
          "data": {
            "text/html": [
              "<span style=\"color:blue\"> |-conv_6_units: 32</span>"
            ],
            "text/plain": [
              "<IPython.core.display.HTML object>"
            ]
          },
          "metadata": {
            "tags": []
          }
        },
        {
          "output_type": "display_data",
          "data": {
            "text/html": [
              "<span style=\"color:cyan\"> |-conv_layers: 7</span>"
            ],
            "text/plain": [
              "<IPython.core.display.HTML object>"
            ]
          },
          "metadata": {
            "tags": []
          }
        },
        {
          "output_type": "display_data",
          "data": {
            "text/html": [
              "<span style=\"color:blue\"> |-dense_0_units: 64</span>"
            ],
            "text/plain": [
              "<IPython.core.display.HTML object>"
            ]
          },
          "metadata": {
            "tags": []
          }
        },
        {
          "output_type": "display_data",
          "data": {
            "text/html": [
              "<span style=\"color:cyan\"> |-dense_1_units: 64</span>"
            ],
            "text/plain": [
              "<IPython.core.display.HTML object>"
            ]
          },
          "metadata": {
            "tags": []
          }
        },
        {
          "output_type": "display_data",
          "data": {
            "text/html": [
              "<span style=\"color:blue\"> |-dense_2_units: 64</span>"
            ],
            "text/plain": [
              "<IPython.core.display.HTML object>"
            ]
          },
          "metadata": {
            "tags": []
          }
        },
        {
          "output_type": "display_data",
          "data": {
            "text/html": [
              "<span style=\"color:cyan\"> |-dense_3_units: 64</span>"
            ],
            "text/plain": [
              "<IPython.core.display.HTML object>"
            ]
          },
          "metadata": {
            "tags": []
          }
        },
        {
          "output_type": "display_data",
          "data": {
            "text/html": [
              "<span style=\"color:blue\"> |-dense_4_units: 64</span>"
            ],
            "text/plain": [
              "<IPython.core.display.HTML object>"
            ]
          },
          "metadata": {
            "tags": []
          }
        },
        {
          "output_type": "display_data",
          "data": {
            "text/html": [
              "<span style=\"color:cyan\"> |-dense_layers: 5</span>"
            ],
            "text/plain": [
              "<IPython.core.display.HTML object>"
            ]
          },
          "metadata": {
            "tags": []
          }
        },
        {
          "output_type": "display_data",
          "data": {
            "text/html": [
              "<span style=\"color:blue\"> |-dropout_1: 0.25</span>"
            ],
            "text/plain": [
              "<IPython.core.display.HTML object>"
            ]
          },
          "metadata": {
            "tags": []
          }
        },
        {
          "output_type": "display_data",
          "data": {
            "text/html": [
              "<span style=\"color:cyan\"> |-dropout_2: 0.25</span>"
            ],
            "text/plain": [
              "<IPython.core.display.HTML object>"
            ]
          },
          "metadata": {
            "tags": []
          }
        },
        {
          "output_type": "display_data",
          "data": {
            "text/html": [
              "<span style=\"color:blue\"> |-input_activation: tanh</span>"
            ],
            "text/plain": [
              "<IPython.core.display.HTML object>"
            ]
          },
          "metadata": {
            "tags": []
          }
        },
        {
          "output_type": "display_data",
          "data": {
            "text/html": [
              "<span style=\"color:cyan\"> |-input_units: 80</span>"
            ],
            "text/plain": [
              "<IPython.core.display.HTML object>"
            ]
          },
          "metadata": {
            "tags": []
          }
        },
        {
          "output_type": "display_data",
          "data": {
            "text/html": [
              "<span style=\"color:blue\"> |-learning_rate: 1e-07</span>"
            ],
            "text/plain": [
              "<IPython.core.display.HTML object>"
            ]
          },
          "metadata": {
            "tags": []
          }
        },
        {
          "output_type": "display_data",
          "data": {
            "text/html": [
              "<span style=\"color:cyan\"> |-tuner/bracket: 1</span>"
            ],
            "text/plain": [
              "<IPython.core.display.HTML object>"
            ]
          },
          "metadata": {
            "tags": []
          }
        },
        {
          "output_type": "display_data",
          "data": {
            "text/html": [
              "<span style=\"color:blue\"> |-tuner/epochs: 5</span>"
            ],
            "text/plain": [
              "<IPython.core.display.HTML object>"
            ]
          },
          "metadata": {
            "tags": []
          }
        },
        {
          "output_type": "display_data",
          "data": {
            "text/html": [
              "<span style=\"color:cyan\"> |-tuner/initial_epoch: 2</span>"
            ],
            "text/plain": [
              "<IPython.core.display.HTML object>"
            ]
          },
          "metadata": {
            "tags": []
          }
        },
        {
          "output_type": "display_data",
          "data": {
            "text/html": [
              "<span style=\"color:blue\"> |-tuner/round: 1</span>"
            ],
            "text/plain": [
              "<IPython.core.display.HTML object>"
            ]
          },
          "metadata": {
            "tags": []
          }
        },
        {
          "output_type": "display_data",
          "data": {
            "text/html": [
              "<span style=\"color:cyan\"> |-tuner/trial_id: 83419a03076586758da49911ad3d6674</span>"
            ],
            "text/plain": [
              "<IPython.core.display.HTML object>"
            ]
          },
          "metadata": {
            "tags": []
          }
        },
        {
          "output_type": "stream",
          "text": [
            "Epoch 3/5\n",
            " 2/20 [==>...........................] - ETA: 3s - loss: 0.7202 - accuracy: 0.4800WARNING:tensorflow:Callbacks method `on_train_batch_end` is slow compared to the batch time (batch time: 0.1182s vs `on_train_batch_end` time: 0.2121s). Check your callbacks.\n",
            "20/20 [==============================] - 8s 422ms/step - loss: 0.7109 - accuracy: 0.4760 - val_loss: 0.7182 - val_accuracy: 0.3969\n",
            "Epoch 4/5\n",
            "20/20 [==============================] - 8s 418ms/step - loss: 0.7069 - accuracy: 0.4760 - val_loss: 0.7079 - val_accuracy: 0.4062\n",
            "Epoch 5/5\n",
            "20/20 [==============================] - 8s 415ms/step - loss: 0.7045 - accuracy: 0.4698 - val_loss: 0.6994 - val_accuracy: 0.4469\n"
          ],
          "name": "stdout"
        },
        {
          "output_type": "display_data",
          "data": {
            "text/html": [
              "<span style=\"color:#4527A0\"><h1 style=\"font-size:18px\">Trial complete</h1></span>"
            ],
            "text/plain": [
              "<IPython.core.display.HTML object>"
            ]
          },
          "metadata": {
            "tags": []
          }
        },
        {
          "output_type": "display_data",
          "data": {
            "text/html": [
              "<span style=\"color:#4527A0\"><h1 style=\"font-size:18px\">Trial summary</h1></span>"
            ],
            "text/plain": [
              "<IPython.core.display.HTML object>"
            ]
          },
          "metadata": {
            "tags": []
          }
        },
        {
          "output_type": "display_data",
          "data": {
            "text/html": [
              "<span style=\"color:cyan\"> |-Trial ID: 982e7e71a934bc7adb9f2b0af6c504e8</span>"
            ],
            "text/plain": [
              "<IPython.core.display.HTML object>"
            ]
          },
          "metadata": {
            "tags": []
          }
        },
        {
          "output_type": "display_data",
          "data": {
            "text/html": [
              "<span style=\"color:cyan\"> |-Score: 0.4468750059604645</span>"
            ],
            "text/plain": [
              "<IPython.core.display.HTML object>"
            ]
          },
          "metadata": {
            "tags": []
          }
        },
        {
          "output_type": "display_data",
          "data": {
            "text/html": [
              "<span style=\"color:cyan\"> |-Best step: 0</span>"
            ],
            "text/plain": [
              "<IPython.core.display.HTML object>"
            ]
          },
          "metadata": {
            "tags": []
          }
        },
        {
          "output_type": "display_data",
          "data": {
            "text/html": [
              "<span style=\"color:#7E57C2\"><h2 style=\"font-size:16px\">Hyperparameters:</h2></span>"
            ],
            "text/plain": [
              "<IPython.core.display.HTML object>"
            ]
          },
          "metadata": {
            "tags": []
          }
        },
        {
          "output_type": "display_data",
          "data": {
            "text/html": [
              "<span style=\"color:cyan\"> |-conv_0_activation: relu</span>"
            ],
            "text/plain": [
              "<IPython.core.display.HTML object>"
            ]
          },
          "metadata": {
            "tags": []
          }
        },
        {
          "output_type": "display_data",
          "data": {
            "text/html": [
              "<span style=\"color:blue\"> |-conv_0_units: 96</span>"
            ],
            "text/plain": [
              "<IPython.core.display.HTML object>"
            ]
          },
          "metadata": {
            "tags": []
          }
        },
        {
          "output_type": "display_data",
          "data": {
            "text/html": [
              "<span style=\"color:cyan\"> |-conv_1_activation: tanh</span>"
            ],
            "text/plain": [
              "<IPython.core.display.HTML object>"
            ]
          },
          "metadata": {
            "tags": []
          }
        },
        {
          "output_type": "display_data",
          "data": {
            "text/html": [
              "<span style=\"color:blue\"> |-conv_1_units: 192</span>"
            ],
            "text/plain": [
              "<IPython.core.display.HTML object>"
            ]
          },
          "metadata": {
            "tags": []
          }
        },
        {
          "output_type": "display_data",
          "data": {
            "text/html": [
              "<span style=\"color:cyan\"> |-conv_2_activation: tanh</span>"
            ],
            "text/plain": [
              "<IPython.core.display.HTML object>"
            ]
          },
          "metadata": {
            "tags": []
          }
        },
        {
          "output_type": "display_data",
          "data": {
            "text/html": [
              "<span style=\"color:blue\"> |-conv_2_units: 288</span>"
            ],
            "text/plain": [
              "<IPython.core.display.HTML object>"
            ]
          },
          "metadata": {
            "tags": []
          }
        },
        {
          "output_type": "display_data",
          "data": {
            "text/html": [
              "<span style=\"color:cyan\"> |-conv_3_activation: relu</span>"
            ],
            "text/plain": [
              "<IPython.core.display.HTML object>"
            ]
          },
          "metadata": {
            "tags": []
          }
        },
        {
          "output_type": "display_data",
          "data": {
            "text/html": [
              "<span style=\"color:blue\"> |-conv_3_units: 96</span>"
            ],
            "text/plain": [
              "<IPython.core.display.HTML object>"
            ]
          },
          "metadata": {
            "tags": []
          }
        },
        {
          "output_type": "display_data",
          "data": {
            "text/html": [
              "<span style=\"color:cyan\"> |-conv_4_activation: relu</span>"
            ],
            "text/plain": [
              "<IPython.core.display.HTML object>"
            ]
          },
          "metadata": {
            "tags": []
          }
        },
        {
          "output_type": "display_data",
          "data": {
            "text/html": [
              "<span style=\"color:blue\"> |-conv_4_units: 192</span>"
            ],
            "text/plain": [
              "<IPython.core.display.HTML object>"
            ]
          },
          "metadata": {
            "tags": []
          }
        },
        {
          "output_type": "display_data",
          "data": {
            "text/html": [
              "<span style=\"color:cyan\"> |-conv_5_activation: relu</span>"
            ],
            "text/plain": [
              "<IPython.core.display.HTML object>"
            ]
          },
          "metadata": {
            "tags": []
          }
        },
        {
          "output_type": "display_data",
          "data": {
            "text/html": [
              "<span style=\"color:blue\"> |-conv_5_units: 384</span>"
            ],
            "text/plain": [
              "<IPython.core.display.HTML object>"
            ]
          },
          "metadata": {
            "tags": []
          }
        },
        {
          "output_type": "display_data",
          "data": {
            "text/html": [
              "<span style=\"color:cyan\"> |-conv_6_activation: relu</span>"
            ],
            "text/plain": [
              "<IPython.core.display.HTML object>"
            ]
          },
          "metadata": {
            "tags": []
          }
        },
        {
          "output_type": "display_data",
          "data": {
            "text/html": [
              "<span style=\"color:blue\"> |-conv_6_units: 480</span>"
            ],
            "text/plain": [
              "<IPython.core.display.HTML object>"
            ]
          },
          "metadata": {
            "tags": []
          }
        },
        {
          "output_type": "display_data",
          "data": {
            "text/html": [
              "<span style=\"color:cyan\"> |-conv_7_activation: relu</span>"
            ],
            "text/plain": [
              "<IPython.core.display.HTML object>"
            ]
          },
          "metadata": {
            "tags": []
          }
        },
        {
          "output_type": "display_data",
          "data": {
            "text/html": [
              "<span style=\"color:blue\"> |-conv_7_units: 480</span>"
            ],
            "text/plain": [
              "<IPython.core.display.HTML object>"
            ]
          },
          "metadata": {
            "tags": []
          }
        },
        {
          "output_type": "display_data",
          "data": {
            "text/html": [
              "<span style=\"color:cyan\"> |-conv_layers: 6</span>"
            ],
            "text/plain": [
              "<IPython.core.display.HTML object>"
            ]
          },
          "metadata": {
            "tags": []
          }
        },
        {
          "output_type": "display_data",
          "data": {
            "text/html": [
              "<span style=\"color:blue\"> |-dense_0_units: 256</span>"
            ],
            "text/plain": [
              "<IPython.core.display.HTML object>"
            ]
          },
          "metadata": {
            "tags": []
          }
        },
        {
          "output_type": "display_data",
          "data": {
            "text/html": [
              "<span style=\"color:cyan\"> |-dense_1_units: 512</span>"
            ],
            "text/plain": [
              "<IPython.core.display.HTML object>"
            ]
          },
          "metadata": {
            "tags": []
          }
        },
        {
          "output_type": "display_data",
          "data": {
            "text/html": [
              "<span style=\"color:blue\"> |-dense_2_units: 96</span>"
            ],
            "text/plain": [
              "<IPython.core.display.HTML object>"
            ]
          },
          "metadata": {
            "tags": []
          }
        },
        {
          "output_type": "display_data",
          "data": {
            "text/html": [
              "<span style=\"color:cyan\"> |-dense_3_units: 160</span>"
            ],
            "text/plain": [
              "<IPython.core.display.HTML object>"
            ]
          },
          "metadata": {
            "tags": []
          }
        },
        {
          "output_type": "display_data",
          "data": {
            "text/html": [
              "<span style=\"color:blue\"> |-dense_4_units: 128</span>"
            ],
            "text/plain": [
              "<IPython.core.display.HTML object>"
            ]
          },
          "metadata": {
            "tags": []
          }
        },
        {
          "output_type": "display_data",
          "data": {
            "text/html": [
              "<span style=\"color:cyan\"> |-dense_5_units: 64</span>"
            ],
            "text/plain": [
              "<IPython.core.display.HTML object>"
            ]
          },
          "metadata": {
            "tags": []
          }
        },
        {
          "output_type": "display_data",
          "data": {
            "text/html": [
              "<span style=\"color:blue\"> |-dense_6_units: 64</span>"
            ],
            "text/plain": [
              "<IPython.core.display.HTML object>"
            ]
          },
          "metadata": {
            "tags": []
          }
        },
        {
          "output_type": "display_data",
          "data": {
            "text/html": [
              "<span style=\"color:cyan\"> |-dense_layers: 7</span>"
            ],
            "text/plain": [
              "<IPython.core.display.HTML object>"
            ]
          },
          "metadata": {
            "tags": []
          }
        },
        {
          "output_type": "display_data",
          "data": {
            "text/html": [
              "<span style=\"color:blue\"> |-dropout_1: 0.25</span>"
            ],
            "text/plain": [
              "<IPython.core.display.HTML object>"
            ]
          },
          "metadata": {
            "tags": []
          }
        },
        {
          "output_type": "display_data",
          "data": {
            "text/html": [
              "<span style=\"color:cyan\"> |-dropout_2: 0.25</span>"
            ],
            "text/plain": [
              "<IPython.core.display.HTML object>"
            ]
          },
          "metadata": {
            "tags": []
          }
        },
        {
          "output_type": "display_data",
          "data": {
            "text/html": [
              "<span style=\"color:blue\"> |-input_activation: tanh</span>"
            ],
            "text/plain": [
              "<IPython.core.display.HTML object>"
            ]
          },
          "metadata": {
            "tags": []
          }
        },
        {
          "output_type": "display_data",
          "data": {
            "text/html": [
              "<span style=\"color:cyan\"> |-input_units: 384</span>"
            ],
            "text/plain": [
              "<IPython.core.display.HTML object>"
            ]
          },
          "metadata": {
            "tags": []
          }
        },
        {
          "output_type": "display_data",
          "data": {
            "text/html": [
              "<span style=\"color:blue\"> |-learning_rate: 1e-06</span>"
            ],
            "text/plain": [
              "<IPython.core.display.HTML object>"
            ]
          },
          "metadata": {
            "tags": []
          }
        },
        {
          "output_type": "display_data",
          "data": {
            "text/html": [
              "<span style=\"color:cyan\"> |-tuner/bracket: 1</span>"
            ],
            "text/plain": [
              "<IPython.core.display.HTML object>"
            ]
          },
          "metadata": {
            "tags": []
          }
        },
        {
          "output_type": "display_data",
          "data": {
            "text/html": [
              "<span style=\"color:blue\"> |-tuner/epochs: 5</span>"
            ],
            "text/plain": [
              "<IPython.core.display.HTML object>"
            ]
          },
          "metadata": {
            "tags": []
          }
        },
        {
          "output_type": "display_data",
          "data": {
            "text/html": [
              "<span style=\"color:cyan\"> |-tuner/initial_epoch: 2</span>"
            ],
            "text/plain": [
              "<IPython.core.display.HTML object>"
            ]
          },
          "metadata": {
            "tags": []
          }
        },
        {
          "output_type": "display_data",
          "data": {
            "text/html": [
              "<span style=\"color:blue\"> |-tuner/round: 1</span>"
            ],
            "text/plain": [
              "<IPython.core.display.HTML object>"
            ]
          },
          "metadata": {
            "tags": []
          }
        },
        {
          "output_type": "display_data",
          "data": {
            "text/html": [
              "<span style=\"color:cyan\"> |-tuner/trial_id: e9bf1a269da09ac054e03d2c87c909d2</span>"
            ],
            "text/plain": [
              "<IPython.core.display.HTML object>"
            ]
          },
          "metadata": {
            "tags": []
          }
        },
        {
          "output_type": "stream",
          "text": [
            "Epoch 1/5\n",
            " 2/20 [==>...........................] - ETA: 4s - loss: 0.6997 - accuracy: 0.5400WARNING:tensorflow:Callbacks method `on_train_batch_end` is slow compared to the batch time (batch time: 0.1880s vs `on_train_batch_end` time: 0.3449s). Check your callbacks.\n",
            "20/20 [==============================] - 13s 669ms/step - loss: 0.7416 - accuracy: 0.5135 - val_loss: 0.6846 - val_accuracy: 0.5906\n",
            "Epoch 2/5\n",
            "20/20 [==============================] - 11s 545ms/step - loss: 0.7109 - accuracy: 0.5365 - val_loss: 0.7089 - val_accuracy: 0.4000\n",
            "Epoch 3/5\n",
            "20/20 [==============================] - 12s 575ms/step - loss: 0.7187 - accuracy: 0.5260 - val_loss: 0.6722 - val_accuracy: 0.6031\n",
            "Epoch 4/5\n",
            "20/20 [==============================] - 11s 543ms/step - loss: 0.7080 - accuracy: 0.5125 - val_loss: 0.6733 - val_accuracy: 0.6031\n",
            "Epoch 5/5\n",
            "20/20 [==============================] - 11s 542ms/step - loss: 0.7140 - accuracy: 0.5188 - val_loss: 0.6887 - val_accuracy: 0.5625\n"
          ],
          "name": "stdout"
        },
        {
          "output_type": "display_data",
          "data": {
            "text/html": [
              "<span style=\"color:#4527A0\"><h1 style=\"font-size:18px\">Trial complete</h1></span>"
            ],
            "text/plain": [
              "<IPython.core.display.HTML object>"
            ]
          },
          "metadata": {
            "tags": []
          }
        },
        {
          "output_type": "display_data",
          "data": {
            "text/html": [
              "<span style=\"color:#4527A0\"><h1 style=\"font-size:18px\">Trial summary</h1></span>"
            ],
            "text/plain": [
              "<IPython.core.display.HTML object>"
            ]
          },
          "metadata": {
            "tags": []
          }
        },
        {
          "output_type": "display_data",
          "data": {
            "text/html": [
              "<span style=\"color:cyan\"> |-Trial ID: 85975923fbdadd7737d856e18f36f202</span>"
            ],
            "text/plain": [
              "<IPython.core.display.HTML object>"
            ]
          },
          "metadata": {
            "tags": []
          }
        },
        {
          "output_type": "display_data",
          "data": {
            "text/html": [
              "<span style=\"color:cyan\"> |-Score: 0.6031249761581421</span>"
            ],
            "text/plain": [
              "<IPython.core.display.HTML object>"
            ]
          },
          "metadata": {
            "tags": []
          }
        },
        {
          "output_type": "display_data",
          "data": {
            "text/html": [
              "<span style=\"color:cyan\"> |-Best step: 0</span>"
            ],
            "text/plain": [
              "<IPython.core.display.HTML object>"
            ]
          },
          "metadata": {
            "tags": []
          }
        },
        {
          "output_type": "display_data",
          "data": {
            "text/html": [
              "<span style=\"color:#7E57C2\"><h2 style=\"font-size:16px\">Hyperparameters:</h2></span>"
            ],
            "text/plain": [
              "<IPython.core.display.HTML object>"
            ]
          },
          "metadata": {
            "tags": []
          }
        },
        {
          "output_type": "display_data",
          "data": {
            "text/html": [
              "<span style=\"color:cyan\"> |-conv_0_activation: tanh</span>"
            ],
            "text/plain": [
              "<IPython.core.display.HTML object>"
            ]
          },
          "metadata": {
            "tags": []
          }
        },
        {
          "output_type": "display_data",
          "data": {
            "text/html": [
              "<span style=\"color:blue\"> |-conv_0_units: 288</span>"
            ],
            "text/plain": [
              "<IPython.core.display.HTML object>"
            ]
          },
          "metadata": {
            "tags": []
          }
        },
        {
          "output_type": "display_data",
          "data": {
            "text/html": [
              "<span style=\"color:cyan\"> |-conv_1_activation: relu</span>"
            ],
            "text/plain": [
              "<IPython.core.display.HTML object>"
            ]
          },
          "metadata": {
            "tags": []
          }
        },
        {
          "output_type": "display_data",
          "data": {
            "text/html": [
              "<span style=\"color:blue\"> |-conv_1_units: 288</span>"
            ],
            "text/plain": [
              "<IPython.core.display.HTML object>"
            ]
          },
          "metadata": {
            "tags": []
          }
        },
        {
          "output_type": "display_data",
          "data": {
            "text/html": [
              "<span style=\"color:cyan\"> |-conv_2_activation: tanh</span>"
            ],
            "text/plain": [
              "<IPython.core.display.HTML object>"
            ]
          },
          "metadata": {
            "tags": []
          }
        },
        {
          "output_type": "display_data",
          "data": {
            "text/html": [
              "<span style=\"color:blue\"> |-conv_2_units: 448</span>"
            ],
            "text/plain": [
              "<IPython.core.display.HTML object>"
            ]
          },
          "metadata": {
            "tags": []
          }
        },
        {
          "output_type": "display_data",
          "data": {
            "text/html": [
              "<span style=\"color:cyan\"> |-conv_3_activation: relu</span>"
            ],
            "text/plain": [
              "<IPython.core.display.HTML object>"
            ]
          },
          "metadata": {
            "tags": []
          }
        },
        {
          "output_type": "display_data",
          "data": {
            "text/html": [
              "<span style=\"color:blue\"> |-conv_3_units: 192</span>"
            ],
            "text/plain": [
              "<IPython.core.display.HTML object>"
            ]
          },
          "metadata": {
            "tags": []
          }
        },
        {
          "output_type": "display_data",
          "data": {
            "text/html": [
              "<span style=\"color:cyan\"> |-conv_4_activation: relu</span>"
            ],
            "text/plain": [
              "<IPython.core.display.HTML object>"
            ]
          },
          "metadata": {
            "tags": []
          }
        },
        {
          "output_type": "display_data",
          "data": {
            "text/html": [
              "<span style=\"color:blue\"> |-conv_4_units: 96</span>"
            ],
            "text/plain": [
              "<IPython.core.display.HTML object>"
            ]
          },
          "metadata": {
            "tags": []
          }
        },
        {
          "output_type": "display_data",
          "data": {
            "text/html": [
              "<span style=\"color:cyan\"> |-conv_5_activation: tanh</span>"
            ],
            "text/plain": [
              "<IPython.core.display.HTML object>"
            ]
          },
          "metadata": {
            "tags": []
          }
        },
        {
          "output_type": "display_data",
          "data": {
            "text/html": [
              "<span style=\"color:blue\"> |-conv_5_units: 192</span>"
            ],
            "text/plain": [
              "<IPython.core.display.HTML object>"
            ]
          },
          "metadata": {
            "tags": []
          }
        },
        {
          "output_type": "display_data",
          "data": {
            "text/html": [
              "<span style=\"color:cyan\"> |-conv_6_activation: relu</span>"
            ],
            "text/plain": [
              "<IPython.core.display.HTML object>"
            ]
          },
          "metadata": {
            "tags": []
          }
        },
        {
          "output_type": "display_data",
          "data": {
            "text/html": [
              "<span style=\"color:blue\"> |-conv_6_units: 352</span>"
            ],
            "text/plain": [
              "<IPython.core.display.HTML object>"
            ]
          },
          "metadata": {
            "tags": []
          }
        },
        {
          "output_type": "display_data",
          "data": {
            "text/html": [
              "<span style=\"color:cyan\"> |-conv_7_activation: relu</span>"
            ],
            "text/plain": [
              "<IPython.core.display.HTML object>"
            ]
          },
          "metadata": {
            "tags": []
          }
        },
        {
          "output_type": "display_data",
          "data": {
            "text/html": [
              "<span style=\"color:blue\"> |-conv_7_units: 288</span>"
            ],
            "text/plain": [
              "<IPython.core.display.HTML object>"
            ]
          },
          "metadata": {
            "tags": []
          }
        },
        {
          "output_type": "display_data",
          "data": {
            "text/html": [
              "<span style=\"color:cyan\"> |-conv_layers: 4</span>"
            ],
            "text/plain": [
              "<IPython.core.display.HTML object>"
            ]
          },
          "metadata": {
            "tags": []
          }
        },
        {
          "output_type": "display_data",
          "data": {
            "text/html": [
              "<span style=\"color:blue\"> |-dense_0_units: 224</span>"
            ],
            "text/plain": [
              "<IPython.core.display.HTML object>"
            ]
          },
          "metadata": {
            "tags": []
          }
        },
        {
          "output_type": "display_data",
          "data": {
            "text/html": [
              "<span style=\"color:cyan\"> |-dense_1_units: 192</span>"
            ],
            "text/plain": [
              "<IPython.core.display.HTML object>"
            ]
          },
          "metadata": {
            "tags": []
          }
        },
        {
          "output_type": "display_data",
          "data": {
            "text/html": [
              "<span style=\"color:blue\"> |-dense_2_units: 160</span>"
            ],
            "text/plain": [
              "<IPython.core.display.HTML object>"
            ]
          },
          "metadata": {
            "tags": []
          }
        },
        {
          "output_type": "display_data",
          "data": {
            "text/html": [
              "<span style=\"color:cyan\"> |-dense_3_units: 416</span>"
            ],
            "text/plain": [
              "<IPython.core.display.HTML object>"
            ]
          },
          "metadata": {
            "tags": []
          }
        },
        {
          "output_type": "display_data",
          "data": {
            "text/html": [
              "<span style=\"color:blue\"> |-dense_4_units: 256</span>"
            ],
            "text/plain": [
              "<IPython.core.display.HTML object>"
            ]
          },
          "metadata": {
            "tags": []
          }
        },
        {
          "output_type": "display_data",
          "data": {
            "text/html": [
              "<span style=\"color:cyan\"> |-dense_5_units: 64</span>"
            ],
            "text/plain": [
              "<IPython.core.display.HTML object>"
            ]
          },
          "metadata": {
            "tags": []
          }
        },
        {
          "output_type": "display_data",
          "data": {
            "text/html": [
              "<span style=\"color:blue\"> |-dense_6_units: 384</span>"
            ],
            "text/plain": [
              "<IPython.core.display.HTML object>"
            ]
          },
          "metadata": {
            "tags": []
          }
        },
        {
          "output_type": "display_data",
          "data": {
            "text/html": [
              "<span style=\"color:cyan\"> |-dense_layers: 6</span>"
            ],
            "text/plain": [
              "<IPython.core.display.HTML object>"
            ]
          },
          "metadata": {
            "tags": []
          }
        },
        {
          "output_type": "display_data",
          "data": {
            "text/html": [
              "<span style=\"color:blue\"> |-dropout_1: 0.5</span>"
            ],
            "text/plain": [
              "<IPython.core.display.HTML object>"
            ]
          },
          "metadata": {
            "tags": []
          }
        },
        {
          "output_type": "display_data",
          "data": {
            "text/html": [
              "<span style=\"color:cyan\"> |-dropout_2: 0.75</span>"
            ],
            "text/plain": [
              "<IPython.core.display.HTML object>"
            ]
          },
          "metadata": {
            "tags": []
          }
        },
        {
          "output_type": "display_data",
          "data": {
            "text/html": [
              "<span style=\"color:blue\"> |-input_activation: relu</span>"
            ],
            "text/plain": [
              "<IPython.core.display.HTML object>"
            ]
          },
          "metadata": {
            "tags": []
          }
        },
        {
          "output_type": "display_data",
          "data": {
            "text/html": [
              "<span style=\"color:cyan\"> |-input_units: 464</span>"
            ],
            "text/plain": [
              "<IPython.core.display.HTML object>"
            ]
          },
          "metadata": {
            "tags": []
          }
        },
        {
          "output_type": "display_data",
          "data": {
            "text/html": [
              "<span style=\"color:blue\"> |-learning_rate: 0.0001</span>"
            ],
            "text/plain": [
              "<IPython.core.display.HTML object>"
            ]
          },
          "metadata": {
            "tags": []
          }
        },
        {
          "output_type": "display_data",
          "data": {
            "text/html": [
              "<span style=\"color:cyan\"> |-tuner/bracket: 0</span>"
            ],
            "text/plain": [
              "<IPython.core.display.HTML object>"
            ]
          },
          "metadata": {
            "tags": []
          }
        },
        {
          "output_type": "display_data",
          "data": {
            "text/html": [
              "<span style=\"color:blue\"> |-tuner/epochs: 5</span>"
            ],
            "text/plain": [
              "<IPython.core.display.HTML object>"
            ]
          },
          "metadata": {
            "tags": []
          }
        },
        {
          "output_type": "display_data",
          "data": {
            "text/html": [
              "<span style=\"color:cyan\"> |-tuner/initial_epoch: 0</span>"
            ],
            "text/plain": [
              "<IPython.core.display.HTML object>"
            ]
          },
          "metadata": {
            "tags": []
          }
        },
        {
          "output_type": "display_data",
          "data": {
            "text/html": [
              "<span style=\"color:blue\"> |-tuner/round: 0</span>"
            ],
            "text/plain": [
              "<IPython.core.display.HTML object>"
            ]
          },
          "metadata": {
            "tags": []
          }
        },
        {
          "output_type": "stream",
          "text": [
            "Epoch 1/5\n",
            " 2/20 [==>...........................] - ETA: 4s - loss: 0.6746 - accuracy: 0.5500WARNING:tensorflow:Callbacks method `on_train_batch_end` is slow compared to the batch time (batch time: 0.1826s vs `on_train_batch_end` time: 0.3328s). Check your callbacks.\n",
            "20/20 [==============================] - 17s 840ms/step - loss: 0.7421 - accuracy: 0.5125 - val_loss: 0.6880 - val_accuracy: 0.6031\n",
            "Epoch 2/5\n",
            "20/20 [==============================] - 11s 542ms/step - loss: 0.7093 - accuracy: 0.5198 - val_loss: 0.6827 - val_accuracy: 0.6031\n",
            "Epoch 3/5\n",
            "20/20 [==============================] - 11s 544ms/step - loss: 0.7119 - accuracy: 0.5094 - val_loss: 0.6859 - val_accuracy: 0.6031\n",
            "Epoch 4/5\n",
            "20/20 [==============================] - 11s 546ms/step - loss: 0.7055 - accuracy: 0.5135 - val_loss: 0.6735 - val_accuracy: 0.6031\n",
            "Epoch 5/5\n",
            "20/20 [==============================] - 11s 547ms/step - loss: 0.6998 - accuracy: 0.5156 - val_loss: 0.6794 - val_accuracy: 0.6031\n"
          ],
          "name": "stdout"
        },
        {
          "output_type": "display_data",
          "data": {
            "text/html": [
              "<span style=\"color:#4527A0\"><h1 style=\"font-size:18px\">Trial complete</h1></span>"
            ],
            "text/plain": [
              "<IPython.core.display.HTML object>"
            ]
          },
          "metadata": {
            "tags": []
          }
        },
        {
          "output_type": "display_data",
          "data": {
            "text/html": [
              "<span style=\"color:#4527A0\"><h1 style=\"font-size:18px\">Trial summary</h1></span>"
            ],
            "text/plain": [
              "<IPython.core.display.HTML object>"
            ]
          },
          "metadata": {
            "tags": []
          }
        },
        {
          "output_type": "display_data",
          "data": {
            "text/html": [
              "<span style=\"color:cyan\"> |-Trial ID: d28d98e91ee4476f14dfe161d0b02db2</span>"
            ],
            "text/plain": [
              "<IPython.core.display.HTML object>"
            ]
          },
          "metadata": {
            "tags": []
          }
        },
        {
          "output_type": "display_data",
          "data": {
            "text/html": [
              "<span style=\"color:cyan\"> |-Score: 0.6031249761581421</span>"
            ],
            "text/plain": [
              "<IPython.core.display.HTML object>"
            ]
          },
          "metadata": {
            "tags": []
          }
        },
        {
          "output_type": "display_data",
          "data": {
            "text/html": [
              "<span style=\"color:cyan\"> |-Best step: 0</span>"
            ],
            "text/plain": [
              "<IPython.core.display.HTML object>"
            ]
          },
          "metadata": {
            "tags": []
          }
        },
        {
          "output_type": "display_data",
          "data": {
            "text/html": [
              "<span style=\"color:#7E57C2\"><h2 style=\"font-size:16px\">Hyperparameters:</h2></span>"
            ],
            "text/plain": [
              "<IPython.core.display.HTML object>"
            ]
          },
          "metadata": {
            "tags": []
          }
        },
        {
          "output_type": "display_data",
          "data": {
            "text/html": [
              "<span style=\"color:cyan\"> |-conv_0_activation: tanh</span>"
            ],
            "text/plain": [
              "<IPython.core.display.HTML object>"
            ]
          },
          "metadata": {
            "tags": []
          }
        },
        {
          "output_type": "display_data",
          "data": {
            "text/html": [
              "<span style=\"color:blue\"> |-conv_0_units: 320</span>"
            ],
            "text/plain": [
              "<IPython.core.display.HTML object>"
            ]
          },
          "metadata": {
            "tags": []
          }
        },
        {
          "output_type": "display_data",
          "data": {
            "text/html": [
              "<span style=\"color:cyan\"> |-conv_1_activation: relu</span>"
            ],
            "text/plain": [
              "<IPython.core.display.HTML object>"
            ]
          },
          "metadata": {
            "tags": []
          }
        },
        {
          "output_type": "display_data",
          "data": {
            "text/html": [
              "<span style=\"color:blue\"> |-conv_1_units: 192</span>"
            ],
            "text/plain": [
              "<IPython.core.display.HTML object>"
            ]
          },
          "metadata": {
            "tags": []
          }
        },
        {
          "output_type": "display_data",
          "data": {
            "text/html": [
              "<span style=\"color:cyan\"> |-conv_2_activation: tanh</span>"
            ],
            "text/plain": [
              "<IPython.core.display.HTML object>"
            ]
          },
          "metadata": {
            "tags": []
          }
        },
        {
          "output_type": "display_data",
          "data": {
            "text/html": [
              "<span style=\"color:blue\"> |-conv_2_units: 448</span>"
            ],
            "text/plain": [
              "<IPython.core.display.HTML object>"
            ]
          },
          "metadata": {
            "tags": []
          }
        },
        {
          "output_type": "display_data",
          "data": {
            "text/html": [
              "<span style=\"color:cyan\"> |-conv_3_activation: relu</span>"
            ],
            "text/plain": [
              "<IPython.core.display.HTML object>"
            ]
          },
          "metadata": {
            "tags": []
          }
        },
        {
          "output_type": "display_data",
          "data": {
            "text/html": [
              "<span style=\"color:blue\"> |-conv_3_units: 320</span>"
            ],
            "text/plain": [
              "<IPython.core.display.HTML object>"
            ]
          },
          "metadata": {
            "tags": []
          }
        },
        {
          "output_type": "display_data",
          "data": {
            "text/html": [
              "<span style=\"color:cyan\"> |-conv_4_activation: tanh</span>"
            ],
            "text/plain": [
              "<IPython.core.display.HTML object>"
            ]
          },
          "metadata": {
            "tags": []
          }
        },
        {
          "output_type": "display_data",
          "data": {
            "text/html": [
              "<span style=\"color:blue\"> |-conv_4_units: 416</span>"
            ],
            "text/plain": [
              "<IPython.core.display.HTML object>"
            ]
          },
          "metadata": {
            "tags": []
          }
        },
        {
          "output_type": "display_data",
          "data": {
            "text/html": [
              "<span style=\"color:cyan\"> |-conv_5_activation: tanh</span>"
            ],
            "text/plain": [
              "<IPython.core.display.HTML object>"
            ]
          },
          "metadata": {
            "tags": []
          }
        },
        {
          "output_type": "display_data",
          "data": {
            "text/html": [
              "<span style=\"color:blue\"> |-conv_5_units: 160</span>"
            ],
            "text/plain": [
              "<IPython.core.display.HTML object>"
            ]
          },
          "metadata": {
            "tags": []
          }
        },
        {
          "output_type": "display_data",
          "data": {
            "text/html": [
              "<span style=\"color:cyan\"> |-conv_6_activation: tanh</span>"
            ],
            "text/plain": [
              "<IPython.core.display.HTML object>"
            ]
          },
          "metadata": {
            "tags": []
          }
        },
        {
          "output_type": "display_data",
          "data": {
            "text/html": [
              "<span style=\"color:blue\"> |-conv_6_units: 32</span>"
            ],
            "text/plain": [
              "<IPython.core.display.HTML object>"
            ]
          },
          "metadata": {
            "tags": []
          }
        },
        {
          "output_type": "display_data",
          "data": {
            "text/html": [
              "<span style=\"color:cyan\"> |-conv_7_activation: tanh</span>"
            ],
            "text/plain": [
              "<IPython.core.display.HTML object>"
            ]
          },
          "metadata": {
            "tags": []
          }
        },
        {
          "output_type": "display_data",
          "data": {
            "text/html": [
              "<span style=\"color:blue\"> |-conv_7_units: 384</span>"
            ],
            "text/plain": [
              "<IPython.core.display.HTML object>"
            ]
          },
          "metadata": {
            "tags": []
          }
        },
        {
          "output_type": "display_data",
          "data": {
            "text/html": [
              "<span style=\"color:cyan\"> |-conv_layers: 5</span>"
            ],
            "text/plain": [
              "<IPython.core.display.HTML object>"
            ]
          },
          "metadata": {
            "tags": []
          }
        },
        {
          "output_type": "display_data",
          "data": {
            "text/html": [
              "<span style=\"color:blue\"> |-dense_0_units: 448</span>"
            ],
            "text/plain": [
              "<IPython.core.display.HTML object>"
            ]
          },
          "metadata": {
            "tags": []
          }
        },
        {
          "output_type": "display_data",
          "data": {
            "text/html": [
              "<span style=\"color:cyan\"> |-dense_1_units: 96</span>"
            ],
            "text/plain": [
              "<IPython.core.display.HTML object>"
            ]
          },
          "metadata": {
            "tags": []
          }
        },
        {
          "output_type": "display_data",
          "data": {
            "text/html": [
              "<span style=\"color:blue\"> |-dense_2_units: 416</span>"
            ],
            "text/plain": [
              "<IPython.core.display.HTML object>"
            ]
          },
          "metadata": {
            "tags": []
          }
        },
        {
          "output_type": "display_data",
          "data": {
            "text/html": [
              "<span style=\"color:cyan\"> |-dense_3_units: 224</span>"
            ],
            "text/plain": [
              "<IPython.core.display.HTML object>"
            ]
          },
          "metadata": {
            "tags": []
          }
        },
        {
          "output_type": "display_data",
          "data": {
            "text/html": [
              "<span style=\"color:blue\"> |-dense_4_units: 96</span>"
            ],
            "text/plain": [
              "<IPython.core.display.HTML object>"
            ]
          },
          "metadata": {
            "tags": []
          }
        },
        {
          "output_type": "display_data",
          "data": {
            "text/html": [
              "<span style=\"color:cyan\"> |-dense_5_units: 192</span>"
            ],
            "text/plain": [
              "<IPython.core.display.HTML object>"
            ]
          },
          "metadata": {
            "tags": []
          }
        },
        {
          "output_type": "display_data",
          "data": {
            "text/html": [
              "<span style=\"color:blue\"> |-dense_6_units: 512</span>"
            ],
            "text/plain": [
              "<IPython.core.display.HTML object>"
            ]
          },
          "metadata": {
            "tags": []
          }
        },
        {
          "output_type": "display_data",
          "data": {
            "text/html": [
              "<span style=\"color:cyan\"> |-dense_7_units: 64</span>"
            ],
            "text/plain": [
              "<IPython.core.display.HTML object>"
            ]
          },
          "metadata": {
            "tags": []
          }
        },
        {
          "output_type": "display_data",
          "data": {
            "text/html": [
              "<span style=\"color:blue\"> |-dense_layers: 8</span>"
            ],
            "text/plain": [
              "<IPython.core.display.HTML object>"
            ]
          },
          "metadata": {
            "tags": []
          }
        },
        {
          "output_type": "display_data",
          "data": {
            "text/html": [
              "<span style=\"color:cyan\"> |-dropout_1: 0.25</span>"
            ],
            "text/plain": [
              "<IPython.core.display.HTML object>"
            ]
          },
          "metadata": {
            "tags": []
          }
        },
        {
          "output_type": "display_data",
          "data": {
            "text/html": [
              "<span style=\"color:blue\"> |-dropout_2: 0.75</span>"
            ],
            "text/plain": [
              "<IPython.core.display.HTML object>"
            ]
          },
          "metadata": {
            "tags": []
          }
        },
        {
          "output_type": "display_data",
          "data": {
            "text/html": [
              "<span style=\"color:cyan\"> |-input_activation: tanh</span>"
            ],
            "text/plain": [
              "<IPython.core.display.HTML object>"
            ]
          },
          "metadata": {
            "tags": []
          }
        },
        {
          "output_type": "display_data",
          "data": {
            "text/html": [
              "<span style=\"color:blue\"> |-input_units: 48</span>"
            ],
            "text/plain": [
              "<IPython.core.display.HTML object>"
            ]
          },
          "metadata": {
            "tags": []
          }
        },
        {
          "output_type": "display_data",
          "data": {
            "text/html": [
              "<span style=\"color:cyan\"> |-learning_rate: 0.001</span>"
            ],
            "text/plain": [
              "<IPython.core.display.HTML object>"
            ]
          },
          "metadata": {
            "tags": []
          }
        },
        {
          "output_type": "display_data",
          "data": {
            "text/html": [
              "<span style=\"color:blue\"> |-tuner/bracket: 0</span>"
            ],
            "text/plain": [
              "<IPython.core.display.HTML object>"
            ]
          },
          "metadata": {
            "tags": []
          }
        },
        {
          "output_type": "display_data",
          "data": {
            "text/html": [
              "<span style=\"color:cyan\"> |-tuner/epochs: 5</span>"
            ],
            "text/plain": [
              "<IPython.core.display.HTML object>"
            ]
          },
          "metadata": {
            "tags": []
          }
        },
        {
          "output_type": "display_data",
          "data": {
            "text/html": [
              "<span style=\"color:blue\"> |-tuner/initial_epoch: 0</span>"
            ],
            "text/plain": [
              "<IPython.core.display.HTML object>"
            ]
          },
          "metadata": {
            "tags": []
          }
        },
        {
          "output_type": "display_data",
          "data": {
            "text/html": [
              "<span style=\"color:cyan\"> |-tuner/round: 0</span>"
            ],
            "text/plain": [
              "<IPython.core.display.HTML object>"
            ]
          },
          "metadata": {
            "tags": []
          }
        },
        {
          "output_type": "stream",
          "text": [
            "Epoch 1/5\n",
            " 2/20 [==>...........................] - ETA: 2s - loss: 0.7395 - accuracy: 0.5100WARNING:tensorflow:Callbacks method `on_train_batch_end` is slow compared to the batch time (batch time: 0.0983s vs `on_train_batch_end` time: 0.1925s). Check your callbacks.\n",
            "20/20 [==============================] - 12s 585ms/step - loss: 0.7369 - accuracy: 0.4812 - val_loss: 0.7039 - val_accuracy: 0.4844\n",
            "Epoch 2/5\n",
            "20/20 [==============================] - 18s 911ms/step - loss: 0.7267 - accuracy: 0.5146 - val_loss: 0.7026 - val_accuracy: 0.5000\n",
            "Epoch 3/5\n",
            "20/20 [==============================] - 29s 1s/step - loss: 0.7423 - accuracy: 0.4990 - val_loss: 0.7011 - val_accuracy: 0.5063\n",
            "Epoch 4/5\n",
            "20/20 [==============================] - 6s 309ms/step - loss: 0.7446 - accuracy: 0.4938 - val_loss: 0.6999 - val_accuracy: 0.5063\n",
            "Epoch 5/5\n",
            "20/20 [==============================] - 18s 903ms/step - loss: 0.7424 - accuracy: 0.4896 - val_loss: 0.6989 - val_accuracy: 0.5094\n"
          ],
          "name": "stdout"
        },
        {
          "output_type": "display_data",
          "data": {
            "text/html": [
              "<span style=\"color:#4527A0\"><h1 style=\"font-size:18px\">Trial complete</h1></span>"
            ],
            "text/plain": [
              "<IPython.core.display.HTML object>"
            ]
          },
          "metadata": {
            "tags": []
          }
        },
        {
          "output_type": "display_data",
          "data": {
            "text/html": [
              "<span style=\"color:#4527A0\"><h1 style=\"font-size:18px\">Trial summary</h1></span>"
            ],
            "text/plain": [
              "<IPython.core.display.HTML object>"
            ]
          },
          "metadata": {
            "tags": []
          }
        },
        {
          "output_type": "display_data",
          "data": {
            "text/html": [
              "<span style=\"color:cyan\"> |-Trial ID: 0c9ee3da8b8c4683173592231a908a78</span>"
            ],
            "text/plain": [
              "<IPython.core.display.HTML object>"
            ]
          },
          "metadata": {
            "tags": []
          }
        },
        {
          "output_type": "display_data",
          "data": {
            "text/html": [
              "<span style=\"color:cyan\"> |-Score: 0.5093749761581421</span>"
            ],
            "text/plain": [
              "<IPython.core.display.HTML object>"
            ]
          },
          "metadata": {
            "tags": []
          }
        },
        {
          "output_type": "display_data",
          "data": {
            "text/html": [
              "<span style=\"color:cyan\"> |-Best step: 0</span>"
            ],
            "text/plain": [
              "<IPython.core.display.HTML object>"
            ]
          },
          "metadata": {
            "tags": []
          }
        },
        {
          "output_type": "display_data",
          "data": {
            "text/html": [
              "<span style=\"color:#7E57C2\"><h2 style=\"font-size:16px\">Hyperparameters:</h2></span>"
            ],
            "text/plain": [
              "<IPython.core.display.HTML object>"
            ]
          },
          "metadata": {
            "tags": []
          }
        },
        {
          "output_type": "display_data",
          "data": {
            "text/html": [
              "<span style=\"color:cyan\"> |-conv_0_activation: relu</span>"
            ],
            "text/plain": [
              "<IPython.core.display.HTML object>"
            ]
          },
          "metadata": {
            "tags": []
          }
        },
        {
          "output_type": "display_data",
          "data": {
            "text/html": [
              "<span style=\"color:blue\"> |-conv_0_units: 128</span>"
            ],
            "text/plain": [
              "<IPython.core.display.HTML object>"
            ]
          },
          "metadata": {
            "tags": []
          }
        },
        {
          "output_type": "display_data",
          "data": {
            "text/html": [
              "<span style=\"color:cyan\"> |-conv_1_activation: tanh</span>"
            ],
            "text/plain": [
              "<IPython.core.display.HTML object>"
            ]
          },
          "metadata": {
            "tags": []
          }
        },
        {
          "output_type": "display_data",
          "data": {
            "text/html": [
              "<span style=\"color:blue\"> |-conv_1_units: 448</span>"
            ],
            "text/plain": [
              "<IPython.core.display.HTML object>"
            ]
          },
          "metadata": {
            "tags": []
          }
        },
        {
          "output_type": "display_data",
          "data": {
            "text/html": [
              "<span style=\"color:cyan\"> |-conv_2_activation: tanh</span>"
            ],
            "text/plain": [
              "<IPython.core.display.HTML object>"
            ]
          },
          "metadata": {
            "tags": []
          }
        },
        {
          "output_type": "display_data",
          "data": {
            "text/html": [
              "<span style=\"color:blue\"> |-conv_2_units: 352</span>"
            ],
            "text/plain": [
              "<IPython.core.display.HTML object>"
            ]
          },
          "metadata": {
            "tags": []
          }
        },
        {
          "output_type": "display_data",
          "data": {
            "text/html": [
              "<span style=\"color:cyan\"> |-conv_3_activation: relu</span>"
            ],
            "text/plain": [
              "<IPython.core.display.HTML object>"
            ]
          },
          "metadata": {
            "tags": []
          }
        },
        {
          "output_type": "display_data",
          "data": {
            "text/html": [
              "<span style=\"color:blue\"> |-conv_3_units: 448</span>"
            ],
            "text/plain": [
              "<IPython.core.display.HTML object>"
            ]
          },
          "metadata": {
            "tags": []
          }
        },
        {
          "output_type": "display_data",
          "data": {
            "text/html": [
              "<span style=\"color:cyan\"> |-conv_4_activation: relu</span>"
            ],
            "text/plain": [
              "<IPython.core.display.HTML object>"
            ]
          },
          "metadata": {
            "tags": []
          }
        },
        {
          "output_type": "display_data",
          "data": {
            "text/html": [
              "<span style=\"color:blue\"> |-conv_4_units: 256</span>"
            ],
            "text/plain": [
              "<IPython.core.display.HTML object>"
            ]
          },
          "metadata": {
            "tags": []
          }
        },
        {
          "output_type": "display_data",
          "data": {
            "text/html": [
              "<span style=\"color:cyan\"> |-conv_5_activation: relu</span>"
            ],
            "text/plain": [
              "<IPython.core.display.HTML object>"
            ]
          },
          "metadata": {
            "tags": []
          }
        },
        {
          "output_type": "display_data",
          "data": {
            "text/html": [
              "<span style=\"color:blue\"> |-conv_5_units: 32</span>"
            ],
            "text/plain": [
              "<IPython.core.display.HTML object>"
            ]
          },
          "metadata": {
            "tags": []
          }
        },
        {
          "output_type": "display_data",
          "data": {
            "text/html": [
              "<span style=\"color:cyan\"> |-conv_6_activation: relu</span>"
            ],
            "text/plain": [
              "<IPython.core.display.HTML object>"
            ]
          },
          "metadata": {
            "tags": []
          }
        },
        {
          "output_type": "display_data",
          "data": {
            "text/html": [
              "<span style=\"color:blue\"> |-conv_6_units: 384</span>"
            ],
            "text/plain": [
              "<IPython.core.display.HTML object>"
            ]
          },
          "metadata": {
            "tags": []
          }
        },
        {
          "output_type": "display_data",
          "data": {
            "text/html": [
              "<span style=\"color:cyan\"> |-conv_7_activation: relu</span>"
            ],
            "text/plain": [
              "<IPython.core.display.HTML object>"
            ]
          },
          "metadata": {
            "tags": []
          }
        },
        {
          "output_type": "display_data",
          "data": {
            "text/html": [
              "<span style=\"color:blue\"> |-conv_7_units: 288</span>"
            ],
            "text/plain": [
              "<IPython.core.display.HTML object>"
            ]
          },
          "metadata": {
            "tags": []
          }
        },
        {
          "output_type": "display_data",
          "data": {
            "text/html": [
              "<span style=\"color:cyan\"> |-conv_layers: 3</span>"
            ],
            "text/plain": [
              "<IPython.core.display.HTML object>"
            ]
          },
          "metadata": {
            "tags": []
          }
        },
        {
          "output_type": "display_data",
          "data": {
            "text/html": [
              "<span style=\"color:blue\"> |-dense_0_units: 512</span>"
            ],
            "text/plain": [
              "<IPython.core.display.HTML object>"
            ]
          },
          "metadata": {
            "tags": []
          }
        },
        {
          "output_type": "display_data",
          "data": {
            "text/html": [
              "<span style=\"color:cyan\"> |-dense_1_units: 288</span>"
            ],
            "text/plain": [
              "<IPython.core.display.HTML object>"
            ]
          },
          "metadata": {
            "tags": []
          }
        },
        {
          "output_type": "display_data",
          "data": {
            "text/html": [
              "<span style=\"color:blue\"> |-dense_2_units: 352</span>"
            ],
            "text/plain": [
              "<IPython.core.display.HTML object>"
            ]
          },
          "metadata": {
            "tags": []
          }
        },
        {
          "output_type": "display_data",
          "data": {
            "text/html": [
              "<span style=\"color:cyan\"> |-dense_3_units: 320</span>"
            ],
            "text/plain": [
              "<IPython.core.display.HTML object>"
            ]
          },
          "metadata": {
            "tags": []
          }
        },
        {
          "output_type": "display_data",
          "data": {
            "text/html": [
              "<span style=\"color:blue\"> |-dense_4_units: 256</span>"
            ],
            "text/plain": [
              "<IPython.core.display.HTML object>"
            ]
          },
          "metadata": {
            "tags": []
          }
        },
        {
          "output_type": "display_data",
          "data": {
            "text/html": [
              "<span style=\"color:cyan\"> |-dense_5_units: 96</span>"
            ],
            "text/plain": [
              "<IPython.core.display.HTML object>"
            ]
          },
          "metadata": {
            "tags": []
          }
        },
        {
          "output_type": "display_data",
          "data": {
            "text/html": [
              "<span style=\"color:blue\"> |-dense_6_units: 320</span>"
            ],
            "text/plain": [
              "<IPython.core.display.HTML object>"
            ]
          },
          "metadata": {
            "tags": []
          }
        },
        {
          "output_type": "display_data",
          "data": {
            "text/html": [
              "<span style=\"color:cyan\"> |-dense_7_units: 256</span>"
            ],
            "text/plain": [
              "<IPython.core.display.HTML object>"
            ]
          },
          "metadata": {
            "tags": []
          }
        },
        {
          "output_type": "display_data",
          "data": {
            "text/html": [
              "<span style=\"color:blue\"> |-dense_layers: 7</span>"
            ],
            "text/plain": [
              "<IPython.core.display.HTML object>"
            ]
          },
          "metadata": {
            "tags": []
          }
        },
        {
          "output_type": "display_data",
          "data": {
            "text/html": [
              "<span style=\"color:cyan\"> |-dropout_1: 0.25</span>"
            ],
            "text/plain": [
              "<IPython.core.display.HTML object>"
            ]
          },
          "metadata": {
            "tags": []
          }
        },
        {
          "output_type": "display_data",
          "data": {
            "text/html": [
              "<span style=\"color:blue\"> |-dropout_2: 0.75</span>"
            ],
            "text/plain": [
              "<IPython.core.display.HTML object>"
            ]
          },
          "metadata": {
            "tags": []
          }
        },
        {
          "output_type": "display_data",
          "data": {
            "text/html": [
              "<span style=\"color:cyan\"> |-input_activation: relu</span>"
            ],
            "text/plain": [
              "<IPython.core.display.HTML object>"
            ]
          },
          "metadata": {
            "tags": []
          }
        },
        {
          "output_type": "display_data",
          "data": {
            "text/html": [
              "<span style=\"color:blue\"> |-input_units: 112</span>"
            ],
            "text/plain": [
              "<IPython.core.display.HTML object>"
            ]
          },
          "metadata": {
            "tags": []
          }
        },
        {
          "output_type": "display_data",
          "data": {
            "text/html": [
              "<span style=\"color:cyan\"> |-learning_rate: 1e-07</span>"
            ],
            "text/plain": [
              "<IPython.core.display.HTML object>"
            ]
          },
          "metadata": {
            "tags": []
          }
        },
        {
          "output_type": "display_data",
          "data": {
            "text/html": [
              "<span style=\"color:blue\"> |-tuner/bracket: 0</span>"
            ],
            "text/plain": [
              "<IPython.core.display.HTML object>"
            ]
          },
          "metadata": {
            "tags": []
          }
        },
        {
          "output_type": "display_data",
          "data": {
            "text/html": [
              "<span style=\"color:cyan\"> |-tuner/epochs: 5</span>"
            ],
            "text/plain": [
              "<IPython.core.display.HTML object>"
            ]
          },
          "metadata": {
            "tags": []
          }
        },
        {
          "output_type": "display_data",
          "data": {
            "text/html": [
              "<span style=\"color:blue\"> |-tuner/initial_epoch: 0</span>"
            ],
            "text/plain": [
              "<IPython.core.display.HTML object>"
            ]
          },
          "metadata": {
            "tags": []
          }
        },
        {
          "output_type": "display_data",
          "data": {
            "text/html": [
              "<span style=\"color:cyan\"> |-tuner/round: 0</span>"
            ],
            "text/plain": [
              "<IPython.core.display.HTML object>"
            ]
          },
          "metadata": {
            "tags": []
          }
        },
        {
          "output_type": "stream",
          "text": [
            "INFO:tensorflow:Oracle triggered exit\n",
            "INFO:tensorflow:Assets written to: hyperbandModel/assets\n",
            "WARNING:tensorflow:Unresolved object in checkpoint: (root).optimizer.iter\n",
            "WARNING:tensorflow:Unresolved object in checkpoint: (root).optimizer.decay\n",
            "WARNING:tensorflow:Unresolved object in checkpoint: (root).optimizer.learning_rate\n",
            "WARNING:tensorflow:Unresolved object in checkpoint: (root).optimizer.momentum\n",
            "WARNING:tensorflow:A checkpoint was restored (e.g. tf.train.Checkpoint.restore or tf.keras.Model.load_weights) but not all checkpointed values were used. See above for specific issues. Use expect_partial() on the load status object, e.g. tf.train.Checkpoint.restore(...).expect_partial(), to silence these warnings, or use assert_consumed() to make the check explicit. See https://www.tensorflow.org/guide/checkpoint#loading_mechanics for details.\n"
          ],
          "name": "stdout"
        }
      ]
    },
    {
      "cell_type": "code",
      "metadata": {
        "id": "Wodg2SS2r0l5",
        "outputId": "be529939-62de-45ea-fda7-961496ef26c2",
        "colab": {
          "base_uri": "https://localhost:8080/",
          "height": 1000
        }
      },
      "source": [
        "best_model_randSearch = load_model('randSearchModel')\n",
        "rand_losses, rand_accuracies = kfold_validate(X, y_valance, best_model_randSearch)"
      ],
      "execution_count": null,
      "outputs": [
        {
          "output_type": "stream",
          "text": [
            "Epoch 1/10\n",
            " 2/25 [=>............................] - ETA: 0s - loss: 0.8265 - accuracy: 0.5500WARNING:tensorflow:Callbacks method `on_train_batch_end` is slow compared to the batch time (batch time: 0.0181s vs `on_train_batch_end` time: 0.0311s). Check your callbacks.\n",
            "25/25 [==============================] - 1s 45ms/step - loss: 0.7862 - accuracy: 0.5073 - val_loss: 0.7015 - val_accuracy: 0.5000\n",
            "Epoch 2/10\n",
            "25/25 [==============================] - 1s 38ms/step - loss: 0.7341 - accuracy: 0.5266 - val_loss: 0.6953 - val_accuracy: 0.5000\n",
            "Epoch 3/10\n",
            "25/25 [==============================] - 1s 38ms/step - loss: 0.7300 - accuracy: 0.5177 - val_loss: 0.6924 - val_accuracy: 0.5250\n",
            "Epoch 4/10\n",
            "25/25 [==============================] - 1s 38ms/step - loss: 0.7154 - accuracy: 0.5169 - val_loss: 0.6957 - val_accuracy: 0.4750\n",
            "Epoch 5/10\n",
            "25/25 [==============================] - 1s 39ms/step - loss: 0.7207 - accuracy: 0.5226 - val_loss: 0.6920 - val_accuracy: 0.5250\n",
            "Epoch 6/10\n",
            "25/25 [==============================] - 1s 39ms/step - loss: 0.7096 - accuracy: 0.5306 - val_loss: 0.7036 - val_accuracy: 0.4750\n",
            "Epoch 7/10\n",
            "25/25 [==============================] - 1s 39ms/step - loss: 0.7072 - accuracy: 0.5185 - val_loss: 0.6930 - val_accuracy: 0.5000\n",
            "Epoch 8/10\n",
            "25/25 [==============================] - 1s 38ms/step - loss: 0.7101 - accuracy: 0.5137 - val_loss: 0.6989 - val_accuracy: 0.4750\n",
            "Epoch 9/10\n",
            "25/25 [==============================] - 1s 38ms/step - loss: 0.6958 - accuracy: 0.5427 - val_loss: 0.7006 - val_accuracy: 0.4750\n",
            "Epoch 10/10\n",
            "25/25 [==============================] - 1s 38ms/step - loss: 0.7011 - accuracy: 0.5395 - val_loss: 0.6986 - val_accuracy: 0.4750\n",
            "40/40 [==============================] - 0s 2ms/step - loss: 0.6986 - accuracy: 0.4750\n",
            "Epoch 1/10\n",
            "25/25 [==============================] - 1s 45ms/step - loss: 0.7018 - accuracy: 0.5185 - val_loss: 0.6796 - val_accuracy: 0.5500\n",
            "Epoch 2/10\n",
            "25/25 [==============================] - 1s 40ms/step - loss: 0.6966 - accuracy: 0.5347 - val_loss: 0.6803 - val_accuracy: 0.5500\n",
            "Epoch 3/10\n",
            "25/25 [==============================] - 1s 39ms/step - loss: 0.6872 - accuracy: 0.5371 - val_loss: 0.6791 - val_accuracy: 0.5500\n",
            "Epoch 4/10\n",
            "25/25 [==============================] - 1s 39ms/step - loss: 0.6910 - accuracy: 0.5411 - val_loss: 0.6795 - val_accuracy: 0.5500\n",
            "Epoch 5/10\n",
            "25/25 [==============================] - 1s 39ms/step - loss: 0.6930 - accuracy: 0.5411 - val_loss: 0.6802 - val_accuracy: 0.5500\n",
            "Epoch 6/10\n",
            "25/25 [==============================] - 1s 39ms/step - loss: 0.6947 - accuracy: 0.5298 - val_loss: 0.6800 - val_accuracy: 0.5500\n",
            "Epoch 7/10\n",
            "25/25 [==============================] - 1s 39ms/step - loss: 0.6995 - accuracy: 0.5274 - val_loss: 0.6805 - val_accuracy: 0.5500\n",
            "Epoch 8/10\n",
            "25/25 [==============================] - 1s 38ms/step - loss: 0.6863 - accuracy: 0.5331 - val_loss: 0.6808 - val_accuracy: 0.5500\n",
            "Epoch 9/10\n",
            "25/25 [==============================] - 1s 38ms/step - loss: 0.6896 - accuracy: 0.5403 - val_loss: 0.6803 - val_accuracy: 0.5500\n",
            "Epoch 10/10\n",
            "25/25 [==============================] - 1s 38ms/step - loss: 0.6873 - accuracy: 0.5645 - val_loss: 0.6796 - val_accuracy: 0.5500\n",
            "40/40 [==============================] - 0s 2ms/step - loss: 0.6796 - accuracy: 0.5500\n",
            "Epoch 1/10\n",
            "25/25 [==============================] - 1s 39ms/step - loss: 0.6859 - accuracy: 0.5524 - val_loss: 0.6816 - val_accuracy: 0.5750\n",
            "Epoch 2/10\n",
            "25/25 [==============================] - 1s 38ms/step - loss: 0.6903 - accuracy: 0.5476 - val_loss: 0.6813 - val_accuracy: 0.5750\n",
            "Epoch 3/10\n",
            "25/25 [==============================] - 1s 38ms/step - loss: 0.6858 - accuracy: 0.5484 - val_loss: 0.6815 - val_accuracy: 0.5750\n",
            "Epoch 4/10\n",
            "25/25 [==============================] - 1s 38ms/step - loss: 0.6862 - accuracy: 0.5629 - val_loss: 0.6819 - val_accuracy: 0.5750\n",
            "Epoch 5/10\n",
            "25/25 [==============================] - 1s 38ms/step - loss: 0.6859 - accuracy: 0.5710 - val_loss: 0.6814 - val_accuracy: 0.5500\n",
            "Epoch 6/10\n",
            "25/25 [==============================] - 1s 39ms/step - loss: 0.6903 - accuracy: 0.5524 - val_loss: 0.6816 - val_accuracy: 0.5750\n",
            "Epoch 7/10\n",
            "25/25 [==============================] - 1s 38ms/step - loss: 0.6851 - accuracy: 0.5460 - val_loss: 0.6825 - val_accuracy: 0.5750\n",
            "Epoch 8/10\n",
            "25/25 [==============================] - 1s 37ms/step - loss: 0.6873 - accuracy: 0.5419 - val_loss: 0.6809 - val_accuracy: 0.5500\n",
            "Epoch 9/10\n",
            "25/25 [==============================] - 1s 38ms/step - loss: 0.6879 - accuracy: 0.5548 - val_loss: 0.6805 - val_accuracy: 0.5500\n",
            "Epoch 10/10\n",
            "25/25 [==============================] - 1s 39ms/step - loss: 0.6779 - accuracy: 0.5694 - val_loss: 0.6804 - val_accuracy: 0.5500\n",
            "40/40 [==============================] - 0s 3ms/step - loss: 0.6804 - accuracy: 0.5500\n",
            "Epoch 1/10\n",
            "25/25 [==============================] - 1s 40ms/step - loss: 0.6851 - accuracy: 0.5685 - val_loss: 0.6917 - val_accuracy: 0.5000\n",
            "Epoch 2/10\n",
            "25/25 [==============================] - 1s 38ms/step - loss: 0.6798 - accuracy: 0.5685 - val_loss: 0.6926 - val_accuracy: 0.5250\n",
            "Epoch 3/10\n",
            "25/25 [==============================] - 1s 38ms/step - loss: 0.6835 - accuracy: 0.5637 - val_loss: 0.6963 - val_accuracy: 0.4750\n",
            "Epoch 4/10\n",
            "25/25 [==============================] - 1s 37ms/step - loss: 0.6858 - accuracy: 0.5540 - val_loss: 0.6951 - val_accuracy: 0.5500\n",
            "Epoch 5/10\n",
            "25/25 [==============================] - 1s 38ms/step - loss: 0.6733 - accuracy: 0.5855 - val_loss: 0.6932 - val_accuracy: 0.5250\n",
            "Epoch 6/10\n",
            "25/25 [==============================] - 1s 37ms/step - loss: 0.6867 - accuracy: 0.5645 - val_loss: 0.6894 - val_accuracy: 0.6000\n",
            "Epoch 7/10\n",
            "25/25 [==============================] - 1s 38ms/step - loss: 0.6838 - accuracy: 0.5444 - val_loss: 0.6893 - val_accuracy: 0.5750\n",
            "Epoch 8/10\n",
            "25/25 [==============================] - 1s 38ms/step - loss: 0.6800 - accuracy: 0.5589 - val_loss: 0.6932 - val_accuracy: 0.5500\n",
            "Epoch 9/10\n",
            "25/25 [==============================] - 1s 39ms/step - loss: 0.6838 - accuracy: 0.5581 - val_loss: 0.6935 - val_accuracy: 0.5500\n",
            "Epoch 10/10\n",
            "25/25 [==============================] - 1s 38ms/step - loss: 0.6831 - accuracy: 0.5774 - val_loss: 0.6880 - val_accuracy: 0.5250\n",
            "40/40 [==============================] - 0s 2ms/step - loss: 0.6880 - accuracy: 0.5250\n",
            "Epoch 1/10\n",
            "25/25 [==============================] - 1s 38ms/step - loss: 0.6819 - accuracy: 0.5710 - val_loss: 0.6658 - val_accuracy: 0.6000\n",
            "Epoch 2/10\n",
            "25/25 [==============================] - 1s 37ms/step - loss: 0.6780 - accuracy: 0.5669 - val_loss: 0.6637 - val_accuracy: 0.6000\n",
            "Epoch 3/10\n",
            "25/25 [==============================] - 1s 39ms/step - loss: 0.6829 - accuracy: 0.5702 - val_loss: 0.6647 - val_accuracy: 0.6000\n",
            "Epoch 4/10\n",
            "25/25 [==============================] - 1s 37ms/step - loss: 0.6801 - accuracy: 0.5798 - val_loss: 0.6669 - val_accuracy: 0.6250\n",
            "Epoch 5/10\n",
            "25/25 [==============================] - 1s 39ms/step - loss: 0.6771 - accuracy: 0.5887 - val_loss: 0.6657 - val_accuracy: 0.6000\n",
            "Epoch 6/10\n",
            "25/25 [==============================] - 1s 38ms/step - loss: 0.6769 - accuracy: 0.5685 - val_loss: 0.6635 - val_accuracy: 0.6000\n",
            "Epoch 7/10\n",
            "25/25 [==============================] - 1s 38ms/step - loss: 0.6781 - accuracy: 0.5637 - val_loss: 0.6640 - val_accuracy: 0.6000\n",
            "Epoch 8/10\n",
            "25/25 [==============================] - 1s 38ms/step - loss: 0.6811 - accuracy: 0.5766 - val_loss: 0.6648 - val_accuracy: 0.6000\n",
            "Epoch 9/10\n",
            "25/25 [==============================] - 1s 38ms/step - loss: 0.6772 - accuracy: 0.5685 - val_loss: 0.6644 - val_accuracy: 0.6000\n",
            "Epoch 10/10\n",
            "25/25 [==============================] - 1s 37ms/step - loss: 0.6821 - accuracy: 0.5677 - val_loss: 0.6656 - val_accuracy: 0.6250\n",
            "40/40 [==============================] - 0s 2ms/step - loss: 0.6656 - accuracy: 0.6250\n",
            "Epoch 1/10\n",
            "25/25 [==============================] - 1s 38ms/step - loss: 0.6720 - accuracy: 0.5685 - val_loss: 0.6313 - val_accuracy: 0.7500\n",
            "Epoch 2/10\n",
            "25/25 [==============================] - 1s 38ms/step - loss: 0.6733 - accuracy: 0.5887 - val_loss: 0.6236 - val_accuracy: 0.7500\n",
            "Epoch 3/10\n",
            "25/25 [==============================] - 1s 37ms/step - loss: 0.6802 - accuracy: 0.5621 - val_loss: 0.6309 - val_accuracy: 0.7500\n",
            "Epoch 4/10\n",
            "25/25 [==============================] - 1s 38ms/step - loss: 0.6806 - accuracy: 0.5718 - val_loss: 0.6332 - val_accuracy: 0.7500\n",
            "Epoch 5/10\n",
            "25/25 [==============================] - 1s 37ms/step - loss: 0.6767 - accuracy: 0.5726 - val_loss: 0.6267 - val_accuracy: 0.7500\n",
            "Epoch 6/10\n",
            "25/25 [==============================] - 1s 37ms/step - loss: 0.6734 - accuracy: 0.5935 - val_loss: 0.6304 - val_accuracy: 0.7500\n",
            "Epoch 7/10\n",
            "25/25 [==============================] - 1s 38ms/step - loss: 0.6737 - accuracy: 0.5685 - val_loss: 0.6331 - val_accuracy: 0.7500\n",
            "Epoch 8/10\n",
            "25/25 [==============================] - 1s 38ms/step - loss: 0.6745 - accuracy: 0.5734 - val_loss: 0.6319 - val_accuracy: 0.7500\n",
            "Epoch 9/10\n",
            "25/25 [==============================] - 1s 37ms/step - loss: 0.6830 - accuracy: 0.5565 - val_loss: 0.6386 - val_accuracy: 0.7500\n",
            "Epoch 10/10\n",
            "25/25 [==============================] - 1s 38ms/step - loss: 0.6720 - accuracy: 0.5919 - val_loss: 0.6324 - val_accuracy: 0.7500\n",
            "40/40 [==============================] - 0s 2ms/step - loss: 0.6324 - accuracy: 0.7500\n",
            "Epoch 1/10\n",
            "25/25 [==============================] - 1s 39ms/step - loss: 0.6730 - accuracy: 0.5742 - val_loss: 0.6364 - val_accuracy: 0.7000\n",
            "Epoch 2/10\n",
            "25/25 [==============================] - 1s 37ms/step - loss: 0.6731 - accuracy: 0.5726 - val_loss: 0.6350 - val_accuracy: 0.7000\n",
            "Epoch 3/10\n",
            "25/25 [==============================] - 1s 37ms/step - loss: 0.6736 - accuracy: 0.5911 - val_loss: 0.6366 - val_accuracy: 0.7000\n",
            "Epoch 4/10\n",
            "25/25 [==============================] - 1s 37ms/step - loss: 0.6734 - accuracy: 0.5831 - val_loss: 0.6403 - val_accuracy: 0.7000\n",
            "Epoch 5/10\n",
            "25/25 [==============================] - 1s 37ms/step - loss: 0.6770 - accuracy: 0.5685 - val_loss: 0.6398 - val_accuracy: 0.7000\n",
            "Epoch 6/10\n",
            "25/25 [==============================] - 1s 37ms/step - loss: 0.6710 - accuracy: 0.5960 - val_loss: 0.6369 - val_accuracy: 0.7000\n",
            "Epoch 7/10\n",
            "25/25 [==============================] - 1s 37ms/step - loss: 0.6757 - accuracy: 0.5750 - val_loss: 0.6367 - val_accuracy: 0.7000\n",
            "Epoch 8/10\n",
            "25/25 [==============================] - 1s 38ms/step - loss: 0.6642 - accuracy: 0.5976 - val_loss: 0.6366 - val_accuracy: 0.7000\n",
            "Epoch 9/10\n",
            "25/25 [==============================] - 1s 38ms/step - loss: 0.6732 - accuracy: 0.5855 - val_loss: 0.6363 - val_accuracy: 0.7000\n",
            "Epoch 10/10\n",
            "25/25 [==============================] - 1s 37ms/step - loss: 0.6788 - accuracy: 0.5605 - val_loss: 0.6329 - val_accuracy: 0.7000\n",
            "40/40 [==============================] - 0s 3ms/step - loss: 0.6329 - accuracy: 0.7000\n",
            "Epoch 1/10\n",
            "25/25 [==============================] - 1s 38ms/step - loss: 0.6660 - accuracy: 0.6089 - val_loss: 0.6841 - val_accuracy: 0.6000\n",
            "Epoch 2/10\n",
            "25/25 [==============================] - 1s 38ms/step - loss: 0.6696 - accuracy: 0.5976 - val_loss: 0.6851 - val_accuracy: 0.7000\n",
            "Epoch 3/10\n",
            "25/25 [==============================] - 1s 38ms/step - loss: 0.6677 - accuracy: 0.5903 - val_loss: 0.6854 - val_accuracy: 0.5750\n",
            "Epoch 4/10\n",
            "25/25 [==============================] - 1s 37ms/step - loss: 0.6614 - accuracy: 0.5952 - val_loss: 0.6867 - val_accuracy: 0.5750\n",
            "Epoch 5/10\n",
            "25/25 [==============================] - 1s 37ms/step - loss: 0.6630 - accuracy: 0.5895 - val_loss: 0.6868 - val_accuracy: 0.5750\n",
            "Epoch 6/10\n",
            "25/25 [==============================] - 1s 38ms/step - loss: 0.6644 - accuracy: 0.5935 - val_loss: 0.6869 - val_accuracy: 0.5750\n",
            "Epoch 7/10\n",
            "25/25 [==============================] - 1s 38ms/step - loss: 0.6663 - accuracy: 0.5911 - val_loss: 0.6883 - val_accuracy: 0.5750\n",
            "Epoch 8/10\n",
            "25/25 [==============================] - 1s 38ms/step - loss: 0.6691 - accuracy: 0.6024 - val_loss: 0.6878 - val_accuracy: 0.5750\n",
            "Epoch 9/10\n",
            "25/25 [==============================] - 1s 38ms/step - loss: 0.6735 - accuracy: 0.5847 - val_loss: 0.6877 - val_accuracy: 0.5750\n",
            "Epoch 10/10\n",
            "25/25 [==============================] - 1s 38ms/step - loss: 0.6698 - accuracy: 0.5750 - val_loss: 0.6885 - val_accuracy: 0.5750\n",
            "40/40 [==============================] - 0s 2ms/step - loss: 0.6885 - accuracy: 0.5750\n",
            "Epoch 1/10\n",
            "25/25 [==============================] - 1s 39ms/step - loss: 0.6761 - accuracy: 0.5685 - val_loss: 0.6537 - val_accuracy: 0.8000\n",
            "Epoch 2/10\n",
            "25/25 [==============================] - 1s 38ms/step - loss: 0.6664 - accuracy: 0.5895 - val_loss: 0.6530 - val_accuracy: 0.8000\n",
            "Epoch 3/10\n",
            "25/25 [==============================] - 1s 37ms/step - loss: 0.6668 - accuracy: 0.5927 - val_loss: 0.6533 - val_accuracy: 0.8000\n",
            "Epoch 4/10\n",
            "25/25 [==============================] - 1s 38ms/step - loss: 0.6703 - accuracy: 0.5718 - val_loss: 0.6532 - val_accuracy: 0.7750\n",
            "Epoch 5/10\n",
            "25/25 [==============================] - 1s 37ms/step - loss: 0.6693 - accuracy: 0.5919 - val_loss: 0.6528 - val_accuracy: 0.7750\n",
            "Epoch 6/10\n",
            "25/25 [==============================] - 1s 37ms/step - loss: 0.6559 - accuracy: 0.6161 - val_loss: 0.6526 - val_accuracy: 0.7750\n",
            "Epoch 7/10\n",
            "25/25 [==============================] - 1s 37ms/step - loss: 0.6575 - accuracy: 0.6065 - val_loss: 0.6517 - val_accuracy: 0.8000\n",
            "Epoch 8/10\n",
            "25/25 [==============================] - 1s 37ms/step - loss: 0.6607 - accuracy: 0.5903 - val_loss: 0.6497 - val_accuracy: 0.7750\n",
            "Epoch 9/10\n",
            "25/25 [==============================] - 1s 38ms/step - loss: 0.6618 - accuracy: 0.6000 - val_loss: 0.6497 - val_accuracy: 0.8000\n",
            "Epoch 10/10\n",
            "25/25 [==============================] - 1s 37ms/step - loss: 0.6635 - accuracy: 0.5927 - val_loss: 0.6504 - val_accuracy: 0.7750\n",
            "40/40 [==============================] - 0s 2ms/step - loss: 0.6504 - accuracy: 0.7750\n",
            "Epoch 1/10\n",
            "25/25 [==============================] - 1s 38ms/step - loss: 0.6707 - accuracy: 0.5879 - val_loss: 0.6454 - val_accuracy: 0.7250\n",
            "Epoch 2/10\n",
            "25/25 [==============================] - 1s 39ms/step - loss: 0.6689 - accuracy: 0.5960 - val_loss: 0.6455 - val_accuracy: 0.7250\n",
            "Epoch 3/10\n",
            "25/25 [==============================] - 1s 38ms/step - loss: 0.6601 - accuracy: 0.6218 - val_loss: 0.6462 - val_accuracy: 0.7000\n",
            "Epoch 4/10\n",
            "25/25 [==============================] - 1s 37ms/step - loss: 0.6644 - accuracy: 0.6056 - val_loss: 0.6470 - val_accuracy: 0.6750\n",
            "Epoch 5/10\n",
            "25/25 [==============================] - 1s 38ms/step - loss: 0.6542 - accuracy: 0.6161 - val_loss: 0.6461 - val_accuracy: 0.6750\n",
            "Epoch 6/10\n",
            "25/25 [==============================] - 1s 39ms/step - loss: 0.6535 - accuracy: 0.6113 - val_loss: 0.6429 - val_accuracy: 0.7750\n",
            "Epoch 7/10\n",
            "25/25 [==============================] - 1s 37ms/step - loss: 0.6558 - accuracy: 0.6161 - val_loss: 0.6430 - val_accuracy: 0.7500\n",
            "Epoch 8/10\n",
            "25/25 [==============================] - 1s 37ms/step - loss: 0.6673 - accuracy: 0.6056 - val_loss: 0.6450 - val_accuracy: 0.7000\n",
            "Epoch 9/10\n",
            "25/25 [==============================] - 1s 38ms/step - loss: 0.6671 - accuracy: 0.6056 - val_loss: 0.6440 - val_accuracy: 0.7500\n",
            "Epoch 10/10\n",
            "25/25 [==============================] - 1s 37ms/step - loss: 0.6608 - accuracy: 0.5887 - val_loss: 0.6491 - val_accuracy: 0.6000\n",
            "40/40 [==============================] - 0s 3ms/step - loss: 0.6491 - accuracy: 0.6000\n",
            "Epoch 1/10\n",
            "25/25 [==============================] - 1s 38ms/step - loss: 0.6570 - accuracy: 0.6032 - val_loss: 0.6366 - val_accuracy: 0.6250\n",
            "Epoch 2/10\n",
            "25/25 [==============================] - 1s 38ms/step - loss: 0.6714 - accuracy: 0.5887 - val_loss: 0.6376 - val_accuracy: 0.6000\n",
            "Epoch 3/10\n",
            "25/25 [==============================] - 1s 37ms/step - loss: 0.6663 - accuracy: 0.5976 - val_loss: 0.6353 - val_accuracy: 0.6250\n",
            "Epoch 4/10\n",
            "25/25 [==============================] - 1s 38ms/step - loss: 0.6594 - accuracy: 0.6024 - val_loss: 0.6390 - val_accuracy: 0.5750\n",
            "Epoch 5/10\n",
            "25/25 [==============================] - 1s 39ms/step - loss: 0.6611 - accuracy: 0.6065 - val_loss: 0.6367 - val_accuracy: 0.6000\n",
            "Epoch 6/10\n",
            "25/25 [==============================] - 1s 38ms/step - loss: 0.6609 - accuracy: 0.5919 - val_loss: 0.6328 - val_accuracy: 0.6250\n",
            "Epoch 7/10\n",
            "25/25 [==============================] - 1s 38ms/step - loss: 0.6529 - accuracy: 0.6056 - val_loss: 0.6356 - val_accuracy: 0.5750\n",
            "Epoch 8/10\n",
            "25/25 [==============================] - 1s 37ms/step - loss: 0.6515 - accuracy: 0.6266 - val_loss: 0.6373 - val_accuracy: 0.6250\n",
            "Epoch 9/10\n",
            "25/25 [==============================] - 1s 38ms/step - loss: 0.6563 - accuracy: 0.6032 - val_loss: 0.6350 - val_accuracy: 0.5750\n",
            "Epoch 10/10\n",
            "25/25 [==============================] - 1s 38ms/step - loss: 0.6608 - accuracy: 0.6097 - val_loss: 0.6325 - val_accuracy: 0.5750\n",
            "40/40 [==============================] - 0s 2ms/step - loss: 0.6325 - accuracy: 0.5750\n",
            "Epoch 1/10\n",
            "25/25 [==============================] - 1s 38ms/step - loss: 0.6539 - accuracy: 0.6274 - val_loss: 0.6628 - val_accuracy: 0.5750\n",
            "Epoch 2/10\n",
            "25/25 [==============================] - 1s 39ms/step - loss: 0.6469 - accuracy: 0.6185 - val_loss: 0.6635 - val_accuracy: 0.5750\n",
            "Epoch 3/10\n",
            "25/25 [==============================] - 1s 37ms/step - loss: 0.6657 - accuracy: 0.6089 - val_loss: 0.6653 - val_accuracy: 0.5750\n",
            "Epoch 4/10\n",
            "25/25 [==============================] - 1s 38ms/step - loss: 0.6566 - accuracy: 0.6048 - val_loss: 0.6637 - val_accuracy: 0.6500\n",
            "Epoch 5/10\n",
            "25/25 [==============================] - 1s 37ms/step - loss: 0.6458 - accuracy: 0.6331 - val_loss: 0.6630 - val_accuracy: 0.5750\n",
            "Epoch 6/10\n",
            "25/25 [==============================] - 1s 38ms/step - loss: 0.6639 - accuracy: 0.6185 - val_loss: 0.6626 - val_accuracy: 0.6250\n",
            "Epoch 7/10\n",
            "25/25 [==============================] - 1s 38ms/step - loss: 0.6431 - accuracy: 0.6266 - val_loss: 0.6627 - val_accuracy: 0.6250\n",
            "Epoch 8/10\n",
            "25/25 [==============================] - 1s 38ms/step - loss: 0.6574 - accuracy: 0.6185 - val_loss: 0.6614 - val_accuracy: 0.6000\n",
            "Epoch 9/10\n",
            "25/25 [==============================] - 1s 38ms/step - loss: 0.6484 - accuracy: 0.6218 - val_loss: 0.6602 - val_accuracy: 0.6250\n",
            "Epoch 10/10\n",
            "25/25 [==============================] - 1s 37ms/step - loss: 0.6549 - accuracy: 0.6032 - val_loss: 0.6612 - val_accuracy: 0.6000\n",
            "40/40 [==============================] - 0s 2ms/step - loss: 0.6612 - accuracy: 0.6000\n",
            "Epoch 1/10\n",
            "25/25 [==============================] - 1s 39ms/step - loss: 0.6479 - accuracy: 0.6395 - val_loss: 0.6523 - val_accuracy: 0.6750\n",
            "Epoch 2/10\n",
            "25/25 [==============================] - 1s 37ms/step - loss: 0.6505 - accuracy: 0.6226 - val_loss: 0.6497 - val_accuracy: 0.7250\n",
            "Epoch 3/10\n",
            "25/25 [==============================] - 1s 37ms/step - loss: 0.6443 - accuracy: 0.6210 - val_loss: 0.6469 - val_accuracy: 0.7000\n",
            "Epoch 4/10\n",
            "25/25 [==============================] - 1s 38ms/step - loss: 0.6517 - accuracy: 0.6226 - val_loss: 0.6490 - val_accuracy: 0.7000\n",
            "Epoch 5/10\n",
            "25/25 [==============================] - 1s 38ms/step - loss: 0.6472 - accuracy: 0.6194 - val_loss: 0.6505 - val_accuracy: 0.6750\n",
            "Epoch 6/10\n",
            "25/25 [==============================] - 1s 38ms/step - loss: 0.6512 - accuracy: 0.6218 - val_loss: 0.6519 - val_accuracy: 0.6500\n",
            "Epoch 7/10\n",
            "25/25 [==============================] - 1s 38ms/step - loss: 0.6454 - accuracy: 0.6315 - val_loss: 0.6483 - val_accuracy: 0.7000\n",
            "Epoch 8/10\n",
            "25/25 [==============================] - 1s 37ms/step - loss: 0.6505 - accuracy: 0.6202 - val_loss: 0.6489 - val_accuracy: 0.6750\n",
            "Epoch 9/10\n",
            "25/25 [==============================] - 1s 38ms/step - loss: 0.6450 - accuracy: 0.6234 - val_loss: 0.6509 - val_accuracy: 0.6750\n",
            "Epoch 10/10\n",
            "25/25 [==============================] - 1s 37ms/step - loss: 0.6518 - accuracy: 0.6121 - val_loss: 0.6453 - val_accuracy: 0.6750\n",
            "40/40 [==============================] - 0s 2ms/step - loss: 0.6453 - accuracy: 0.6750\n",
            "Epoch 1/10\n",
            "25/25 [==============================] - 1s 39ms/step - loss: 0.6431 - accuracy: 0.6266 - val_loss: 0.6390 - val_accuracy: 0.6500\n",
            "Epoch 2/10\n",
            "25/25 [==============================] - 1s 37ms/step - loss: 0.6357 - accuracy: 0.6347 - val_loss: 0.6361 - val_accuracy: 0.6750\n",
            "Epoch 3/10\n",
            "25/25 [==============================] - 1s 38ms/step - loss: 0.6396 - accuracy: 0.6468 - val_loss: 0.6341 - val_accuracy: 0.7000\n",
            "Epoch 4/10\n",
            "25/25 [==============================] - 1s 37ms/step - loss: 0.6348 - accuracy: 0.6524 - val_loss: 0.6338 - val_accuracy: 0.6750\n",
            "Epoch 5/10\n",
            "25/25 [==============================] - 1s 38ms/step - loss: 0.6383 - accuracy: 0.6476 - val_loss: 0.6347 - val_accuracy: 0.6750\n",
            "Epoch 6/10\n",
            "25/25 [==============================] - 1s 38ms/step - loss: 0.6459 - accuracy: 0.6250 - val_loss: 0.6327 - val_accuracy: 0.6500\n",
            "Epoch 7/10\n",
            "25/25 [==============================] - 1s 37ms/step - loss: 0.6362 - accuracy: 0.6500 - val_loss: 0.6408 - val_accuracy: 0.6750\n",
            "Epoch 8/10\n",
            "25/25 [==============================] - 1s 37ms/step - loss: 0.6576 - accuracy: 0.6194 - val_loss: 0.6375 - val_accuracy: 0.7000\n",
            "Epoch 9/10\n",
            "25/25 [==============================] - 1s 38ms/step - loss: 0.6397 - accuracy: 0.6282 - val_loss: 0.6364 - val_accuracy: 0.7250\n",
            "Epoch 10/10\n",
            "25/25 [==============================] - 1s 38ms/step - loss: 0.6316 - accuracy: 0.6395 - val_loss: 0.6407 - val_accuracy: 0.6250\n",
            "40/40 [==============================] - 0s 3ms/step - loss: 0.6407 - accuracy: 0.6250\n",
            "Epoch 1/10\n",
            "25/25 [==============================] - 1s 39ms/step - loss: 0.6424 - accuracy: 0.6323 - val_loss: 0.5474 - val_accuracy: 0.9000\n",
            "Epoch 2/10\n",
            "25/25 [==============================] - 1s 38ms/step - loss: 0.6403 - accuracy: 0.6282 - val_loss: 0.5499 - val_accuracy: 0.8500\n",
            "Epoch 3/10\n",
            "25/25 [==============================] - 1s 37ms/step - loss: 0.6350 - accuracy: 0.6427 - val_loss: 0.5489 - val_accuracy: 0.8250\n",
            "Epoch 4/10\n",
            "25/25 [==============================] - 1s 37ms/step - loss: 0.6449 - accuracy: 0.6355 - val_loss: 0.5493 - val_accuracy: 0.8500\n",
            "Epoch 5/10\n",
            "25/25 [==============================] - 1s 38ms/step - loss: 0.6501 - accuracy: 0.6242 - val_loss: 0.5509 - val_accuracy: 0.9250\n",
            "Epoch 6/10\n",
            "25/25 [==============================] - 1s 37ms/step - loss: 0.6471 - accuracy: 0.6250 - val_loss: 0.5554 - val_accuracy: 0.8250\n",
            "Epoch 7/10\n",
            "25/25 [==============================] - 1s 37ms/step - loss: 0.6454 - accuracy: 0.6266 - val_loss: 0.5542 - val_accuracy: 0.8750\n",
            "Epoch 8/10\n",
            "25/25 [==============================] - 1s 37ms/step - loss: 0.6351 - accuracy: 0.6371 - val_loss: 0.5530 - val_accuracy: 0.8500\n",
            "Epoch 9/10\n",
            "25/25 [==============================] - 1s 39ms/step - loss: 0.6422 - accuracy: 0.6145 - val_loss: 0.5581 - val_accuracy: 0.7750\n",
            "Epoch 10/10\n",
            "25/25 [==============================] - 1s 38ms/step - loss: 0.6416 - accuracy: 0.6387 - val_loss: 0.5557 - val_accuracy: 0.9000\n",
            "40/40 [==============================] - 0s 2ms/step - loss: 0.5557 - accuracy: 0.9000\n",
            "Epoch 1/10\n",
            "25/25 [==============================] - 1s 39ms/step - loss: 0.6372 - accuracy: 0.6427 - val_loss: 0.6425 - val_accuracy: 0.6000\n",
            "Epoch 2/10\n",
            "25/25 [==============================] - 1s 37ms/step - loss: 0.6289 - accuracy: 0.6468 - val_loss: 0.6512 - val_accuracy: 0.6000\n",
            "Epoch 3/10\n",
            "25/25 [==============================] - 1s 38ms/step - loss: 0.6341 - accuracy: 0.6411 - val_loss: 0.6460 - val_accuracy: 0.6250\n",
            "Epoch 4/10\n",
            "25/25 [==============================] - 1s 37ms/step - loss: 0.6366 - accuracy: 0.6266 - val_loss: 0.6505 - val_accuracy: 0.6250\n",
            "Epoch 5/10\n",
            "25/25 [==============================] - 1s 37ms/step - loss: 0.6347 - accuracy: 0.6411 - val_loss: 0.6532 - val_accuracy: 0.6250\n",
            "Epoch 6/10\n",
            "25/25 [==============================] - 1s 38ms/step - loss: 0.6346 - accuracy: 0.6403 - val_loss: 0.6512 - val_accuracy: 0.6250\n",
            "Epoch 7/10\n",
            "25/25 [==============================] - 1s 38ms/step - loss: 0.6332 - accuracy: 0.6589 - val_loss: 0.6389 - val_accuracy: 0.6250\n",
            "Epoch 8/10\n",
            "25/25 [==============================] - 1s 37ms/step - loss: 0.6317 - accuracy: 0.6516 - val_loss: 0.6516 - val_accuracy: 0.6500\n",
            "Epoch 9/10\n",
            "25/25 [==============================] - 1s 38ms/step - loss: 0.6388 - accuracy: 0.6266 - val_loss: 0.6493 - val_accuracy: 0.6500\n",
            "Epoch 10/10\n",
            "25/25 [==============================] - 1s 37ms/step - loss: 0.6396 - accuracy: 0.6452 - val_loss: 0.6425 - val_accuracy: 0.6250\n",
            "40/40 [==============================] - 0s 3ms/step - loss: 0.6425 - accuracy: 0.6250\n",
            "Epoch 1/10\n",
            "25/25 [==============================] - 1s 38ms/step - loss: 0.6352 - accuracy: 0.6589 - val_loss: 0.6119 - val_accuracy: 0.8000\n",
            "Epoch 2/10\n",
            "25/25 [==============================] - 1s 37ms/step - loss: 0.6351 - accuracy: 0.6500 - val_loss: 0.6090 - val_accuracy: 0.8000\n",
            "Epoch 3/10\n",
            "25/25 [==============================] - 1s 37ms/step - loss: 0.6306 - accuracy: 0.6524 - val_loss: 0.6069 - val_accuracy: 0.7250\n",
            "Epoch 4/10\n",
            "25/25 [==============================] - 1s 37ms/step - loss: 0.6278 - accuracy: 0.6306 - val_loss: 0.6092 - val_accuracy: 0.7750\n",
            "Epoch 5/10\n",
            "25/25 [==============================] - 1s 37ms/step - loss: 0.6382 - accuracy: 0.6306 - val_loss: 0.6108 - val_accuracy: 0.8000\n",
            "Epoch 6/10\n",
            "25/25 [==============================] - 1s 37ms/step - loss: 0.6245 - accuracy: 0.6565 - val_loss: 0.6049 - val_accuracy: 0.7750\n",
            "Epoch 7/10\n",
            "25/25 [==============================] - 1s 38ms/step - loss: 0.6353 - accuracy: 0.6460 - val_loss: 0.6128 - val_accuracy: 0.8500\n",
            "Epoch 8/10\n",
            "25/25 [==============================] - 1s 37ms/step - loss: 0.6531 - accuracy: 0.6081 - val_loss: 0.6073 - val_accuracy: 0.7750\n",
            "Epoch 9/10\n",
            "25/25 [==============================] - 1s 38ms/step - loss: 0.6352 - accuracy: 0.6395 - val_loss: 0.6069 - val_accuracy: 0.8000\n",
            "Epoch 10/10\n",
            "25/25 [==============================] - 1s 38ms/step - loss: 0.6426 - accuracy: 0.6379 - val_loss: 0.6137 - val_accuracy: 0.8000\n",
            "40/40 [==============================] - 0s 2ms/step - loss: 0.6137 - accuracy: 0.8000\n",
            "Epoch 1/10\n",
            "25/25 [==============================] - 1s 38ms/step - loss: 0.6261 - accuracy: 0.6476 - val_loss: 0.5968 - val_accuracy: 0.6750\n",
            "Epoch 2/10\n",
            "25/25 [==============================] - 1s 38ms/step - loss: 0.6272 - accuracy: 0.6452 - val_loss: 0.5985 - val_accuracy: 0.7250\n",
            "Epoch 3/10\n",
            "25/25 [==============================] - 1s 37ms/step - loss: 0.6299 - accuracy: 0.6476 - val_loss: 0.5942 - val_accuracy: 0.6750\n",
            "Epoch 4/10\n",
            "25/25 [==============================] - 1s 38ms/step - loss: 0.6271 - accuracy: 0.6573 - val_loss: 0.5935 - val_accuracy: 0.6750\n",
            "Epoch 5/10\n",
            "25/25 [==============================] - 1s 38ms/step - loss: 0.6213 - accuracy: 0.6516 - val_loss: 0.5952 - val_accuracy: 0.7000\n",
            "Epoch 6/10\n",
            "25/25 [==============================] - 1s 38ms/step - loss: 0.6196 - accuracy: 0.6540 - val_loss: 0.5894 - val_accuracy: 0.7000\n",
            "Epoch 7/10\n",
            "25/25 [==============================] - 1s 38ms/step - loss: 0.6269 - accuracy: 0.6516 - val_loss: 0.5888 - val_accuracy: 0.7000\n",
            "Epoch 8/10\n",
            "25/25 [==============================] - 1s 37ms/step - loss: 0.6210 - accuracy: 0.6605 - val_loss: 0.5869 - val_accuracy: 0.6750\n",
            "Epoch 9/10\n",
            "25/25 [==============================] - 1s 37ms/step - loss: 0.6274 - accuracy: 0.6597 - val_loss: 0.5873 - val_accuracy: 0.7000\n",
            "Epoch 10/10\n",
            "25/25 [==============================] - 1s 38ms/step - loss: 0.6290 - accuracy: 0.6653 - val_loss: 0.5883 - val_accuracy: 0.7250\n",
            "40/40 [==============================] - 0s 2ms/step - loss: 0.5883 - accuracy: 0.7250\n",
            "Epoch 1/10\n",
            "25/25 [==============================] - 1s 39ms/step - loss: 0.6290 - accuracy: 0.6613 - val_loss: 0.6033 - val_accuracy: 0.7250\n",
            "Epoch 2/10\n",
            "25/25 [==============================] - 1s 38ms/step - loss: 0.6292 - accuracy: 0.6516 - val_loss: 0.6023 - val_accuracy: 0.7500\n",
            "Epoch 3/10\n",
            "25/25 [==============================] - 1s 38ms/step - loss: 0.6314 - accuracy: 0.6444 - val_loss: 0.6019 - val_accuracy: 0.7250\n",
            "Epoch 4/10\n",
            "25/25 [==============================] - 1s 38ms/step - loss: 0.6273 - accuracy: 0.6573 - val_loss: 0.6002 - val_accuracy: 0.7250\n",
            "Epoch 5/10\n",
            "25/25 [==============================] - 1s 37ms/step - loss: 0.6086 - accuracy: 0.6694 - val_loss: 0.6006 - val_accuracy: 0.7500\n",
            "Epoch 6/10\n",
            "25/25 [==============================] - 1s 38ms/step - loss: 0.6247 - accuracy: 0.6403 - val_loss: 0.5961 - val_accuracy: 0.7250\n",
            "Epoch 7/10\n",
            "25/25 [==============================] - 1s 38ms/step - loss: 0.6150 - accuracy: 0.6645 - val_loss: 0.5948 - val_accuracy: 0.7250\n",
            "Epoch 8/10\n",
            "25/25 [==============================] - 1s 38ms/step - loss: 0.6265 - accuracy: 0.6621 - val_loss: 0.5959 - val_accuracy: 0.7500\n",
            "Epoch 9/10\n",
            "25/25 [==============================] - 1s 37ms/step - loss: 0.6231 - accuracy: 0.6532 - val_loss: 0.5889 - val_accuracy: 0.7250\n",
            "Epoch 10/10\n",
            "25/25 [==============================] - 1s 38ms/step - loss: 0.6189 - accuracy: 0.6565 - val_loss: 0.5907 - val_accuracy: 0.7500\n",
            "40/40 [==============================] - 0s 3ms/step - loss: 0.5907 - accuracy: 0.7500\n",
            "Epoch 1/10\n",
            "25/25 [==============================] - 1s 39ms/step - loss: 0.6190 - accuracy: 0.6669 - val_loss: 0.5412 - val_accuracy: 0.7000\n",
            "Epoch 2/10\n",
            "25/25 [==============================] - 1s 38ms/step - loss: 0.6118 - accuracy: 0.6581 - val_loss: 0.5380 - val_accuracy: 0.7500\n",
            "Epoch 3/10\n",
            "25/25 [==============================] - 1s 38ms/step - loss: 0.6142 - accuracy: 0.6548 - val_loss: 0.5379 - val_accuracy: 0.7000\n",
            "Epoch 4/10\n",
            "25/25 [==============================] - 1s 38ms/step - loss: 0.6179 - accuracy: 0.6637 - val_loss: 0.5443 - val_accuracy: 0.6500\n",
            "Epoch 5/10\n",
            "25/25 [==============================] - 1s 38ms/step - loss: 0.5931 - accuracy: 0.6879 - val_loss: 0.5316 - val_accuracy: 0.7250\n",
            "Epoch 6/10\n",
            "25/25 [==============================] - 1s 37ms/step - loss: 0.6147 - accuracy: 0.6685 - val_loss: 0.5346 - val_accuracy: 0.7250\n",
            "Epoch 7/10\n",
            "25/25 [==============================] - 1s 39ms/step - loss: 0.6164 - accuracy: 0.6629 - val_loss: 0.5335 - val_accuracy: 0.8250\n",
            "Epoch 8/10\n",
            "25/25 [==============================] - 1s 38ms/step - loss: 0.6190 - accuracy: 0.6645 - val_loss: 0.5377 - val_accuracy: 0.6750\n",
            "Epoch 9/10\n",
            "25/25 [==============================] - 1s 38ms/step - loss: 0.5919 - accuracy: 0.6790 - val_loss: 0.5241 - val_accuracy: 0.8250\n",
            "Epoch 10/10\n",
            "25/25 [==============================] - 1s 38ms/step - loss: 0.6083 - accuracy: 0.6556 - val_loss: 0.5223 - val_accuracy: 0.7500\n",
            "40/40 [==============================] - 0s 3ms/step - loss: 0.5223 - accuracy: 0.7500\n",
            "Epoch 1/10\n",
            "25/25 [==============================] - 1s 39ms/step - loss: 0.6170 - accuracy: 0.6573 - val_loss: 0.5762 - val_accuracy: 0.7750\n",
            "Epoch 2/10\n",
            "25/25 [==============================] - 1s 39ms/step - loss: 0.6176 - accuracy: 0.6903 - val_loss: 0.5885 - val_accuracy: 0.6750\n",
            "Epoch 3/10\n",
            "25/25 [==============================] - 1s 38ms/step - loss: 0.6081 - accuracy: 0.6669 - val_loss: 0.5754 - val_accuracy: 0.7750\n",
            "Epoch 4/10\n",
            "25/25 [==============================] - 1s 37ms/step - loss: 0.6064 - accuracy: 0.6621 - val_loss: 0.5729 - val_accuracy: 0.7500\n",
            "Epoch 5/10\n",
            "25/25 [==============================] - 1s 38ms/step - loss: 0.6060 - accuracy: 0.6726 - val_loss: 0.5705 - val_accuracy: 0.7500\n",
            "Epoch 6/10\n",
            "25/25 [==============================] - 1s 37ms/step - loss: 0.6126 - accuracy: 0.6766 - val_loss: 0.5699 - val_accuracy: 0.7750\n",
            "Epoch 7/10\n",
            "25/25 [==============================] - 1s 37ms/step - loss: 0.6098 - accuracy: 0.6637 - val_loss: 0.5673 - val_accuracy: 0.7750\n",
            "Epoch 8/10\n",
            "25/25 [==============================] - 1s 38ms/step - loss: 0.5981 - accuracy: 0.6863 - val_loss: 0.5649 - val_accuracy: 0.7500\n",
            "Epoch 9/10\n",
            "25/25 [==============================] - 1s 38ms/step - loss: 0.6071 - accuracy: 0.6685 - val_loss: 0.5606 - val_accuracy: 0.7500\n",
            "Epoch 10/10\n",
            "25/25 [==============================] - 1s 38ms/step - loss: 0.5832 - accuracy: 0.6984 - val_loss: 0.5716 - val_accuracy: 0.7500\n",
            "40/40 [==============================] - 0s 2ms/step - loss: 0.5716 - accuracy: 0.7500\n",
            "Epoch 1/10\n",
            "25/25 [==============================] - 1s 39ms/step - loss: 0.6007 - accuracy: 0.6782 - val_loss: 0.5383 - val_accuracy: 0.8000\n",
            "Epoch 2/10\n",
            "25/25 [==============================] - 1s 38ms/step - loss: 0.6097 - accuracy: 0.6702 - val_loss: 0.5502 - val_accuracy: 0.6250\n",
            "Epoch 3/10\n",
            "25/25 [==============================] - 1s 38ms/step - loss: 0.5751 - accuracy: 0.6960 - val_loss: 0.5655 - val_accuracy: 0.5750\n",
            "Epoch 4/10\n",
            "25/25 [==============================] - 1s 38ms/step - loss: 0.5872 - accuracy: 0.6839 - val_loss: 0.5642 - val_accuracy: 0.5750\n",
            "Epoch 5/10\n",
            "25/25 [==============================] - 1s 37ms/step - loss: 0.5863 - accuracy: 0.6960 - val_loss: 0.5345 - val_accuracy: 0.8000\n",
            "Epoch 6/10\n",
            "25/25 [==============================] - 1s 37ms/step - loss: 0.6024 - accuracy: 0.6669 - val_loss: 0.5482 - val_accuracy: 0.6500\n",
            "Epoch 7/10\n",
            "25/25 [==============================] - 1s 38ms/step - loss: 0.5977 - accuracy: 0.6806 - val_loss: 0.5524 - val_accuracy: 0.6250\n",
            "Epoch 8/10\n",
            "25/25 [==============================] - 1s 37ms/step - loss: 0.5911 - accuracy: 0.6935 - val_loss: 0.5676 - val_accuracy: 0.5750\n",
            "Epoch 9/10\n",
            "25/25 [==============================] - 1s 38ms/step - loss: 0.5815 - accuracy: 0.6927 - val_loss: 0.5445 - val_accuracy: 0.7000\n",
            "Epoch 10/10\n",
            "25/25 [==============================] - 1s 38ms/step - loss: 0.5837 - accuracy: 0.6823 - val_loss: 0.5379 - val_accuracy: 0.7500\n",
            "40/40 [==============================] - 0s 2ms/step - loss: 0.5379 - accuracy: 0.7500\n",
            "Epoch 1/10\n",
            "25/25 [==============================] - 1s 39ms/step - loss: 0.5961 - accuracy: 0.6823 - val_loss: 0.4788 - val_accuracy: 0.7250\n",
            "Epoch 2/10\n",
            "25/25 [==============================] - 1s 38ms/step - loss: 0.5916 - accuracy: 0.6806 - val_loss: 0.4766 - val_accuracy: 0.7250\n",
            "Epoch 3/10\n",
            "25/25 [==============================] - 1s 37ms/step - loss: 0.5849 - accuracy: 0.7048 - val_loss: 0.4716 - val_accuracy: 0.8500\n",
            "Epoch 4/10\n",
            "25/25 [==============================] - 1s 38ms/step - loss: 0.5961 - accuracy: 0.6782 - val_loss: 0.4744 - val_accuracy: 0.8000\n",
            "Epoch 5/10\n",
            "25/25 [==============================] - 1s 38ms/step - loss: 0.6032 - accuracy: 0.6758 - val_loss: 0.4817 - val_accuracy: 0.8000\n",
            "Epoch 6/10\n",
            "25/25 [==============================] - 1s 38ms/step - loss: 0.5940 - accuracy: 0.6960 - val_loss: 0.4871 - val_accuracy: 0.7250\n",
            "Epoch 7/10\n",
            "25/25 [==============================] - 1s 38ms/step - loss: 0.5778 - accuracy: 0.6847 - val_loss: 0.4822 - val_accuracy: 0.8000\n",
            "Epoch 8/10\n",
            "25/25 [==============================] - 1s 38ms/step - loss: 0.5850 - accuracy: 0.6806 - val_loss: 0.4791 - val_accuracy: 0.8000\n",
            "Epoch 9/10\n",
            "25/25 [==============================] - 1s 38ms/step - loss: 0.5920 - accuracy: 0.6790 - val_loss: 0.4915 - val_accuracy: 0.7250\n",
            "Epoch 10/10\n",
            "25/25 [==============================] - 1s 37ms/step - loss: 0.5967 - accuracy: 0.6823 - val_loss: 0.5159 - val_accuracy: 0.6750\n",
            "40/40 [==============================] - 0s 2ms/step - loss: 0.5159 - accuracy: 0.6750\n",
            "Epoch 1/10\n",
            "25/25 [==============================] - 1s 39ms/step - loss: 0.5902 - accuracy: 0.6968 - val_loss: 0.5002 - val_accuracy: 0.7250\n",
            "Epoch 2/10\n",
            "25/25 [==============================] - 1s 38ms/step - loss: 0.5792 - accuracy: 0.6855 - val_loss: 0.4787 - val_accuracy: 0.8750\n",
            "Epoch 3/10\n",
            "25/25 [==============================] - 1s 38ms/step - loss: 0.5661 - accuracy: 0.7105 - val_loss: 0.4659 - val_accuracy: 0.8500\n",
            "Epoch 4/10\n",
            "25/25 [==============================] - 1s 37ms/step - loss: 0.5763 - accuracy: 0.7185 - val_loss: 0.4615 - val_accuracy: 0.8750\n",
            "Epoch 5/10\n",
            "25/25 [==============================] - 1s 38ms/step - loss: 0.5777 - accuracy: 0.7129 - val_loss: 0.4537 - val_accuracy: 0.8500\n",
            "Epoch 6/10\n",
            "25/25 [==============================] - 1s 37ms/step - loss: 0.5927 - accuracy: 0.6790 - val_loss: 0.4569 - val_accuracy: 0.8750\n",
            "Epoch 7/10\n",
            "25/25 [==============================] - 1s 38ms/step - loss: 0.5662 - accuracy: 0.7065 - val_loss: 0.4604 - val_accuracy: 0.9000\n",
            "Epoch 8/10\n",
            "25/25 [==============================] - 1s 37ms/step - loss: 0.5814 - accuracy: 0.6935 - val_loss: 0.4687 - val_accuracy: 0.9000\n",
            "Epoch 9/10\n",
            "25/25 [==============================] - 1s 37ms/step - loss: 0.5833 - accuracy: 0.6935 - val_loss: 0.4668 - val_accuracy: 0.9000\n",
            "Epoch 10/10\n",
            "25/25 [==============================] - 1s 38ms/step - loss: 0.5692 - accuracy: 0.7161 - val_loss: 0.4675 - val_accuracy: 0.9000\n",
            "40/40 [==============================] - 0s 2ms/step - loss: 0.4675 - accuracy: 0.9000\n",
            "Epoch 1/10\n",
            "25/25 [==============================] - 1s 39ms/step - loss: 0.5751 - accuracy: 0.7113 - val_loss: 0.5627 - val_accuracy: 0.7250\n",
            "Epoch 2/10\n",
            "25/25 [==============================] - 1s 38ms/step - loss: 0.5696 - accuracy: 0.6960 - val_loss: 0.5601 - val_accuracy: 0.7500\n",
            "Epoch 3/10\n",
            "25/25 [==============================] - 1s 38ms/step - loss: 0.5643 - accuracy: 0.7242 - val_loss: 0.5594 - val_accuracy: 0.7000\n",
            "Epoch 4/10\n",
            "25/25 [==============================] - 1s 38ms/step - loss: 0.5666 - accuracy: 0.7073 - val_loss: 0.5798 - val_accuracy: 0.7500\n",
            "Epoch 5/10\n",
            "25/25 [==============================] - 1s 38ms/step - loss: 0.5765 - accuracy: 0.6903 - val_loss: 0.5593 - val_accuracy: 0.7500\n",
            "Epoch 6/10\n",
            "25/25 [==============================] - 1s 38ms/step - loss: 0.5721 - accuracy: 0.7048 - val_loss: 0.5745 - val_accuracy: 0.7500\n",
            "Epoch 7/10\n",
            "25/25 [==============================] - 1s 38ms/step - loss: 0.5602 - accuracy: 0.7073 - val_loss: 0.5858 - val_accuracy: 0.7250\n",
            "Epoch 8/10\n",
            "25/25 [==============================] - 1s 38ms/step - loss: 0.5566 - accuracy: 0.7218 - val_loss: 0.5642 - val_accuracy: 0.7000\n",
            "Epoch 9/10\n",
            "25/25 [==============================] - 1s 39ms/step - loss: 0.5682 - accuracy: 0.6903 - val_loss: 0.5630 - val_accuracy: 0.7500\n",
            "Epoch 10/10\n",
            "25/25 [==============================] - 1s 38ms/step - loss: 0.5701 - accuracy: 0.6935 - val_loss: 0.5804 - val_accuracy: 0.7250\n",
            "40/40 [==============================] - 0s 2ms/step - loss: 0.5804 - accuracy: 0.7250\n",
            "Epoch 1/10\n",
            "25/25 [==============================] - 1s 39ms/step - loss: 0.5554 - accuracy: 0.7177 - val_loss: 0.4480 - val_accuracy: 0.8250\n",
            "Epoch 2/10\n",
            "25/25 [==============================] - 1s 38ms/step - loss: 0.5489 - accuracy: 0.7185 - val_loss: 0.4453 - val_accuracy: 0.9000\n",
            "Epoch 3/10\n",
            "25/25 [==============================] - 1s 38ms/step - loss: 0.5831 - accuracy: 0.6903 - val_loss: 0.4533 - val_accuracy: 0.8750\n",
            "Epoch 4/10\n",
            "25/25 [==============================] - 1s 38ms/step - loss: 0.5445 - accuracy: 0.7323 - val_loss: 0.4556 - val_accuracy: 0.8000\n",
            "Epoch 5/10\n",
            "25/25 [==============================] - 1s 37ms/step - loss: 0.5524 - accuracy: 0.7113 - val_loss: 0.4509 - val_accuracy: 0.8500\n",
            "Epoch 6/10\n",
            "25/25 [==============================] - 1s 38ms/step - loss: 0.5670 - accuracy: 0.6992 - val_loss: 0.4529 - val_accuracy: 0.8250\n",
            "Epoch 7/10\n",
            "25/25 [==============================] - 1s 38ms/step - loss: 0.5658 - accuracy: 0.7153 - val_loss: 0.4548 - val_accuracy: 0.8250\n",
            "Epoch 8/10\n",
            "25/25 [==============================] - 1s 38ms/step - loss: 0.5685 - accuracy: 0.7113 - val_loss: 0.4624 - val_accuracy: 0.7750\n",
            "Epoch 9/10\n",
            "25/25 [==============================] - 1s 38ms/step - loss: 0.5587 - accuracy: 0.7258 - val_loss: 0.4535 - val_accuracy: 0.8250\n",
            "Epoch 10/10\n",
            "25/25 [==============================] - 1s 38ms/step - loss: 0.5577 - accuracy: 0.7177 - val_loss: 0.4531 - val_accuracy: 0.8000\n",
            "40/40 [==============================] - 0s 2ms/step - loss: 0.4531 - accuracy: 0.8000\n",
            "Epoch 1/10\n",
            "25/25 [==============================] - 1s 38ms/step - loss: 0.5583 - accuracy: 0.7169 - val_loss: 0.3740 - val_accuracy: 0.8250\n",
            "Epoch 2/10\n",
            "25/25 [==============================] - 1s 37ms/step - loss: 0.5595 - accuracy: 0.7073 - val_loss: 0.3770 - val_accuracy: 0.8250\n",
            "Epoch 3/10\n",
            "25/25 [==============================] - 1s 38ms/step - loss: 0.5575 - accuracy: 0.7081 - val_loss: 0.3890 - val_accuracy: 0.8000\n",
            "Epoch 4/10\n",
            "25/25 [==============================] - 1s 38ms/step - loss: 0.5521 - accuracy: 0.7242 - val_loss: 0.4081 - val_accuracy: 0.7500\n",
            "Epoch 5/10\n",
            "25/25 [==============================] - 1s 38ms/step - loss: 0.5513 - accuracy: 0.7177 - val_loss: 0.3941 - val_accuracy: 0.8250\n",
            "Epoch 6/10\n",
            "25/25 [==============================] - 1s 38ms/step - loss: 0.5419 - accuracy: 0.7242 - val_loss: 0.3861 - val_accuracy: 0.8250\n",
            "Epoch 7/10\n",
            "25/25 [==============================] - 1s 38ms/step - loss: 0.5387 - accuracy: 0.7306 - val_loss: 0.3833 - val_accuracy: 0.8250\n",
            "Epoch 8/10\n",
            "25/25 [==============================] - 1s 38ms/step - loss: 0.5541 - accuracy: 0.7153 - val_loss: 0.3870 - val_accuracy: 0.8250\n",
            "Epoch 9/10\n",
            "25/25 [==============================] - 1s 38ms/step - loss: 0.5528 - accuracy: 0.7121 - val_loss: 0.3897 - val_accuracy: 0.8250\n",
            "Epoch 10/10\n",
            "25/25 [==============================] - 1s 38ms/step - loss: 0.5640 - accuracy: 0.7177 - val_loss: 0.3933 - val_accuracy: 0.7750\n",
            "40/40 [==============================] - 0s 2ms/step - loss: 0.3933 - accuracy: 0.7750\n",
            "Epoch 1/10\n",
            "25/25 [==============================] - 1s 39ms/step - loss: 0.5647 - accuracy: 0.6976 - val_loss: 0.4485 - val_accuracy: 0.7500\n",
            "Epoch 2/10\n",
            "25/25 [==============================] - 1s 37ms/step - loss: 0.5423 - accuracy: 0.7306 - val_loss: 0.4419 - val_accuracy: 0.8000\n",
            "Epoch 3/10\n",
            "25/25 [==============================] - 1s 38ms/step - loss: 0.5721 - accuracy: 0.7056 - val_loss: 0.4433 - val_accuracy: 0.8500\n",
            "Epoch 4/10\n",
            "25/25 [==============================] - 1s 38ms/step - loss: 0.5656 - accuracy: 0.7105 - val_loss: 0.4552 - val_accuracy: 0.7750\n",
            "Epoch 5/10\n",
            "25/25 [==============================] - 1s 38ms/step - loss: 0.5505 - accuracy: 0.7177 - val_loss: 0.4444 - val_accuracy: 0.8500\n",
            "Epoch 6/10\n",
            "25/25 [==============================] - 1s 38ms/step - loss: 0.5306 - accuracy: 0.7468 - val_loss: 0.4397 - val_accuracy: 0.8500\n",
            "Epoch 7/10\n",
            "25/25 [==============================] - 1s 37ms/step - loss: 0.5427 - accuracy: 0.7339 - val_loss: 0.4333 - val_accuracy: 0.8500\n",
            "Epoch 8/10\n",
            "25/25 [==============================] - 1s 38ms/step - loss: 0.5264 - accuracy: 0.7484 - val_loss: 0.4337 - val_accuracy: 0.8500\n",
            "Epoch 9/10\n",
            "25/25 [==============================] - 1s 37ms/step - loss: 0.5454 - accuracy: 0.7145 - val_loss: 0.4407 - val_accuracy: 0.7250\n",
            "Epoch 10/10\n",
            "25/25 [==============================] - 1s 37ms/step - loss: 0.5453 - accuracy: 0.7097 - val_loss: 0.4554 - val_accuracy: 0.7250\n",
            "40/40 [==============================] - 0s 2ms/step - loss: 0.4554 - accuracy: 0.7250\n",
            "Epoch 1/10\n",
            "25/25 [==============================] - 1s 38ms/step - loss: 0.5403 - accuracy: 0.7210 - val_loss: 0.3520 - val_accuracy: 0.9250\n",
            "Epoch 2/10\n",
            "25/25 [==============================] - 1s 37ms/step - loss: 0.5494 - accuracy: 0.7177 - val_loss: 0.3553 - val_accuracy: 0.9250\n",
            "Epoch 3/10\n",
            "25/25 [==============================] - 1s 38ms/step - loss: 0.5450 - accuracy: 0.7274 - val_loss: 0.3502 - val_accuracy: 0.9250\n",
            "Epoch 4/10\n",
            "25/25 [==============================] - 1s 38ms/step - loss: 0.5426 - accuracy: 0.7323 - val_loss: 0.3566 - val_accuracy: 0.9250\n",
            "Epoch 5/10\n",
            "25/25 [==============================] - 1s 38ms/step - loss: 0.5634 - accuracy: 0.7097 - val_loss: 0.3637 - val_accuracy: 0.9250\n",
            "Epoch 6/10\n",
            "25/25 [==============================] - 1s 38ms/step - loss: 0.5301 - accuracy: 0.7427 - val_loss: 0.3651 - val_accuracy: 0.9000\n",
            "Epoch 7/10\n",
            "25/25 [==============================] - 1s 37ms/step - loss: 0.5263 - accuracy: 0.7282 - val_loss: 0.3639 - val_accuracy: 0.9000\n",
            "Epoch 8/10\n",
            "25/25 [==============================] - 1s 37ms/step - loss: 0.5281 - accuracy: 0.7347 - val_loss: 0.3569 - val_accuracy: 0.9000\n",
            "Epoch 9/10\n",
            "25/25 [==============================] - 1s 38ms/step - loss: 0.5312 - accuracy: 0.7460 - val_loss: 0.3610 - val_accuracy: 0.8250\n",
            "Epoch 10/10\n",
            "25/25 [==============================] - 1s 37ms/step - loss: 0.5222 - accuracy: 0.7452 - val_loss: 0.3512 - val_accuracy: 0.9000\n",
            "40/40 [==============================] - 0s 2ms/step - loss: 0.3512 - accuracy: 0.9000\n",
            "Epoch 1/10\n",
            "25/25 [==============================] - 1s 38ms/step - loss: 0.5286 - accuracy: 0.7282 - val_loss: 0.4161 - val_accuracy: 0.8000\n",
            "Epoch 2/10\n",
            "25/25 [==============================] - 1s 37ms/step - loss: 0.5173 - accuracy: 0.7484 - val_loss: 0.4049 - val_accuracy: 0.8500\n",
            "Epoch 3/10\n",
            "25/25 [==============================] - 1s 38ms/step - loss: 0.5076 - accuracy: 0.7492 - val_loss: 0.4009 - val_accuracy: 0.9250\n",
            "Epoch 4/10\n",
            "25/25 [==============================] - 1s 38ms/step - loss: 0.5297 - accuracy: 0.7387 - val_loss: 0.4034 - val_accuracy: 0.8750\n",
            "Epoch 5/10\n",
            "25/25 [==============================] - 1s 38ms/step - loss: 0.5226 - accuracy: 0.7371 - val_loss: 0.4170 - val_accuracy: 0.8250\n",
            "Epoch 6/10\n",
            "25/25 [==============================] - 1s 38ms/step - loss: 0.5134 - accuracy: 0.7556 - val_loss: 0.4051 - val_accuracy: 0.8750\n",
            "Epoch 7/10\n",
            "25/25 [==============================] - 1s 39ms/step - loss: 0.5263 - accuracy: 0.7306 - val_loss: 0.4017 - val_accuracy: 0.9000\n",
            "Epoch 8/10\n",
            "25/25 [==============================] - 1s 38ms/step - loss: 0.5281 - accuracy: 0.7274 - val_loss: 0.4119 - val_accuracy: 0.8250\n",
            "Epoch 9/10\n",
            "25/25 [==============================] - 1s 38ms/step - loss: 0.5392 - accuracy: 0.7210 - val_loss: 0.4327 - val_accuracy: 0.7750\n",
            "Epoch 10/10\n",
            "25/25 [==============================] - 1s 38ms/step - loss: 0.5251 - accuracy: 0.7476 - val_loss: 0.4061 - val_accuracy: 0.8750\n",
            "40/40 [==============================] - 0s 3ms/step - loss: 0.4061 - accuracy: 0.8750\n",
            "Epoch 1/10\n",
            "25/25 [==============================] - 1s 38ms/step - loss: 0.5392 - accuracy: 0.7315 - val_loss: 0.4914 - val_accuracy: 0.8000\n",
            "Epoch 2/10\n",
            "25/25 [==============================] - 1s 38ms/step - loss: 0.5336 - accuracy: 0.7290 - val_loss: 0.4829 - val_accuracy: 0.8250\n",
            "Epoch 3/10\n",
            "25/25 [==============================] - 1s 38ms/step - loss: 0.5138 - accuracy: 0.7371 - val_loss: 0.4882 - val_accuracy: 0.8000\n",
            "Epoch 4/10\n",
            "25/25 [==============================] - 1s 38ms/step - loss: 0.5109 - accuracy: 0.7597 - val_loss: 0.4678 - val_accuracy: 0.8500\n",
            "Epoch 5/10\n",
            "25/25 [==============================] - 1s 37ms/step - loss: 0.5337 - accuracy: 0.7331 - val_loss: 0.4701 - val_accuracy: 0.8250\n",
            "Epoch 6/10\n",
            "25/25 [==============================] - 1s 37ms/step - loss: 0.5236 - accuracy: 0.7315 - val_loss: 0.4694 - val_accuracy: 0.8500\n",
            "Epoch 7/10\n",
            "25/25 [==============================] - 1s 37ms/step - loss: 0.5214 - accuracy: 0.7468 - val_loss: 0.4821 - val_accuracy: 0.7750\n",
            "Epoch 8/10\n",
            "25/25 [==============================] - 1s 37ms/step - loss: 0.5238 - accuracy: 0.7403 - val_loss: 0.4721 - val_accuracy: 0.8250\n",
            "Epoch 9/10\n",
            "25/25 [==============================] - 1s 37ms/step - loss: 0.4985 - accuracy: 0.7669 - val_loss: 0.4674 - val_accuracy: 0.8250\n",
            "Epoch 10/10\n",
            "25/25 [==============================] - 1s 37ms/step - loss: 0.4986 - accuracy: 0.7589 - val_loss: 0.4713 - val_accuracy: 0.8000\n",
            "40/40 [==============================] - 0s 3ms/step - loss: 0.4713 - accuracy: 0.8000\n",
            "Epoch 1/10\n",
            "25/25 [==============================] - 1s 39ms/step - loss: 0.5149 - accuracy: 0.7403 - val_loss: 0.2841 - val_accuracy: 0.9250\n",
            "Epoch 2/10\n",
            "25/25 [==============================] - 1s 38ms/step - loss: 0.5297 - accuracy: 0.7331 - val_loss: 0.2847 - val_accuracy: 0.9500\n",
            "Epoch 3/10\n",
            "25/25 [==============================] - 1s 38ms/step - loss: 0.5047 - accuracy: 0.7524 - val_loss: 0.2868 - val_accuracy: 0.9250\n",
            "Epoch 4/10\n",
            "25/25 [==============================] - 1s 38ms/step - loss: 0.5062 - accuracy: 0.7492 - val_loss: 0.2827 - val_accuracy: 0.9250\n",
            "Epoch 5/10\n",
            "25/25 [==============================] - 1s 38ms/step - loss: 0.4877 - accuracy: 0.7629 - val_loss: 0.2775 - val_accuracy: 0.9250\n",
            "Epoch 6/10\n",
            "25/25 [==============================] - 1s 38ms/step - loss: 0.5031 - accuracy: 0.7524 - val_loss: 0.2797 - val_accuracy: 0.9250\n",
            "Epoch 7/10\n",
            "25/25 [==============================] - 1s 38ms/step - loss: 0.5102 - accuracy: 0.7427 - val_loss: 0.2843 - val_accuracy: 0.9250\n",
            "Epoch 8/10\n",
            "25/25 [==============================] - 1s 38ms/step - loss: 0.5187 - accuracy: 0.7282 - val_loss: 0.2947 - val_accuracy: 0.9250\n",
            "Epoch 9/10\n",
            "25/25 [==============================] - 1s 38ms/step - loss: 0.5283 - accuracy: 0.7355 - val_loss: 0.2890 - val_accuracy: 0.9250\n",
            "Epoch 10/10\n",
            "25/25 [==============================] - 1s 38ms/step - loss: 0.5025 - accuracy: 0.7492 - val_loss: 0.2906 - val_accuracy: 0.9250\n",
            "40/40 [==============================] - 0s 3ms/step - loss: 0.2906 - accuracy: 0.9250\n"
          ],
          "name": "stdout"
        }
      ]
    },
    {
      "cell_type": "code",
      "metadata": {
        "id": "e_mZQ20Or0mH",
        "outputId": "62bb3df8-14ed-4ad3-e2f7-ca414b87ee9e",
        "colab": {
          "base_uri": "https://localhost:8080/",
          "height": 1000
        }
      },
      "source": [
        "best_model_bayesian = load_model('bayesianModel')\n",
        "bayesian_losses, bayesian_accuracies = kfold_validate(X, y_valance, best_model_bayesian)"
      ],
      "execution_count": null,
      "outputs": [
        {
          "output_type": "stream",
          "text": [
            "Epoch 1/10\n",
            " 2/25 [=>............................] - ETA: 0s - loss: 0.8513 - accuracy: 0.4500WARNING:tensorflow:Callbacks method `on_train_batch_end` is slow compared to the batch time (batch time: 0.0180s vs `on_train_batch_end` time: 0.0321s). Check your callbacks.\n",
            "25/25 [==============================] - 1s 44ms/step - loss: 0.7827 - accuracy: 0.5137 - val_loss: 0.6963 - val_accuracy: 0.4750\n",
            "Epoch 2/10\n",
            "25/25 [==============================] - 1s 38ms/step - loss: 0.7435 - accuracy: 0.5097 - val_loss: 0.6971 - val_accuracy: 0.4750\n",
            "Epoch 3/10\n",
            "25/25 [==============================] - 1s 38ms/step - loss: 0.7309 - accuracy: 0.5202 - val_loss: 0.6933 - val_accuracy: 0.5000\n",
            "Epoch 4/10\n",
            "25/25 [==============================] - 1s 38ms/step - loss: 0.7139 - accuracy: 0.5177 - val_loss: 0.6935 - val_accuracy: 0.5000\n",
            "Epoch 5/10\n",
            "25/25 [==============================] - 1s 38ms/step - loss: 0.7120 - accuracy: 0.5282 - val_loss: 0.6974 - val_accuracy: 0.4750\n",
            "Epoch 6/10\n",
            "25/25 [==============================] - 1s 38ms/step - loss: 0.6990 - accuracy: 0.5444 - val_loss: 0.6922 - val_accuracy: 0.5000\n",
            "Epoch 7/10\n",
            "25/25 [==============================] - 1s 38ms/step - loss: 0.6921 - accuracy: 0.5637 - val_loss: 0.6966 - val_accuracy: 0.4750\n",
            "Epoch 8/10\n",
            "25/25 [==============================] - 1s 38ms/step - loss: 0.7088 - accuracy: 0.5282 - val_loss: 0.6918 - val_accuracy: 0.5500\n",
            "Epoch 9/10\n",
            "25/25 [==============================] - 1s 38ms/step - loss: 0.6957 - accuracy: 0.5435 - val_loss: 0.6941 - val_accuracy: 0.4750\n",
            "Epoch 10/10\n",
            "25/25 [==============================] - 1s 38ms/step - loss: 0.6924 - accuracy: 0.5589 - val_loss: 0.6930 - val_accuracy: 0.4750\n",
            "40/40 [==============================] - 0s 2ms/step - loss: 0.6930 - accuracy: 0.4750\n",
            "Epoch 1/10\n",
            "25/25 [==============================] - 1s 39ms/step - loss: 0.6966 - accuracy: 0.5339 - val_loss: 0.6835 - val_accuracy: 0.5750\n",
            "Epoch 2/10\n",
            "25/25 [==============================] - 1s 38ms/step - loss: 0.7025 - accuracy: 0.5347 - val_loss: 0.6834 - val_accuracy: 0.6250\n",
            "Epoch 3/10\n",
            "25/25 [==============================] - 1s 38ms/step - loss: 0.6872 - accuracy: 0.5565 - val_loss: 0.6825 - val_accuracy: 0.6000\n",
            "Epoch 4/10\n",
            "25/25 [==============================] - 1s 38ms/step - loss: 0.6854 - accuracy: 0.5444 - val_loss: 0.6818 - val_accuracy: 0.6000\n",
            "Epoch 5/10\n",
            "25/25 [==============================] - 1s 38ms/step - loss: 0.6871 - accuracy: 0.5565 - val_loss: 0.6810 - val_accuracy: 0.6250\n",
            "Epoch 6/10\n",
            "25/25 [==============================] - 1s 38ms/step - loss: 0.6948 - accuracy: 0.5363 - val_loss: 0.6808 - val_accuracy: 0.6250\n",
            "Epoch 7/10\n",
            "25/25 [==============================] - 1s 38ms/step - loss: 0.6855 - accuracy: 0.5460 - val_loss: 0.6804 - val_accuracy: 0.6250\n",
            "Epoch 8/10\n",
            "25/25 [==============================] - 1s 38ms/step - loss: 0.6894 - accuracy: 0.5581 - val_loss: 0.6804 - val_accuracy: 0.6250\n",
            "Epoch 9/10\n",
            "25/25 [==============================] - 1s 38ms/step - loss: 0.6914 - accuracy: 0.5500 - val_loss: 0.6818 - val_accuracy: 0.6250\n",
            "Epoch 10/10\n",
            "25/25 [==============================] - 1s 39ms/step - loss: 0.6930 - accuracy: 0.5516 - val_loss: 0.6818 - val_accuracy: 0.6000\n",
            "40/40 [==============================] - 0s 2ms/step - loss: 0.6818 - accuracy: 0.6000\n",
            "Epoch 1/10\n",
            "25/25 [==============================] - 1s 40ms/step - loss: 0.6892 - accuracy: 0.5492 - val_loss: 0.6767 - val_accuracy: 0.5500\n",
            "Epoch 2/10\n",
            "25/25 [==============================] - 1s 39ms/step - loss: 0.6885 - accuracy: 0.5565 - val_loss: 0.6763 - val_accuracy: 0.5500\n",
            "Epoch 3/10\n",
            "25/25 [==============================] - 1s 39ms/step - loss: 0.6817 - accuracy: 0.5508 - val_loss: 0.6774 - val_accuracy: 0.5500\n",
            "Epoch 4/10\n",
            "25/25 [==============================] - 1s 38ms/step - loss: 0.6894 - accuracy: 0.5403 - val_loss: 0.6762 - val_accuracy: 0.5500\n",
            "Epoch 5/10\n",
            "25/25 [==============================] - 1s 38ms/step - loss: 0.6814 - accuracy: 0.5653 - val_loss: 0.6759 - val_accuracy: 0.5500\n",
            "Epoch 6/10\n",
            "25/25 [==============================] - 1s 38ms/step - loss: 0.6823 - accuracy: 0.5524 - val_loss: 0.6758 - val_accuracy: 0.5500\n",
            "Epoch 7/10\n",
            "25/25 [==============================] - 1s 38ms/step - loss: 0.6831 - accuracy: 0.5710 - val_loss: 0.6760 - val_accuracy: 0.5500\n",
            "Epoch 8/10\n",
            "25/25 [==============================] - 1s 38ms/step - loss: 0.6895 - accuracy: 0.5435 - val_loss: 0.6764 - val_accuracy: 0.5500\n",
            "Epoch 9/10\n",
            "25/25 [==============================] - 1s 38ms/step - loss: 0.6765 - accuracy: 0.5613 - val_loss: 0.6768 - val_accuracy: 0.5500\n",
            "Epoch 10/10\n",
            "25/25 [==============================] - 1s 38ms/step - loss: 0.6833 - accuracy: 0.5556 - val_loss: 0.6756 - val_accuracy: 0.5500\n",
            "40/40 [==============================] - 0s 2ms/step - loss: 0.6756 - accuracy: 0.5500\n",
            "Epoch 1/10\n",
            "25/25 [==============================] - 1s 39ms/step - loss: 0.6884 - accuracy: 0.5532 - val_loss: 0.6885 - val_accuracy: 0.5750\n",
            "Epoch 2/10\n",
            "25/25 [==============================] - 1s 39ms/step - loss: 0.6765 - accuracy: 0.5766 - val_loss: 0.6931 - val_accuracy: 0.5500\n",
            "Epoch 3/10\n",
            "25/25 [==============================] - 1s 38ms/step - loss: 0.6787 - accuracy: 0.5629 - val_loss: 0.6909 - val_accuracy: 0.5500\n",
            "Epoch 4/10\n",
            "25/25 [==============================] - 1s 38ms/step - loss: 0.6793 - accuracy: 0.5653 - val_loss: 0.6912 - val_accuracy: 0.5250\n",
            "Epoch 5/10\n",
            "25/25 [==============================] - 1s 39ms/step - loss: 0.6760 - accuracy: 0.5653 - val_loss: 0.6933 - val_accuracy: 0.4750\n",
            "Epoch 6/10\n",
            "25/25 [==============================] - 1s 38ms/step - loss: 0.6809 - accuracy: 0.5589 - val_loss: 0.6961 - val_accuracy: 0.5000\n",
            "Epoch 7/10\n",
            "25/25 [==============================] - 1s 37ms/step - loss: 0.6757 - accuracy: 0.5815 - val_loss: 0.6944 - val_accuracy: 0.5000\n",
            "Epoch 8/10\n",
            "25/25 [==============================] - 1s 37ms/step - loss: 0.6793 - accuracy: 0.5629 - val_loss: 0.6946 - val_accuracy: 0.5000\n",
            "Epoch 9/10\n",
            "25/25 [==============================] - 1s 38ms/step - loss: 0.6758 - accuracy: 0.5750 - val_loss: 0.6946 - val_accuracy: 0.5250\n",
            "Epoch 10/10\n",
            "25/25 [==============================] - 1s 38ms/step - loss: 0.6691 - accuracy: 0.5863 - val_loss: 0.7001 - val_accuracy: 0.4500\n",
            "40/40 [==============================] - 0s 2ms/step - loss: 0.7001 - accuracy: 0.4500\n",
            "Epoch 1/10\n",
            "25/25 [==============================] - 1s 39ms/step - loss: 0.6779 - accuracy: 0.5621 - val_loss: 0.6579 - val_accuracy: 0.6750\n",
            "Epoch 2/10\n",
            "25/25 [==============================] - 1s 38ms/step - loss: 0.6819 - accuracy: 0.5452 - val_loss: 0.6557 - val_accuracy: 0.6250\n",
            "Epoch 3/10\n",
            "25/25 [==============================] - 1s 38ms/step - loss: 0.6755 - accuracy: 0.5742 - val_loss: 0.6581 - val_accuracy: 0.6750\n",
            "Epoch 4/10\n",
            "25/25 [==============================] - 1s 38ms/step - loss: 0.6787 - accuracy: 0.5758 - val_loss: 0.6550 - val_accuracy: 0.6750\n",
            "Epoch 5/10\n",
            "25/25 [==============================] - 1s 37ms/step - loss: 0.6694 - accuracy: 0.5976 - val_loss: 0.6536 - val_accuracy: 0.6250\n",
            "Epoch 6/10\n",
            "25/25 [==============================] - 1s 38ms/step - loss: 0.6736 - accuracy: 0.5895 - val_loss: 0.6544 - val_accuracy: 0.6500\n",
            "Epoch 7/10\n",
            "25/25 [==============================] - 1s 37ms/step - loss: 0.6768 - accuracy: 0.5815 - val_loss: 0.6535 - val_accuracy: 0.6250\n",
            "Epoch 8/10\n",
            "25/25 [==============================] - 1s 38ms/step - loss: 0.6700 - accuracy: 0.5685 - val_loss: 0.6560 - val_accuracy: 0.6750\n",
            "Epoch 9/10\n",
            "25/25 [==============================] - 1s 37ms/step - loss: 0.6746 - accuracy: 0.5710 - val_loss: 0.6551 - val_accuracy: 0.6500\n",
            "Epoch 10/10\n",
            "25/25 [==============================] - 1s 38ms/step - loss: 0.6746 - accuracy: 0.5790 - val_loss: 0.6552 - val_accuracy: 0.6250\n",
            "40/40 [==============================] - 0s 2ms/step - loss: 0.6552 - accuracy: 0.6250\n",
            "Epoch 1/10\n",
            "25/25 [==============================] - 1s 38ms/step - loss: 0.6773 - accuracy: 0.5750 - val_loss: 0.6289 - val_accuracy: 0.7500\n",
            "Epoch 2/10\n",
            "25/25 [==============================] - 1s 38ms/step - loss: 0.6676 - accuracy: 0.5960 - val_loss: 0.6229 - val_accuracy: 0.7500\n",
            "Epoch 3/10\n",
            "25/25 [==============================] - 1s 38ms/step - loss: 0.6760 - accuracy: 0.5774 - val_loss: 0.6183 - val_accuracy: 0.7500\n",
            "Epoch 4/10\n",
            "25/25 [==============================] - 1s 38ms/step - loss: 0.6771 - accuracy: 0.5758 - val_loss: 0.6163 - val_accuracy: 0.7500\n",
            "Epoch 5/10\n",
            "25/25 [==============================] - 1s 38ms/step - loss: 0.6682 - accuracy: 0.5790 - val_loss: 0.6221 - val_accuracy: 0.7500\n",
            "Epoch 6/10\n",
            "25/25 [==============================] - 1s 38ms/step - loss: 0.6747 - accuracy: 0.5677 - val_loss: 0.6340 - val_accuracy: 0.7500\n",
            "Epoch 7/10\n",
            "25/25 [==============================] - 1s 37ms/step - loss: 0.6755 - accuracy: 0.5556 - val_loss: 0.6299 - val_accuracy: 0.7500\n",
            "Epoch 8/10\n",
            "25/25 [==============================] - 1s 37ms/step - loss: 0.6734 - accuracy: 0.5758 - val_loss: 0.6259 - val_accuracy: 0.7500\n",
            "Epoch 9/10\n",
            "25/25 [==============================] - 1s 38ms/step - loss: 0.6746 - accuracy: 0.5879 - val_loss: 0.6324 - val_accuracy: 0.7500\n",
            "Epoch 10/10\n",
            "25/25 [==============================] - 1s 37ms/step - loss: 0.6654 - accuracy: 0.5935 - val_loss: 0.6288 - val_accuracy: 0.7500\n",
            "40/40 [==============================] - 0s 2ms/step - loss: 0.6288 - accuracy: 0.7500\n",
            "Epoch 1/10\n",
            "25/25 [==============================] - 1s 39ms/step - loss: 0.6670 - accuracy: 0.5911 - val_loss: 0.6228 - val_accuracy: 0.7000\n",
            "Epoch 2/10\n",
            "25/25 [==============================] - 1s 37ms/step - loss: 0.6669 - accuracy: 0.5895 - val_loss: 0.6261 - val_accuracy: 0.7000\n",
            "Epoch 3/10\n",
            "25/25 [==============================] - 1s 38ms/step - loss: 0.6635 - accuracy: 0.6105 - val_loss: 0.6250 - val_accuracy: 0.7000\n",
            "Epoch 4/10\n",
            "25/25 [==============================] - 1s 38ms/step - loss: 0.6722 - accuracy: 0.5798 - val_loss: 0.6242 - val_accuracy: 0.7000\n",
            "Epoch 5/10\n",
            "25/25 [==============================] - 1s 38ms/step - loss: 0.6610 - accuracy: 0.5952 - val_loss: 0.6259 - val_accuracy: 0.7000\n",
            "Epoch 6/10\n",
            "25/25 [==============================] - 1s 38ms/step - loss: 0.6656 - accuracy: 0.6056 - val_loss: 0.6254 - val_accuracy: 0.7000\n",
            "Epoch 7/10\n",
            "25/25 [==============================] - 1s 37ms/step - loss: 0.6758 - accuracy: 0.5790 - val_loss: 0.6249 - val_accuracy: 0.7000\n",
            "Epoch 8/10\n",
            "25/25 [==============================] - 1s 38ms/step - loss: 0.6653 - accuracy: 0.5968 - val_loss: 0.6254 - val_accuracy: 0.6750\n",
            "Epoch 9/10\n",
            "25/25 [==============================] - 1s 38ms/step - loss: 0.6646 - accuracy: 0.5944 - val_loss: 0.6276 - val_accuracy: 0.6750\n",
            "Epoch 10/10\n",
            "25/25 [==============================] - 1s 37ms/step - loss: 0.6614 - accuracy: 0.6113 - val_loss: 0.6239 - val_accuracy: 0.6750\n",
            "40/40 [==============================] - 0s 2ms/step - loss: 0.6239 - accuracy: 0.6750\n",
            "Epoch 1/10\n",
            "25/25 [==============================] - 1s 38ms/step - loss: 0.6623 - accuracy: 0.5903 - val_loss: 0.6791 - val_accuracy: 0.5500\n",
            "Epoch 2/10\n",
            "25/25 [==============================] - 1s 37ms/step - loss: 0.6630 - accuracy: 0.6048 - val_loss: 0.6791 - val_accuracy: 0.5500\n",
            "Epoch 3/10\n",
            "25/25 [==============================] - 1s 38ms/step - loss: 0.6647 - accuracy: 0.5903 - val_loss: 0.6792 - val_accuracy: 0.5500\n",
            "Epoch 4/10\n",
            "25/25 [==============================] - 1s 37ms/step - loss: 0.6612 - accuracy: 0.5911 - val_loss: 0.6797 - val_accuracy: 0.5500\n",
            "Epoch 5/10\n",
            "25/25 [==============================] - 1s 38ms/step - loss: 0.6584 - accuracy: 0.5976 - val_loss: 0.6800 - val_accuracy: 0.5500\n",
            "Epoch 6/10\n",
            "25/25 [==============================] - 1s 38ms/step - loss: 0.6568 - accuracy: 0.6032 - val_loss: 0.6798 - val_accuracy: 0.5500\n",
            "Epoch 7/10\n",
            "25/25 [==============================] - 1s 38ms/step - loss: 0.6696 - accuracy: 0.5823 - val_loss: 0.6825 - val_accuracy: 0.5500\n",
            "Epoch 8/10\n",
            "25/25 [==============================] - 1s 37ms/step - loss: 0.6606 - accuracy: 0.5911 - val_loss: 0.6812 - val_accuracy: 0.5500\n",
            "Epoch 9/10\n",
            "25/25 [==============================] - 1s 38ms/step - loss: 0.6670 - accuracy: 0.5952 - val_loss: 0.6817 - val_accuracy: 0.5250\n",
            "Epoch 10/10\n",
            "25/25 [==============================] - 1s 37ms/step - loss: 0.6554 - accuracy: 0.6073 - val_loss: 0.6842 - val_accuracy: 0.5500\n",
            "40/40 [==============================] - 0s 2ms/step - loss: 0.6842 - accuracy: 0.5500\n",
            "Epoch 1/10\n",
            "25/25 [==============================] - 1s 39ms/step - loss: 0.6602 - accuracy: 0.6081 - val_loss: 0.6435 - val_accuracy: 0.7500\n",
            "Epoch 2/10\n",
            "25/25 [==============================] - 1s 38ms/step - loss: 0.6578 - accuracy: 0.6210 - val_loss: 0.6442 - val_accuracy: 0.7000\n",
            "Epoch 3/10\n",
            "25/25 [==============================] - 1s 37ms/step - loss: 0.6616 - accuracy: 0.6202 - val_loss: 0.6430 - val_accuracy: 0.7000\n",
            "Epoch 4/10\n",
            "25/25 [==============================] - 1s 38ms/step - loss: 0.6628 - accuracy: 0.5976 - val_loss: 0.6429 - val_accuracy: 0.7250\n",
            "Epoch 5/10\n",
            "25/25 [==============================] - 1s 38ms/step - loss: 0.6610 - accuracy: 0.6121 - val_loss: 0.6433 - val_accuracy: 0.7250\n",
            "Epoch 6/10\n",
            "25/25 [==============================] - 1s 38ms/step - loss: 0.6572 - accuracy: 0.6194 - val_loss: 0.6442 - val_accuracy: 0.7000\n",
            "Epoch 7/10\n",
            "25/25 [==============================] - 1s 38ms/step - loss: 0.6658 - accuracy: 0.5919 - val_loss: 0.6443 - val_accuracy: 0.7000\n",
            "Epoch 8/10\n",
            "25/25 [==============================] - 1s 38ms/step - loss: 0.6578 - accuracy: 0.6121 - val_loss: 0.6434 - val_accuracy: 0.7750\n",
            "Epoch 9/10\n",
            "25/25 [==============================] - 1s 37ms/step - loss: 0.6600 - accuracy: 0.6161 - val_loss: 0.6412 - val_accuracy: 0.7250\n",
            "Epoch 10/10\n",
            "25/25 [==============================] - 1s 38ms/step - loss: 0.6588 - accuracy: 0.6137 - val_loss: 0.6411 - val_accuracy: 0.6250\n",
            "40/40 [==============================] - 0s 2ms/step - loss: 0.6411 - accuracy: 0.6250\n",
            "Epoch 1/10\n",
            "25/25 [==============================] - 1s 39ms/step - loss: 0.6551 - accuracy: 0.6097 - val_loss: 0.6464 - val_accuracy: 0.6750\n",
            "Epoch 2/10\n",
            "25/25 [==============================] - 1s 38ms/step - loss: 0.6514 - accuracy: 0.6234 - val_loss: 0.6463 - val_accuracy: 0.7500\n",
            "Epoch 3/10\n",
            "25/25 [==============================] - 1s 38ms/step - loss: 0.6464 - accuracy: 0.6395 - val_loss: 0.6484 - val_accuracy: 0.6250\n",
            "Epoch 4/10\n",
            "25/25 [==============================] - 1s 38ms/step - loss: 0.6472 - accuracy: 0.6185 - val_loss: 0.6485 - val_accuracy: 0.6500\n",
            "Epoch 5/10\n",
            "25/25 [==============================] - 1s 38ms/step - loss: 0.6521 - accuracy: 0.6250 - val_loss: 0.6483 - val_accuracy: 0.6500\n",
            "Epoch 6/10\n",
            "25/25 [==============================] - 1s 38ms/step - loss: 0.6530 - accuracy: 0.6089 - val_loss: 0.6471 - val_accuracy: 0.6500\n",
            "Epoch 7/10\n",
            "25/25 [==============================] - 1s 37ms/step - loss: 0.6507 - accuracy: 0.6210 - val_loss: 0.6430 - val_accuracy: 0.7250\n",
            "Epoch 8/10\n",
            "25/25 [==============================] - 1s 38ms/step - loss: 0.6545 - accuracy: 0.6081 - val_loss: 0.6452 - val_accuracy: 0.6500\n",
            "Epoch 9/10\n",
            "25/25 [==============================] - 1s 38ms/step - loss: 0.6439 - accuracy: 0.6274 - val_loss: 0.6432 - val_accuracy: 0.7500\n",
            "Epoch 10/10\n",
            "25/25 [==============================] - 1s 38ms/step - loss: 0.6511 - accuracy: 0.6153 - val_loss: 0.6423 - val_accuracy: 0.6750\n",
            "40/40 [==============================] - 0s 2ms/step - loss: 0.6423 - accuracy: 0.6750\n",
            "Epoch 1/10\n",
            "25/25 [==============================] - 1s 39ms/step - loss: 0.6534 - accuracy: 0.6097 - val_loss: 0.6225 - val_accuracy: 0.6250\n",
            "Epoch 2/10\n",
            "25/25 [==============================] - 1s 38ms/step - loss: 0.6593 - accuracy: 0.6065 - val_loss: 0.6211 - val_accuracy: 0.6000\n",
            "Epoch 3/10\n",
            "25/25 [==============================] - 1s 38ms/step - loss: 0.6467 - accuracy: 0.6145 - val_loss: 0.6223 - val_accuracy: 0.6000\n",
            "Epoch 4/10\n",
            "25/25 [==============================] - 1s 38ms/step - loss: 0.6527 - accuracy: 0.6137 - val_loss: 0.6234 - val_accuracy: 0.6000\n",
            "Epoch 5/10\n",
            "25/25 [==============================] - 1s 38ms/step - loss: 0.6477 - accuracy: 0.6185 - val_loss: 0.6218 - val_accuracy: 0.6000\n",
            "Epoch 6/10\n",
            "25/25 [==============================] - 1s 38ms/step - loss: 0.6439 - accuracy: 0.6234 - val_loss: 0.6209 - val_accuracy: 0.6000\n",
            "Epoch 7/10\n",
            "25/25 [==============================] - 1s 38ms/step - loss: 0.6549 - accuracy: 0.6210 - val_loss: 0.6219 - val_accuracy: 0.6000\n",
            "Epoch 8/10\n",
            "25/25 [==============================] - 1s 38ms/step - loss: 0.6506 - accuracy: 0.5952 - val_loss: 0.6233 - val_accuracy: 0.6000\n",
            "Epoch 9/10\n",
            "25/25 [==============================] - 1s 38ms/step - loss: 0.6501 - accuracy: 0.6153 - val_loss: 0.6244 - val_accuracy: 0.6000\n",
            "Epoch 10/10\n",
            "25/25 [==============================] - 1s 39ms/step - loss: 0.6473 - accuracy: 0.6226 - val_loss: 0.6287 - val_accuracy: 0.6250\n",
            "40/40 [==============================] - 0s 2ms/step - loss: 0.6287 - accuracy: 0.6250\n",
            "Epoch 1/10\n",
            "25/25 [==============================] - 1s 38ms/step - loss: 0.6561 - accuracy: 0.6290 - val_loss: 0.6496 - val_accuracy: 0.6000\n",
            "Epoch 2/10\n",
            "25/25 [==============================] - 1s 37ms/step - loss: 0.6534 - accuracy: 0.6202 - val_loss: 0.6503 - val_accuracy: 0.7000\n",
            "Epoch 3/10\n",
            "25/25 [==============================] - 1s 37ms/step - loss: 0.6523 - accuracy: 0.6185 - val_loss: 0.6513 - val_accuracy: 0.6500\n",
            "Epoch 4/10\n",
            "25/25 [==============================] - 1s 37ms/step - loss: 0.6526 - accuracy: 0.6169 - val_loss: 0.6536 - val_accuracy: 0.6000\n",
            "Epoch 5/10\n",
            "25/25 [==============================] - 1s 37ms/step - loss: 0.6620 - accuracy: 0.6153 - val_loss: 0.6540 - val_accuracy: 0.6000\n",
            "Epoch 6/10\n",
            "25/25 [==============================] - 1s 37ms/step - loss: 0.6383 - accuracy: 0.6226 - val_loss: 0.6516 - val_accuracy: 0.7000\n",
            "Epoch 7/10\n",
            "25/25 [==============================] - 1s 37ms/step - loss: 0.6338 - accuracy: 0.6605 - val_loss: 0.6489 - val_accuracy: 0.6500\n",
            "Epoch 8/10\n",
            "25/25 [==============================] - 1s 38ms/step - loss: 0.6502 - accuracy: 0.6040 - val_loss: 0.6497 - val_accuracy: 0.7000\n",
            "Epoch 9/10\n",
            "25/25 [==============================] - 1s 38ms/step - loss: 0.6366 - accuracy: 0.6556 - val_loss: 0.6478 - val_accuracy: 0.7500\n",
            "Epoch 10/10\n",
            "25/25 [==============================] - 1s 37ms/step - loss: 0.6489 - accuracy: 0.6234 - val_loss: 0.6477 - val_accuracy: 0.7000\n",
            "40/40 [==============================] - 0s 2ms/step - loss: 0.6477 - accuracy: 0.7000\n",
            "Epoch 1/10\n",
            "25/25 [==============================] - 1s 39ms/step - loss: 0.6358 - accuracy: 0.6242 - val_loss: 0.6356 - val_accuracy: 0.6750\n",
            "Epoch 2/10\n",
            "25/25 [==============================] - 1s 39ms/step - loss: 0.6361 - accuracy: 0.6540 - val_loss: 0.6363 - val_accuracy: 0.7250\n",
            "Epoch 3/10\n",
            "25/25 [==============================] - 1s 37ms/step - loss: 0.6342 - accuracy: 0.6395 - val_loss: 0.6355 - val_accuracy: 0.6750\n",
            "Epoch 4/10\n",
            "25/25 [==============================] - 1s 38ms/step - loss: 0.6338 - accuracy: 0.6331 - val_loss: 0.6367 - val_accuracy: 0.6750\n",
            "Epoch 5/10\n",
            "25/25 [==============================] - 1s 38ms/step - loss: 0.6373 - accuracy: 0.6242 - val_loss: 0.6355 - val_accuracy: 0.7000\n",
            "Epoch 6/10\n",
            "25/25 [==============================] - 1s 37ms/step - loss: 0.6343 - accuracy: 0.6379 - val_loss: 0.6344 - val_accuracy: 0.7000\n",
            "Epoch 7/10\n",
            "25/25 [==============================] - 1s 38ms/step - loss: 0.6308 - accuracy: 0.6427 - val_loss: 0.6355 - val_accuracy: 0.7750\n",
            "Epoch 8/10\n",
            "25/25 [==============================] - 1s 38ms/step - loss: 0.6335 - accuracy: 0.6411 - val_loss: 0.6345 - val_accuracy: 0.7250\n",
            "Epoch 9/10\n",
            "25/25 [==============================] - 1s 38ms/step - loss: 0.6362 - accuracy: 0.6395 - val_loss: 0.6316 - val_accuracy: 0.7000\n",
            "Epoch 10/10\n",
            "25/25 [==============================] - 1s 38ms/step - loss: 0.6291 - accuracy: 0.6411 - val_loss: 0.6344 - val_accuracy: 0.7000\n",
            "40/40 [==============================] - 0s 2ms/step - loss: 0.6344 - accuracy: 0.7000\n",
            "Epoch 1/10\n",
            "25/25 [==============================] - 1s 39ms/step - loss: 0.6290 - accuracy: 0.6242 - val_loss: 0.6192 - val_accuracy: 0.7500\n",
            "Epoch 2/10\n",
            "25/25 [==============================] - 1s 37ms/step - loss: 0.6392 - accuracy: 0.6210 - val_loss: 0.6181 - val_accuracy: 0.7250\n",
            "Epoch 3/10\n",
            "25/25 [==============================] - 1s 38ms/step - loss: 0.6290 - accuracy: 0.6508 - val_loss: 0.6177 - val_accuracy: 0.7500\n",
            "Epoch 4/10\n",
            "25/25 [==============================] - 1s 38ms/step - loss: 0.6335 - accuracy: 0.6266 - val_loss: 0.6173 - val_accuracy: 0.7500\n",
            "Epoch 5/10\n",
            "25/25 [==============================] - 1s 37ms/step - loss: 0.6197 - accuracy: 0.6556 - val_loss: 0.6175 - val_accuracy: 0.7250\n",
            "Epoch 6/10\n",
            "25/25 [==============================] - 1s 37ms/step - loss: 0.6321 - accuracy: 0.6355 - val_loss: 0.6230 - val_accuracy: 0.6750\n",
            "Epoch 7/10\n",
            "25/25 [==============================] - 1s 38ms/step - loss: 0.6322 - accuracy: 0.6306 - val_loss: 0.6144 - val_accuracy: 0.7750\n",
            "Epoch 8/10\n",
            "25/25 [==============================] - 1s 38ms/step - loss: 0.6354 - accuracy: 0.6347 - val_loss: 0.6170 - val_accuracy: 0.7250\n",
            "Epoch 9/10\n",
            "25/25 [==============================] - 1s 38ms/step - loss: 0.6286 - accuracy: 0.6452 - val_loss: 0.6197 - val_accuracy: 0.7250\n",
            "Epoch 10/10\n",
            "25/25 [==============================] - 1s 37ms/step - loss: 0.6182 - accuracy: 0.6806 - val_loss: 0.6192 - val_accuracy: 0.7500\n",
            "40/40 [==============================] - 0s 2ms/step - loss: 0.6192 - accuracy: 0.7500\n",
            "Epoch 1/10\n",
            "25/25 [==============================] - 1s 39ms/step - loss: 0.6238 - accuracy: 0.6694 - val_loss: 0.4962 - val_accuracy: 0.9250\n",
            "Epoch 2/10\n",
            "25/25 [==============================] - 1s 38ms/step - loss: 0.6238 - accuracy: 0.6548 - val_loss: 0.5028 - val_accuracy: 0.8750\n",
            "Epoch 3/10\n",
            "25/25 [==============================] - 1s 37ms/step - loss: 0.6315 - accuracy: 0.6355 - val_loss: 0.4978 - val_accuracy: 0.9000\n",
            "Epoch 4/10\n",
            "25/25 [==============================] - 1s 39ms/step - loss: 0.6239 - accuracy: 0.6605 - val_loss: 0.4975 - val_accuracy: 0.9250\n",
            "Epoch 5/10\n",
            "25/25 [==============================] - 1s 38ms/step - loss: 0.6285 - accuracy: 0.6379 - val_loss: 0.4937 - val_accuracy: 0.8750\n",
            "Epoch 6/10\n",
            "25/25 [==============================] - 1s 37ms/step - loss: 0.6286 - accuracy: 0.6508 - val_loss: 0.4954 - val_accuracy: 0.8750\n",
            "Epoch 7/10\n",
            "25/25 [==============================] - 1s 37ms/step - loss: 0.6300 - accuracy: 0.6516 - val_loss: 0.4945 - val_accuracy: 0.8750\n",
            "Epoch 8/10\n",
            "25/25 [==============================] - 1s 37ms/step - loss: 0.6189 - accuracy: 0.6500 - val_loss: 0.4936 - val_accuracy: 0.9250\n",
            "Epoch 9/10\n",
            "25/25 [==============================] - 1s 37ms/step - loss: 0.6284 - accuracy: 0.6306 - val_loss: 0.4917 - val_accuracy: 0.9000\n",
            "Epoch 10/10\n",
            "25/25 [==============================] - 1s 38ms/step - loss: 0.6244 - accuracy: 0.6597 - val_loss: 0.4928 - val_accuracy: 0.9250\n",
            "40/40 [==============================] - 0s 2ms/step - loss: 0.4928 - accuracy: 0.9250\n",
            "Epoch 1/10\n",
            "25/25 [==============================] - 1s 39ms/step - loss: 0.6077 - accuracy: 0.6629 - val_loss: 0.5864 - val_accuracy: 0.7500\n",
            "Epoch 2/10\n",
            "25/25 [==============================] - 1s 38ms/step - loss: 0.6221 - accuracy: 0.6637 - val_loss: 0.5811 - val_accuracy: 0.7250\n",
            "Epoch 3/10\n",
            "25/25 [==============================] - 1s 38ms/step - loss: 0.6212 - accuracy: 0.6621 - val_loss: 0.5809 - val_accuracy: 0.7250\n",
            "Epoch 4/10\n",
            "25/25 [==============================] - 1s 38ms/step - loss: 0.6247 - accuracy: 0.6403 - val_loss: 0.5808 - val_accuracy: 0.7500\n",
            "Epoch 5/10\n",
            "25/25 [==============================] - 1s 38ms/step - loss: 0.6009 - accuracy: 0.6815 - val_loss: 0.5769 - val_accuracy: 0.7500\n",
            "Epoch 6/10\n",
            "25/25 [==============================] - 1s 38ms/step - loss: 0.6117 - accuracy: 0.6476 - val_loss: 0.5835 - val_accuracy: 0.7500\n",
            "Epoch 7/10\n",
            "25/25 [==============================] - 1s 37ms/step - loss: 0.6114 - accuracy: 0.6645 - val_loss: 0.5793 - val_accuracy: 0.7000\n",
            "Epoch 8/10\n",
            "25/25 [==============================] - 1s 37ms/step - loss: 0.5998 - accuracy: 0.6661 - val_loss: 0.5767 - val_accuracy: 0.7500\n",
            "Epoch 9/10\n",
            "25/25 [==============================] - 1s 38ms/step - loss: 0.6174 - accuracy: 0.6395 - val_loss: 0.5814 - val_accuracy: 0.7500\n",
            "Epoch 10/10\n",
            "25/25 [==============================] - 1s 38ms/step - loss: 0.6080 - accuracy: 0.6726 - val_loss: 0.5735 - val_accuracy: 0.7500\n",
            "40/40 [==============================] - 0s 2ms/step - loss: 0.5735 - accuracy: 0.7500\n",
            "Epoch 1/10\n",
            "25/25 [==============================] - 1s 40ms/step - loss: 0.5993 - accuracy: 0.6863 - val_loss: 0.5779 - val_accuracy: 0.8500\n",
            "Epoch 2/10\n",
            "25/25 [==============================] - 1s 38ms/step - loss: 0.5943 - accuracy: 0.6782 - val_loss: 0.5854 - val_accuracy: 0.7500\n",
            "Epoch 3/10\n",
            "25/25 [==============================] - 1s 38ms/step - loss: 0.6021 - accuracy: 0.6742 - val_loss: 0.5807 - val_accuracy: 0.8250\n",
            "Epoch 4/10\n",
            "25/25 [==============================] - 1s 38ms/step - loss: 0.6115 - accuracy: 0.6774 - val_loss: 0.5849 - val_accuracy: 0.8000\n",
            "Epoch 5/10\n",
            "25/25 [==============================] - 1s 38ms/step - loss: 0.6112 - accuracy: 0.6661 - val_loss: 0.5831 - val_accuracy: 0.8250\n",
            "Epoch 6/10\n",
            "25/25 [==============================] - 1s 39ms/step - loss: 0.5884 - accuracy: 0.6790 - val_loss: 0.5852 - val_accuracy: 0.8250\n",
            "Epoch 7/10\n",
            "25/25 [==============================] - 1s 38ms/step - loss: 0.5984 - accuracy: 0.6661 - val_loss: 0.5861 - val_accuracy: 0.7750\n",
            "Epoch 8/10\n",
            "25/25 [==============================] - 1s 38ms/step - loss: 0.6038 - accuracy: 0.6661 - val_loss: 0.5810 - val_accuracy: 0.8000\n",
            "Epoch 9/10\n",
            "25/25 [==============================] - 1s 39ms/step - loss: 0.6057 - accuracy: 0.6661 - val_loss: 0.5899 - val_accuracy: 0.7750\n",
            "Epoch 10/10\n",
            "25/25 [==============================] - 1s 38ms/step - loss: 0.6136 - accuracy: 0.6653 - val_loss: 0.5957 - val_accuracy: 0.7250\n",
            "40/40 [==============================] - 0s 3ms/step - loss: 0.5957 - accuracy: 0.7250\n",
            "Epoch 1/10\n",
            "25/25 [==============================] - 1s 39ms/step - loss: 0.5993 - accuracy: 0.6887 - val_loss: 0.5253 - val_accuracy: 0.8000\n",
            "Epoch 2/10\n",
            "25/25 [==============================] - 1s 38ms/step - loss: 0.5918 - accuracy: 0.6935 - val_loss: 0.5272 - val_accuracy: 0.7250\n",
            "Epoch 3/10\n",
            "25/25 [==============================] - 1s 37ms/step - loss: 0.6106 - accuracy: 0.6685 - val_loss: 0.5359 - val_accuracy: 0.7000\n",
            "Epoch 4/10\n",
            "25/25 [==============================] - 1s 38ms/step - loss: 0.5928 - accuracy: 0.6685 - val_loss: 0.5288 - val_accuracy: 0.7750\n",
            "Epoch 5/10\n",
            "25/25 [==============================] - 1s 38ms/step - loss: 0.6124 - accuracy: 0.6613 - val_loss: 0.5286 - val_accuracy: 0.8500\n",
            "Epoch 6/10\n",
            "25/25 [==============================] - 1s 38ms/step - loss: 0.5890 - accuracy: 0.6944 - val_loss: 0.5292 - val_accuracy: 0.8000\n",
            "Epoch 7/10\n",
            "25/25 [==============================] - 1s 38ms/step - loss: 0.5906 - accuracy: 0.6863 - val_loss: 0.5376 - val_accuracy: 0.6500\n",
            "Epoch 8/10\n",
            "25/25 [==============================] - 1s 38ms/step - loss: 0.5874 - accuracy: 0.7016 - val_loss: 0.5294 - val_accuracy: 0.7250\n",
            "Epoch 9/10\n",
            "25/25 [==============================] - 1s 38ms/step - loss: 0.5932 - accuracy: 0.6742 - val_loss: 0.5216 - val_accuracy: 0.8000\n",
            "Epoch 10/10\n",
            "25/25 [==============================] - 1s 37ms/step - loss: 0.5873 - accuracy: 0.6831 - val_loss: 0.5167 - val_accuracy: 0.8000\n",
            "40/40 [==============================] - 0s 2ms/step - loss: 0.5167 - accuracy: 0.8000\n",
            "Epoch 1/10\n",
            "25/25 [==============================] - 1s 38ms/step - loss: 0.5805 - accuracy: 0.6992 - val_loss: 0.4978 - val_accuracy: 0.8250\n",
            "Epoch 2/10\n",
            "25/25 [==============================] - 1s 38ms/step - loss: 0.5866 - accuracy: 0.6790 - val_loss: 0.5011 - val_accuracy: 0.7500\n",
            "Epoch 3/10\n",
            "25/25 [==============================] - 1s 37ms/step - loss: 0.5696 - accuracy: 0.7121 - val_loss: 0.4921 - val_accuracy: 0.7750\n",
            "Epoch 4/10\n",
            "25/25 [==============================] - 1s 37ms/step - loss: 0.5874 - accuracy: 0.6984 - val_loss: 0.4889 - val_accuracy: 0.7750\n",
            "Epoch 5/10\n",
            "25/25 [==============================] - 1s 38ms/step - loss: 0.5745 - accuracy: 0.6968 - val_loss: 0.4931 - val_accuracy: 0.7500\n",
            "Epoch 6/10\n",
            "25/25 [==============================] - 1s 38ms/step - loss: 0.5760 - accuracy: 0.7048 - val_loss: 0.4933 - val_accuracy: 0.8250\n",
            "Epoch 7/10\n",
            "25/25 [==============================] - 1s 38ms/step - loss: 0.5971 - accuracy: 0.6992 - val_loss: 0.5065 - val_accuracy: 0.7750\n",
            "Epoch 8/10\n",
            "25/25 [==============================] - 1s 38ms/step - loss: 0.5830 - accuracy: 0.7089 - val_loss: 0.4993 - val_accuracy: 0.8000\n",
            "Epoch 9/10\n",
            "25/25 [==============================] - 1s 38ms/step - loss: 0.5727 - accuracy: 0.7000 - val_loss: 0.4917 - val_accuracy: 0.8000\n",
            "Epoch 10/10\n",
            "25/25 [==============================] - 1s 37ms/step - loss: 0.5943 - accuracy: 0.6774 - val_loss: 0.4997 - val_accuracy: 0.7750\n",
            "40/40 [==============================] - 0s 2ms/step - loss: 0.4997 - accuracy: 0.7750\n",
            "Epoch 1/10\n",
            "25/25 [==============================] - 1s 38ms/step - loss: 0.5845 - accuracy: 0.6887 - val_loss: 0.4768 - val_accuracy: 0.8250\n",
            "Epoch 2/10\n",
            "25/25 [==============================] - 1s 38ms/step - loss: 0.5693 - accuracy: 0.6927 - val_loss: 0.4767 - val_accuracy: 0.8000\n",
            "Epoch 3/10\n",
            "25/25 [==============================] - 1s 39ms/step - loss: 0.5762 - accuracy: 0.7105 - val_loss: 0.4764 - val_accuracy: 0.8000\n",
            "Epoch 4/10\n",
            "25/25 [==============================] - 1s 38ms/step - loss: 0.5524 - accuracy: 0.7218 - val_loss: 0.4675 - val_accuracy: 0.7750\n",
            "Epoch 5/10\n",
            "25/25 [==============================] - 1s 38ms/step - loss: 0.5866 - accuracy: 0.6935 - val_loss: 0.4675 - val_accuracy: 0.7750\n",
            "Epoch 6/10\n",
            "25/25 [==============================] - 1s 38ms/step - loss: 0.5805 - accuracy: 0.6798 - val_loss: 0.4776 - val_accuracy: 0.8000\n",
            "Epoch 7/10\n",
            "25/25 [==============================] - 1s 38ms/step - loss: 0.5714 - accuracy: 0.6944 - val_loss: 0.4767 - val_accuracy: 0.7750\n",
            "Epoch 8/10\n",
            "25/25 [==============================] - 1s 39ms/step - loss: 0.5608 - accuracy: 0.7161 - val_loss: 0.4750 - val_accuracy: 0.8000\n",
            "Epoch 9/10\n",
            "25/25 [==============================] - 1s 39ms/step - loss: 0.5775 - accuracy: 0.6903 - val_loss: 0.4718 - val_accuracy: 0.7750\n",
            "Epoch 10/10\n",
            "25/25 [==============================] - 1s 38ms/step - loss: 0.5545 - accuracy: 0.7145 - val_loss: 0.4733 - val_accuracy: 0.8000\n",
            "40/40 [==============================] - 0s 2ms/step - loss: 0.4733 - accuracy: 0.8000\n",
            "Epoch 1/10\n",
            "25/25 [==============================] - 1s 38ms/step - loss: 0.5731 - accuracy: 0.6927 - val_loss: 0.4645 - val_accuracy: 0.8750\n",
            "Epoch 2/10\n",
            "25/25 [==============================] - 1s 38ms/step - loss: 0.5635 - accuracy: 0.7161 - val_loss: 0.4732 - val_accuracy: 0.8750\n",
            "Epoch 3/10\n",
            "25/25 [==============================] - 1s 37ms/step - loss: 0.5664 - accuracy: 0.7121 - val_loss: 0.4591 - val_accuracy: 0.9000\n",
            "Epoch 4/10\n",
            "25/25 [==============================] - 1s 38ms/step - loss: 0.5734 - accuracy: 0.7185 - val_loss: 0.4484 - val_accuracy: 0.8750\n",
            "Epoch 5/10\n",
            "25/25 [==============================] - 1s 37ms/step - loss: 0.5756 - accuracy: 0.6871 - val_loss: 0.4569 - val_accuracy: 0.9250\n",
            "Epoch 6/10\n",
            "25/25 [==============================] - 1s 37ms/step - loss: 0.5623 - accuracy: 0.7065 - val_loss: 0.4587 - val_accuracy: 0.8500\n",
            "Epoch 7/10\n",
            "25/25 [==============================] - 1s 37ms/step - loss: 0.5660 - accuracy: 0.7056 - val_loss: 0.4564 - val_accuracy: 0.8500\n",
            "Epoch 8/10\n",
            "25/25 [==============================] - 1s 37ms/step - loss: 0.5570 - accuracy: 0.7105 - val_loss: 0.4527 - val_accuracy: 0.8750\n",
            "Epoch 9/10\n",
            "25/25 [==============================] - 1s 38ms/step - loss: 0.5539 - accuracy: 0.7081 - val_loss: 0.4607 - val_accuracy: 0.8500\n",
            "Epoch 10/10\n",
            "25/25 [==============================] - 1s 38ms/step - loss: 0.5604 - accuracy: 0.7161 - val_loss: 0.4702 - val_accuracy: 0.9000\n",
            "40/40 [==============================] - 0s 2ms/step - loss: 0.4702 - accuracy: 0.9000\n",
            "Epoch 1/10\n",
            "25/25 [==============================] - 1s 38ms/step - loss: 0.5570 - accuracy: 0.7250 - val_loss: 0.4697 - val_accuracy: 0.8250\n",
            "Epoch 2/10\n",
            "25/25 [==============================] - 1s 38ms/step - loss: 0.5730 - accuracy: 0.7016 - val_loss: 0.4940 - val_accuracy: 0.7500\n",
            "Epoch 3/10\n",
            "25/25 [==============================] - 1s 38ms/step - loss: 0.5698 - accuracy: 0.6976 - val_loss: 0.4859 - val_accuracy: 0.8000\n",
            "Epoch 4/10\n",
            "25/25 [==============================] - 1s 38ms/step - loss: 0.5580 - accuracy: 0.7073 - val_loss: 0.4915 - val_accuracy: 0.7750\n",
            "Epoch 5/10\n",
            "25/25 [==============================] - 1s 38ms/step - loss: 0.5550 - accuracy: 0.6952 - val_loss: 0.4786 - val_accuracy: 0.8000\n",
            "Epoch 6/10\n",
            "25/25 [==============================] - 1s 38ms/step - loss: 0.5576 - accuracy: 0.7073 - val_loss: 0.4861 - val_accuracy: 0.7500\n",
            "Epoch 7/10\n",
            "25/25 [==============================] - 1s 37ms/step - loss: 0.5662 - accuracy: 0.7024 - val_loss: 0.4836 - val_accuracy: 0.8500\n",
            "Epoch 8/10\n",
            "25/25 [==============================] - 1s 37ms/step - loss: 0.5706 - accuracy: 0.6952 - val_loss: 0.4974 - val_accuracy: 0.8250\n",
            "Epoch 9/10\n",
            "25/25 [==============================] - 1s 38ms/step - loss: 0.5633 - accuracy: 0.7153 - val_loss: 0.4995 - val_accuracy: 0.8000\n",
            "Epoch 10/10\n",
            "25/25 [==============================] - 1s 38ms/step - loss: 0.5627 - accuracy: 0.7137 - val_loss: 0.4961 - val_accuracy: 0.7750\n",
            "40/40 [==============================] - 0s 2ms/step - loss: 0.4961 - accuracy: 0.7750\n",
            "Epoch 1/10\n",
            "25/25 [==============================] - 1s 39ms/step - loss: 0.5577 - accuracy: 0.7242 - val_loss: 0.3877 - val_accuracy: 0.8750\n",
            "Epoch 2/10\n",
            "25/25 [==============================] - 1s 37ms/step - loss: 0.5448 - accuracy: 0.7194 - val_loss: 0.3873 - val_accuracy: 0.8000\n",
            "Epoch 3/10\n",
            "25/25 [==============================] - 1s 38ms/step - loss: 0.5491 - accuracy: 0.7073 - val_loss: 0.3894 - val_accuracy: 0.8000\n",
            "Epoch 4/10\n",
            "25/25 [==============================] - 1s 38ms/step - loss: 0.5543 - accuracy: 0.7290 - val_loss: 0.3800 - val_accuracy: 0.9000\n",
            "Epoch 5/10\n",
            "25/25 [==============================] - 1s 38ms/step - loss: 0.5511 - accuracy: 0.7177 - val_loss: 0.3817 - val_accuracy: 0.9000\n",
            "Epoch 6/10\n",
            "25/25 [==============================] - 1s 37ms/step - loss: 0.5480 - accuracy: 0.7290 - val_loss: 0.3776 - val_accuracy: 0.8500\n",
            "Epoch 7/10\n",
            "25/25 [==============================] - 1s 38ms/step - loss: 0.5505 - accuracy: 0.7185 - val_loss: 0.3834 - val_accuracy: 0.8500\n",
            "Epoch 8/10\n",
            "25/25 [==============================] - 1s 38ms/step - loss: 0.5355 - accuracy: 0.7234 - val_loss: 0.3966 - val_accuracy: 0.8000\n",
            "Epoch 9/10\n",
            "25/25 [==============================] - 1s 38ms/step - loss: 0.5747 - accuracy: 0.7105 - val_loss: 0.3815 - val_accuracy: 0.8500\n",
            "Epoch 10/10\n",
            "25/25 [==============================] - 1s 37ms/step - loss: 0.5227 - accuracy: 0.7395 - val_loss: 0.3808 - val_accuracy: 0.8250\n",
            "40/40 [==============================] - 0s 2ms/step - loss: 0.3808 - accuracy: 0.8250\n",
            "Epoch 1/10\n",
            "25/25 [==============================] - 1s 38ms/step - loss: 0.5309 - accuracy: 0.7379 - val_loss: 0.3526 - val_accuracy: 0.9000\n",
            "Epoch 2/10\n",
            "25/25 [==============================] - 1s 37ms/step - loss: 0.5488 - accuracy: 0.7121 - val_loss: 0.3584 - val_accuracy: 0.8750\n",
            "Epoch 3/10\n",
            "25/25 [==============================] - 1s 37ms/step - loss: 0.5406 - accuracy: 0.7290 - val_loss: 0.3583 - val_accuracy: 0.8750\n",
            "Epoch 4/10\n",
            "25/25 [==============================] - 1s 38ms/step - loss: 0.5481 - accuracy: 0.7266 - val_loss: 0.3539 - val_accuracy: 0.8750\n",
            "Epoch 5/10\n",
            "25/25 [==============================] - 1s 37ms/step - loss: 0.5481 - accuracy: 0.7258 - val_loss: 0.3591 - val_accuracy: 0.8750\n",
            "Epoch 6/10\n",
            "25/25 [==============================] - 1s 38ms/step - loss: 0.5239 - accuracy: 0.7419 - val_loss: 0.3612 - val_accuracy: 0.8750\n",
            "Epoch 7/10\n",
            "25/25 [==============================] - 1s 38ms/step - loss: 0.5296 - accuracy: 0.7331 - val_loss: 0.3599 - val_accuracy: 0.8750\n",
            "Epoch 8/10\n",
            "25/25 [==============================] - 1s 37ms/step - loss: 0.5290 - accuracy: 0.7355 - val_loss: 0.3596 - val_accuracy: 0.9000\n",
            "Epoch 9/10\n",
            "25/25 [==============================] - 1s 37ms/step - loss: 0.5435 - accuracy: 0.7218 - val_loss: 0.3642 - val_accuracy: 0.8750\n",
            "Epoch 10/10\n",
            "25/25 [==============================] - 1s 38ms/step - loss: 0.5121 - accuracy: 0.7419 - val_loss: 0.3653 - val_accuracy: 0.8750\n",
            "40/40 [==============================] - 0s 2ms/step - loss: 0.3653 - accuracy: 0.8750\n",
            "Epoch 1/10\n",
            "25/25 [==============================] - 1s 39ms/step - loss: 0.5448 - accuracy: 0.7113 - val_loss: 0.4526 - val_accuracy: 0.8000\n",
            "Epoch 2/10\n",
            "25/25 [==============================] - 1s 38ms/step - loss: 0.5494 - accuracy: 0.7194 - val_loss: 0.4739 - val_accuracy: 0.7500\n",
            "Epoch 3/10\n",
            "25/25 [==============================] - 1s 38ms/step - loss: 0.5381 - accuracy: 0.7210 - val_loss: 0.4666 - val_accuracy: 0.8000\n",
            "Epoch 4/10\n",
            "25/25 [==============================] - 1s 37ms/step - loss: 0.5245 - accuracy: 0.7419 - val_loss: 0.4671 - val_accuracy: 0.8000\n",
            "Epoch 5/10\n",
            "25/25 [==============================] - 1s 39ms/step - loss: 0.5264 - accuracy: 0.7258 - val_loss: 0.4700 - val_accuracy: 0.8000\n",
            "Epoch 6/10\n",
            "25/25 [==============================] - 1s 37ms/step - loss: 0.5405 - accuracy: 0.7395 - val_loss: 0.4635 - val_accuracy: 0.8000\n",
            "Epoch 7/10\n",
            "25/25 [==============================] - 1s 38ms/step - loss: 0.5238 - accuracy: 0.7492 - val_loss: 0.4776 - val_accuracy: 0.8500\n",
            "Epoch 8/10\n",
            "25/25 [==============================] - 1s 37ms/step - loss: 0.5107 - accuracy: 0.7532 - val_loss: 0.4730 - val_accuracy: 0.8500\n",
            "Epoch 9/10\n",
            "25/25 [==============================] - 1s 37ms/step - loss: 0.5267 - accuracy: 0.7315 - val_loss: 0.5016 - val_accuracy: 0.8000\n",
            "Epoch 10/10\n",
            "25/25 [==============================] - 1s 38ms/step - loss: 0.5395 - accuracy: 0.7226 - val_loss: 0.4833 - val_accuracy: 0.8000\n",
            "40/40 [==============================] - 0s 2ms/step - loss: 0.4833 - accuracy: 0.8000\n",
            "Epoch 1/10\n",
            "25/25 [==============================] - 1s 39ms/step - loss: 0.5362 - accuracy: 0.7282 - val_loss: 0.4647 - val_accuracy: 0.8500\n",
            "Epoch 2/10\n",
            "25/25 [==============================] - 1s 38ms/step - loss: 0.5256 - accuracy: 0.7290 - val_loss: 0.4592 - val_accuracy: 0.8500\n",
            "Epoch 3/10\n",
            "25/25 [==============================] - 1s 37ms/step - loss: 0.5125 - accuracy: 0.7387 - val_loss: 0.4788 - val_accuracy: 0.7250\n",
            "Epoch 4/10\n",
            "25/25 [==============================] - 1s 37ms/step - loss: 0.5117 - accuracy: 0.7468 - val_loss: 0.4609 - val_accuracy: 0.8500\n",
            "Epoch 5/10\n",
            "25/25 [==============================] - 1s 38ms/step - loss: 0.5295 - accuracy: 0.7452 - val_loss: 0.4616 - val_accuracy: 0.8500\n",
            "Epoch 6/10\n",
            "25/25 [==============================] - 1s 37ms/step - loss: 0.5091 - accuracy: 0.7331 - val_loss: 0.4596 - val_accuracy: 0.8750\n",
            "Epoch 7/10\n",
            "25/25 [==============================] - 1s 38ms/step - loss: 0.5213 - accuracy: 0.7387 - val_loss: 0.4587 - val_accuracy: 0.8750\n",
            "Epoch 8/10\n",
            "25/25 [==============================] - 1s 38ms/step - loss: 0.5196 - accuracy: 0.7427 - val_loss: 0.4586 - val_accuracy: 0.8750\n",
            "Epoch 9/10\n",
            "25/25 [==============================] - 1s 39ms/step - loss: 0.5190 - accuracy: 0.7298 - val_loss: 0.4602 - val_accuracy: 0.8750\n",
            "Epoch 10/10\n",
            "25/25 [==============================] - 1s 38ms/step - loss: 0.5193 - accuracy: 0.7540 - val_loss: 0.4658 - val_accuracy: 0.8500\n",
            "40/40 [==============================] - 0s 2ms/step - loss: 0.4658 - accuracy: 0.8500\n",
            "Epoch 1/10\n",
            "25/25 [==============================] - 1s 39ms/step - loss: 0.5309 - accuracy: 0.7331 - val_loss: 0.3900 - val_accuracy: 0.8250\n",
            "Epoch 2/10\n",
            "25/25 [==============================] - 1s 37ms/step - loss: 0.5305 - accuracy: 0.7476 - val_loss: 0.4005 - val_accuracy: 0.8500\n",
            "Epoch 3/10\n",
            "25/25 [==============================] - 1s 38ms/step - loss: 0.5105 - accuracy: 0.7669 - val_loss: 0.4011 - val_accuracy: 0.8250\n",
            "Epoch 4/10\n",
            "25/25 [==============================] - 1s 38ms/step - loss: 0.5160 - accuracy: 0.7411 - val_loss: 0.4153 - val_accuracy: 0.8250\n",
            "Epoch 5/10\n",
            "25/25 [==============================] - 1s 38ms/step - loss: 0.5274 - accuracy: 0.7306 - val_loss: 0.4106 - val_accuracy: 0.8000\n",
            "Epoch 6/10\n",
            "25/25 [==============================] - 1s 38ms/step - loss: 0.5080 - accuracy: 0.7556 - val_loss: 0.4145 - val_accuracy: 0.8250\n",
            "Epoch 7/10\n",
            "25/25 [==============================] - 1s 38ms/step - loss: 0.5291 - accuracy: 0.7387 - val_loss: 0.4193 - val_accuracy: 0.8250\n",
            "Epoch 8/10\n",
            "25/25 [==============================] - 1s 38ms/step - loss: 0.5240 - accuracy: 0.7387 - val_loss: 0.4148 - val_accuracy: 0.8250\n",
            "Epoch 9/10\n",
            "25/25 [==============================] - 1s 39ms/step - loss: 0.5174 - accuracy: 0.7435 - val_loss: 0.4178 - val_accuracy: 0.8250\n",
            "Epoch 10/10\n",
            "25/25 [==============================] - 1s 38ms/step - loss: 0.5299 - accuracy: 0.7444 - val_loss: 0.4143 - val_accuracy: 0.8250\n",
            "40/40 [==============================] - 0s 2ms/step - loss: 0.4143 - accuracy: 0.8250\n",
            "Epoch 1/10\n",
            "25/25 [==============================] - 1s 46ms/step - loss: 0.5063 - accuracy: 0.7403 - val_loss: 0.3809 - val_accuracy: 0.8750\n",
            "Epoch 2/10\n",
            "25/25 [==============================] - 1s 38ms/step - loss: 0.5267 - accuracy: 0.7500 - val_loss: 0.3888 - val_accuracy: 0.8250\n",
            "Epoch 3/10\n",
            "25/25 [==============================] - 1s 38ms/step - loss: 0.5239 - accuracy: 0.7355 - val_loss: 0.3820 - val_accuracy: 0.8750\n",
            "Epoch 4/10\n",
            "25/25 [==============================] - 1s 38ms/step - loss: 0.5067 - accuracy: 0.7492 - val_loss: 0.3820 - val_accuracy: 0.8500\n",
            "Epoch 5/10\n",
            "25/25 [==============================] - 1s 37ms/step - loss: 0.5223 - accuracy: 0.7427 - val_loss: 0.3831 - val_accuracy: 0.8750\n",
            "Epoch 6/10\n",
            "25/25 [==============================] - 1s 38ms/step - loss: 0.5100 - accuracy: 0.7548 - val_loss: 0.3759 - val_accuracy: 0.8500\n",
            "Epoch 7/10\n",
            "25/25 [==============================] - 1s 38ms/step - loss: 0.5180 - accuracy: 0.7516 - val_loss: 0.3806 - val_accuracy: 0.8250\n",
            "Epoch 8/10\n",
            "25/25 [==============================] - 1s 38ms/step - loss: 0.5207 - accuracy: 0.7347 - val_loss: 0.3729 - val_accuracy: 0.8750\n",
            "Epoch 9/10\n",
            "25/25 [==============================] - 1s 39ms/step - loss: 0.5026 - accuracy: 0.7516 - val_loss: 0.3795 - val_accuracy: 0.8750\n",
            "Epoch 10/10\n",
            "25/25 [==============================] - 1s 38ms/step - loss: 0.5111 - accuracy: 0.7532 - val_loss: 0.3747 - val_accuracy: 0.8750\n",
            "40/40 [==============================] - 0s 2ms/step - loss: 0.3747 - accuracy: 0.8750\n",
            "Epoch 1/10\n",
            "25/25 [==============================] - 1s 40ms/step - loss: 0.5093 - accuracy: 0.7500 - val_loss: 0.3247 - val_accuracy: 0.9250\n",
            "Epoch 2/10\n",
            "25/25 [==============================] - 1s 38ms/step - loss: 0.5031 - accuracy: 0.7460 - val_loss: 0.3251 - val_accuracy: 0.9250\n",
            "Epoch 3/10\n",
            "25/25 [==============================] - 1s 38ms/step - loss: 0.4997 - accuracy: 0.7492 - val_loss: 0.3243 - val_accuracy: 0.9250\n",
            "Epoch 4/10\n",
            "25/25 [==============================] - 1s 38ms/step - loss: 0.5153 - accuracy: 0.7484 - val_loss: 0.3267 - val_accuracy: 0.9250\n",
            "Epoch 5/10\n",
            "25/25 [==============================] - 1s 37ms/step - loss: 0.4927 - accuracy: 0.7710 - val_loss: 0.3264 - val_accuracy: 0.9250\n",
            "Epoch 6/10\n",
            "25/25 [==============================] - 1s 38ms/step - loss: 0.5182 - accuracy: 0.7403 - val_loss: 0.3322 - val_accuracy: 0.9250\n",
            "Epoch 7/10\n",
            "25/25 [==============================] - 1s 38ms/step - loss: 0.4968 - accuracy: 0.7556 - val_loss: 0.3457 - val_accuracy: 0.9000\n",
            "Epoch 8/10\n",
            "25/25 [==============================] - 1s 37ms/step - loss: 0.5277 - accuracy: 0.7339 - val_loss: 0.3352 - val_accuracy: 0.9250\n",
            "Epoch 9/10\n",
            "25/25 [==============================] - 1s 37ms/step - loss: 0.5083 - accuracy: 0.7508 - val_loss: 0.3305 - val_accuracy: 0.9250\n",
            "Epoch 10/10\n",
            "25/25 [==============================] - 1s 37ms/step - loss: 0.4893 - accuracy: 0.7548 - val_loss: 0.3262 - val_accuracy: 0.9250\n",
            "40/40 [==============================] - 0s 2ms/step - loss: 0.3262 - accuracy: 0.9250\n",
            "Epoch 1/10\n",
            "25/25 [==============================] - 1s 39ms/step - loss: 0.5155 - accuracy: 0.7379 - val_loss: 0.3801 - val_accuracy: 0.8750\n",
            "Epoch 2/10\n",
            "25/25 [==============================] - 1s 39ms/step - loss: 0.4857 - accuracy: 0.7597 - val_loss: 0.3920 - val_accuracy: 0.8250\n",
            "Epoch 3/10\n",
            "25/25 [==============================] - 1s 38ms/step - loss: 0.5119 - accuracy: 0.7524 - val_loss: 0.3902 - val_accuracy: 0.8250\n",
            "Epoch 4/10\n",
            "25/25 [==============================] - 1s 38ms/step - loss: 0.4848 - accuracy: 0.7758 - val_loss: 0.3807 - val_accuracy: 0.9000\n",
            "Epoch 5/10\n",
            "25/25 [==============================] - 1s 37ms/step - loss: 0.5070 - accuracy: 0.7476 - val_loss: 0.3869 - val_accuracy: 0.9000\n",
            "Epoch 6/10\n",
            "25/25 [==============================] - 1s 38ms/step - loss: 0.5069 - accuracy: 0.7540 - val_loss: 0.4011 - val_accuracy: 0.8500\n",
            "Epoch 7/10\n",
            "25/25 [==============================] - 1s 37ms/step - loss: 0.4874 - accuracy: 0.7589 - val_loss: 0.3929 - val_accuracy: 0.9000\n",
            "Epoch 8/10\n",
            "25/25 [==============================] - 1s 37ms/step - loss: 0.5095 - accuracy: 0.7524 - val_loss: 0.3954 - val_accuracy: 0.9000\n",
            "Epoch 9/10\n",
            "25/25 [==============================] - 1s 38ms/step - loss: 0.5051 - accuracy: 0.7548 - val_loss: 0.3986 - val_accuracy: 0.8750\n",
            "Epoch 10/10\n",
            "25/25 [==============================] - 1s 38ms/step - loss: 0.4951 - accuracy: 0.7677 - val_loss: 0.3959 - val_accuracy: 0.9000\n",
            "40/40 [==============================] - 0s 2ms/step - loss: 0.3959 - accuracy: 0.9000\n",
            "Epoch 1/10\n",
            "25/25 [==============================] - 1s 39ms/step - loss: 0.4786 - accuracy: 0.7750 - val_loss: 0.3756 - val_accuracy: 0.9000\n",
            "Epoch 2/10\n",
            "25/25 [==============================] - 1s 37ms/step - loss: 0.4996 - accuracy: 0.7637 - val_loss: 0.3776 - val_accuracy: 0.9250\n",
            "Epoch 3/10\n",
            "25/25 [==============================] - 1s 38ms/step - loss: 0.4922 - accuracy: 0.7508 - val_loss: 0.3786 - val_accuracy: 0.9000\n",
            "Epoch 4/10\n",
            "25/25 [==============================] - 1s 38ms/step - loss: 0.5092 - accuracy: 0.7597 - val_loss: 0.3803 - val_accuracy: 0.8750\n",
            "Epoch 5/10\n",
            "25/25 [==============================] - 1s 38ms/step - loss: 0.4761 - accuracy: 0.7750 - val_loss: 0.3749 - val_accuracy: 0.9000\n",
            "Epoch 6/10\n",
            "25/25 [==============================] - 1s 37ms/step - loss: 0.4969 - accuracy: 0.7637 - val_loss: 0.3945 - val_accuracy: 0.8750\n",
            "Epoch 7/10\n",
            "25/25 [==============================] - 1s 38ms/step - loss: 0.4923 - accuracy: 0.7548 - val_loss: 0.3782 - val_accuracy: 0.9000\n",
            "Epoch 8/10\n",
            "25/25 [==============================] - 1s 38ms/step - loss: 0.4982 - accuracy: 0.7621 - val_loss: 0.3794 - val_accuracy: 0.8750\n",
            "Epoch 9/10\n",
            "25/25 [==============================] - 1s 38ms/step - loss: 0.4969 - accuracy: 0.7565 - val_loss: 0.3863 - val_accuracy: 0.8750\n",
            "Epoch 10/10\n",
            "25/25 [==============================] - 1s 38ms/step - loss: 0.4921 - accuracy: 0.7685 - val_loss: 0.3851 - val_accuracy: 0.8750\n",
            "40/40 [==============================] - 0s 2ms/step - loss: 0.3851 - accuracy: 0.8750\n",
            "Epoch 1/10\n",
            "25/25 [==============================] - 1s 39ms/step - loss: 0.4795 - accuracy: 0.7702 - val_loss: 0.2972 - val_accuracy: 0.9250\n",
            "Epoch 2/10\n",
            "25/25 [==============================] - 1s 37ms/step - loss: 0.4883 - accuracy: 0.7613 - val_loss: 0.2969 - val_accuracy: 0.9000\n",
            "Epoch 3/10\n",
            "25/25 [==============================] - 1s 37ms/step - loss: 0.4919 - accuracy: 0.7581 - val_loss: 0.3039 - val_accuracy: 0.9000\n",
            "Epoch 4/10\n",
            "25/25 [==============================] - 1s 37ms/step - loss: 0.5032 - accuracy: 0.7524 - val_loss: 0.3011 - val_accuracy: 0.9000\n",
            "Epoch 5/10\n",
            "25/25 [==============================] - 1s 38ms/step - loss: 0.4974 - accuracy: 0.7653 - val_loss: 0.3001 - val_accuracy: 0.9000\n",
            "Epoch 6/10\n",
            "25/25 [==============================] - 1s 38ms/step - loss: 0.5034 - accuracy: 0.7565 - val_loss: 0.2964 - val_accuracy: 0.9000\n",
            "Epoch 7/10\n",
            "25/25 [==============================] - 1s 38ms/step - loss: 0.4853 - accuracy: 0.7839 - val_loss: 0.3022 - val_accuracy: 0.9250\n",
            "Epoch 8/10\n",
            "25/25 [==============================] - 1s 39ms/step - loss: 0.4874 - accuracy: 0.7677 - val_loss: 0.2960 - val_accuracy: 0.8750\n",
            "Epoch 9/10\n",
            "25/25 [==============================] - 1s 38ms/step - loss: 0.4979 - accuracy: 0.7726 - val_loss: 0.3031 - val_accuracy: 0.9000\n",
            "Epoch 10/10\n",
            "25/25 [==============================] - 1s 38ms/step - loss: 0.4824 - accuracy: 0.7637 - val_loss: 0.2991 - val_accuracy: 0.8750\n",
            "40/40 [==============================] - 0s 2ms/step - loss: 0.2991 - accuracy: 0.8750\n"
          ],
          "name": "stdout"
        }
      ]
    },
    {
      "cell_type": "code",
      "metadata": {
        "id": "BRISqgVTr0mN",
        "outputId": "f60d778c-1331-4e3c-9844-1581d91603ba",
        "colab": {
          "base_uri": "https://localhost:8080/",
          "height": 1000
        }
      },
      "source": [
        "best_model_hyperband = load_model('hyperbandModel')\n",
        "hyperband_losses, hyperband_accuracies = kfold_validate(X, y_valance, best_model_hyperband)"
      ],
      "execution_count": null,
      "outputs": [
        {
          "output_type": "stream",
          "text": [
            "Epoch 1/10\n",
            " 2/25 [=>............................] - ETA: 0s - loss: 0.7646 - accuracy: 0.5300WARNING:tensorflow:Callbacks method `on_train_batch_end` is slow compared to the batch time (batch time: 0.0187s vs `on_train_batch_end` time: 0.0313s). Check your callbacks.\n",
            "25/25 [==============================] - 1s 44ms/step - loss: 0.8213 - accuracy: 0.5024 - val_loss: 0.7154 - val_accuracy: 0.4250\n",
            "Epoch 2/10\n",
            "25/25 [==============================] - 1s 38ms/step - loss: 0.7592 - accuracy: 0.5081 - val_loss: 0.7218 - val_accuracy: 0.4750\n",
            "Epoch 3/10\n",
            "25/25 [==============================] - 1s 37ms/step - loss: 0.7249 - accuracy: 0.5145 - val_loss: 0.7106 - val_accuracy: 0.4500\n",
            "Epoch 4/10\n",
            "25/25 [==============================] - 1s 39ms/step - loss: 0.7148 - accuracy: 0.5169 - val_loss: 0.7121 - val_accuracy: 0.4750\n",
            "Epoch 5/10\n",
            "25/25 [==============================] - 1s 39ms/step - loss: 0.7125 - accuracy: 0.5315 - val_loss: 0.7123 - val_accuracy: 0.4750\n",
            "Epoch 6/10\n",
            "25/25 [==============================] - 1s 37ms/step - loss: 0.6930 - accuracy: 0.5694 - val_loss: 0.7128 - val_accuracy: 0.4750\n",
            "Epoch 7/10\n",
            "25/25 [==============================] - 1s 37ms/step - loss: 0.7037 - accuracy: 0.5331 - val_loss: 0.7009 - val_accuracy: 0.4250\n",
            "Epoch 8/10\n",
            "25/25 [==============================] - 1s 39ms/step - loss: 0.7017 - accuracy: 0.5234 - val_loss: 0.7004 - val_accuracy: 0.4250\n",
            "Epoch 9/10\n",
            "25/25 [==============================] - 1s 38ms/step - loss: 0.7037 - accuracy: 0.5339 - val_loss: 0.7081 - val_accuracy: 0.4750\n",
            "Epoch 10/10\n",
            "25/25 [==============================] - 1s 38ms/step - loss: 0.6986 - accuracy: 0.5444 - val_loss: 0.7045 - val_accuracy: 0.4750\n",
            "40/40 [==============================] - 0s 2ms/step - loss: 0.7045 - accuracy: 0.4750\n",
            "Epoch 1/10\n",
            "25/25 [==============================] - 1s 39ms/step - loss: 0.6980 - accuracy: 0.5266 - val_loss: 0.6742 - val_accuracy: 0.6750\n",
            "Epoch 2/10\n",
            "25/25 [==============================] - 1s 39ms/step - loss: 0.7001 - accuracy: 0.5548 - val_loss: 0.6731 - val_accuracy: 0.6250\n",
            "Epoch 3/10\n",
            "25/25 [==============================] - 1s 39ms/step - loss: 0.6924 - accuracy: 0.5492 - val_loss: 0.6735 - val_accuracy: 0.6750\n",
            "Epoch 4/10\n",
            "25/25 [==============================] - 1s 39ms/step - loss: 0.6971 - accuracy: 0.5161 - val_loss: 0.6733 - val_accuracy: 0.6000\n",
            "Epoch 5/10\n",
            "25/25 [==============================] - 1s 39ms/step - loss: 0.6996 - accuracy: 0.5371 - val_loss: 0.6735 - val_accuracy: 0.6500\n",
            "Epoch 6/10\n",
            "25/25 [==============================] - 1s 39ms/step - loss: 0.6992 - accuracy: 0.5242 - val_loss: 0.6725 - val_accuracy: 0.6000\n",
            "Epoch 7/10\n",
            "25/25 [==============================] - 1s 39ms/step - loss: 0.6862 - accuracy: 0.5605 - val_loss: 0.6720 - val_accuracy: 0.6000\n",
            "Epoch 8/10\n",
            "25/25 [==============================] - 1s 38ms/step - loss: 0.6884 - accuracy: 0.5476 - val_loss: 0.6706 - val_accuracy: 0.6000\n",
            "Epoch 9/10\n",
            "25/25 [==============================] - 1s 38ms/step - loss: 0.6917 - accuracy: 0.5371 - val_loss: 0.6700 - val_accuracy: 0.6000\n",
            "Epoch 10/10\n",
            "25/25 [==============================] - 1s 38ms/step - loss: 0.6839 - accuracy: 0.5653 - val_loss: 0.6700 - val_accuracy: 0.6000\n",
            "40/40 [==============================] - 0s 2ms/step - loss: 0.6700 - accuracy: 0.6000\n",
            "Epoch 1/10\n",
            "25/25 [==============================] - 1s 40ms/step - loss: 0.6873 - accuracy: 0.5581 - val_loss: 0.6805 - val_accuracy: 0.5500\n",
            "Epoch 2/10\n",
            "25/25 [==============================] - 1s 38ms/step - loss: 0.6870 - accuracy: 0.5484 - val_loss: 0.6805 - val_accuracy: 0.5500\n",
            "Epoch 3/10\n",
            "25/25 [==============================] - 1s 39ms/step - loss: 0.6892 - accuracy: 0.5427 - val_loss: 0.6809 - val_accuracy: 0.5500\n",
            "Epoch 4/10\n",
            "25/25 [==============================] - 1s 39ms/step - loss: 0.6763 - accuracy: 0.5790 - val_loss: 0.6814 - val_accuracy: 0.5500\n",
            "Epoch 5/10\n",
            "25/25 [==============================] - 1s 38ms/step - loss: 0.6877 - accuracy: 0.5573 - val_loss: 0.6812 - val_accuracy: 0.5500\n",
            "Epoch 6/10\n",
            "25/25 [==============================] - 1s 38ms/step - loss: 0.6835 - accuracy: 0.5718 - val_loss: 0.6817 - val_accuracy: 0.5500\n",
            "Epoch 7/10\n",
            "25/25 [==============================] - 1s 38ms/step - loss: 0.6872 - accuracy: 0.5573 - val_loss: 0.6813 - val_accuracy: 0.5500\n",
            "Epoch 8/10\n",
            "25/25 [==============================] - 1s 38ms/step - loss: 0.6874 - accuracy: 0.5613 - val_loss: 0.6810 - val_accuracy: 0.5500\n",
            "Epoch 9/10\n",
            "25/25 [==============================] - 1s 38ms/step - loss: 0.6907 - accuracy: 0.5476 - val_loss: 0.6816 - val_accuracy: 0.5500\n",
            "Epoch 10/10\n",
            "25/25 [==============================] - 1s 38ms/step - loss: 0.6845 - accuracy: 0.5589 - val_loss: 0.6823 - val_accuracy: 0.5500\n",
            "40/40 [==============================] - 0s 2ms/step - loss: 0.6823 - accuracy: 0.5500\n",
            "Epoch 1/10\n",
            "25/25 [==============================] - 1s 39ms/step - loss: 0.6824 - accuracy: 0.5548 - val_loss: 0.6962 - val_accuracy: 0.5250\n",
            "Epoch 2/10\n",
            "25/25 [==============================] - 1s 38ms/step - loss: 0.6781 - accuracy: 0.5839 - val_loss: 0.6952 - val_accuracy: 0.5000\n",
            "Epoch 3/10\n",
            "25/25 [==============================] - 1s 38ms/step - loss: 0.6894 - accuracy: 0.5371 - val_loss: 0.6929 - val_accuracy: 0.5250\n",
            "Epoch 4/10\n",
            "25/25 [==============================] - 1s 37ms/step - loss: 0.6868 - accuracy: 0.5540 - val_loss: 0.6958 - val_accuracy: 0.5250\n",
            "Epoch 5/10\n",
            "25/25 [==============================] - 1s 38ms/step - loss: 0.6784 - accuracy: 0.5581 - val_loss: 0.6984 - val_accuracy: 0.4500\n",
            "Epoch 6/10\n",
            "25/25 [==============================] - 1s 37ms/step - loss: 0.6866 - accuracy: 0.5556 - val_loss: 0.6955 - val_accuracy: 0.5250\n",
            "Epoch 7/10\n",
            "25/25 [==============================] - 1s 38ms/step - loss: 0.6845 - accuracy: 0.5669 - val_loss: 0.6966 - val_accuracy: 0.5250\n",
            "Epoch 8/10\n",
            "25/25 [==============================] - 1s 38ms/step - loss: 0.6836 - accuracy: 0.5726 - val_loss: 0.6975 - val_accuracy: 0.5000\n",
            "Epoch 9/10\n",
            "25/25 [==============================] - 1s 37ms/step - loss: 0.6837 - accuracy: 0.5960 - val_loss: 0.6979 - val_accuracy: 0.5000\n",
            "Epoch 10/10\n",
            "25/25 [==============================] - 1s 38ms/step - loss: 0.6805 - accuracy: 0.5685 - val_loss: 0.6948 - val_accuracy: 0.5250\n",
            "40/40 [==============================] - 0s 2ms/step - loss: 0.6948 - accuracy: 0.5250\n",
            "Epoch 1/10\n",
            "25/25 [==============================] - 1s 39ms/step - loss: 0.6802 - accuracy: 0.5710 - val_loss: 0.6444 - val_accuracy: 0.7000\n",
            "Epoch 2/10\n",
            "25/25 [==============================] - 1s 38ms/step - loss: 0.6719 - accuracy: 0.5952 - val_loss: 0.6437 - val_accuracy: 0.6750\n",
            "Epoch 3/10\n",
            "25/25 [==============================] - 1s 37ms/step - loss: 0.6837 - accuracy: 0.5524 - val_loss: 0.6443 - val_accuracy: 0.7000\n",
            "Epoch 4/10\n",
            "25/25 [==============================] - 1s 37ms/step - loss: 0.6860 - accuracy: 0.5645 - val_loss: 0.6463 - val_accuracy: 0.7250\n",
            "Epoch 5/10\n",
            "25/25 [==============================] - 1s 38ms/step - loss: 0.6792 - accuracy: 0.5653 - val_loss: 0.6439 - val_accuracy: 0.7000\n",
            "Epoch 6/10\n",
            "25/25 [==============================] - 1s 38ms/step - loss: 0.6778 - accuracy: 0.5581 - val_loss: 0.6420 - val_accuracy: 0.6500\n",
            "Epoch 7/10\n",
            "25/25 [==============================] - 1s 38ms/step - loss: 0.6798 - accuracy: 0.5782 - val_loss: 0.6465 - val_accuracy: 0.7250\n",
            "Epoch 8/10\n",
            "25/25 [==============================] - 1s 37ms/step - loss: 0.6746 - accuracy: 0.5823 - val_loss: 0.6454 - val_accuracy: 0.7000\n",
            "Epoch 9/10\n",
            "25/25 [==============================] - 1s 38ms/step - loss: 0.6718 - accuracy: 0.5798 - val_loss: 0.6456 - val_accuracy: 0.7000\n",
            "Epoch 10/10\n",
            "25/25 [==============================] - 1s 38ms/step - loss: 0.6705 - accuracy: 0.5919 - val_loss: 0.6441 - val_accuracy: 0.7000\n",
            "40/40 [==============================] - 0s 2ms/step - loss: 0.6441 - accuracy: 0.7000\n",
            "Epoch 1/10\n",
            "25/25 [==============================] - 1s 39ms/step - loss: 0.6774 - accuracy: 0.5774 - val_loss: 0.6146 - val_accuracy: 0.7500\n",
            "Epoch 2/10\n",
            "25/25 [==============================] - 1s 38ms/step - loss: 0.6770 - accuracy: 0.5758 - val_loss: 0.6069 - val_accuracy: 0.7500\n",
            "Epoch 3/10\n",
            "25/25 [==============================] - 1s 37ms/step - loss: 0.6706 - accuracy: 0.5798 - val_loss: 0.6057 - val_accuracy: 0.7500\n",
            "Epoch 4/10\n",
            "25/25 [==============================] - 1s 38ms/step - loss: 0.6784 - accuracy: 0.5677 - val_loss: 0.6051 - val_accuracy: 0.7500\n",
            "Epoch 5/10\n",
            "25/25 [==============================] - 1s 37ms/step - loss: 0.6823 - accuracy: 0.5750 - val_loss: 0.6003 - val_accuracy: 0.7500\n",
            "Epoch 6/10\n",
            "25/25 [==============================] - 1s 38ms/step - loss: 0.6773 - accuracy: 0.5839 - val_loss: 0.6150 - val_accuracy: 0.7500\n",
            "Epoch 7/10\n",
            "25/25 [==============================] - 1s 38ms/step - loss: 0.6768 - accuracy: 0.5669 - val_loss: 0.6063 - val_accuracy: 0.7500\n",
            "Epoch 8/10\n",
            "25/25 [==============================] - 1s 37ms/step - loss: 0.6802 - accuracy: 0.5710 - val_loss: 0.6093 - val_accuracy: 0.7500\n",
            "Epoch 9/10\n",
            "25/25 [==============================] - 1s 37ms/step - loss: 0.6700 - accuracy: 0.5726 - val_loss: 0.6081 - val_accuracy: 0.7500\n",
            "Epoch 10/10\n",
            "25/25 [==============================] - 1s 38ms/step - loss: 0.6719 - accuracy: 0.5887 - val_loss: 0.6113 - val_accuracy: 0.7500\n",
            "40/40 [==============================] - 0s 2ms/step - loss: 0.6113 - accuracy: 0.7500\n",
            "Epoch 1/10\n",
            "25/25 [==============================] - 1s 38ms/step - loss: 0.6775 - accuracy: 0.5774 - val_loss: 0.6423 - val_accuracy: 0.7000\n",
            "Epoch 2/10\n",
            "25/25 [==============================] - 1s 37ms/step - loss: 0.6666 - accuracy: 0.5887 - val_loss: 0.6373 - val_accuracy: 0.7000\n",
            "Epoch 3/10\n",
            "25/25 [==============================] - 1s 37ms/step - loss: 0.6696 - accuracy: 0.5887 - val_loss: 0.6396 - val_accuracy: 0.7000\n",
            "Epoch 4/10\n",
            "25/25 [==============================] - 1s 38ms/step - loss: 0.6734 - accuracy: 0.5798 - val_loss: 0.6416 - val_accuracy: 0.7000\n",
            "Epoch 5/10\n",
            "25/25 [==============================] - 1s 38ms/step - loss: 0.6757 - accuracy: 0.5944 - val_loss: 0.6452 - val_accuracy: 0.7000\n",
            "Epoch 6/10\n",
            "25/25 [==============================] - 1s 37ms/step - loss: 0.6737 - accuracy: 0.5887 - val_loss: 0.6390 - val_accuracy: 0.7000\n",
            "Epoch 7/10\n",
            "25/25 [==============================] - 1s 38ms/step - loss: 0.6730 - accuracy: 0.5702 - val_loss: 0.6419 - val_accuracy: 0.7000\n",
            "Epoch 8/10\n",
            "25/25 [==============================] - 1s 37ms/step - loss: 0.6682 - accuracy: 0.6113 - val_loss: 0.6418 - val_accuracy: 0.7000\n",
            "Epoch 9/10\n",
            "25/25 [==============================] - 1s 38ms/step - loss: 0.6668 - accuracy: 0.5831 - val_loss: 0.6399 - val_accuracy: 0.7000\n",
            "Epoch 10/10\n",
            "25/25 [==============================] - 1s 38ms/step - loss: 0.6707 - accuracy: 0.5831 - val_loss: 0.6389 - val_accuracy: 0.7000\n",
            "40/40 [==============================] - 0s 2ms/step - loss: 0.6389 - accuracy: 0.7000\n",
            "Epoch 1/10\n",
            "25/25 [==============================] - 1s 39ms/step - loss: 0.6724 - accuracy: 0.5911 - val_loss: 0.6997 - val_accuracy: 0.5500\n",
            "Epoch 2/10\n",
            "25/25 [==============================] - 1s 38ms/step - loss: 0.6620 - accuracy: 0.6089 - val_loss: 0.7004 - val_accuracy: 0.5500\n",
            "Epoch 3/10\n",
            "25/25 [==============================] - 1s 38ms/step - loss: 0.6719 - accuracy: 0.5976 - val_loss: 0.6996 - val_accuracy: 0.5500\n",
            "Epoch 4/10\n",
            "25/25 [==============================] - 1s 38ms/step - loss: 0.6567 - accuracy: 0.6185 - val_loss: 0.6993 - val_accuracy: 0.5250\n",
            "Epoch 5/10\n",
            "25/25 [==============================] - 1s 38ms/step - loss: 0.6644 - accuracy: 0.5935 - val_loss: 0.6993 - val_accuracy: 0.5250\n",
            "Epoch 6/10\n",
            "25/25 [==============================] - 1s 37ms/step - loss: 0.6632 - accuracy: 0.6129 - val_loss: 0.6998 - val_accuracy: 0.5250\n",
            "Epoch 7/10\n",
            "25/25 [==============================] - 1s 37ms/step - loss: 0.6580 - accuracy: 0.6024 - val_loss: 0.6997 - val_accuracy: 0.5500\n",
            "Epoch 8/10\n",
            "25/25 [==============================] - 1s 37ms/step - loss: 0.6685 - accuracy: 0.6097 - val_loss: 0.6990 - val_accuracy: 0.5750\n",
            "Epoch 9/10\n",
            "25/25 [==============================] - 1s 38ms/step - loss: 0.6634 - accuracy: 0.5935 - val_loss: 0.6983 - val_accuracy: 0.5750\n",
            "Epoch 10/10\n",
            "25/25 [==============================] - 1s 38ms/step - loss: 0.6646 - accuracy: 0.5718 - val_loss: 0.6987 - val_accuracy: 0.5750\n",
            "40/40 [==============================] - 0s 2ms/step - loss: 0.6987 - accuracy: 0.5750\n",
            "Epoch 1/10\n",
            "25/25 [==============================] - 1s 39ms/step - loss: 0.6588 - accuracy: 0.6073 - val_loss: 0.6555 - val_accuracy: 0.6500\n",
            "Epoch 2/10\n",
            "25/25 [==============================] - 1s 38ms/step - loss: 0.6658 - accuracy: 0.5976 - val_loss: 0.6545 - val_accuracy: 0.6250\n",
            "Epoch 3/10\n",
            "25/25 [==============================] - 1s 37ms/step - loss: 0.6674 - accuracy: 0.5863 - val_loss: 0.6537 - val_accuracy: 0.6500\n",
            "Epoch 4/10\n",
            "25/25 [==============================] - 1s 38ms/step - loss: 0.6614 - accuracy: 0.6056 - val_loss: 0.6542 - val_accuracy: 0.6500\n",
            "Epoch 5/10\n",
            "25/25 [==============================] - 1s 37ms/step - loss: 0.6630 - accuracy: 0.5968 - val_loss: 0.6540 - val_accuracy: 0.6500\n",
            "Epoch 6/10\n",
            "25/25 [==============================] - 1s 39ms/step - loss: 0.6583 - accuracy: 0.6113 - val_loss: 0.6532 - val_accuracy: 0.6750\n",
            "Epoch 7/10\n",
            "25/25 [==============================] - 1s 38ms/step - loss: 0.6519 - accuracy: 0.6323 - val_loss: 0.6540 - val_accuracy: 0.6500\n",
            "Epoch 8/10\n",
            "25/25 [==============================] - 1s 37ms/step - loss: 0.6564 - accuracy: 0.6194 - val_loss: 0.6530 - val_accuracy: 0.6750\n",
            "Epoch 9/10\n",
            "25/25 [==============================] - 1s 37ms/step - loss: 0.6599 - accuracy: 0.6032 - val_loss: 0.6529 - val_accuracy: 0.6500\n",
            "Epoch 10/10\n",
            "25/25 [==============================] - 1s 38ms/step - loss: 0.6547 - accuracy: 0.5992 - val_loss: 0.6524 - val_accuracy: 0.6750\n",
            "40/40 [==============================] - 0s 2ms/step - loss: 0.6524 - accuracy: 0.6750\n",
            "Epoch 1/10\n",
            "25/25 [==============================] - 1s 38ms/step - loss: 0.6667 - accuracy: 0.5960 - val_loss: 0.6378 - val_accuracy: 0.7500\n",
            "Epoch 2/10\n",
            "25/25 [==============================] - 1s 38ms/step - loss: 0.6517 - accuracy: 0.6105 - val_loss: 0.6381 - val_accuracy: 0.7000\n",
            "Epoch 3/10\n",
            "25/25 [==============================] - 1s 37ms/step - loss: 0.6517 - accuracy: 0.6226 - val_loss: 0.6376 - val_accuracy: 0.7000\n",
            "Epoch 4/10\n",
            "25/25 [==============================] - 1s 38ms/step - loss: 0.6569 - accuracy: 0.6032 - val_loss: 0.6354 - val_accuracy: 0.7250\n",
            "Epoch 5/10\n",
            "25/25 [==============================] - 1s 38ms/step - loss: 0.6655 - accuracy: 0.5903 - val_loss: 0.6345 - val_accuracy: 0.7500\n",
            "Epoch 6/10\n",
            "25/25 [==============================] - 1s 38ms/step - loss: 0.6633 - accuracy: 0.6161 - val_loss: 0.6372 - val_accuracy: 0.7000\n",
            "Epoch 7/10\n",
            "25/25 [==============================] - 1s 37ms/step - loss: 0.6614 - accuracy: 0.6048 - val_loss: 0.6358 - val_accuracy: 0.7750\n",
            "Epoch 8/10\n",
            "25/25 [==============================] - 1s 38ms/step - loss: 0.6524 - accuracy: 0.6194 - val_loss: 0.6362 - val_accuracy: 0.7250\n",
            "Epoch 9/10\n",
            "25/25 [==============================] - 1s 38ms/step - loss: 0.6465 - accuracy: 0.6161 - val_loss: 0.6356 - val_accuracy: 0.7750\n",
            "Epoch 10/10\n",
            "25/25 [==============================] - 1s 38ms/step - loss: 0.6565 - accuracy: 0.6121 - val_loss: 0.6358 - val_accuracy: 0.7500\n",
            "40/40 [==============================] - 0s 2ms/step - loss: 0.6358 - accuracy: 0.7500\n",
            "Epoch 1/10\n",
            "25/25 [==============================] - 1s 39ms/step - loss: 0.6598 - accuracy: 0.6145 - val_loss: 0.6114 - val_accuracy: 0.6750\n",
            "Epoch 2/10\n",
            "25/25 [==============================] - 1s 38ms/step - loss: 0.6484 - accuracy: 0.6185 - val_loss: 0.6086 - val_accuracy: 0.6250\n",
            "Epoch 3/10\n",
            "25/25 [==============================] - 1s 38ms/step - loss: 0.6453 - accuracy: 0.6226 - val_loss: 0.6102 - val_accuracy: 0.6250\n",
            "Epoch 4/10\n",
            "25/25 [==============================] - 1s 37ms/step - loss: 0.6556 - accuracy: 0.6145 - val_loss: 0.6132 - val_accuracy: 0.6750\n",
            "Epoch 5/10\n",
            "25/25 [==============================] - 1s 37ms/step - loss: 0.6538 - accuracy: 0.6065 - val_loss: 0.6108 - val_accuracy: 0.6750\n",
            "Epoch 6/10\n",
            "25/25 [==============================] - 1s 38ms/step - loss: 0.6499 - accuracy: 0.6250 - val_loss: 0.6073 - val_accuracy: 0.6250\n",
            "Epoch 7/10\n",
            "25/25 [==============================] - 1s 38ms/step - loss: 0.6651 - accuracy: 0.5887 - val_loss: 0.6126 - val_accuracy: 0.7000\n",
            "Epoch 8/10\n",
            "25/25 [==============================] - 1s 38ms/step - loss: 0.6446 - accuracy: 0.6234 - val_loss: 0.6088 - val_accuracy: 0.6250\n",
            "Epoch 9/10\n",
            "25/25 [==============================] - 1s 38ms/step - loss: 0.6641 - accuracy: 0.6065 - val_loss: 0.6118 - val_accuracy: 0.7000\n",
            "Epoch 10/10\n",
            "25/25 [==============================] - 1s 38ms/step - loss: 0.6489 - accuracy: 0.6153 - val_loss: 0.6096 - val_accuracy: 0.6750\n",
            "40/40 [==============================] - 0s 2ms/step - loss: 0.6096 - accuracy: 0.6750\n",
            "Epoch 1/10\n",
            "25/25 [==============================] - 1s 39ms/step - loss: 0.6523 - accuracy: 0.6169 - val_loss: 0.6586 - val_accuracy: 0.7750\n",
            "Epoch 2/10\n",
            "25/25 [==============================] - 1s 37ms/step - loss: 0.6494 - accuracy: 0.6202 - val_loss: 0.6582 - val_accuracy: 0.7750\n",
            "Epoch 3/10\n",
            "25/25 [==============================] - 1s 38ms/step - loss: 0.6411 - accuracy: 0.6444 - val_loss: 0.6583 - val_accuracy: 0.7500\n",
            "Epoch 4/10\n",
            "25/25 [==============================] - 1s 38ms/step - loss: 0.6460 - accuracy: 0.6065 - val_loss: 0.6589 - val_accuracy: 0.7500\n",
            "Epoch 5/10\n",
            "25/25 [==============================] - 1s 38ms/step - loss: 0.6421 - accuracy: 0.6339 - val_loss: 0.6581 - val_accuracy: 0.7750\n",
            "Epoch 6/10\n",
            "25/25 [==============================] - 1s 38ms/step - loss: 0.6494 - accuracy: 0.6161 - val_loss: 0.6581 - val_accuracy: 0.7500\n",
            "Epoch 7/10\n",
            "25/25 [==============================] - 1s 37ms/step - loss: 0.6533 - accuracy: 0.6194 - val_loss: 0.6571 - val_accuracy: 0.7250\n",
            "Epoch 8/10\n",
            "25/25 [==============================] - 1s 38ms/step - loss: 0.6475 - accuracy: 0.6258 - val_loss: 0.6570 - val_accuracy: 0.8000\n",
            "Epoch 9/10\n",
            "25/25 [==============================] - 1s 38ms/step - loss: 0.6437 - accuracy: 0.6298 - val_loss: 0.6587 - val_accuracy: 0.8000\n",
            "Epoch 10/10\n",
            "25/25 [==============================] - 1s 37ms/step - loss: 0.6606 - accuracy: 0.6008 - val_loss: 0.6578 - val_accuracy: 0.7750\n",
            "40/40 [==============================] - 0s 2ms/step - loss: 0.6578 - accuracy: 0.7750\n",
            "Epoch 1/10\n",
            "25/25 [==============================] - 1s 39ms/step - loss: 0.6447 - accuracy: 0.6266 - val_loss: 0.6412 - val_accuracy: 0.7250\n",
            "Epoch 2/10\n",
            "25/25 [==============================] - 1s 37ms/step - loss: 0.6409 - accuracy: 0.6202 - val_loss: 0.6439 - val_accuracy: 0.7000\n",
            "Epoch 3/10\n",
            "25/25 [==============================] - 1s 37ms/step - loss: 0.6372 - accuracy: 0.6282 - val_loss: 0.6425 - val_accuracy: 0.7500\n",
            "Epoch 4/10\n",
            "25/25 [==============================] - 1s 37ms/step - loss: 0.6424 - accuracy: 0.6202 - val_loss: 0.6416 - val_accuracy: 0.7250\n",
            "Epoch 5/10\n",
            "25/25 [==============================] - 1s 38ms/step - loss: 0.6365 - accuracy: 0.6476 - val_loss: 0.6422 - val_accuracy: 0.7250\n",
            "Epoch 6/10\n",
            "25/25 [==============================] - 1s 39ms/step - loss: 0.6418 - accuracy: 0.6282 - val_loss: 0.6379 - val_accuracy: 0.7250\n",
            "Epoch 7/10\n",
            "25/25 [==============================] - 1s 38ms/step - loss: 0.6441 - accuracy: 0.6427 - val_loss: 0.6402 - val_accuracy: 0.7500\n",
            "Epoch 8/10\n",
            "25/25 [==============================] - 1s 38ms/step - loss: 0.6515 - accuracy: 0.6121 - val_loss: 0.6379 - val_accuracy: 0.7250\n",
            "Epoch 9/10\n",
            "25/25 [==============================] - 1s 38ms/step - loss: 0.6326 - accuracy: 0.6363 - val_loss: 0.6399 - val_accuracy: 0.7000\n",
            "Epoch 10/10\n",
            "25/25 [==============================] - 1s 37ms/step - loss: 0.6359 - accuracy: 0.6395 - val_loss: 0.6399 - val_accuracy: 0.7750\n",
            "40/40 [==============================] - 0s 2ms/step - loss: 0.6399 - accuracy: 0.7750\n",
            "Epoch 1/10\n",
            "25/25 [==============================] - 1s 38ms/step - loss: 0.6304 - accuracy: 0.6427 - val_loss: 0.6205 - val_accuracy: 0.7250\n",
            "Epoch 2/10\n",
            "25/25 [==============================] - 1s 37ms/step - loss: 0.6387 - accuracy: 0.6331 - val_loss: 0.6215 - val_accuracy: 0.7500\n",
            "Epoch 3/10\n",
            "25/25 [==============================] - 1s 38ms/step - loss: 0.6175 - accuracy: 0.6613 - val_loss: 0.6177 - val_accuracy: 0.7250\n",
            "Epoch 4/10\n",
            "25/25 [==============================] - 1s 38ms/step - loss: 0.6345 - accuracy: 0.6210 - val_loss: 0.6200 - val_accuracy: 0.7500\n",
            "Epoch 5/10\n",
            "25/25 [==============================] - 1s 37ms/step - loss: 0.6337 - accuracy: 0.6379 - val_loss: 0.6206 - val_accuracy: 0.7250\n",
            "Epoch 6/10\n",
            "25/25 [==============================] - 1s 38ms/step - loss: 0.6422 - accuracy: 0.6339 - val_loss: 0.6139 - val_accuracy: 0.7500\n",
            "Epoch 7/10\n",
            "25/25 [==============================] - 1s 38ms/step - loss: 0.6298 - accuracy: 0.6444 - val_loss: 0.6160 - val_accuracy: 0.7500\n",
            "Epoch 8/10\n",
            "25/25 [==============================] - 1s 38ms/step - loss: 0.6338 - accuracy: 0.6444 - val_loss: 0.6143 - val_accuracy: 0.7500\n",
            "Epoch 9/10\n",
            "25/25 [==============================] - 1s 37ms/step - loss: 0.6368 - accuracy: 0.6452 - val_loss: 0.6155 - val_accuracy: 0.7500\n",
            "Epoch 10/10\n",
            "25/25 [==============================] - 1s 38ms/step - loss: 0.6318 - accuracy: 0.6452 - val_loss: 0.6157 - val_accuracy: 0.7250\n",
            "40/40 [==============================] - 0s 2ms/step - loss: 0.6157 - accuracy: 0.7250\n",
            "Epoch 1/10\n",
            "25/25 [==============================] - 1s 38ms/step - loss: 0.6328 - accuracy: 0.6379 - val_loss: 0.5404 - val_accuracy: 0.8750\n",
            "Epoch 2/10\n",
            "25/25 [==============================] - 1s 37ms/step - loss: 0.6394 - accuracy: 0.6266 - val_loss: 0.5416 - val_accuracy: 0.8750\n",
            "Epoch 3/10\n",
            "25/25 [==============================] - 1s 37ms/step - loss: 0.6315 - accuracy: 0.6524 - val_loss: 0.5383 - val_accuracy: 0.9000\n",
            "Epoch 4/10\n",
            "25/25 [==============================] - 1s 37ms/step - loss: 0.6343 - accuracy: 0.6339 - val_loss: 0.5384 - val_accuracy: 0.8500\n",
            "Epoch 5/10\n",
            "25/25 [==============================] - 1s 38ms/step - loss: 0.6212 - accuracy: 0.6685 - val_loss: 0.5354 - val_accuracy: 0.8500\n",
            "Epoch 6/10\n",
            "25/25 [==============================] - 1s 37ms/step - loss: 0.6400 - accuracy: 0.6306 - val_loss: 0.5358 - val_accuracy: 0.8500\n",
            "Epoch 7/10\n",
            "25/25 [==============================] - 1s 37ms/step - loss: 0.6268 - accuracy: 0.6460 - val_loss: 0.5336 - val_accuracy: 0.9000\n",
            "Epoch 8/10\n",
            "25/25 [==============================] - 1s 38ms/step - loss: 0.6094 - accuracy: 0.6694 - val_loss: 0.5277 - val_accuracy: 0.8750\n",
            "Epoch 9/10\n",
            "25/25 [==============================] - 1s 38ms/step - loss: 0.6283 - accuracy: 0.6427 - val_loss: 0.5244 - val_accuracy: 0.8500\n",
            "Epoch 10/10\n",
            "25/25 [==============================] - 1s 38ms/step - loss: 0.6252 - accuracy: 0.6460 - val_loss: 0.5230 - val_accuracy: 0.9000\n",
            "40/40 [==============================] - 0s 2ms/step - loss: 0.5230 - accuracy: 0.9000\n",
            "Epoch 1/10\n",
            "25/25 [==============================] - 1s 39ms/step - loss: 0.6236 - accuracy: 0.6411 - val_loss: 0.6461 - val_accuracy: 0.6500\n",
            "Epoch 2/10\n",
            "25/25 [==============================] - 1s 38ms/step - loss: 0.6245 - accuracy: 0.6460 - val_loss: 0.6388 - val_accuracy: 0.7000\n",
            "Epoch 3/10\n",
            "25/25 [==============================] - 1s 39ms/step - loss: 0.6293 - accuracy: 0.6548 - val_loss: 0.6334 - val_accuracy: 0.6250\n",
            "Epoch 4/10\n",
            "25/25 [==============================] - 1s 38ms/step - loss: 0.6239 - accuracy: 0.6589 - val_loss: 0.6520 - val_accuracy: 0.6250\n",
            "Epoch 5/10\n",
            "25/25 [==============================] - 1s 38ms/step - loss: 0.6204 - accuracy: 0.6645 - val_loss: 0.6474 - val_accuracy: 0.6500\n",
            "Epoch 6/10\n",
            "25/25 [==============================] - 1s 38ms/step - loss: 0.6293 - accuracy: 0.6379 - val_loss: 0.6461 - val_accuracy: 0.6750\n",
            "Epoch 7/10\n",
            "25/25 [==============================] - 1s 38ms/step - loss: 0.6222 - accuracy: 0.6395 - val_loss: 0.6425 - val_accuracy: 0.6750\n",
            "Epoch 8/10\n",
            "25/25 [==============================] - 1s 37ms/step - loss: 0.6143 - accuracy: 0.6661 - val_loss: 0.6585 - val_accuracy: 0.6000\n",
            "Epoch 9/10\n",
            "25/25 [==============================] - 1s 37ms/step - loss: 0.6042 - accuracy: 0.6806 - val_loss: 0.6637 - val_accuracy: 0.5750\n",
            "Epoch 10/10\n",
            "25/25 [==============================] - 1s 38ms/step - loss: 0.6216 - accuracy: 0.6452 - val_loss: 0.6497 - val_accuracy: 0.6500\n",
            "40/40 [==============================] - 0s 2ms/step - loss: 0.6497 - accuracy: 0.6500\n",
            "Epoch 1/10\n",
            "25/25 [==============================] - 1s 39ms/step - loss: 0.6065 - accuracy: 0.6750 - val_loss: 0.6045 - val_accuracy: 0.7750\n",
            "Epoch 2/10\n",
            "25/25 [==============================] - 1s 37ms/step - loss: 0.6080 - accuracy: 0.6726 - val_loss: 0.6067 - val_accuracy: 0.7500\n",
            "Epoch 3/10\n",
            "25/25 [==============================] - 1s 37ms/step - loss: 0.6009 - accuracy: 0.6790 - val_loss: 0.6124 - val_accuracy: 0.7500\n",
            "Epoch 4/10\n",
            "25/25 [==============================] - 1s 38ms/step - loss: 0.6198 - accuracy: 0.6508 - val_loss: 0.6048 - val_accuracy: 0.7500\n",
            "Epoch 5/10\n",
            "25/25 [==============================] - 1s 37ms/step - loss: 0.6217 - accuracy: 0.6419 - val_loss: 0.6122 - val_accuracy: 0.7250\n",
            "Epoch 6/10\n",
            "25/25 [==============================] - 1s 38ms/step - loss: 0.5897 - accuracy: 0.7008 - val_loss: 0.6025 - val_accuracy: 0.7500\n",
            "Epoch 7/10\n",
            "25/25 [==============================] - 1s 38ms/step - loss: 0.5940 - accuracy: 0.6774 - val_loss: 0.6164 - val_accuracy: 0.6750\n",
            "Epoch 8/10\n",
            "25/25 [==============================] - 1s 37ms/step - loss: 0.6058 - accuracy: 0.6613 - val_loss: 0.6018 - val_accuracy: 0.7250\n",
            "Epoch 9/10\n",
            "25/25 [==============================] - 1s 38ms/step - loss: 0.6043 - accuracy: 0.6645 - val_loss: 0.6011 - val_accuracy: 0.7000\n",
            "Epoch 10/10\n",
            "25/25 [==============================] - 1s 38ms/step - loss: 0.5946 - accuracy: 0.6847 - val_loss: 0.6016 - val_accuracy: 0.7000\n",
            "40/40 [==============================] - 0s 2ms/step - loss: 0.6016 - accuracy: 0.7000\n",
            "Epoch 1/10\n",
            "25/25 [==============================] - 1s 39ms/step - loss: 0.5890 - accuracy: 0.6871 - val_loss: 0.5360 - val_accuracy: 0.8000\n",
            "Epoch 2/10\n",
            "25/25 [==============================] - 1s 38ms/step - loss: 0.6204 - accuracy: 0.6621 - val_loss: 0.5369 - val_accuracy: 0.8000\n",
            "Epoch 3/10\n",
            "25/25 [==============================] - 1s 38ms/step - loss: 0.6170 - accuracy: 0.6484 - val_loss: 0.5408 - val_accuracy: 0.7250\n",
            "Epoch 4/10\n",
            "25/25 [==============================] - 1s 38ms/step - loss: 0.5936 - accuracy: 0.6710 - val_loss: 0.5375 - val_accuracy: 0.7750\n",
            "Epoch 5/10\n",
            "25/25 [==============================] - 1s 38ms/step - loss: 0.5927 - accuracy: 0.6863 - val_loss: 0.5411 - val_accuracy: 0.8000\n",
            "Epoch 6/10\n",
            "25/25 [==============================] - 1s 38ms/step - loss: 0.6052 - accuracy: 0.6774 - val_loss: 0.5331 - val_accuracy: 0.7750\n",
            "Epoch 7/10\n",
            "25/25 [==============================] - 1s 38ms/step - loss: 0.5925 - accuracy: 0.6742 - val_loss: 0.5339 - val_accuracy: 0.7750\n",
            "Epoch 8/10\n",
            "25/25 [==============================] - 1s 37ms/step - loss: 0.5835 - accuracy: 0.6895 - val_loss: 0.5366 - val_accuracy: 0.7500\n",
            "Epoch 9/10\n",
            "25/25 [==============================] - 1s 38ms/step - loss: 0.5771 - accuracy: 0.7000 - val_loss: 0.5387 - val_accuracy: 0.8000\n",
            "Epoch 10/10\n",
            "25/25 [==============================] - 1s 37ms/step - loss: 0.6060 - accuracy: 0.6710 - val_loss: 0.5309 - val_accuracy: 0.8250\n",
            "40/40 [==============================] - 0s 2ms/step - loss: 0.5309 - accuracy: 0.8250\n",
            "Epoch 1/10\n",
            "25/25 [==============================] - 1s 39ms/step - loss: 0.5948 - accuracy: 0.6919 - val_loss: 0.5163 - val_accuracy: 0.8250\n",
            "Epoch 2/10\n",
            "25/25 [==============================] - 1s 39ms/step - loss: 0.5873 - accuracy: 0.7000 - val_loss: 0.5187 - val_accuracy: 0.7500\n",
            "Epoch 3/10\n",
            "25/25 [==============================] - 1s 38ms/step - loss: 0.5858 - accuracy: 0.6968 - val_loss: 0.5250 - val_accuracy: 0.7750\n",
            "Epoch 4/10\n",
            "25/25 [==============================] - 1s 38ms/step - loss: 0.5924 - accuracy: 0.6927 - val_loss: 0.5183 - val_accuracy: 0.8000\n",
            "Epoch 5/10\n",
            "25/25 [==============================] - 1s 38ms/step - loss: 0.6057 - accuracy: 0.6790 - val_loss: 0.5185 - val_accuracy: 0.7750\n",
            "Epoch 6/10\n",
            "25/25 [==============================] - 1s 38ms/step - loss: 0.5913 - accuracy: 0.6823 - val_loss: 0.5144 - val_accuracy: 0.8250\n",
            "Epoch 7/10\n",
            "25/25 [==============================] - 1s 38ms/step - loss: 0.6084 - accuracy: 0.6718 - val_loss: 0.5151 - val_accuracy: 0.8250\n",
            "Epoch 8/10\n",
            "25/25 [==============================] - 1s 37ms/step - loss: 0.5922 - accuracy: 0.6911 - val_loss: 0.5169 - val_accuracy: 0.8000\n",
            "Epoch 9/10\n",
            "25/25 [==============================] - 1s 38ms/step - loss: 0.5913 - accuracy: 0.6758 - val_loss: 0.5178 - val_accuracy: 0.8000\n",
            "Epoch 10/10\n",
            "25/25 [==============================] - 1s 38ms/step - loss: 0.5873 - accuracy: 0.6895 - val_loss: 0.5080 - val_accuracy: 0.8000\n",
            "40/40 [==============================] - 0s 2ms/step - loss: 0.5080 - accuracy: 0.8000\n",
            "Epoch 1/10\n",
            "25/25 [==============================] - 1s 39ms/step - loss: 0.5635 - accuracy: 0.7089 - val_loss: 0.4692 - val_accuracy: 0.8000\n",
            "Epoch 2/10\n",
            "25/25 [==============================] - 1s 37ms/step - loss: 0.5789 - accuracy: 0.7081 - val_loss: 0.4699 - val_accuracy: 0.8000\n",
            "Epoch 3/10\n",
            "25/25 [==============================] - 1s 38ms/step - loss: 0.5937 - accuracy: 0.6710 - val_loss: 0.4643 - val_accuracy: 0.8500\n",
            "Epoch 4/10\n",
            "25/25 [==============================] - 1s 38ms/step - loss: 0.5738 - accuracy: 0.6935 - val_loss: 0.4665 - val_accuracy: 0.8500\n",
            "Epoch 5/10\n",
            "25/25 [==============================] - 1s 38ms/step - loss: 0.5785 - accuracy: 0.6968 - val_loss: 0.4730 - val_accuracy: 0.7750\n",
            "Epoch 6/10\n",
            "25/25 [==============================] - 1s 38ms/step - loss: 0.5883 - accuracy: 0.6815 - val_loss: 0.4694 - val_accuracy: 0.8000\n",
            "Epoch 7/10\n",
            "25/25 [==============================] - 1s 37ms/step - loss: 0.5866 - accuracy: 0.6871 - val_loss: 0.4838 - val_accuracy: 0.7750\n",
            "Epoch 8/10\n",
            "25/25 [==============================] - 1s 38ms/step - loss: 0.5916 - accuracy: 0.6734 - val_loss: 0.4784 - val_accuracy: 0.8000\n",
            "Epoch 9/10\n",
            "25/25 [==============================] - 1s 38ms/step - loss: 0.5809 - accuracy: 0.6968 - val_loss: 0.4981 - val_accuracy: 0.7000\n",
            "Epoch 10/10\n",
            "25/25 [==============================] - 1s 38ms/step - loss: 0.5815 - accuracy: 0.6919 - val_loss: 0.4798 - val_accuracy: 0.8000\n",
            "40/40 [==============================] - 0s 2ms/step - loss: 0.4798 - accuracy: 0.8000\n",
            "Epoch 1/10\n",
            "25/25 [==============================] - 1s 39ms/step - loss: 0.5719 - accuracy: 0.6944 - val_loss: 0.5031 - val_accuracy: 0.7750\n",
            "Epoch 2/10\n",
            "25/25 [==============================] - 1s 38ms/step - loss: 0.5721 - accuracy: 0.6935 - val_loss: 0.4974 - val_accuracy: 0.8000\n",
            "Epoch 3/10\n",
            "25/25 [==============================] - 1s 37ms/step - loss: 0.5679 - accuracy: 0.6887 - val_loss: 0.5188 - val_accuracy: 0.7250\n",
            "Epoch 4/10\n",
            "25/25 [==============================] - 1s 38ms/step - loss: 0.5791 - accuracy: 0.6919 - val_loss: 0.5001 - val_accuracy: 0.7500\n",
            "Epoch 5/10\n",
            "25/25 [==============================] - 1s 37ms/step - loss: 0.5516 - accuracy: 0.7274 - val_loss: 0.4959 - val_accuracy: 0.8000\n",
            "Epoch 6/10\n",
            "25/25 [==============================] - 1s 38ms/step - loss: 0.5705 - accuracy: 0.7121 - val_loss: 0.4961 - val_accuracy: 0.8000\n",
            "Epoch 7/10\n",
            "25/25 [==============================] - 1s 37ms/step - loss: 0.5698 - accuracy: 0.6976 - val_loss: 0.5026 - val_accuracy: 0.8000\n",
            "Epoch 8/10\n",
            "25/25 [==============================] - 1s 38ms/step - loss: 0.5786 - accuracy: 0.6984 - val_loss: 0.4981 - val_accuracy: 0.8000\n",
            "Epoch 9/10\n",
            "25/25 [==============================] - 1s 38ms/step - loss: 0.5816 - accuracy: 0.6968 - val_loss: 0.5040 - val_accuracy: 0.7750\n",
            "Epoch 10/10\n",
            "25/25 [==============================] - 1s 38ms/step - loss: 0.5685 - accuracy: 0.6879 - val_loss: 0.4984 - val_accuracy: 0.8000\n",
            "40/40 [==============================] - 0s 2ms/step - loss: 0.4984 - accuracy: 0.8000\n",
            "Epoch 1/10\n",
            "25/25 [==============================] - 1s 39ms/step - loss: 0.5761 - accuracy: 0.6984 - val_loss: 0.5294 - val_accuracy: 0.7000\n",
            "Epoch 2/10\n",
            "25/25 [==============================] - 1s 38ms/step - loss: 0.5596 - accuracy: 0.7169 - val_loss: 0.5443 - val_accuracy: 0.7250\n",
            "Epoch 3/10\n",
            "25/25 [==============================] - 1s 38ms/step - loss: 0.5730 - accuracy: 0.6976 - val_loss: 0.5336 - val_accuracy: 0.7250\n",
            "Epoch 4/10\n",
            "25/25 [==============================] - 1s 38ms/step - loss: 0.5754 - accuracy: 0.7105 - val_loss: 0.5407 - val_accuracy: 0.7000\n",
            "Epoch 5/10\n",
            "25/25 [==============================] - 1s 38ms/step - loss: 0.5792 - accuracy: 0.6935 - val_loss: 0.5480 - val_accuracy: 0.7250\n",
            "Epoch 6/10\n",
            "25/25 [==============================] - 1s 38ms/step - loss: 0.5739 - accuracy: 0.6944 - val_loss: 0.5502 - val_accuracy: 0.7000\n",
            "Epoch 7/10\n",
            "25/25 [==============================] - 1s 37ms/step - loss: 0.5507 - accuracy: 0.7266 - val_loss: 0.5405 - val_accuracy: 0.7250\n",
            "Epoch 8/10\n",
            "25/25 [==============================] - 1s 38ms/step - loss: 0.5818 - accuracy: 0.7105 - val_loss: 0.5372 - val_accuracy: 0.6750\n",
            "Epoch 9/10\n",
            "25/25 [==============================] - 1s 38ms/step - loss: 0.5670 - accuracy: 0.6976 - val_loss: 0.5381 - val_accuracy: 0.6750\n",
            "Epoch 10/10\n",
            "25/25 [==============================] - 1s 38ms/step - loss: 0.5552 - accuracy: 0.7161 - val_loss: 0.5475 - val_accuracy: 0.7000\n",
            "40/40 [==============================] - 0s 2ms/step - loss: 0.5475 - accuracy: 0.7000\n",
            "Epoch 1/10\n",
            "25/25 [==============================] - 1s 39ms/step - loss: 0.5636 - accuracy: 0.7121 - val_loss: 0.3929 - val_accuracy: 0.8500\n",
            "Epoch 2/10\n",
            "25/25 [==============================] - 1s 38ms/step - loss: 0.5602 - accuracy: 0.7048 - val_loss: 0.3849 - val_accuracy: 0.9000\n",
            "Epoch 3/10\n",
            "25/25 [==============================] - 1s 38ms/step - loss: 0.5587 - accuracy: 0.7194 - val_loss: 0.3982 - val_accuracy: 0.8250\n",
            "Epoch 4/10\n",
            "25/25 [==============================] - 1s 38ms/step - loss: 0.5507 - accuracy: 0.7161 - val_loss: 0.3927 - val_accuracy: 0.8250\n",
            "Epoch 5/10\n",
            "25/25 [==============================] - 1s 38ms/step - loss: 0.5378 - accuracy: 0.7169 - val_loss: 0.3877 - val_accuracy: 0.8500\n",
            "Epoch 6/10\n",
            "25/25 [==============================] - 1s 38ms/step - loss: 0.5540 - accuracy: 0.7202 - val_loss: 0.3831 - val_accuracy: 0.9250\n",
            "Epoch 7/10\n",
            "25/25 [==============================] - 1s 38ms/step - loss: 0.5365 - accuracy: 0.7202 - val_loss: 0.3836 - val_accuracy: 0.8500\n",
            "Epoch 8/10\n",
            "25/25 [==============================] - 1s 37ms/step - loss: 0.5343 - accuracy: 0.7323 - val_loss: 0.3800 - val_accuracy: 0.9000\n",
            "Epoch 9/10\n",
            "25/25 [==============================] - 1s 38ms/step - loss: 0.5486 - accuracy: 0.7282 - val_loss: 0.3810 - val_accuracy: 0.9000\n",
            "Epoch 10/10\n",
            "25/25 [==============================] - 1s 38ms/step - loss: 0.5659 - accuracy: 0.7032 - val_loss: 0.3861 - val_accuracy: 0.9250\n",
            "40/40 [==============================] - 0s 2ms/step - loss: 0.3861 - accuracy: 0.9250\n",
            "Epoch 1/10\n",
            "25/25 [==============================] - 1s 39ms/step - loss: 0.5502 - accuracy: 0.7210 - val_loss: 0.3751 - val_accuracy: 0.8750\n",
            "Epoch 2/10\n",
            "25/25 [==============================] - 1s 37ms/step - loss: 0.5542 - accuracy: 0.7202 - val_loss: 0.3800 - val_accuracy: 0.8750\n",
            "Epoch 3/10\n",
            "25/25 [==============================] - 1s 38ms/step - loss: 0.5586 - accuracy: 0.7065 - val_loss: 0.4010 - val_accuracy: 0.8750\n",
            "Epoch 4/10\n",
            "25/25 [==============================] - 1s 37ms/step - loss: 0.5593 - accuracy: 0.7129 - val_loss: 0.3967 - val_accuracy: 0.8750\n",
            "Epoch 5/10\n",
            "25/25 [==============================] - 1s 38ms/step - loss: 0.5559 - accuracy: 0.7065 - val_loss: 0.4109 - val_accuracy: 0.8500\n",
            "Epoch 6/10\n",
            "25/25 [==============================] - 1s 38ms/step - loss: 0.5394 - accuracy: 0.7395 - val_loss: 0.3916 - val_accuracy: 0.8750\n",
            "Epoch 7/10\n",
            "25/25 [==============================] - 1s 37ms/step - loss: 0.5556 - accuracy: 0.7073 - val_loss: 0.4239 - val_accuracy: 0.8500\n",
            "Epoch 8/10\n",
            "25/25 [==============================] - 1s 38ms/step - loss: 0.5376 - accuracy: 0.7274 - val_loss: 0.3986 - val_accuracy: 0.8500\n",
            "Epoch 9/10\n",
            "25/25 [==============================] - 1s 38ms/step - loss: 0.5456 - accuracy: 0.7185 - val_loss: 0.4122 - val_accuracy: 0.8750\n",
            "Epoch 10/10\n",
            "25/25 [==============================] - 1s 38ms/step - loss: 0.5384 - accuracy: 0.7274 - val_loss: 0.3847 - val_accuracy: 0.8750\n",
            "40/40 [==============================] - 0s 2ms/step - loss: 0.3847 - accuracy: 0.8750\n",
            "Epoch 1/10\n",
            "25/25 [==============================] - 1s 39ms/step - loss: 0.5383 - accuracy: 0.7290 - val_loss: 0.5068 - val_accuracy: 0.7250\n",
            "Epoch 2/10\n",
            "25/25 [==============================] - 1s 38ms/step - loss: 0.5346 - accuracy: 0.7242 - val_loss: 0.5052 - val_accuracy: 0.7500\n",
            "Epoch 3/10\n",
            "25/25 [==============================] - 1s 38ms/step - loss: 0.5459 - accuracy: 0.7161 - val_loss: 0.5049 - val_accuracy: 0.7500\n",
            "Epoch 4/10\n",
            "25/25 [==============================] - 1s 38ms/step - loss: 0.5275 - accuracy: 0.7347 - val_loss: 0.5025 - val_accuracy: 0.7500\n",
            "Epoch 5/10\n",
            "25/25 [==============================] - 1s 38ms/step - loss: 0.5443 - accuracy: 0.7234 - val_loss: 0.5124 - val_accuracy: 0.7250\n",
            "Epoch 6/10\n",
            "25/25 [==============================] - 1s 38ms/step - loss: 0.5392 - accuracy: 0.7202 - val_loss: 0.5435 - val_accuracy: 0.7500\n",
            "Epoch 7/10\n",
            "25/25 [==============================] - 1s 39ms/step - loss: 0.5462 - accuracy: 0.7226 - val_loss: 0.5277 - val_accuracy: 0.7000\n",
            "Epoch 8/10\n",
            "25/25 [==============================] - 1s 39ms/step - loss: 0.5401 - accuracy: 0.7347 - val_loss: 0.5374 - val_accuracy: 0.7000\n",
            "Epoch 9/10\n",
            "25/25 [==============================] - 1s 38ms/step - loss: 0.5356 - accuracy: 0.7339 - val_loss: 0.5090 - val_accuracy: 0.7250\n",
            "Epoch 10/10\n",
            "25/25 [==============================] - 1s 38ms/step - loss: 0.5057 - accuracy: 0.7556 - val_loss: 0.5051 - val_accuracy: 0.7250\n",
            "40/40 [==============================] - 0s 2ms/step - loss: 0.5051 - accuracy: 0.7250\n",
            "Epoch 1/10\n",
            "25/25 [==============================] - 1s 39ms/step - loss: 0.5362 - accuracy: 0.7363 - val_loss: 0.3975 - val_accuracy: 0.8750\n",
            "Epoch 2/10\n",
            "25/25 [==============================] - 1s 38ms/step - loss: 0.5330 - accuracy: 0.7242 - val_loss: 0.4011 - val_accuracy: 0.8750\n",
            "Epoch 3/10\n",
            "25/25 [==============================] - 1s 38ms/step - loss: 0.5200 - accuracy: 0.7323 - val_loss: 0.4022 - val_accuracy: 0.9000\n",
            "Epoch 4/10\n",
            "25/25 [==============================] - 1s 39ms/step - loss: 0.5282 - accuracy: 0.7234 - val_loss: 0.4034 - val_accuracy: 0.8750\n",
            "Epoch 5/10\n",
            "25/25 [==============================] - 1s 38ms/step - loss: 0.5237 - accuracy: 0.7516 - val_loss: 0.4013 - val_accuracy: 0.8250\n",
            "Epoch 6/10\n",
            "25/25 [==============================] - 1s 38ms/step - loss: 0.5290 - accuracy: 0.7250 - val_loss: 0.4142 - val_accuracy: 0.8000\n",
            "Epoch 7/10\n",
            "25/25 [==============================] - 1s 37ms/step - loss: 0.5551 - accuracy: 0.7250 - val_loss: 0.4046 - val_accuracy: 0.8500\n",
            "Epoch 8/10\n",
            "25/25 [==============================] - 1s 38ms/step - loss: 0.5354 - accuracy: 0.7226 - val_loss: 0.4099 - val_accuracy: 0.8500\n",
            "Epoch 9/10\n",
            "25/25 [==============================] - 1s 38ms/step - loss: 0.5132 - accuracy: 0.7387 - val_loss: 0.4090 - val_accuracy: 0.8750\n",
            "Epoch 10/10\n",
            "25/25 [==============================] - 1s 38ms/step - loss: 0.5377 - accuracy: 0.7387 - val_loss: 0.4129 - val_accuracy: 0.8500\n",
            "40/40 [==============================] - 0s 3ms/step - loss: 0.4129 - accuracy: 0.8500\n",
            "Epoch 1/10\n",
            "25/25 [==============================] - 1s 39ms/step - loss: 0.5168 - accuracy: 0.7508 - val_loss: 0.3633 - val_accuracy: 0.8500\n",
            "Epoch 2/10\n",
            "25/25 [==============================] - 1s 37ms/step - loss: 0.5442 - accuracy: 0.7202 - val_loss: 0.3689 - val_accuracy: 0.8500\n",
            "Epoch 3/10\n",
            "25/25 [==============================] - 1s 38ms/step - loss: 0.5343 - accuracy: 0.7194 - val_loss: 0.3680 - val_accuracy: 0.8500\n",
            "Epoch 4/10\n",
            "25/25 [==============================] - 1s 38ms/step - loss: 0.5230 - accuracy: 0.7524 - val_loss: 0.3675 - val_accuracy: 0.8500\n",
            "Epoch 5/10\n",
            "25/25 [==============================] - 1s 37ms/step - loss: 0.5314 - accuracy: 0.7185 - val_loss: 0.3594 - val_accuracy: 0.8500\n",
            "Epoch 6/10\n",
            "25/25 [==============================] - 1s 38ms/step - loss: 0.5373 - accuracy: 0.7282 - val_loss: 0.3700 - val_accuracy: 0.8250\n",
            "Epoch 7/10\n",
            "25/25 [==============================] - 1s 38ms/step - loss: 0.5367 - accuracy: 0.7371 - val_loss: 0.3878 - val_accuracy: 0.7750\n",
            "Epoch 8/10\n",
            "25/25 [==============================] - 1s 38ms/step - loss: 0.5187 - accuracy: 0.7395 - val_loss: 0.3674 - val_accuracy: 0.8250\n",
            "Epoch 9/10\n",
            "25/25 [==============================] - 1s 38ms/step - loss: 0.5325 - accuracy: 0.7298 - val_loss: 0.3647 - val_accuracy: 0.8500\n",
            "Epoch 10/10\n",
            "25/25 [==============================] - 1s 38ms/step - loss: 0.5306 - accuracy: 0.7339 - val_loss: 0.3640 - val_accuracy: 0.8500\n",
            "40/40 [==============================] - 0s 2ms/step - loss: 0.3640 - accuracy: 0.8500\n",
            "Epoch 1/10\n",
            "25/25 [==============================] - 1s 39ms/step - loss: 0.5037 - accuracy: 0.7540 - val_loss: 0.3719 - val_accuracy: 0.9000\n",
            "Epoch 2/10\n",
            "25/25 [==============================] - 1s 38ms/step - loss: 0.5245 - accuracy: 0.7444 - val_loss: 0.3916 - val_accuracy: 0.8750\n",
            "Epoch 3/10\n",
            "25/25 [==============================] - 1s 37ms/step - loss: 0.5292 - accuracy: 0.7339 - val_loss: 0.3757 - val_accuracy: 0.9000\n",
            "Epoch 4/10\n",
            "25/25 [==============================] - 1s 38ms/step - loss: 0.4902 - accuracy: 0.7589 - val_loss: 0.3738 - val_accuracy: 0.9000\n",
            "Epoch 5/10\n",
            "25/25 [==============================] - 1s 38ms/step - loss: 0.5136 - accuracy: 0.7629 - val_loss: 0.3744 - val_accuracy: 0.8500\n",
            "Epoch 6/10\n",
            "25/25 [==============================] - 1s 39ms/step - loss: 0.4998 - accuracy: 0.7524 - val_loss: 0.3776 - val_accuracy: 0.8750\n",
            "Epoch 7/10\n",
            "25/25 [==============================] - 1s 38ms/step - loss: 0.5282 - accuracy: 0.7315 - val_loss: 0.3751 - val_accuracy: 0.9250\n",
            "Epoch 8/10\n",
            "25/25 [==============================] - 1s 39ms/step - loss: 0.4991 - accuracy: 0.7597 - val_loss: 0.4033 - val_accuracy: 0.8500\n",
            "Epoch 9/10\n",
            "25/25 [==============================] - 1s 39ms/step - loss: 0.5089 - accuracy: 0.7556 - val_loss: 0.3694 - val_accuracy: 0.9250\n",
            "Epoch 10/10\n",
            "25/25 [==============================] - 1s 38ms/step - loss: 0.5213 - accuracy: 0.7468 - val_loss: 0.3737 - val_accuracy: 0.8500\n",
            "40/40 [==============================] - 0s 3ms/step - loss: 0.3737 - accuracy: 0.8500\n",
            "Epoch 1/10\n",
            "25/25 [==============================] - 1s 39ms/step - loss: 0.5238 - accuracy: 0.7395 - val_loss: 0.3445 - val_accuracy: 0.9000\n",
            "Epoch 2/10\n",
            "25/25 [==============================] - 1s 38ms/step - loss: 0.5044 - accuracy: 0.7484 - val_loss: 0.3405 - val_accuracy: 0.9000\n",
            "Epoch 3/10\n",
            "25/25 [==============================] - 1s 38ms/step - loss: 0.5167 - accuracy: 0.7452 - val_loss: 0.3569 - val_accuracy: 0.9000\n",
            "Epoch 4/10\n",
            "25/25 [==============================] - 1s 38ms/step - loss: 0.5100 - accuracy: 0.7540 - val_loss: 0.3389 - val_accuracy: 0.8750\n",
            "Epoch 5/10\n",
            "25/25 [==============================] - 1s 38ms/step - loss: 0.5099 - accuracy: 0.7484 - val_loss: 0.3393 - val_accuracy: 0.8750\n",
            "Epoch 6/10\n",
            "25/25 [==============================] - 1s 38ms/step - loss: 0.5065 - accuracy: 0.7540 - val_loss: 0.3395 - val_accuracy: 0.8750\n",
            "Epoch 7/10\n",
            "25/25 [==============================] - 1s 38ms/step - loss: 0.5179 - accuracy: 0.7516 - val_loss: 0.3412 - val_accuracy: 0.8750\n",
            "Epoch 8/10\n",
            "25/25 [==============================] - 1s 38ms/step - loss: 0.5044 - accuracy: 0.7516 - val_loss: 0.3398 - val_accuracy: 0.8750\n",
            "Epoch 9/10\n",
            "25/25 [==============================] - 1s 39ms/step - loss: 0.5065 - accuracy: 0.7444 - val_loss: 0.3456 - val_accuracy: 0.8750\n",
            "Epoch 10/10\n",
            "25/25 [==============================] - 1s 37ms/step - loss: 0.5059 - accuracy: 0.7524 - val_loss: 0.3443 - val_accuracy: 0.8750\n",
            "40/40 [==============================] - 0s 3ms/step - loss: 0.3443 - accuracy: 0.8750\n",
            "Epoch 1/10\n",
            "25/25 [==============================] - 1s 39ms/step - loss: 0.5063 - accuracy: 0.7524 - val_loss: 0.3988 - val_accuracy: 0.9000\n",
            "Epoch 2/10\n",
            "25/25 [==============================] - 1s 38ms/step - loss: 0.5257 - accuracy: 0.7500 - val_loss: 0.4047 - val_accuracy: 0.8750\n",
            "Epoch 3/10\n",
            "25/25 [==============================] - 1s 37ms/step - loss: 0.5030 - accuracy: 0.7605 - val_loss: 0.4081 - val_accuracy: 0.8250\n",
            "Epoch 4/10\n",
            "25/25 [==============================] - 1s 38ms/step - loss: 0.5067 - accuracy: 0.7524 - val_loss: 0.3968 - val_accuracy: 0.9000\n",
            "Epoch 5/10\n",
            "25/25 [==============================] - 1s 38ms/step - loss: 0.4898 - accuracy: 0.7540 - val_loss: 0.3958 - val_accuracy: 0.9000\n",
            "Epoch 6/10\n",
            "25/25 [==============================] - 1s 38ms/step - loss: 0.4804 - accuracy: 0.7613 - val_loss: 0.3946 - val_accuracy: 0.9000\n",
            "Epoch 7/10\n",
            "25/25 [==============================] - 1s 37ms/step - loss: 0.4946 - accuracy: 0.7500 - val_loss: 0.4002 - val_accuracy: 0.8750\n",
            "Epoch 8/10\n",
            "25/25 [==============================] - 1s 38ms/step - loss: 0.5056 - accuracy: 0.7508 - val_loss: 0.3973 - val_accuracy: 0.8750\n",
            "Epoch 9/10\n",
            "25/25 [==============================] - 1s 37ms/step - loss: 0.4995 - accuracy: 0.7645 - val_loss: 0.3932 - val_accuracy: 0.9000\n",
            "Epoch 10/10\n",
            "25/25 [==============================] - 1s 37ms/step - loss: 0.4943 - accuracy: 0.7452 - val_loss: 0.4092 - val_accuracy: 0.8250\n",
            "40/40 [==============================] - 0s 2ms/step - loss: 0.4092 - accuracy: 0.8250\n",
            "Epoch 1/10\n",
            "25/25 [==============================] - 1s 39ms/step - loss: 0.5099 - accuracy: 0.7565 - val_loss: 0.3771 - val_accuracy: 0.9250\n",
            "Epoch 2/10\n",
            "25/25 [==============================] - 1s 37ms/step - loss: 0.4857 - accuracy: 0.7798 - val_loss: 0.3716 - val_accuracy: 0.9250\n",
            "Epoch 3/10\n",
            "25/25 [==============================] - 1s 38ms/step - loss: 0.4811 - accuracy: 0.7766 - val_loss: 0.3735 - val_accuracy: 0.9000\n",
            "Epoch 4/10\n",
            "25/25 [==============================] - 1s 37ms/step - loss: 0.4875 - accuracy: 0.7597 - val_loss: 0.3789 - val_accuracy: 0.8750\n",
            "Epoch 5/10\n",
            "25/25 [==============================] - 1s 37ms/step - loss: 0.4954 - accuracy: 0.7750 - val_loss: 0.3763 - val_accuracy: 0.9000\n",
            "Epoch 6/10\n",
            "25/25 [==============================] - 1s 38ms/step - loss: 0.4926 - accuracy: 0.7694 - val_loss: 0.3697 - val_accuracy: 0.9250\n",
            "Epoch 7/10\n",
            "25/25 [==============================] - 1s 38ms/step - loss: 0.5080 - accuracy: 0.7468 - val_loss: 0.3631 - val_accuracy: 0.9250\n",
            "Epoch 8/10\n",
            "25/25 [==============================] - 1s 38ms/step - loss: 0.4946 - accuracy: 0.7637 - val_loss: 0.3642 - val_accuracy: 0.9000\n",
            "Epoch 9/10\n",
            "25/25 [==============================] - 1s 38ms/step - loss: 0.4859 - accuracy: 0.7613 - val_loss: 0.3761 - val_accuracy: 0.9250\n",
            "Epoch 10/10\n",
            "25/25 [==============================] - 1s 38ms/step - loss: 0.4999 - accuracy: 0.7532 - val_loss: 0.3734 - val_accuracy: 0.9250\n",
            "40/40 [==============================] - 0s 2ms/step - loss: 0.3734 - accuracy: 0.9250\n",
            "Epoch 1/10\n",
            "25/25 [==============================] - 1s 39ms/step - loss: 0.4974 - accuracy: 0.7613 - val_loss: 0.3463 - val_accuracy: 0.8500\n",
            "Epoch 2/10\n",
            "25/25 [==============================] - 1s 38ms/step - loss: 0.4716 - accuracy: 0.7702 - val_loss: 0.3479 - val_accuracy: 0.8000\n",
            "Epoch 3/10\n",
            "25/25 [==============================] - 1s 38ms/step - loss: 0.4955 - accuracy: 0.7629 - val_loss: 0.3511 - val_accuracy: 0.8000\n",
            "Epoch 4/10\n",
            "25/25 [==============================] - 1s 38ms/step - loss: 0.4916 - accuracy: 0.7548 - val_loss: 0.3489 - val_accuracy: 0.8250\n",
            "Epoch 5/10\n",
            "25/25 [==============================] - 1s 38ms/step - loss: 0.4955 - accuracy: 0.7685 - val_loss: 0.3524 - val_accuracy: 0.8750\n",
            "Epoch 6/10\n",
            "25/25 [==============================] - 1s 38ms/step - loss: 0.4818 - accuracy: 0.7589 - val_loss: 0.3617 - val_accuracy: 0.8250\n",
            "Epoch 7/10\n",
            "25/25 [==============================] - 1s 38ms/step - loss: 0.4868 - accuracy: 0.7669 - val_loss: 0.3597 - val_accuracy: 0.8000\n",
            "Epoch 8/10\n",
            "25/25 [==============================] - 1s 38ms/step - loss: 0.4813 - accuracy: 0.7726 - val_loss: 0.3605 - val_accuracy: 0.8000\n",
            "Epoch 9/10\n",
            "25/25 [==============================] - 1s 38ms/step - loss: 0.5026 - accuracy: 0.7669 - val_loss: 0.3623 - val_accuracy: 0.8250\n",
            "Epoch 10/10\n",
            "25/25 [==============================] - 1s 38ms/step - loss: 0.5030 - accuracy: 0.7629 - val_loss: 0.3660 - val_accuracy: 0.8000\n",
            "40/40 [==============================] - 0s 2ms/step - loss: 0.3660 - accuracy: 0.8000\n"
          ],
          "name": "stdout"
        }
      ]
    },
    {
      "cell_type": "code",
      "metadata": {
        "id": "UfjRcNURr0mX",
        "outputId": "5952761a-fb1c-47b1-cce8-0f6fa3990b13",
        "colab": {
          "base_uri": "https://localhost:8080/",
          "height": 782
        }
      },
      "source": [
        "from matplotlib import pyplot as plt\n",
        "\n",
        "x = np.arange(len(base_losses))\n",
        "width = 0.35\n",
        "\n",
        "fig1, ax = plt.subplots(figsize=(9,6))\n",
        "ax.plot(x, base_accuracies, '-r', label='Base Model')\n",
        "ax.plot(x, rand_accuracies, '-b', label='Random Search')\n",
        "ax.plot(x, bayesian_accuracies, '-g', label='Bayesian')\n",
        "ax.plot(x, hyperband_accuracies, '-y', label='Hyperband')\n",
        "\n",
        "ax.set_title('Accuracies')\n",
        "ax.set_xticks(x)\n",
        "ax.set_xticklabels(x)\n",
        "ax.legend()\n",
        "\n",
        "fig1, ax1 = plt.subplots(figsize=(9,6))\n",
        "ax1.plot(x, base_losses, '-r', label='Base Model')\n",
        "ax1.plot(x, rand_losses, '-b', label='Random Search')\n",
        "ax1.plot(x, bayesian_losses, '-g', label='Bayesian')\n",
        "ax1.plot(x, hyperband_losses, '-y', label='Hyperband')\n",
        "\n",
        "ax1.set_title('Losses')\n",
        "ax1.set_xticks(x)\n",
        "ax1.set_xticklabels(x)\n",
        "ax1.legend()"
      ],
      "execution_count": null,
      "outputs": [
        {
          "output_type": "execute_result",
          "data": {
            "text/plain": [
              "<matplotlib.legend.Legend at 0x7f1033253748>"
            ]
          },
          "metadata": {
            "tags": []
          },
          "execution_count": 39
        },
        {
          "output_type": "display_data",
          "data": {
            "image/png": "[encoded data removed]",
            "text/plain": [
              "<Figure size 648x432 with 1 Axes>"
            ]
          },
          "metadata": {
            "tags": [],
            "needs_background": "light"
          }
        },
        {
          "output_type": "display_data",
          "data": {
            "image/png": "[encoded data removed]",
            "text/plain": [
              "<Figure size 648x432 with 1 Axes>"
            ]
          },
          "metadata": {
            "tags": [],
            "needs_background": "light"
          }
        }
      ]
    },
    {
      "cell_type": "code",
      "metadata": {
        "id": "EK_ILVc9uAUq",
        "outputId": "50f0c11b-a248-43a4-8706-6adee7b4c12e",
        "colab": {
          "base_uri": "https://localhost:8080/",
          "height": 129
        }
      },
      "source": [
        "!zip -r ./hyperbandModel.zip /content/hyperbandModel"
      ],
      "execution_count": null,
      "outputs": [
        {
          "output_type": "stream",
          "text": [
            "  adding: content/hyperbandModel/ (stored 0%)\n",
            "  adding: content/hyperbandModel/variables/ (stored 0%)\n",
            "  adding: content/hyperbandModel/variables/variables.data-00000-of-00001 (deflated 8%)\n",
            "  adding: content/hyperbandModel/variables/variables.index (deflated 75%)\n",
            "  adding: content/hyperbandModel/saved_model.pb (deflated 90%)\n",
            "  adding: content/hyperbandModel/assets/ (stored 0%)\n"
          ],
          "name": "stdout"
        }
      ]
    }
  ]
}